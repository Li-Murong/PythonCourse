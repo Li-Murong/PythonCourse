{
 "cells": [
  {
   "cell_type": "markdown",
   "metadata": {},
   "source": [
    "# Markdown 使用说明\n",
    "\n",
    "是一种代码的注解。\n"
   ]
  },
  {
   "cell_type": "code",
   "execution_count": 1,
   "metadata": {},
   "outputs": [
    {
     "name": "stdout",
     "output_type": "stream",
     "text": [
      "hello world\n"
     ]
    }
   ],
   "source": [
    "print(\"hello world\")"
   ]
  },
  {
   "cell_type": "markdown",
   "metadata": {},
   "source": [
    "# 数据结构\n"
   ]
  },
  {
   "cell_type": "code",
   "execution_count": 2,
   "metadata": {},
   "outputs": [
    {
     "name": "stdout",
     "output_type": "stream",
     "text": [
      "3\n",
      "3.3000000000000003\n",
      "helloworld\n",
      "1223\n",
      "!@#\n",
      "hello1223\n",
      "哈哈笑个屁\n"
     ]
    }
   ],
   "source": [
    "# 数字(整数)\n",
    "a = 1\n",
    "b = 2\n",
    "print(a + b)\n",
    "\n",
    "# 数字(浮点数)\n",
    "a = 1.1\n",
    "b = 2.2\n",
    "print(a + b)\n",
    "\n",
    "# 字符串\n",
    "a = \"hello\"\n",
    "b = \"world\"\n",
    "c = \"1223\"\n",
    "d = \"!@#\"  # 特殊字符\n",
    "print(a + b)  # helloworld\n",
    "print(c)\n",
    "print(d)\n",
    "print(a + c)  # hello1223\n",
    "print(\"哈哈\" + \"笑个屁\")"
   ]
  },
  {
   "cell_type": "markdown",
   "metadata": {},
   "source": [
    "## 列表 list\n",
    "\n",
    "有顺序，序号从 0 开始\n"
   ]
  },
  {
   "cell_type": "code",
   "execution_count": 3,
   "metadata": {},
   "outputs": [
    {
     "name": "stdout",
     "output_type": "stream",
     "text": [
      "--------------------\n",
      "[1, 2, 3, 4, 5]\n",
      "1\n"
     ]
    }
   ],
   "source": [
    "# 初始化列表，给它命名\n",
    "a = []  # 空列表\n",
    "a = [1, 2, 3, 4, 5]  # 元素之间用逗号隔开\n",
    "\n",
    "print(\"-\" * 20)\n",
    "print(a)\n",
    "print(a[0])  # 1"
   ]
  },
  {
   "cell_type": "code",
   "execution_count": 4,
   "metadata": {},
   "outputs": [
    {
     "name": "stdout",
     "output_type": "stream",
     "text": [
      "--------------------\n",
      "[1, '哈哈']\n",
      "1\n",
      "哈哈\n"
     ]
    }
   ],
   "source": [
    "b = [1, \"哈哈\"]  # 列表中的元素可以是数字，字符串，列表，字典等等\n",
    "print(\"-\" * 20)\n",
    "print(b)\n",
    "print(b[0])  # 1\n",
    "print(b[1])  # 哈哈"
   ]
  },
  {
   "cell_type": "code",
   "execution_count": 5,
   "metadata": {},
   "outputs": [
    {
     "name": "stdout",
     "output_type": "stream",
     "text": [
      "--------------------\n",
      "[[1, 2], [3, 4]]\n",
      "[1, 2]\n",
      "[3, 4]\n",
      "1\n",
      "2\n",
      "3\n",
      "4\n"
     ]
    }
   ],
   "source": [
    "# 矩阵\n",
    "matrix = [[1, 2], [3, 4]]\n",
    "print(\"-\" * 20)\n",
    "print(matrix)\n",
    "print(matrix[0])  # [1,2]\n",
    "print(matrix[1])  # [3,4]\n",
    "print(matrix[0][0])  # 1\n",
    "print(matrix[0][1])  # 2\n",
    "print(matrix[1][0])  # 3\n",
    "print(matrix[1][1])  # 4"
   ]
  },
  {
   "cell_type": "code",
   "execution_count": 6,
   "metadata": {},
   "outputs": [
    {
     "name": "stdout",
     "output_type": "stream",
     "text": [
      "list_1: [1, 2, 3, 4, 5]\n",
      "list_2: [1, 2, 3, 4, 5]\n",
      "list_3: [1, 2, 3, 4, 5]\n",
      "[1, 2, 3, 4, 5, 1, 2, 3, 4, 5]\n"
     ]
    }
   ],
   "source": [
    "list_1 = [\n",
    "    1,\n",
    "    2,\n",
    "    3,\n",
    "    4,\n",
    "    5,\n",
    "]  # list_1是这个列表的名字，list_1是一个变量，这个变量指向这个列表\n",
    "list_2 = list_1  # list_2也指向这个列表\n",
    "list_3 = [1, 2, 3, 4, 5]  # list_3是一个新的列表，list_3指向这个新的列表\n",
    "print(\"list_1:\", list_1)\n",
    "print(\"list_2:\", list_2)\n",
    "print(\"list_3:\", list_3)\n",
    "print(list_1 + list_2)  # [1,2,3,4,5,1,2,3,4,5]"
   ]
  },
  {
   "cell_type": "code",
   "execution_count": 7,
   "metadata": {},
   "outputs": [
    {
     "name": "stdout",
     "output_type": "stream",
     "text": [
      "[0, 2, 3, 4, 5]\n",
      "[0, 2, 3, 4, 5]\n",
      "[0, 2, 3, 4, 5]\n",
      "[-1, 2, 3, 4, 5]\n"
     ]
    }
   ],
   "source": [
    "list_2[0] = (\n",
    "    0  # 修改list_2的第一个元素，list_1也会发生变化，因为list_1和list_2指向同一个列表\n",
    ")\n",
    "print(list_1)\n",
    "list_3[0] = -1  # 修改list_3的第一个元素，list_1不会发生变化，因为list_3是一个新的列表\n",
    "print(list_1)\n",
    "print(list_2)\n",
    "print(list_3)"
   ]
  },
  {
   "cell_type": "markdown",
   "metadata": {},
   "source": [
    "### 列表的操作\n"
   ]
  },
  {
   "cell_type": "code",
   "execution_count": 8,
   "metadata": {},
   "outputs": [
    {
     "name": "stdout",
     "output_type": "stream",
     "text": [
      "列表的长度\n",
      "5\n"
     ]
    }
   ],
   "source": [
    "a = [1, 2, 3, 4, 5]\n",
    "\n",
    "# 列表的长度\n",
    "print(\"列表的长度\")\n",
    "print(len(a))  # 5"
   ]
  },
  {
   "cell_type": "code",
   "execution_count": 9,
   "metadata": {},
   "outputs": [
    {
     "name": "stdout",
     "output_type": "stream",
     "text": [
      "列表的增加\n",
      "[1, 2, 3, 4, 5, 6]\n",
      "在列表的第一个位置增加一个元素\n",
      "[-1, 1, 2, 3, 4, 5, 6]\n"
     ]
    }
   ],
   "source": [
    "# 列表的增加\n",
    "print(\"列表的增加\")\n",
    "a.append(6)  # 在列表的末尾增加一个元素\n",
    "print(a)  # [1, 2, 3, 4, 5, 6]\n",
    "\n",
    "print(\"在列表的第一个位置增加一个元素\")\n",
    "a.insert(0, -1)  # 在列表的第一个位置增加一个元素\n",
    "print(a)  # [-1, 1, 2, 3, 4, 5, 6]"
   ]
  },
  {
   "cell_type": "code",
   "execution_count": 10,
   "metadata": {},
   "outputs": [
    {
     "name": "stdout",
     "output_type": "stream",
     "text": [
      "列表的删除\n",
      "[-1, 1, 2, 3, 4, 5]\n",
      "[1, 2, 3, 4, 5]\n"
     ]
    }
   ],
   "source": [
    "# 列表的删除\n",
    "print(\"列表的删除\")\n",
    "a.pop()  # 删除列表的最后一个元素\n",
    "print(a)  # [-1, 1, 2, 3, 4, 5]\n",
    "a.pop(0)  # 删除列表的第一个元素\n",
    "print(a)  # [1, 2, 3, 4, 5]"
   ]
  },
  {
   "cell_type": "code",
   "execution_count": 11,
   "metadata": {},
   "outputs": [
    {
     "name": "stdout",
     "output_type": "stream",
     "text": [
      "[0, 2, 3, 4, 5]\n"
     ]
    }
   ],
   "source": [
    "# 列表的修改\n",
    "a[0] = 0\n",
    "print(a)  # [0, 2, 3, 4, 5]"
   ]
  },
  {
   "cell_type": "code",
   "execution_count": 12,
   "metadata": {},
   "outputs": [
    {
     "name": "stdout",
     "output_type": "stream",
     "text": [
      "1\n"
     ]
    }
   ],
   "source": [
    "# 列表的查找\n",
    "print(a.index(2))  # 1"
   ]
  },
  {
   "cell_type": "code",
   "execution_count": 13,
   "metadata": {},
   "outputs": [
    {
     "name": "stdout",
     "output_type": "stream",
     "text": [
      "[0, 2, 3, 4, 5]\n",
      "[5, 4, 3, 2, 0]\n"
     ]
    }
   ],
   "source": [
    "# 列表的排序\n",
    "a.sort()  # 从小到大排序\n",
    "print(a)  # [0, 2, 3, 4, 5]\n",
    "a.sort(reverse=True)  # 大到小排序\n",
    "print(a)  # [5, 4, 3, 2, 0]"
   ]
  },
  {
   "cell_type": "code",
   "execution_count": 14,
   "metadata": {},
   "outputs": [
    {
     "name": "stdout",
     "output_type": "stream",
     "text": [
      "b: [0, 2, 3, 4, 5]\n",
      "c: [5, 4, 3, 2, 0]\n",
      "a: [5, 4, 3, 2, 0]\n"
     ]
    }
   ],
   "source": [
    "b = sorted(a)  # 从小到大排序\n",
    "c = sorted(a, reverse=True)  # 从大到小排序\n",
    "print(\"b:\", b)  # [0, 2, 3, 4, 5] a的值没有变化,sorted()函数返回一个新的列表\n",
    "print(\"c:\", c)  # [5, 4, 3, 2, 0] a的值没有变化\n",
    "print(\"a:\", a)  # [5, 4, 3, 2, 0] a的值没有变化"
   ]
  },
  {
   "cell_type": "code",
   "execution_count": 15,
   "metadata": {},
   "outputs": [
    {
     "name": "stdout",
     "output_type": "stream",
     "text": [
      "[0, 2, 3, 4, 5]\n"
     ]
    }
   ],
   "source": [
    "# 列表的反转\n",
    "a.reverse()\n",
    "print(a)  # [0, 2, 3, 4, 5]"
   ]
  },
  {
   "cell_type": "code",
   "execution_count": 16,
   "metadata": {},
   "outputs": [
    {
     "data": {
      "text/plain": [
       "[0, 2, 3, 4, 5, 6, 5]"
      ]
     },
     "execution_count": 16,
     "metadata": {},
     "output_type": "execute_result"
    }
   ],
   "source": [
    "a.append(6)\n",
    "a.append(5)\n",
    "a"
   ]
  },
  {
   "cell_type": "code",
   "execution_count": 17,
   "metadata": {},
   "outputs": [
    {
     "name": "stdout",
     "output_type": "stream",
     "text": [
      "删除列表指定元素\n",
      "[0, 2, 3, 4, 6, 5]\n"
     ]
    }
   ],
   "source": [
    "# 删除列表指定元素\n",
    "print(\"删除列表指定元素\")\n",
    "x = 5\n",
    "a.remove(x)  # 删除列表中第一个出现的元素5\n",
    "print(a)"
   ]
  },
  {
   "cell_type": "code",
   "execution_count": 18,
   "metadata": {},
   "outputs": [
    {
     "name": "stdout",
     "output_type": "stream",
     "text": [
      "添加列表\n",
      "[0, 2, 3, 4, 6, 5, 7, 8, 9]\n",
      "[0, 2, 3, 4, 6, 5, 7, 8, 9, 1, 2, 3]\n"
     ]
    }
   ],
   "source": [
    "# 添加列表\n",
    "print(\"添加列表\")\n",
    "b = [7, 8, 9]\n",
    "a.extend(b)  # 添加列表b到列表a的末尾\n",
    "print(a)\n",
    "c = [1, 2, 3]\n",
    "print(a + c)"
   ]
  },
  {
   "cell_type": "markdown",
   "metadata": {},
   "source": [
    "## 集合 set\n",
    "\n",
    "集合跟数学定义中的集合差不多，没有相同的元素，在集合里面并没有顺序\n"
   ]
  },
  {
   "cell_type": "code",
   "execution_count": 19,
   "metadata": {},
   "outputs": [
    {
     "name": "stdout",
     "output_type": "stream",
     "text": [
      "set()\n"
     ]
    }
   ],
   "source": [
    "a = set()  # 创建一个空集合\n",
    "print(a)"
   ]
  },
  {
   "cell_type": "code",
   "execution_count": 20,
   "metadata": {},
   "outputs": [
    {
     "name": "stdout",
     "output_type": "stream",
     "text": [
      "{1}\n"
     ]
    }
   ],
   "source": [
    "a.add(1)  # 添加元素1到集合a\n",
    "print(a)"
   ]
  },
  {
   "cell_type": "code",
   "execution_count": 21,
   "metadata": {},
   "outputs": [
    {
     "name": "stdout",
     "output_type": "stream",
     "text": [
      "{1, 2}\n",
      "{1, 2, 3, 4, 5}\n"
     ]
    }
   ],
   "source": [
    "a.add(2)  # 添加元素2到集合a\n",
    "print(a)\n",
    "a.update([3, 4, 5])  # 添加元素3,4,5到集合a\n",
    "print(a)"
   ]
  },
  {
   "cell_type": "code",
   "execution_count": 22,
   "metadata": {},
   "outputs": [
    {
     "name": "stdout",
     "output_type": "stream",
     "text": [
      "{1, 2, 3, 4, 5, 6, 7}\n"
     ]
    }
   ],
   "source": [
    "a.update([6, 6, 7])  # 添加元素6,7到集合a,集合中不允许有重复元素\n",
    "print(a)"
   ]
  },
  {
   "cell_type": "code",
   "execution_count": 23,
   "metadata": {},
   "outputs": [
    {
     "name": "stdout",
     "output_type": "stream",
     "text": [
      "{2, 3, 4, 5, 6, 7}\n",
      "元素不存在\n"
     ]
    }
   ],
   "source": [
    "a.remove(1)  # 删除元素1,如果元素不存在会报错\n",
    "print(a)\n",
    "try:\n",
    "    a.remove(10)  # 删除元素10,如果元素不存在会报错\n",
    "except KeyError:\n",
    "    print(\"元素不存在\")"
   ]
  },
  {
   "cell_type": "code",
   "execution_count": 24,
   "metadata": {},
   "outputs": [
    {
     "name": "stdout",
     "output_type": "stream",
     "text": [
      "{3, 4, 5, 6, 7}\n",
      "{3, 4, 5, 6, 7}\n"
     ]
    }
   ],
   "source": [
    "a.discard(2)  # 删除元素2,如果元素不存在不会报错\n",
    "print(a)\n",
    "a.discard(10)  # 删除元素10,如果元素不存在不会报错\n",
    "print(a)"
   ]
  },
  {
   "cell_type": "code",
   "execution_count": 25,
   "metadata": {},
   "outputs": [
    {
     "name": "stdout",
     "output_type": "stream",
     "text": [
      "{3, 4, 5, 6, 7, 8, 9, 10}\n",
      "{7}\n",
      "{3, 4, 5, 6}\n",
      "{3, 4, 5, 6, 8, 9, 10}\n"
     ]
    }
   ],
   "source": [
    "b = set([7, 8, 9, 10])\n",
    "print(a.union(b))  # 集合a和集合b的并集\n",
    "print(a.intersection(b))  # 集合a和集合b的交集\n",
    "print(a.difference(b))  # 集合a和集合b的差集,a去掉a和b的交集\n",
    "print(a.symmetric_difference(b))  # 集合a和集合b的对称差集，a和b的并集减去a和b的交集"
   ]
  },
  {
   "cell_type": "code",
   "execution_count": 26,
   "metadata": {},
   "outputs": [
    {
     "name": "stdout",
     "output_type": "stream",
     "text": [
      "{1, 2, 3, 4, 5, 6, 7, 8, 9, 10}\n"
     ]
    }
   ],
   "source": [
    "list_1=[1,2,3,4,5,6,7,8,9,10]\n",
    "x=set(list_1) # 列表转换为集合\n",
    "print(x)"
   ]
  },
  {
   "cell_type": "code",
   "execution_count": 27,
   "metadata": {},
   "outputs": [
    {
     "name": "stdout",
     "output_type": "stream",
     "text": [
      "[2, 3, 4, 4, 6, 1, 2]\n",
      "{1, 2, 3, 4, 6}\n",
      "[6, 4, 3, 2, 1]\n"
     ]
    }
   ],
   "source": [
    "# 例子\n",
    "eg = [2, 3, 4, 4, 6, 1, 2]\n",
    "print(eg)\n",
    "eg_set = set(eg)  # 集合去重\n",
    "print(eg_set)\n",
    "eg_new = sorted(eg_set, reverse=True)  # 从大到小排序,返回一个新的列表\n",
    "print(eg_new)"
   ]
  },
  {
   "cell_type": "markdown",
   "metadata": {},
   "source": [
    "## 字典 dict\n",
    "字典中也是关键字和值一一对应。字典中的关键字是唯一存在的。\n",
    "关键字在字典中是key，值是value。"
   ]
  },
  {
   "cell_type": "code",
   "execution_count": 28,
   "metadata": {},
   "outputs": [
    {
     "name": "stdout",
     "output_type": "stream",
     "text": [
      "{}\n",
      "{'name': '张三'}\n"
     ]
    }
   ],
   "source": [
    "a=dict() # 创建一个空字典\n",
    "print(a)\n",
    "a[\"name\"]=\"张三\" # 添加键值对\n",
    "print(a)"
   ]
  },
  {
   "cell_type": "code",
   "execution_count": 29,
   "metadata": {},
   "outputs": [
    {
     "name": "stdout",
     "output_type": "stream",
     "text": [
      "{'name': '张三', 'age': 18}\n"
     ]
    }
   ],
   "source": [
    "a={\"name\":\"张三\",\"age\":18} # 创建一个字典\n",
    "print(a)"
   ]
  },
  {
   "cell_type": "code",
   "execution_count": 30,
   "metadata": {},
   "outputs": [
    {
     "name": "stdout",
     "output_type": "stream",
     "text": [
      "{'name': '张三', 'age': 18}\n"
     ]
    }
   ],
   "source": [
    "description = [\"name\", \"age\"]\n",
    "person = [\"张三\", 18]\n",
    "\n",
    "a = dict(\n",
    "    [(\"name\", \"张三\"), (\"age\", 18)]\n",
    ")  # 创建一个字典，下面的zip函数 生成的内容就是dict函数中的内容\n",
    "print(a)"
   ]
  },
  {
   "cell_type": "code",
   "execution_count": 31,
   "metadata": {},
   "outputs": [
    {
     "name": "stdout",
     "output_type": "stream",
     "text": [
      "[(1, 'a'), (2, 'b'), (3, 'c')]\n",
      "[(1, 'a', 4), (2, 'b', 5), (3, 'c', 6)]\n",
      "(1, 2, 3)\n",
      "('a', 'b', 'c')\n",
      "<class 'tuple'>\n"
     ]
    }
   ],
   "source": [
    "# 示例1：将两个列表打包成一个列表\n",
    "list1 = [1, 2, 3]\n",
    "list2 = ['a', 'b', 'c']\n",
    "zipped = zip(list1, list2)\n",
    "print(list(zipped))  # [(1, 'a'), (2, 'b'), (3, 'c')]\n",
    "\n",
    "# 示例2：将三个列表打包成一个列表\n",
    "list3 = [4, 5, 6]\n",
    "zipped = zip(list1, list2, list3)\n",
    "print(list(zipped))  # [(1, 'a', 4), (2, 'b', 5), (3, 'c', 6)]\n",
    "\n",
    "# 示例3：解压缩\n",
    "zipped = zip(list1, list2)\n",
    "list1_unzipped, list2_unzipped = zip(*zipped)\n",
    "print(list1_unzipped)  # (1, 2, 3)\n",
    "print(list2_unzipped)  # ('a', 'b', 'c')\n",
    "print(type(list1_unzipped))  # <class 'tuple'> 元组"
   ]
  },
  {
   "cell_type": "code",
   "execution_count": 32,
   "metadata": {},
   "outputs": [
    {
     "name": "stdout",
     "output_type": "stream",
     "text": [
      "{'name': '张三', 'age': 18}\n"
     ]
    }
   ],
   "source": [
    "a=dict(zip(description,person)) # 通过zip函数创建字典,description是键，person是值，一一对应。\n",
    "print(a)"
   ]
  },
  {
   "cell_type": "markdown",
   "metadata": {},
   "source": [
    "## 元组 Tuple\n",
    "元组与列表类似，不同之处在于元组的元素不能修改。元组使用小括号 `()`，列表使用方括号 `[]`。"
   ]
  }
 ],
 "metadata": {
  "kernelspec": {
   "display_name": ".venv",
   "language": "python",
   "name": "python3"
  },
  "language_info": {
   "codemirror_mode": {
    "name": "ipython",
    "version": 3
   },
   "file_extension": ".py",
   "mimetype": "text/x-python",
   "name": "python",
   "nbconvert_exporter": "python",
   "pygments_lexer": "ipython3",
   "version": "3.12.7"
  }
 },
 "nbformat": 4,
 "nbformat_minor": 2
}
