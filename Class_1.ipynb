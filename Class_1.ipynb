{
  "cells": [
    {
      "cell_type": "markdown",
      "metadata": {
        "colab_type": "text",
        "id": "view-in-github"
      },
      "source": [
        "<a href=\"https://colab.research.google.com/github/Li-Murong/PythonCourse/blob/main/Class_1.ipynb\" target=\"_parent\"><img src=\"https://colab.research.google.com/assets/colab-badge.svg\" alt=\"Open In Colab\"/></a>\n"
      ]
    },
    {
      "cell_type": "markdown",
      "metadata": {
        "id": "2IChfpP3kS2c"
      },
      "source": [
        "# Markdown 使用说明\n",
        "\n",
        "是一种代码的注解。\n"
      ]
    },
    {
      "cell_type": "code",
      "execution_count": 1,
      "metadata": {
        "colab": {
          "base_uri": "https://localhost:8080/"
        },
        "id": "4i1QfIrgkS2d",
        "outputId": "93f5c02d-ec1f-408e-f483-68ef30af2dee"
      },
      "outputs": [
        {
          "name": "stdout",
          "output_type": "stream",
          "text": [
            "hello world\n",
            "你好，豆哥\n",
            "牛逼！\n",
            "你很牛吗？\n"
          ]
        }
      ],
      "source": [
        "print(\"hello world\")\n",
        "print(\"你好，豆哥\")\n",
        "print(\"牛逼！\")\n",
        "print(\"你很牛吗？\")"
      ]
    },
    {
      "cell_type": "markdown",
      "metadata": {
        "id": "YgAYl-9XkS2e"
      },
      "source": [
        "# 数据结构\n"
      ]
    },
    {
      "cell_type": "code",
      "execution_count": 2,
      "metadata": {
        "id": "Z5UVyHAekS2e",
        "outputId": "d86d7a91-0074-424c-f230-dd1f6f4c9656"
      },
      "outputs": [
        {
          "name": "stdout",
          "output_type": "stream",
          "text": [
            "3\n",
            "3.3000000000000003\n",
            "helloworld\n",
            "1223\n",
            "!@#\n",
            "hello1223\n",
            "哈哈笑个屁\n"
          ]
        }
      ],
      "source": [
        "# 数字(整数)\n",
        "a = 1\n",
        "b = 2\n",
        "print(a + b)\n",
        "\n",
        "# 数字(浮点数)\n",
        "a = 1.1\n",
        "b = 2.2\n",
        "print(a + b)\n",
        "\n",
        "# 字符串\n",
        "a = \"hello\"\n",
        "b = \"world\"\n",
        "c = \"1223\"\n",
        "d = \"!@#\"  # 特殊字符\n",
        "print(a + b)  # helloworld\n",
        "print(c)\n",
        "print(d)\n",
        "print(a + c)  # hello1223\n",
        "print(\"哈哈\" + \"笑个屁\")"
      ]
    },
    {
      "cell_type": "markdown",
      "metadata": {
        "id": "x7mPTvEQkS2f"
      },
      "source": [
        "## 列表 list\n",
        "\n",
        "有顺序，序号从 0 开始\n"
      ]
    },
    {
      "cell_type": "code",
      "execution_count": 3,
      "metadata": {
        "id": "2bjNd-BykS2f",
        "outputId": "715ab5aa-e14d-4540-c463-f9d2c3ade22e"
      },
      "outputs": [
        {
          "name": "stdout",
          "output_type": "stream",
          "text": [
            "--------------------\n",
            "[1, 2, 3, 4, 5]\n",
            "1\n"
          ]
        }
      ],
      "source": [
        "# 初始化列表，给它命名\n",
        "a = []  # 空列表\n",
        "a = [1, 2, 3, 4, 5]  # 元素之间用逗号隔开\n",
        "\n",
        "print(\"-\" * 20)\n",
        "print(a)\n",
        "print(a[0])  # 1"
      ]
    },
    {
      "cell_type": "code",
      "execution_count": 4,
      "metadata": {
        "id": "XNe-dgy2kS2f",
        "outputId": "ee0b6ab4-132a-4604-a885-ea69829e400a"
      },
      "outputs": [
        {
          "name": "stdout",
          "output_type": "stream",
          "text": [
            "--------------------\n",
            "[1, '哈哈']\n",
            "1\n",
            "哈哈\n"
          ]
        }
      ],
      "source": [
        "b = [1, \"哈哈\"]  # 列表中的元素可以是数字，字符串，列表，字典等等\n",
        "print(\"-\" * 20)\n",
        "print(b)\n",
        "print(b[0])  # 1\n",
        "print(b[1])  # 哈哈"
      ]
    },
    {
      "cell_type": "code",
      "execution_count": 5,
      "metadata": {
        "id": "PtFHZTqQkS2g",
        "outputId": "fede0c24-7d3d-42eb-dd36-e7ddd0cf3a8f"
      },
      "outputs": [
        {
          "name": "stdout",
          "output_type": "stream",
          "text": [
            "--------------------\n",
            "[[1, 2], [3, 4]]\n",
            "[1, 2]\n",
            "[3, 4]\n",
            "1\n",
            "2\n",
            "3\n",
            "4\n"
          ]
        }
      ],
      "source": [
        "# 矩阵\n",
        "matrix = [[1, 2], [3, 4]]\n",
        "print(\"-\" * 20)\n",
        "print(matrix)\n",
        "print(matrix[0])  # [1,2]\n",
        "print(matrix[1])  # [3,4]\n",
        "print(matrix[0][0])  # 1\n",
        "print(matrix[0][1])  # 2\n",
        "print(matrix[1][0])  # 3\n",
        "print(matrix[1][1])  # 4"
      ]
    },
    {
      "cell_type": "code",
      "execution_count": 6,
      "metadata": {
        "id": "LCOPCyT6kS2g",
        "outputId": "5e103b18-a7fc-4a00-8e10-524e301616d5"
      },
      "outputs": [
        {
          "name": "stdout",
          "output_type": "stream",
          "text": [
            "list_1: [1, 2, 3, 4, 5]\n",
            "list_2: [1, 2, 3, 4, 5]\n",
            "list_3: [1, 2, 3, 4, 5]\n",
            "[1, 2, 3, 4, 5, 1, 2, 3, 4, 5]\n"
          ]
        }
      ],
      "source": [
        "list_1 = [\n",
        "    1,\n",
        "    2,\n",
        "    3,\n",
        "    4,\n",
        "    5,\n",
        "]  # list_1是这个列表的名字，list_1是一个变量，这个变量指向这个列表\n",
        "list_2 = list_1  # list_2也指向这个列表\n",
        "list_3 = [1, 2, 3, 4, 5]  # list_3是一个新的列表，list_3指向这个新的列表\n",
        "print(\"list_1:\", list_1)\n",
        "print(\"list_2:\", list_2)\n",
        "print(\"list_3:\", list_3)\n",
        "print(list_1 + list_2)  # [1,2,3,4,5,1,2,3,4,5]"
      ]
    },
    {
      "cell_type": "code",
      "execution_count": 7,
      "metadata": {
        "id": "_C6VsquQkS2g",
        "outputId": "11fe8620-bfb2-48fc-c5ab-f1beb914330d"
      },
      "outputs": [
        {
          "name": "stdout",
          "output_type": "stream",
          "text": [
            "[0, 2, 3, 4, 5]\n",
            "[0, 2, 3, 4, 5]\n",
            "[0, 2, 3, 4, 5]\n",
            "[-1, 2, 3, 4, 5]\n"
          ]
        }
      ],
      "source": [
        "list_2[0] = (\n",
        "    0  # 修改list_2的第一个元素，list_1也会发生变化，因为list_1和list_2指向同一个列表\n",
        ")\n",
        "print(list_1)\n",
        "list_3[0] = -1  # 修改list_3的第一个元素，list_1不会发生变化，因为list_3是一个新的列表\n",
        "print(list_1)\n",
        "print(list_2)\n",
        "print(list_3)"
      ]
    },
    {
      "cell_type": "markdown",
      "metadata": {
        "id": "1evFJgsfkS2g"
      },
      "source": [
        "### 列表的操作\n"
      ]
    },
    {
      "cell_type": "code",
      "execution_count": 8,
      "metadata": {
        "id": "XX7ZNk64kS2h",
        "outputId": "4b691796-ac12-441b-d587-2be6e5a72f44"
      },
      "outputs": [
        {
          "name": "stdout",
          "output_type": "stream",
          "text": [
            "列表的长度\n",
            "5\n"
          ]
        }
      ],
      "source": [
        "a = [1, 2, 3, 4, 5]\n",
        "\n",
        "# 列表的长度\n",
        "print(\"列表的长度\")\n",
        "print(len(a))  # 5"
      ]
    },
    {
      "cell_type": "code",
      "execution_count": 9,
      "metadata": {
        "id": "Q4G-CP1HkS2h",
        "outputId": "1760afdf-4027-4de1-a8a1-874c1a5943cc"
      },
      "outputs": [
        {
          "name": "stdout",
          "output_type": "stream",
          "text": [
            "列表的增加\n",
            "[1, 2, 3, 4, 5, 6]\n",
            "在列表的第一个位置增加一个元素\n",
            "[-1, 1, 2, 3, 4, 5, 6]\n"
          ]
        }
      ],
      "source": [
        "# 列表的增加\n",
        "print(\"列表的增加\")\n",
        "a.append(6)  # 在列表的末尾增加一个元素\n",
        "print(a)  # [1, 2, 3, 4, 5, 6]\n",
        "\n",
        "print(\"在列表的第一个位置增加一个元素\")\n",
        "a.insert(0, -1)  # 在列表的第一个位置增加一个元素\n",
        "print(a)  # [-1, 1, 2, 3, 4, 5, 6]"
      ]
    },
    {
      "cell_type": "code",
      "execution_count": 10,
      "metadata": {
        "id": "peZN6NpukS2h",
        "outputId": "47deb31e-f88a-4873-bc67-2332ff031cd7"
      },
      "outputs": [
        {
          "name": "stdout",
          "output_type": "stream",
          "text": [
            "列表的删除\n",
            "[-1, 1, 2, 3, 4, 5]\n",
            "[1, 2, 3, 4, 5]\n"
          ]
        }
      ],
      "source": [
        "# 列表的删除\n",
        "print(\"列表的删除\")\n",
        "a.pop()  # 删除列表的最后一个元素\n",
        "print(a)  # [-1, 1, 2, 3, 4, 5]\n",
        "a.pop(0)  # 删除列表的第一个元素\n",
        "print(a)  # [1, 2, 3, 4, 5]"
      ]
    },
    {
      "cell_type": "code",
      "execution_count": 11,
      "metadata": {
        "id": "5kQelq7nkS2h",
        "outputId": "e43cbe10-0cc7-4f4e-e10c-78e9c3adb1b9"
      },
      "outputs": [
        {
          "name": "stdout",
          "output_type": "stream",
          "text": [
            "[0, 2, 3, 4, 5]\n"
          ]
        }
      ],
      "source": [
        "# 列表的修改\n",
        "a[0] = 0\n",
        "print(a)  # [0, 2, 3, 4, 5]"
      ]
    },
    {
      "cell_type": "code",
      "execution_count": 12,
      "metadata": {
        "id": "HQcCOcJjkS2h",
        "outputId": "f23a82e1-a2fd-4534-ffca-3e8b70938405"
      },
      "outputs": [
        {
          "name": "stdout",
          "output_type": "stream",
          "text": [
            "1\n"
          ]
        }
      ],
      "source": [
        "# 列表的查找\n",
        "print(a.index(2))  # 1"
      ]
    },
    {
      "cell_type": "code",
      "execution_count": 13,
      "metadata": {
        "id": "fQKJGEa3kS2h",
        "outputId": "59727fad-d274-45e6-c543-36453acbccb9"
      },
      "outputs": [
        {
          "name": "stdout",
          "output_type": "stream",
          "text": [
            "[0, 2, 3, 4, 5]\n",
            "[5, 4, 3, 2, 0]\n"
          ]
        }
      ],
      "source": [
        "# 列表的排序\n",
        "a.sort()  # 从小到大排序\n",
        "print(a)  # [0, 2, 3, 4, 5]\n",
        "a.sort(reverse=True)  # 大到小排序\n",
        "print(a)  # [5, 4, 3, 2, 0]"
      ]
    },
    {
      "cell_type": "code",
      "execution_count": 14,
      "metadata": {
        "id": "zMyTJ6w0kS2i",
        "outputId": "868d2a72-6d6e-4b7e-ba74-c38af3a4e47b"
      },
      "outputs": [
        {
          "name": "stdout",
          "output_type": "stream",
          "text": [
            "b: [0, 2, 3, 4, 5]\n",
            "c: [5, 4, 3, 2, 0]\n",
            "a: [5, 4, 3, 2, 0]\n"
          ]
        }
      ],
      "source": [
        "b = sorted(a)  # 从小到大排序\n",
        "c = sorted(a, reverse=True)  # 从大到小排序\n",
        "print(\"b:\", b)  # [0, 2, 3, 4, 5] a的值没有变化,sorted()函数返回一个新的列表\n",
        "print(\"c:\", c)  # [5, 4, 3, 2, 0] a的值没有变化\n",
        "print(\"a:\", a)  # [5, 4, 3, 2, 0] a的值没有变化"
      ]
    },
    {
      "cell_type": "code",
      "execution_count": 15,
      "metadata": {
        "id": "8BXZodSokS2i",
        "outputId": "51af9f2d-6205-4dcb-debc-be151db9dbe1"
      },
      "outputs": [
        {
          "name": "stdout",
          "output_type": "stream",
          "text": [
            "[0, 2, 3, 4, 5]\n"
          ]
        }
      ],
      "source": [
        "# 列表的反转\n",
        "a.reverse()\n",
        "print(a)  # [0, 2, 3, 4, 5]"
      ]
    },
    {
      "cell_type": "code",
      "execution_count": 16,
      "metadata": {
        "id": "_e2fbCbJkS2i",
        "outputId": "bcddb466-de40-4dda-f5ad-a7c14d1e44cb"
      },
      "outputs": [
        {
          "data": {
            "text/plain": [
              "[0, 2, 3, 4, 5, 6, 5]"
            ]
          },
          "execution_count": 16,
          "metadata": {},
          "output_type": "execute_result"
        }
      ],
      "source": [
        "a.append(6)\n",
        "a.append(5)\n",
        "a"
      ]
    },
    {
      "cell_type": "code",
      "execution_count": 17,
      "metadata": {
        "id": "zT0P0TU9kS2i",
        "outputId": "fe320486-1611-4d93-855c-d379af21f0a3"
      },
      "outputs": [
        {
          "name": "stdout",
          "output_type": "stream",
          "text": [
            "删除列表指定元素\n",
            "[0, 2, 3, 4, 6, 5]\n"
          ]
        }
      ],
      "source": [
        "# 删除列表指定元素\n",
        "print(\"删除列表指定元素\")\n",
        "x = 5\n",
        "a.remove(x)  # 删除列表中第一个出现的元素5\n",
        "print(a)"
      ]
    },
    {
      "cell_type": "code",
      "execution_count": 18,
      "metadata": {
        "id": "nxNgf0TKkS2i",
        "outputId": "e4d6311a-984d-4342-d3ab-cf605f82ca13"
      },
      "outputs": [
        {
          "name": "stdout",
          "output_type": "stream",
          "text": [
            "添加列表\n",
            "[0, 2, 3, 4, 6, 5, 7, 8, 9]\n",
            "[0, 2, 3, 4, 6, 5, 7, 8, 9, 1, 2, 3]\n"
          ]
        }
      ],
      "source": [
        "# 添加列表\n",
        "print(\"添加列表\")\n",
        "b = [7, 8, 9]\n",
        "a.extend(b)  # 添加列表b到列表a的末尾\n",
        "print(a)\n",
        "c = [1, 2, 3]\n",
        "print(a + c)"
      ]
    },
    {
      "cell_type": "markdown",
      "metadata": {
        "id": "M_D_eX9DkS2i"
      },
      "source": [
        "## 集合 set\n",
        "\n",
        "集合跟数学定义中的集合差不多，没有相同的元素，在集合里面并没有顺序\n"
      ]
    },
    {
      "cell_type": "code",
      "execution_count": 19,
      "metadata": {
        "id": "hDLa3npnkS2i",
        "outputId": "ad0689ab-f164-470f-9646-9f2aedf13eda"
      },
      "outputs": [
        {
          "name": "stdout",
          "output_type": "stream",
          "text": [
            "set()\n"
          ]
        }
      ],
      "source": [
        "a = set()  # 创建一个空集合\n",
        "print(a)"
      ]
    },
    {
      "cell_type": "code",
      "execution_count": 20,
      "metadata": {
        "id": "9GxTBVOckS2i",
        "outputId": "f4553fb8-73f1-4e49-9ff1-bdff2a00895e"
      },
      "outputs": [
        {
          "name": "stdout",
          "output_type": "stream",
          "text": [
            "{1}\n"
          ]
        }
      ],
      "source": [
        "a.add(1)  # 添加元素1到集合a\n",
        "print(a)"
      ]
    },
    {
      "cell_type": "code",
      "execution_count": 21,
      "metadata": {
        "id": "9p5p6ZKykS2i",
        "outputId": "688bdad3-2f16-496d-f34f-dc5103e3db55"
      },
      "outputs": [
        {
          "name": "stdout",
          "output_type": "stream",
          "text": [
            "{1, 2}\n",
            "{1, 2, 3, 4, 5}\n"
          ]
        }
      ],
      "source": [
        "a.add(2)  # 添加元素2到集合a\n",
        "print(a)\n",
        "a.update([3, 4, 5])  # 添加元素3,4,5到集合a\n",
        "print(a)"
      ]
    },
    {
      "cell_type": "code",
      "execution_count": 22,
      "metadata": {
        "id": "lP-2BuppkS2i",
        "outputId": "73aea385-7031-4a63-85f9-d0848d5cd279"
      },
      "outputs": [
        {
          "name": "stdout",
          "output_type": "stream",
          "text": [
            "{1, 2, 3, 4, 5, 6, 7}\n"
          ]
        }
      ],
      "source": [
        "a.update([6, 6, 7])  # 添加元素6,7到集合a,集合中不允许有重复元素\n",
        "print(a)"
      ]
    },
    {
      "cell_type": "code",
      "execution_count": 23,
      "metadata": {
        "id": "lEWpqu7lkS2i",
        "outputId": "4ade94d7-083d-4550-f4cc-349e3591008f"
      },
      "outputs": [
        {
          "name": "stdout",
          "output_type": "stream",
          "text": [
            "{2, 3, 4, 5, 6, 7}\n",
            "元素不存在\n"
          ]
        }
      ],
      "source": [
        "a.remove(1)  # 删除元素1,如果元素不存在会报错\n",
        "print(a)\n",
        "try:\n",
        "    a.remove(10)  # 删除元素10,如果元素不存在会报错\n",
        "except KeyError:\n",
        "    print(\"元素不存在\")"
      ]
    },
    {
      "cell_type": "code",
      "execution_count": 24,
      "metadata": {
        "id": "bjOfppnikS2i",
        "outputId": "694544fe-6143-48bd-9c5d-1b61d208e11a"
      },
      "outputs": [
        {
          "name": "stdout",
          "output_type": "stream",
          "text": [
            "{3, 4, 5, 6, 7}\n",
            "{3, 4, 5, 6, 7}\n"
          ]
        }
      ],
      "source": [
        "a.discard(2)  # 删除元素2,如果元素不存在不会报错\n",
        "print(a)\n",
        "a.discard(10)  # 删除元素10,如果元素不存在不会报错\n",
        "print(a)"
      ]
    },
    {
      "cell_type": "code",
      "execution_count": 25,
      "metadata": {
        "id": "QaMbrs9FkS2j",
        "outputId": "00246361-0727-47c7-b83a-dfefe7a7a639"
      },
      "outputs": [
        {
          "name": "stdout",
          "output_type": "stream",
          "text": [
            "{3, 4, 5, 6, 7, 8, 9, 10}\n",
            "{7}\n",
            "{3, 4, 5, 6}\n",
            "{3, 4, 5, 6, 8, 9, 10}\n"
          ]
        }
      ],
      "source": [
        "b = set([7, 8, 9, 10])\n",
        "print(a.union(b))  # 集合a和集合b的并集\n",
        "print(a.intersection(b))  # 集合a和集合b的交集\n",
        "print(a.difference(b))  # 集合a和集合b的差集,a去掉a和b的交集\n",
        "print(a.symmetric_difference(b))  # 集合a和集合b的对称差集，a和b的并集减去a和b的交集"
      ]
    },
    {
      "cell_type": "code",
      "execution_count": 26,
      "metadata": {
        "id": "jYFSf4S3kS2j",
        "outputId": "ce45a715-8ed3-40b9-b425-610a6602c83f"
      },
      "outputs": [
        {
          "name": "stdout",
          "output_type": "stream",
          "text": [
            "{1, 2, 3, 4, 5, 6, 7, 8, 9, 10}\n"
          ]
        }
      ],
      "source": [
        "list_1 = [1, 2, 3, 4, 5, 6, 7, 8, 9, 10]\n",
        "x = set(list_1)  # 列表转换为集合\n",
        "print(x)"
      ]
    },
    {
      "cell_type": "code",
      "execution_count": 27,
      "metadata": {
        "id": "X3Kt0OwPkS2j",
        "outputId": "69dbaa26-2106-43c5-bb6b-4ad9183b3c3f"
      },
      "outputs": [
        {
          "name": "stdout",
          "output_type": "stream",
          "text": [
            "[2, 3, 4, 4, 6, 1, 2]\n",
            "{1, 2, 3, 4, 6}\n",
            "[6, 4, 3, 2, 1]\n"
          ]
        }
      ],
      "source": [
        "# 例子\n",
        "eg = [2, 3, 4, 4, 6, 1, 2]\n",
        "print(eg)\n",
        "eg_set = set(eg)  # 集合去重\n",
        "print(eg_set)\n",
        "eg_new = sorted(eg_set, reverse=True)  # 从大到小排序,返回一个新的列表\n",
        "print(eg_new)"
      ]
    },
    {
      "cell_type": "markdown",
      "metadata": {
        "id": "uFkwd0ZEkS2j"
      },
      "source": [
        "## 字典 dict\n",
        "\n",
        "字典中也是关键字和值一一对应。字典中的关键字是唯一存在的。\n",
        "关键字在字典中是 key，值是 value。\n"
      ]
    },
    {
      "cell_type": "code",
      "execution_count": 28,
      "metadata": {
        "id": "azJ8kyfBkS2j",
        "outputId": "eea6619b-c312-4c5a-aef5-323ca9d72010"
      },
      "outputs": [
        {
          "name": "stdout",
          "output_type": "stream",
          "text": [
            "{}\n",
            "{'name': '张三'}\n"
          ]
        }
      ],
      "source": [
        "a = dict()  # 创建一个空字典\n",
        "print(a)\n",
        "a[\"name\"] = \"张三\"  # 添加键值对\n",
        "print(a)"
      ]
    },
    {
      "cell_type": "code",
      "execution_count": 29,
      "metadata": {
        "id": "CxkMRWBVkS2j",
        "outputId": "532829da-1a67-4acc-f881-d3a53e5634cc"
      },
      "outputs": [
        {
          "name": "stdout",
          "output_type": "stream",
          "text": [
            "{'name': '张三', 'age': 18}\n"
          ]
        }
      ],
      "source": [
        "a = {\"name\": \"张三\", \"age\": 18}  # 创建一个字典\n",
        "print(a)"
      ]
    },
    {
      "cell_type": "code",
      "execution_count": 30,
      "metadata": {
        "id": "1RzJgs0WkS2j",
        "outputId": "f6eaa2f3-e2b1-41b7-bf86-1bd87f72bf04"
      },
      "outputs": [
        {
          "name": "stdout",
          "output_type": "stream",
          "text": [
            "{'name': '张三', 'age': 18}\n"
          ]
        }
      ],
      "source": [
        "description = [\"name\", \"age\", \"gender\"]\n",
        "person = [\"张三\", 18, \"男\"]\n",
        "\n",
        "a = dict(\n",
        "    [(\"name\", \"张三\"), (\"age\", 18)]\n",
        ")  # 创建一个字典，下面的zip函数 生成的内容就是dict函数中的内容\n",
        "print(a)"
      ]
    },
    {
      "cell_type": "code",
      "execution_count": 31,
      "metadata": {
        "id": "3h8OSnVpkS2j",
        "outputId": "1f68079d-660b-4f49-c4f8-102a25cdbaa5"
      },
      "outputs": [
        {
          "name": "stdout",
          "output_type": "stream",
          "text": [
            "[(1, 'a'), (2, 'b'), (3, 'c')]\n",
            "[(1, 'a', 4), (2, 'b', 5), (3, 'c', 6)]\n",
            "(1, 2, 3)\n",
            "('a', 'b', 'c')\n",
            "<class 'tuple'>\n"
          ]
        }
      ],
      "source": [
        "# 示例1：将两个列表打包成一个列表\n",
        "list1 = [1, 2, 3]\n",
        "list2 = [\"a\", \"b\", \"c\"]\n",
        "zipped = zip(list1, list2)\n",
        "print(list(zipped))  # [(1, 'a'), (2, 'b'), (3, 'c')]\n",
        "\n",
        "# 示例2：将三个列表打包成一个列表\n",
        "list3 = [4, 5, 6]\n",
        "zipped = zip(list1, list2, list3)\n",
        "print(list(zipped))  # [(1, 'a', 4), (2, 'b', 5), (3, 'c', 6)]\n",
        "\n",
        "# 示例3：解压缩\n",
        "zipped = zip(list1, list2)\n",
        "list1_unzipped, list2_unzipped = zip(*zipped)\n",
        "print(list1_unzipped)  # (1, 2, 3)\n",
        "print(list2_unzipped)  # ('a', 'b', 'c')\n",
        "print(type(list1_unzipped))  # <class 'tuple'> 元组"
      ]
    },
    {
      "cell_type": "code",
      "execution_count": 32,
      "metadata": {
        "id": "9QtqAj_vkS2j",
        "outputId": "ffb51b3e-a1ca-4bc2-a38b-925f1aaccaeb"
      },
      "outputs": [
        {
          "name": "stdout",
          "output_type": "stream",
          "text": [
            "{'name': '张三', 'age': 18, 'gender': '男'}\n"
          ]
        }
      ],
      "source": [
        "a = dict(\n",
        "    zip(description, person)\n",
        ")  # 通过zip函数创建字典,description是键，person是值，一一对应。\n",
        "print(a)"
      ]
    },
    {
      "cell_type": "code",
      "execution_count": 33,
      "metadata": {},
      "outputs": [
        {
          "name": "stdout",
          "output_type": "stream",
          "text": [
            "dict_keys(['name', 'age', 'gender'])\n",
            "name\n",
            "age\n",
            "gender\n",
            "dict_values(['张三', 18, '男'])\n",
            "张三\n",
            "18\n",
            "男\n",
            "dict_items([('name', '张三'), ('age', 18), ('gender', '男')])\n",
            "name 张三\n",
            "age 18\n",
            "gender 男\n"
          ]
        }
      ],
      "source": [
        "# 访问字典中的键\n",
        "# keys()函数返回一个包含字典所有键的迭代器\n",
        "print(a.keys())\n",
        "for key in a.keys():  # 遍历字典中的键\n",
        "    print(key)\n",
        "\n",
        "# 访问字典中的值\n",
        "# values()函数返回一个包含字典所有值的迭代器\n",
        "print(a.values())\n",
        "for value in a.values():\n",
        "    print(value)\n",
        "\n",
        "# 访问字典中的键值对\n",
        "# items()函数返回一个包含字典所有键值对的迭代器\n",
        "print(a.items())\n",
        "for key, value in a.items():\n",
        "    print(key, value)"
      ]
    },
    {
      "cell_type": "code",
      "execution_count": 34,
      "metadata": {},
      "outputs": [
        {
          "name": "stdout",
          "output_type": "stream",
          "text": [
            "{'age': 18, 'gender': '男'}\n",
            "{'age': 18}\n"
          ]
        }
      ],
      "source": [
        "# 删除字典中的键值对\n",
        "a.pop(\"name\")  # 删除键为name的键值对\n",
        "print(a)\n",
        "a.popitem()  # 随机删除一个键值对\n",
        "print(a)"
      ]
    },
    {
      "cell_type": "code",
      "execution_count": 35,
      "metadata": {},
      "outputs": [
        {
          "name": "stdout",
          "output_type": "stream",
          "text": [
            "{'name': '张三', 'age': 18, 'gender': '男'}\n",
            "('name', 'age', 'gender')\n"
          ]
        }
      ],
      "source": [
        "# 合并字典\n",
        "dict1 = {\"name\": \"张三\", \"age\": 18}\n",
        "dict2 = {\"gender\": \"男\"}\n",
        "dict1.update(dict2)  # 将dict2合并到dict1中\n",
        "print(dict1)\n",
        "\n",
        "# 解压字典\n",
        "a = (*dict1,)  # 解压字典，返回字典的键\n",
        "print(a)  # 得到的是元组"
      ]
    },
    {
      "cell_type": "markdown",
      "metadata": {
        "id": "UUT00ouukS2j"
      },
      "source": [
        "## 元组 Tuple\n",
        "\n",
        "元组与列表类似，不同之处在于元组的元素不能修改。元组使用小括号 `()`，列表使用方括号 `[]`。\n"
      ]
    },
    {
      "cell_type": "markdown",
      "metadata": {},
      "source": []
    }
  ],
  "metadata": {
    "colab": {
      "include_colab_link": true,
      "provenance": []
    },
    "kernelspec": {
      "display_name": ".venv",
      "language": "python",
      "name": "python3"
    },
    "language_info": {
      "codemirror_mode": {
        "name": "ipython",
        "version": 3
      },
      "file_extension": ".py",
      "mimetype": "text/x-python",
      "name": "python",
      "nbconvert_exporter": "python",
      "pygments_lexer": "ipython3",
      "version": "3.12.7"
    }
  },
  "nbformat": 4,
  "nbformat_minor": 0
}
