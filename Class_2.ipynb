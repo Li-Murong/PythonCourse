{
 "cells": [
  {
   "cell_type": "markdown",
   "metadata": {},
   "source": [
    "# 基本逻辑"
   ]
  },
  {
   "cell_type": "markdown",
   "metadata": {},
   "source": [
    "## for循环"
   ]
  },
  {
   "cell_type": "code",
   "execution_count": null,
   "metadata": {},
   "outputs": [
    {
     "name": "stdout",
     "output_type": "stream",
     "text": [
      "[0, 1, 2, 3, 4]\n",
      "[1, 2, 3, 4]\n",
      "[1, 3]\n",
      "[2, 4, 6, 8, 10]\n"
     ]
    }
   ],
   "source": [
    "# 函数range()\n",
    "# range(5) 生成一个从0开始到小于5结束的数字序列，这个序列是一个可迭代对象，默认间隔是1\n",
    "ls_1 = range(5)\n",
    "print(list(ls_1))  # [0, 1, 2, 3, 4]，不到5\n",
    "ls_2 = range(1, 5)\n",
    "print(list(ls_2))  # [1, 2, 3, 4]，不到5\n",
    "ls_3 = range(1, 5, 2)\n",
    "print(list(ls_3))  # [1, 3]，不到5"
   ]
  },
  {
   "cell_type": "code",
   "execution_count": null,
   "metadata": {},
   "outputs": [
    {
     "name": "stdout",
     "output_type": "stream",
     "text": [
      "[2, 4, 6, 8, 10]\n"
     ]
    }
   ],
   "source": [
    "a = [1, 2, 3, 4, 5]\n",
    "# a[0]=a[0]*2\n",
    "# a[1]=a[1]*2\n",
    "# a[2]=a[2]*2\n",
    "# a[3]=a[3]*2\n",
    "# a[4]=a[4]*2\n",
    "# 以上代码等价于下面的代码，使用for循环\n",
    "\n",
    "for i in range(5):\n",
    "    a[i] = a[i] * 2\n",
    "print(a)"
   ]
  },
  {
   "cell_type": "code",
   "execution_count": 43,
   "metadata": {},
   "outputs": [
    {
     "name": "stdout",
     "output_type": "stream",
     "text": [
      "[1, 2, 3]\n",
      "[1, 2, 3]\n",
      "[3, 4, 5]\n",
      "[3, 4, 5]\n",
      "5\n",
      "[5]\n",
      "[5, 4, 3, 2, 1]\n",
      "[5, 3, 1]\n",
      "[1, 3, 5]\n",
      "[4, 3]\n",
      "[4]\n"
     ]
    }
   ],
   "source": [
    "a = [1, 2, 3, 4, 5]\n",
    "# 想得到a中前三个元素\n",
    "print(a[0:3])  # [1, 2, 3],不包含索引3,类似于[0,3),不到3\n",
    "print(a[:3])  # [1, 2, 3],从头开始，不包含索引3\n",
    "# 想得到a中后三个元素\n",
    "print(a[2:5])  # [3, 4, 5],不包含索引5,类似于[2,5),不到5\n",
    "print(a[2:])  # [3, 4, 5],从索引2开始，直到最后\n",
    "# 想得到a中最后一个元素\n",
    "print(a[-1])  # 5\n",
    "print(a[-1:])  # [5],从最后一个元素开始，直到最后\n",
    "\n",
    "print(a[::-1])  # [5, 4, 3, 2, 1],倒序输出\n",
    "print(a[::-2])  # [5, 3, 1],倒序输出，间隔为2\n",
    "print(a[::2])  # [1, 3, 5],正序输出，间隔为2\n",
    "\n",
    "print(a[-2:1:-1])  # [4, 3],从倒数第二个元素开始，到索引1结束，不包含索引1，间隔为-1\n",
    "print(a[-2:1:-2])  # [4],从倒数第二个元素开始，到索引1结束，不包含索引1，间隔为-2"
   ]
  },
  {
   "cell_type": "markdown",
   "metadata": {},
   "source": [
    "## if条件判断"
   ]
  },
  {
   "cell_type": "markdown",
   "metadata": {},
   "source": [
    "## while循环"
   ]
  },
  {
   "cell_type": "markdown",
   "metadata": {},
   "source": []
  }
 ],
 "metadata": {
  "kernelspec": {
   "display_name": ".venv",
   "language": "python",
   "name": "python3"
  },
  "language_info": {
   "codemirror_mode": {
    "name": "ipython",
    "version": 3
   },
   "file_extension": ".py",
   "mimetype": "text/x-python",
   "name": "python",
   "nbconvert_exporter": "python",
   "pygments_lexer": "ipython3",
   "version": "3.12.7"
  }
 },
 "nbformat": 4,
 "nbformat_minor": 2
}
