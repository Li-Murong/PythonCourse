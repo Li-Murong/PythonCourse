{
  "cells": [
    {
      "cell_type": "markdown",
      "metadata": {
        "colab_type": "text",
        "id": "view-in-github"
      },
      "source": [
        "<a href=\"https://colab.research.google.com/github/Li-Murong/PythonCourse/blob/main/Class_2.ipynb\" target=\"_parent\"><img src=\"https://colab.research.google.com/assets/colab-badge.svg\" alt=\"Open In Colab\"/></a>\n"
      ]
    },
    {
      "cell_type": "markdown",
      "metadata": {
        "id": "PGQM_3xR19oO"
      },
      "source": [
        "# 基本逻辑\n"
      ]
    },
    {
      "cell_type": "markdown",
      "metadata": {
        "id": "ixmj4iSD19oP"
      },
      "source": [
        "## for 循环\n"
      ]
    },
    {
      "cell_type": "code",
      "execution_count": 1,
      "metadata": {
        "colab": {
          "base_uri": "https://localhost:8080/"
        },
        "id": "4i7i-Ey_19oP",
        "outputId": "bb297717-8d44-4732-a089-e437fae9a969"
      },
      "outputs": [
        {
          "name": "stdout",
          "output_type": "stream",
          "text": [
            "[0, 1, 2, 3, 4]\n",
            "[1, 2, 3, 4]\n",
            "[1, 3]\n"
          ]
        }
      ],
      "source": [
        "# 函数range()\n",
        "# range(5) 生成一个从0开始到小于5结束的数字序列，这个序列是一个可迭代对象，默认间隔是1\n",
        "ls_1 = range(5)\n",
        "print(list(ls_1))  # [0, 1, 2, 3, 4]，不到5\n",
        "ls_2 = range(1, 5)\n",
        "print(list(ls_2))  # [1, 2, 3, 4]，不到5\n",
        "ls_3 = range(1, 5, 2)\n",
        "print(list(ls_3))  # [1, 3]，不到5"
      ]
    },
    {
      "cell_type": "code",
      "execution_count": 2,
      "metadata": {
        "colab": {
          "base_uri": "https://localhost:8080/"
        },
        "id": "OcruJ0Af19oP",
        "outputId": "a35bec62-3615-459a-c4e0-abe0acb3c9b0"
      },
      "outputs": [
        {
          "name": "stdout",
          "output_type": "stream",
          "text": [
            "[2, 4, 6, 8, 10]\n"
          ]
        }
      ],
      "source": [
        "a = [1, 2, 3, 4, 5]\n",
        "# a[0]=a[0]*2\n",
        "# a[1]=a[1]*2\n",
        "# a[2]=a[2]*2\n",
        "# a[3]=a[3]*2\n",
        "# a[4]=a[4]*2\n",
        "# 以上代码等价于下面的代码，使用for循环\n",
        "\n",
        "for i in range(5):\n",
        "    a[i] = a[i] * 2\n",
        "print(a)"
      ]
    },
    {
      "cell_type": "code",
      "execution_count": 3,
      "metadata": {
        "colab": {
          "base_uri": "https://localhost:8080/"
        },
        "id": "zqB6znb919oQ",
        "outputId": "706fb748-5e4d-4ba6-cc7f-e3df89130a7e"
      },
      "outputs": [
        {
          "name": "stdout",
          "output_type": "stream",
          "text": [
            "[1, 2, 3]\n",
            "[1, 2, 3]\n",
            "[3, 4, 5]\n",
            "[3, 4, 5]\n",
            "5\n",
            "[5]\n",
            "[5, 4, 3, 2, 1]\n",
            "[5, 3, 1]\n",
            "[1, 3, 5]\n",
            "[4, 3]\n",
            "[4]\n"
          ]
        }
      ],
      "source": [
        "a = [1, 2, 3, 4, 5]\n",
        "# 想得到a中前三个元素\n",
        "print(a[0:3])  # [1, 2, 3],不包含索引3,类似于[0,3),不到3\n",
        "print(a[:3])  # [1, 2, 3],从头开始，不包含索引3\n",
        "# 想得到a中后三个元素\n",
        "print(a[2:5])  # [3, 4, 5],不包含索引5,类似于[2,5),不到5\n",
        "print(a[2:])  # [3, 4, 5],从索引2开始，直到最后\n",
        "# 想得到a中最后一个元素\n",
        "print(a[-1])  # 5\n",
        "print(a[-1:])  # [5],从最后一个元素开始，直到最后\n",
        "\n",
        "print(a[::-1])  # [5, 4, 3, 2, 1],倒序输出\n",
        "print(a[::-2])  # [5, 3, 1],倒序输出，间隔为2\n",
        "print(a[::2])  # [1, 3, 5],正序输出，间隔为2\n",
        "\n",
        "print(a[-2:1:-1])  # [4, 3],从倒数第二个元素开始，到索引1结束，不包含索引1，间隔为-1\n",
        "print(a[-2:1:-2])  # [4],从倒数第二个元素开始，到索引1结束，不包含索引1，间隔为-2"
      ]
    },
    {
      "cell_type": "markdown",
      "metadata": {
        "id": "soBFMLlN19oQ"
      },
      "source": [
        "## if 条件判断\n"
      ]
    },
    {
      "cell_type": "code",
      "execution_count": 4,
      "metadata": {
        "colab": {
          "base_uri": "https://localhost:8080/"
        },
        "id": "nwjtLvBK19oQ",
        "outputId": "c505ad1f-2279-4200-8a49-67d4fc71ae85"
      },
      "outputs": [
        {
          "name": "stdout",
          "output_type": "stream",
          "text": [
            "b: [4, 5, 6, 7, 8, 9, 10]\n",
            "c: [4, 5, 6, 7]\n",
            "d: [1, 2, 9, 10]\n",
            "e: [2, 8, 10]\n",
            "t: [11, 12]\n"
          ]
        }
      ],
      "source": [
        "a = [1, 2, 3, 4, 5, 6, 7, 8, 9, 10]\n",
        "# 想得到比3大的元素，存在b中\n",
        "b = []\n",
        "for i in a:\n",
        "    if i > 3:\n",
        "        b.append(i)\n",
        "print(\"b:\", b)  # [4, 5, 6, 7, 8, 9, 10]\n",
        "\n",
        "# 想得到比3大，且比8小的元素，存在c中\n",
        "c = []\n",
        "for i in a:\n",
        "    # and相当于“且”，or相当于“或”。and优先级高于or，and和or的优先级低于>和<，所以要加括号。\n",
        "    if i > 3 and i < 8:\n",
        "        c.append(i)\n",
        "print(\"c:\", c)\n",
        "\n",
        "# 想得到比3小，且比8大的元素，存在d中\n",
        "d = []\n",
        "for i in a:\n",
        "    # and相当于“且”，or相当于“或”。and优先级高于or，and和or的优先级低于>和<，所以要加括号。\n",
        "    if i < 3 or i > 8:\n",
        "        d.append(i)\n",
        "print(\"d:\", d)\n",
        "\n",
        "# 想得到比4小，且比6大的元素，还是偶数，存在e中\n",
        "# 运算符%是取余数的意思，例如9%2=1，9除以2，商是4，余数是1\n",
        "e = []\n",
        "for i in a:\n",
        "    # 当if中判决条件是等于什么什么的时候，用“==”；当if中判决条件是不等于什么什么的时候，用“!=”。\n",
        "    if i % 2 == 0 and (i < 4 or i > 6):\n",
        "        e.append(i)\n",
        "print(\"e:\", e)\n",
        "\n",
        "# 想得到s中不存在于a中的元素，存在t中\n",
        "s = [1, 2, 3, 4, 5, 6, 7, 8, 9, 10, 11, 12]\n",
        "t = []\n",
        "for i in s:\n",
        "    # not in表示不在里面，not表示逻辑“非”\n",
        "    if i not in a:\n",
        "        t.append(i)\n",
        "print(\"t:\", t)  # [11, 12]"
      ]
    },
    {
      "cell_type": "markdown",
      "metadata": {
        "id": "7NMxGeiv19oQ"
      },
      "source": [
        "## while 循环\n"
      ]
    },
    {
      "cell_type": "markdown",
      "metadata": {
        "id": "R-Glx8vr19oR"
      },
      "source": []
    },
    {
      "cell_type": "markdown",
      "metadata": {},
      "source": [
        "## 作业:\n"
      ]
    },
    {
      "cell_type": "markdown",
      "metadata": {},
      "source": [
        "for 循环：\n"
      ]
    },
    {
      "cell_type": "code",
      "execution_count": 5,
      "metadata": {},
      "outputs": [],
      "source": [
        "# Q1: 找出字符串s中的所有数字，存在列表ls中，最后输出ls\n",
        "s = \"a1b2c3d4e5f6g7h8i9j10\""
      ]
    },
    {
      "cell_type": "code",
      "execution_count": 6,
      "metadata": {},
      "outputs": [
        {
          "name": "stdout",
          "output_type": "stream",
          "text": [
            "['1', '2', '3', '4', '5', '6', '7', '8', '9', '1', '0']\n"
          ]
        }
      ],
      "source": [
        "# A1: 把Q1的做法在这个代码块写出来\n",
        "ls = []\n",
        "for i in s:\n",
        "    if i.isdigit():\n",
        "        ls.append(i)\n",
        "print(ls)"
      ]
    },
    {
      "cell_type": "code",
      "execution_count": 7,
      "metadata": {},
      "outputs": [
        {
          "name": "stdout",
          "output_type": "stream",
          "text": [
            "a:\n",
            "[1, 2, 3, 4]\n",
            "[5, 6, 7, 8]\n",
            "[9, 10, 11, 12]\n",
            "b:\n",
            "[1, 2]\n",
            "[3, 4]\n",
            "[5, 6]\n",
            "[7, 8]\n"
          ]
        }
      ],
      "source": [
        "# Q2: 这有两个矩阵a和b，a是一个3x4的矩阵，b是一个4x2的矩阵，求a和b的乘积\n",
        "a = [[1, 2, 3, 4], [5, 6, 7, 8], [9, 10, 11, 12]]\n",
        "b = [[1, 2], [3, 4], [5, 6], [7, 8]]\n",
        "print(\"a:\")\n",
        "for i in a:\n",
        "    print(i)\n",
        "print(\"b:\")\n",
        "for i in b:\n",
        "    print(i)"
      ]
    },
    {
      "cell_type": "code",
      "execution_count": 8,
      "metadata": {},
      "outputs": [
        {
          "name": "stdout",
          "output_type": "stream",
          "text": [
            "[50, 60]\n",
            "[114, 140]\n",
            "[178, 220]\n"
          ]
        }
      ],
      "source": [
        "# A2: 把Q2的做法在这个代码块写出来\n",
        "# 提示：矩阵a的第一行和矩阵b的第一列相乘，然后相加，得到结果的第一行第一列的元素，以此类推。结果是一个3x2的矩阵。仔细想想需要几个for循环！！！\n",
        "m = len(a)  # 矩阵a的行数\n",
        "n = len(b)  # 矩阵b的行数\n",
        "o = len(b[0])  # 矩阵b的列数\n",
        "c = [[] for i in range(m)]  # 初始化新矩阵，有m行\n",
        "\n",
        "for i in range(m):\n",
        "    for j in range(o):\n",
        "        count = 0\n",
        "        for k in range(n):\n",
        "            count += a[i][k] * b[k][j]\n",
        "        c[i].append(count)\n",
        "    print(c[i])"
      ]
    },
    {
      "cell_type": "markdown",
      "metadata": {},
      "source": [
        "**_(以下先不用做)_** 条件判别：\n"
      ]
    },
    {
      "cell_type": "code",
      "execution_count": 9,
      "metadata": {},
      "outputs": [],
      "source": [
        "# Q3: 用户输入一个正整数，判断这个数是偶数还是奇数."
      ]
    },
    {
      "cell_type": "code",
      "execution_count": 10,
      "metadata": {},
      "outputs": [],
      "source": [
        "# A3: 把Q3的做法在这个代码块写出来"
      ]
    },
    {
      "cell_type": "code",
      "execution_count": 11,
      "metadata": {},
      "outputs": [],
      "source": [
        "# Q4: 用户输入一个年份，判读它是否是闰年。\n",
        "# 提示：闰年的判定规则是：能被4整除但不能被100整除的年份是闰年，或者能被400整除的年份是闰年。\n",
        "# 例子：2000年是闰年，1900年不是闰年，2004年是闰年，2001年不是闰年。"
      ]
    },
    {
      "cell_type": "code",
      "execution_count": 12,
      "metadata": {},
      "outputs": [],
      "source": [
        "# A4: 把Q4的做法在这个代码块写出来"
      ]
    }
  ],
  "metadata": {
    "colab": {
      "include_colab_link": true,
      "provenance": []
    },
    "kernelspec": {
      "display_name": ".venv",
      "language": "python",
      "name": "python3"
    },
    "language_info": {
      "codemirror_mode": {
        "name": "ipython",
        "version": 3
      },
      "file_extension": ".py",
      "mimetype": "text/x-python",
      "name": "python",
      "nbconvert_exporter": "python",
      "pygments_lexer": "ipython3",
      "version": "3.12.7"
    }
  },
  "nbformat": 4,
  "nbformat_minor": 0
}
