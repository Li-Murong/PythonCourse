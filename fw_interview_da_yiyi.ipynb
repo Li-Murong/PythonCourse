{
 "cells": [
  {
   "cell_type": "code",
   "execution_count": 1,
   "metadata": {
    "execution": {
     "iopub.execute_input": "2025-03-26T06:10:08.920547Z",
     "iopub.status.busy": "2025-03-26T06:10:08.920309Z",
     "iopub.status.idle": "2025-03-26T06:10:10.110260Z",
     "shell.execute_reply": "2025-03-26T06:10:10.109193Z",
     "shell.execute_reply.started": "2025-03-26T06:10:08.920525Z"
    },
    "trusted": true
   },
   "outputs": [],
   "source": [
    "import pandas as pd\n",
    "import numpy as np"
   ]
  },
  {
   "cell_type": "code",
   "execution_count": 2,
   "metadata": {
    "execution": {
     "iopub.execute_input": "2025-03-26T06:15:18.364905Z",
     "iopub.status.busy": "2025-03-26T06:15:18.364598Z",
     "iopub.status.idle": "2025-03-26T06:15:18.372508Z",
     "shell.execute_reply": "2025-03-26T06:15:18.371501Z",
     "shell.execute_reply.started": "2025-03-26T06:15:18.364882Z"
    },
    "trusted": true
   },
   "outputs": [
    {
     "name": "stdout",
     "output_type": "stream",
     "text": [
      "0\n",
      "6\n"
     ]
    }
   ],
   "source": [
    "# Find the smallest missing data from the given list.\n",
    "# 查找给定列表里的最小缺失值\n",
    "\n",
    "l1 = [3, 4, -2, -1, 1, 5]  # Expected result: 0\n",
    "l2 = [1, 3, 2, 0, 5, 4]  # Expected result: 6\n",
    "\n",
    "def smallest_missing_data(given_list):\n",
    "    list_sorted = sorted(given_list)\n",
    "    min_data=list_sorted[0]\n",
    "    while min_data in given_list:\n",
    "        min_data += 1\n",
    "    print(min_data)\n",
    "\n",
    "\n",
    "# Answer\n",
    "smallest_missing_data(l1)\n",
    "smallest_missing_data(l2)"
   ]
  },
  {
   "cell_type": "code",
   "execution_count": 3,
   "metadata": {
    "execution": {
     "iopub.execute_input": "2025-03-26T06:15:30.939754Z",
     "iopub.status.busy": "2025-03-26T06:15:30.939442Z",
     "iopub.status.idle": "2025-03-26T06:15:30.977357Z",
     "shell.execute_reply": "2025-03-26T06:15:30.976315Z",
     "shell.execute_reply.started": "2025-03-26T06:15:30.939732Z"
    },
    "trusted": true
   },
   "outputs": [
    {
     "data": {
      "text/html": [
       "<div>\n",
       "<style scoped>\n",
       "    .dataframe tbody tr th:only-of-type {\n",
       "        vertical-align: middle;\n",
       "    }\n",
       "\n",
       "    .dataframe tbody tr th {\n",
       "        vertical-align: top;\n",
       "    }\n",
       "\n",
       "    .dataframe thead th {\n",
       "        text-align: right;\n",
       "    }\n",
       "</style>\n",
       "<table border=\"1\" class=\"dataframe\">\n",
       "  <thead>\n",
       "    <tr style=\"text-align: right;\">\n",
       "      <th></th>\n",
       "      <th>Product</th>\n",
       "      <th>Category</th>\n",
       "      <th>Quantity</th>\n",
       "      <th>Price_Per_Unit</th>\n",
       "      <th>Date</th>\n",
       "      <th>Target</th>\n",
       "    </tr>\n",
       "  </thead>\n",
       "  <tbody>\n",
       "    <tr>\n",
       "      <th>0</th>\n",
       "      <td>Laptop</td>\n",
       "      <td>Electronics</td>\n",
       "      <td>1.0</td>\n",
       "      <td>1500.00</td>\n",
       "      <td>2023-01-01</td>\n",
       "      <td>0</td>\n",
       "    </tr>\n",
       "    <tr>\n",
       "      <th>1</th>\n",
       "      <td>Smartphone</td>\n",
       "      <td>Electronics</td>\n",
       "      <td>NaN</td>\n",
       "      <td>350.00</td>\n",
       "      <td>2023-01-02</td>\n",
       "      <td>1</td>\n",
       "    </tr>\n",
       "    <tr>\n",
       "      <th>2</th>\n",
       "      <td>Tablet</td>\n",
       "      <td>Electronics</td>\n",
       "      <td>1.0</td>\n",
       "      <td>NaN</td>\n",
       "      <td>2023-01-08</td>\n",
       "      <td>0</td>\n",
       "    </tr>\n",
       "    <tr>\n",
       "      <th>3</th>\n",
       "      <td>Smartwatch</td>\n",
       "      <td>Wearables</td>\n",
       "      <td>3.0</td>\n",
       "      <td>83.33</td>\n",
       "      <td>2023-01-15</td>\n",
       "      <td>1</td>\n",
       "    </tr>\n",
       "    <tr>\n",
       "      <th>4</th>\n",
       "      <td>Laptop</td>\n",
       "      <td>Electronics</td>\n",
       "      <td>1.0</td>\n",
       "      <td>1600.00</td>\n",
       "      <td>2023-01-16</td>\n",
       "      <td>0</td>\n",
       "    </tr>\n",
       "    <tr>\n",
       "      <th>5</th>\n",
       "      <td>Smartphone</td>\n",
       "      <td>Electronics</td>\n",
       "      <td>2.0</td>\n",
       "      <td>400.00</td>\n",
       "      <td>2023-02-01</td>\n",
       "      <td>1</td>\n",
       "    </tr>\n",
       "    <tr>\n",
       "      <th>6</th>\n",
       "      <td>Tablet</td>\n",
       "      <td>Electronics</td>\n",
       "      <td>1.0</td>\n",
       "      <td>350.00</td>\n",
       "      <td>2023-02-02</td>\n",
       "      <td>0</td>\n",
       "    </tr>\n",
       "    <tr>\n",
       "      <th>7</th>\n",
       "      <td>Smartwatch</td>\n",
       "      <td>Wearables</td>\n",
       "      <td>3.0</td>\n",
       "      <td>-33.33</td>\n",
       "      <td>2023-02-03</td>\n",
       "      <td>1</td>\n",
       "    </tr>\n",
       "    <tr>\n",
       "      <th>8</th>\n",
       "      <td>Laptop</td>\n",
       "      <td>Electronics</td>\n",
       "      <td>1.0</td>\n",
       "      <td>1800.00</td>\n",
       "      <td>2023-02-04</td>\n",
       "      <td>0</td>\n",
       "    </tr>\n",
       "    <tr>\n",
       "      <th>9</th>\n",
       "      <td>Smartphone</td>\n",
       "      <td>Electronics</td>\n",
       "      <td>2.0</td>\n",
       "      <td>400.00</td>\n",
       "      <td>2023-02-05</td>\n",
       "      <td>1</td>\n",
       "    </tr>\n",
       "  </tbody>\n",
       "</table>\n",
       "</div>"
      ],
      "text/plain": [
       "      Product     Category  Quantity  Price_Per_Unit        Date  Target\n",
       "0      Laptop  Electronics       1.0         1500.00  2023-01-01       0\n",
       "1  Smartphone  Electronics       NaN          350.00  2023-01-02       1\n",
       "2      Tablet  Electronics       1.0             NaN  2023-01-08       0\n",
       "3  Smartwatch    Wearables       3.0           83.33  2023-01-15       1\n",
       "4      Laptop  Electronics       1.0         1600.00  2023-01-16       0\n",
       "5  Smartphone  Electronics       2.0          400.00  2023-02-01       1\n",
       "6      Tablet  Electronics       1.0          350.00  2023-02-02       0\n",
       "7  Smartwatch    Wearables       3.0          -33.33  2023-02-03       1\n",
       "8      Laptop  Electronics       1.0         1800.00  2023-02-04       0\n",
       "9  Smartphone  Electronics       2.0          400.00  2023-02-05       1"
      ]
     },
     "execution_count": 3,
     "metadata": {},
     "output_type": "execute_result"
    }
   ],
   "source": [
    "# Given the sales data, answer the questions.\n",
    "data = pd.DataFrame(\n",
    "    {\n",
    "        \"Product\": [\n",
    "            \"Laptop\",\n",
    "            \"Smartphone\",\n",
    "            \"Tablet\",\n",
    "            \"Smartwatch\",\n",
    "            \"Laptop\",\n",
    "            \"Smartphone\",\n",
    "            \"Tablet\",\n",
    "            \"Smartwatch\",\n",
    "            \"Laptop\",\n",
    "            \"Smartphone\",\n",
    "        ],\n",
    "        \"Category\": [\n",
    "            \"Electronics\",\n",
    "            \"Electronics\",\n",
    "            \"Electronics\",\n",
    "            \"Wearables\",\n",
    "            \"Electronics\",\n",
    "            \"Electronics\",\n",
    "            \"Electronics\",\n",
    "            \"Wearables\",\n",
    "            \"Electronics\",\n",
    "            \"Electronics\",\n",
    "        ],\n",
    "        \"Quantity\": [1, np.nan, 1, 3, 1, 2, 1, 3, 1, 2],\n",
    "        \"Price_Per_Unit\": [1500, 350, np.nan, 83.33, 1600, 400, 350, -33.33, 1800, 400],\n",
    "        \"Date\": [\n",
    "            \"2023-01-01\",\n",
    "            \"2023-01-02\",\n",
    "            \"2023-01-08\",\n",
    "            \"2023-01-15\",\n",
    "            \"2023-01-16\",\n",
    "            \"2023-02-01\",\n",
    "            \"2023-02-02\",\n",
    "            \"2023-02-03\",\n",
    "            \"2023-02-04\",\n",
    "            \"2023-02-05\",\n",
    "        ],\n",
    "        \"Target\": [0, 1, 0, 1, 0, 1, 0, 1, 0, 1],\n",
    "    }\n",
    ")\n",
    "\n",
    "data"
   ]
  },
  {
   "cell_type": "code",
   "execution_count": 4,
   "metadata": {
    "execution": {
     "iopub.execute_input": "2025-03-26T06:20:42.541685Z",
     "iopub.status.busy": "2025-03-26T06:20:42.541353Z",
     "iopub.status.idle": "2025-03-26T06:20:42.553457Z",
     "shell.execute_reply": "2025-03-26T06:20:42.551648Z",
     "shell.execute_reply.started": "2025-03-26T06:20:42.541658Z"
    },
    "trusted": true
   },
   "outputs": [
    {
     "data": {
      "text/html": [
       "<div>\n",
       "<style scoped>\n",
       "    .dataframe tbody tr th:only-of-type {\n",
       "        vertical-align: middle;\n",
       "    }\n",
       "\n",
       "    .dataframe tbody tr th {\n",
       "        vertical-align: top;\n",
       "    }\n",
       "\n",
       "    .dataframe thead th {\n",
       "        text-align: right;\n",
       "    }\n",
       "</style>\n",
       "<table border=\"1\" class=\"dataframe\">\n",
       "  <thead>\n",
       "    <tr style=\"text-align: right;\">\n",
       "      <th></th>\n",
       "      <th>Product</th>\n",
       "      <th>Category</th>\n",
       "      <th>Quantity</th>\n",
       "      <th>Price_Per_Unit</th>\n",
       "      <th>Date</th>\n",
       "      <th>Target</th>\n",
       "    </tr>\n",
       "  </thead>\n",
       "  <tbody>\n",
       "    <tr>\n",
       "      <th>0</th>\n",
       "      <td>Laptop</td>\n",
       "      <td>Electronics</td>\n",
       "      <td>1.0</td>\n",
       "      <td>1500.00</td>\n",
       "      <td>2023-01-01</td>\n",
       "      <td>0</td>\n",
       "    </tr>\n",
       "    <tr>\n",
       "      <th>1</th>\n",
       "      <td>Smartwatch</td>\n",
       "      <td>Wearables</td>\n",
       "      <td>3.0</td>\n",
       "      <td>83.33</td>\n",
       "      <td>2023-01-15</td>\n",
       "      <td>1</td>\n",
       "    </tr>\n",
       "    <tr>\n",
       "      <th>2</th>\n",
       "      <td>Laptop</td>\n",
       "      <td>Electronics</td>\n",
       "      <td>1.0</td>\n",
       "      <td>1600.00</td>\n",
       "      <td>2023-01-16</td>\n",
       "      <td>0</td>\n",
       "    </tr>\n",
       "    <tr>\n",
       "      <th>3</th>\n",
       "      <td>Smartphone</td>\n",
       "      <td>Electronics</td>\n",
       "      <td>2.0</td>\n",
       "      <td>400.00</td>\n",
       "      <td>2023-02-01</td>\n",
       "      <td>1</td>\n",
       "    </tr>\n",
       "    <tr>\n",
       "      <th>4</th>\n",
       "      <td>Tablet</td>\n",
       "      <td>Electronics</td>\n",
       "      <td>1.0</td>\n",
       "      <td>350.00</td>\n",
       "      <td>2023-02-02</td>\n",
       "      <td>0</td>\n",
       "    </tr>\n",
       "    <tr>\n",
       "      <th>6</th>\n",
       "      <td>Laptop</td>\n",
       "      <td>Electronics</td>\n",
       "      <td>1.0</td>\n",
       "      <td>1800.00</td>\n",
       "      <td>2023-02-04</td>\n",
       "      <td>0</td>\n",
       "    </tr>\n",
       "    <tr>\n",
       "      <th>7</th>\n",
       "      <td>Smartphone</td>\n",
       "      <td>Electronics</td>\n",
       "      <td>2.0</td>\n",
       "      <td>400.00</td>\n",
       "      <td>2023-02-05</td>\n",
       "      <td>1</td>\n",
       "    </tr>\n",
       "  </tbody>\n",
       "</table>\n",
       "</div>"
      ],
      "text/plain": [
       "      Product     Category  Quantity  Price_Per_Unit        Date  Target\n",
       "0      Laptop  Electronics       1.0         1500.00  2023-01-01       0\n",
       "1  Smartwatch    Wearables       3.0           83.33  2023-01-15       1\n",
       "2      Laptop  Electronics       1.0         1600.00  2023-01-16       0\n",
       "3  Smartphone  Electronics       2.0          400.00  2023-02-01       1\n",
       "4      Tablet  Electronics       1.0          350.00  2023-02-02       0\n",
       "6      Laptop  Electronics       1.0         1800.00  2023-02-04       0\n",
       "7  Smartphone  Electronics       2.0          400.00  2023-02-05       1"
      ]
     },
     "execution_count": 4,
     "metadata": {},
     "output_type": "execute_result"
    },
    {
     "data": {
      "image/png": "[encoded data removed]",
      "text/plain": [
       "<Figure size 640x480 with 1 Axes>"
      ]
     },
     "metadata": {},
     "output_type": "display_data"
    }
   ],
   "source": [
    "# Handle missing values and outliers\n",
    "# Calculate the total sales of each product category\n",
    "# Calculate the mean, median, and standard deviation of Price_Per_Unit\n",
    "# Split a dataset into training and testing sets (80% train, 20% test)\n",
    "\n",
    "# 处理缺失值和异常值\n",
    "data = data.dropna().reset_index(drop=True)\n",
    "data[\"Price_Per_Unit\"].plot(kind=\"box\", showfliers=True)\n",
    "Q1 = data[\"Price_Per_Unit\"].quantile(0.25)\n",
    "Q3 = data[\"Price_Per_Unit\"].quantile(0.75)\n",
    "IQR = Q3 - Q1\n",
    "lower_bound = Q1 - 1.5 * IQR\n",
    "if lower_bound<0:\n",
    "    lower_bound=0\n",
    "upper_bound = Q3 + 1.5 * IQR\n",
    "\n",
    "data = data[\n",
    "    (data[\"Price_Per_Unit\"] >= lower_bound) & (data[\"Price_Per_Unit\"] <= upper_bound)\n",
    "]\n",
    "data"
   ]
  },
  {
   "cell_type": "code",
   "execution_count": 5,
   "metadata": {},
   "outputs": [
    {
     "name": "stdout",
     "output_type": "stream",
     "text": [
      "Category\n",
      "Electronics    8.0\n",
      "Wearables      3.0\n",
      "Name: Quantity, dtype: float64\n"
     ]
    }
   ],
   "source": [
    "# 计算每个产品类别的总销售额\n",
    "data_grouped = data.groupby(\"Category\")\n",
    "print(data_grouped[\"Quantity\"].sum())"
   ]
  },
  {
   "cell_type": "code",
   "execution_count": 6,
   "metadata": {},
   "outputs": [
    {
     "name": "stdout",
     "output_type": "stream",
     "text": [
      "Category\n",
      "Electronics    1008.333333\n",
      "Wearables        83.330000\n",
      "Name: Price_Per_Unit, dtype: float64\n",
      "Category\n",
      "Electronics    950.00\n",
      "Wearables       83.33\n",
      "Name: Price_Per_Unit, dtype: float64\n",
      "Category\n",
      "Electronics    691.676707\n",
      "Wearables             NaN\n",
      "Name: Price_Per_Unit, dtype: float64\n"
     ]
    }
   ],
   "source": [
    "# 计算每单位价格的平均值、中位数和标准差\n",
    "print(data_grouped['Price_Per_Unit'].mean())\n",
    "print(data_grouped[\"Price_Per_Unit\"].median())\n",
    "print(data_grouped[\"Price_Per_Unit\"].std())"
   ]
  },
  {
   "cell_type": "code",
   "execution_count": 7,
   "metadata": {},
   "outputs": [
    {
     "name": "stdout",
     "output_type": "stream",
     "text": [
      "      Product     Category  Quantity  Price_Per_Unit        Date\n",
      "0      Laptop  Electronics       1.0         1500.00  2023-01-01\n",
      "1  Smartwatch    Wearables       3.0           83.33  2023-01-15\n",
      "3  Smartphone  Electronics       2.0          400.00  2023-02-01\n",
      "4      Tablet  Electronics       1.0          350.00  2023-02-02\n",
      "6      Laptop  Electronics       1.0         1800.00  2023-02-04\n",
      "      Product     Category  Quantity  Price_Per_Unit        Date\n",
      "2      Laptop  Electronics       1.0          1600.0  2023-01-16\n",
      "7  Smartphone  Electronics       2.0           400.0  2023-02-05\n",
      "0    0\n",
      "1    1\n",
      "3    1\n",
      "4    0\n",
      "6    0\n",
      "Name: Target, dtype: int64\n",
      "2    0\n",
      "7    1\n",
      "Name: Target, dtype: int64\n"
     ]
    }
   ],
   "source": [
    "# 将数据集拆分为训练集和测试集（80% 训练，20% 测试）\n",
    "from sklearn.model_selection import train_test_split\n",
    "X=data[['Product','Category','Quantity','Price_Per_Unit','Date']]\n",
    "y=data['Target']\n",
    "X_train, X_test, y_train, y_test = train_test_split(\n",
    "    X, y, test_size=0.2, stratify=y\n",
    ")\n",
    "print(X_train)\n",
    "print(X_test)\n",
    "print(y_train)\n",
    "print(y_test)"
   ]
  },
  {
   "cell_type": "code",
   "execution_count": 8,
   "metadata": {
    "execution": {
     "iopub.execute_input": "2025-03-26T07:14:42.839956Z",
     "iopub.status.busy": "2025-03-26T07:14:42.839629Z",
     "iopub.status.idle": "2025-03-26T07:14:42.848381Z",
     "shell.execute_reply": "2025-03-26T07:14:42.847023Z",
     "shell.execute_reply.started": "2025-03-26T07:14:42.839931Z"
    },
    "trusted": true
   },
   "outputs": [
    {
     "name": "stdout",
     "output_type": "stream",
     "text": [
      "[7, 18, 108]\n",
      "[14, 16, 91, 92, 93]\n"
     ]
    }
   ],
   "source": [
    "# Find the longest increasing subsequence in a list.\n",
    "# 在列表中找到最长的递增子序列\n",
    "\n",
    "l1 = [10, 9, 15, 27, 7, 18, 108, 87]  # Expected result: [7, 18, 108]\n",
    "l2 = [15, 21, 421, 14, 16, 91, 92, 93]  # Expected result: [14, 16, 91, 92, 93]\n",
    "\n",
    "\n",
    "# Answer\n",
    "def longest_increasing(given_list):\n",
    "    increasing_list=[]\n",
    "    start = 0\n",
    "    for i in range(len(given_list)-1):\n",
    "        if given_list[i]<given_list[i+1]:\n",
    "            end=i+2\n",
    "            increasing_list=given_list[start:end]\n",
    "        else:\n",
    "            start=i+1\n",
    "            max_list = increasing_list\n",
    "    if len(max_list)>len(increasing_list):\n",
    "        print(max_list)\n",
    "    else:\n",
    "        print(increasing_list)\n",
    "\n",
    "\n",
    "longest_increasing(l1)\n",
    "longest_increasing(l2)"
   ]
  },
  {
   "cell_type": "code",
   "execution_count": 9,
   "metadata": {
    "execution": {
     "iopub.execute_input": "2025-03-26T06:44:40.692463Z",
     "iopub.status.busy": "2025-03-26T06:44:40.692060Z",
     "iopub.status.idle": "2025-03-26T06:44:40.699629Z",
     "shell.execute_reply": "2025-03-26T06:44:40.698452Z",
     "shell.execute_reply.started": "2025-03-26T06:44:40.692433Z"
    },
    "trusted": true
   },
   "outputs": [
    {
     "name": "stdout",
     "output_type": "stream",
     "text": [
      "['Fruit', 'Vegetable', 'Fruit', 'Vegetable', 'Fruit']\n"
     ]
    }
   ],
   "source": [
    "# Replace categories in a list based on specific conditions.\n",
    "# 根据特定条件替换列表中的类别\n",
    "\n",
    "categories = [\"apple\", \"lettuce\", \"banana\", \"broccoli\", \"kiwi\"]\n",
    "mapping = {\n",
    "    \"apple\": \"Fruit\",\n",
    "    \"banana\": \"Fruit\",\n",
    "    \"kiwi\": \"Fruit\",\n",
    "    \"lettuce\": \"Vegetable\",\n",
    "    \"broccoli\": \"Vegetable\",\n",
    "}\n",
    "\n",
    "# Answer\n",
    "n=0\n",
    "for i in categories:\n",
    "    categorie=mapping[i]\n",
    "    categories[n]=categorie\n",
    "    n+=1\n",
    "print(categories)\n"
   ]
  },
  {
   "cell_type": "code",
   "execution_count": 10,
   "metadata": {
    "execution": {
     "iopub.execute_input": "2025-03-26T06:56:45.080563Z",
     "iopub.status.busy": "2025-03-26T06:56:45.080231Z",
     "iopub.status.idle": "2025-03-26T06:56:45.087203Z",
     "shell.execute_reply": "2025-03-26T06:56:45.086229Z",
     "shell.execute_reply.started": "2025-03-26T06:56:45.080538Z"
    },
    "trusted": true
   },
   "outputs": [
    {
     "name": "stdout",
     "output_type": "stream",
     "text": [
      "['salary', 'Other', 'address', 'Other', 'salary', 'address']\n"
     ]
    }
   ],
   "source": [
    "# Replace categories that appear fewer times than a specified threshold with the label 'Other'.\n",
    "# 将出现次数少于指定阈值的类别替换为“Other”\n",
    "\n",
    "categories = [\"salary\", \"policy\", \"address\", \"job\", \"salary\", \"address\"]\n",
    "threshold = 2\n",
    "\n",
    "# Answer\n",
    "from collections import Counter\n",
    "counter=Counter(categories)\n",
    "appear_items=counter.items()\n",
    "ls_1=list()\n",
    "for key,value in appear_items:\n",
    "    if value>=2:\n",
    "        ls_1.append(key)\n",
    "for i in range(len(categories)):\n",
    "    if categories[i] not in ls_1:\n",
    "        categories[i]='Other'\n",
    "print(categories)"
   ]
  },
  {
   "cell_type": "code",
   "execution_count": 11,
   "metadata": {
    "execution": {
     "iopub.execute_input": "2025-03-26T06:52:50.739250Z",
     "iopub.status.busy": "2025-03-26T06:52:50.738833Z",
     "iopub.status.idle": "2025-03-26T06:52:50.746288Z",
     "shell.execute_reply": "2025-03-26T06:52:50.745317Z",
     "shell.execute_reply.started": "2025-03-26T06:52:50.739216Z"
    },
    "trusted": true
   },
   "outputs": [
    {
     "name": "stdout",
     "output_type": "stream",
     "text": [
      "['abc', 'acb', 'bac', 'bca', 'cab', 'cba']\n"
     ]
    }
   ],
   "source": [
    "# Generate all possible permutations of the characters in a string.\n",
    "# 生成字符串中字符的所有可能排列\n",
    "\n",
    "text = \"abc\"\n",
    "# Expected result:['abc', 'acb', 'bac', 'bca', 'cab', 'cba']\n",
    "\n",
    "# Answer\n",
    "from itertools import permutations\n",
    "result=list(map(lambda x:''.join(x),permutations(text,3)))\n",
    "print(result)\n",
    "#len1=len(text)\n",
    "#len2=len(result)\n"
   ]
  },
  {
   "cell_type": "code",
   "execution_count": 12,
   "metadata": {
    "execution": {
     "iopub.execute_input": "2025-03-26T07:03:47.180180Z",
     "iopub.status.busy": "2025-03-26T07:03:47.179781Z",
     "iopub.status.idle": "2025-03-26T07:03:47.186125Z",
     "shell.execute_reply": "2025-03-26T07:03:47.185066Z",
     "shell.execute_reply.started": "2025-03-26T07:03:47.180148Z"
    },
    "trusted": true
   },
   "outputs": [
    {
     "data": {
      "text/plain": [
       "'Pythn s  vrstl prgrmmng lngg. It s wdly sd fr wb dvlpmnt, dt nlyss, nd artfcal ntllgnc.'"
      ]
     },
     "execution_count": 12,
     "metadata": {},
     "output_type": "execute_result"
    }
   ],
   "source": [
    "# Remove all vowels(a, e, i, o, u) from a giving string.\n",
    "# 在给定的字符串中移除(a, e, i, o, u)\n",
    "\n",
    "text = \"Python is a versatile programming language. It is widely used for web development, data analysis, and artificial intelligence.\"\n",
    "\n",
    "# Answer\n",
    "li_1=list(text)\n",
    "n = [\"a\" , \"e\" , \"i\" , \"o\" , \"u\"]\n",
    "for i in li_1:\n",
    "    if i in n:\n",
    "        li_1.remove(i)\n",
    "li_1=''.join(li_1)\n",
    "li_1"
   ]
  }
 ],
 "metadata": {
  "kaggle": {
   "accelerator": "none",
   "dataSources": [],
   "isGpuEnabled": false,
   "isInternetEnabled": true,
   "language": "python",
   "sourceType": "notebook"
  },
  "kernelspec": {
   "display_name": ".venv",
   "language": "python",
   "name": "python3"
  },
  "language_info": {
   "codemirror_mode": {
    "name": "ipython",
    "version": 3
   },
   "file_extension": ".py",
   "mimetype": "text/x-python",
   "name": "python",
   "nbconvert_exporter": "python",
   "pygments_lexer": "ipython3",
   "version": "3.12.10"
  }
 },
 "nbformat": 4,
 "nbformat_minor": 4
}
