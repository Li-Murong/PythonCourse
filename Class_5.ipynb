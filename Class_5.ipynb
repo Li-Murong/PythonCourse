{
 "cells": [
  {
   "cell_type": "markdown",
   "id": "3be29440",
   "metadata": {},
   "source": [
    "# 数据处理\n"
   ]
  },
  {
   "cell_type": "markdown",
   "id": "5eb2156b",
   "metadata": {},
   "source": [
    "## math 数学工具\n",
    "\n",
    "$\\text{\\color{red}只适用于单个数值计算}$\n"
   ]
  },
  {
   "cell_type": "markdown",
   "id": "6043bd72",
   "metadata": {},
   "source": [
    "### 特殊数值\n"
   ]
  },
  {
   "cell_type": "code",
   "execution_count": 1,
   "id": "ef04257e",
   "metadata": {},
   "outputs": [
    {
     "name": "stdout",
     "output_type": "stream",
     "text": [
      "pi: 3.141592653589793\n",
      "e: 2.718281828459045\n",
      "tau: 6.283185307179586\n",
      "inf: inf\n",
      "nan: nan\n"
     ]
    }
   ],
   "source": [
    "import math\n",
    "\n",
    "vals = {\n",
    "    \"pi\": math.pi,  # 圆周率，3.141592653589793\n",
    "    \"e\": math.e,  # 自然常数e，2.718281828459045\n",
    "    \"tau\": math.tau,  # 圆周率的两倍（2π）\n",
    "    \"inf\": math.inf,  # 无穷大\n",
    "    \"nan\": math.nan,  # 非数字（Not a Number）\n",
    "}\n",
    "for key, value in vals.items():\n",
    "    print(f\"{key}: {value}\")"
   ]
  },
  {
   "cell_type": "code",
   "execution_count": 2,
   "id": "ef9fae73",
   "metadata": {},
   "outputs": [],
   "source": [
    "from math import (\n",
    "    gcd,\n",
    "    lcm,\n",
    "    factorial,\n",
    "    sqrt,\n",
    "    isqrt,\n",
    "    comb,\n",
    "    ceil,\n",
    "    floor,\n",
    "    trunc,\n",
    "    fabs,\n",
    "    exp,\n",
    "    log,\n",
    "    log2,\n",
    "    log10,\n",
    "    pow,\n",
    ")"
   ]
  },
  {
   "cell_type": "markdown",
   "id": "69b7cdf9",
   "metadata": {},
   "source": [
    "### 数值操作\n"
   ]
  },
  {
   "cell_type": "code",
   "execution_count": 3,
   "id": "e1c74419",
   "metadata": {},
   "outputs": [
    {
     "name": "stdout",
     "output_type": "stream",
     "text": [
      "ceil(x): 13\n",
      "floor(x): 12\n",
      "trunc(x): 12\n",
      "fabs(y): 702.0\n"
     ]
    }
   ],
   "source": [
    "x = 12.23\n",
    "y = 702\n",
    "\n",
    "operations = {\n",
    "    \"ceil(x)\": ceil(x),  # 向上取整\n",
    "    \"floor(x)\": floor(x),  # 向下取整\n",
    "    \"trunc(x)\": trunc(x),  # 截断为整数（向0取整，也是去掉小数）\n",
    "    \"fabs(y)\": fabs(y),  # 绝对值（返回float）\n",
    "}\n",
    "\n",
    "for key, value in operations.items():\n",
    "    print(f\"{key}: {value}\")"
   ]
  },
  {
   "cell_type": "markdown",
   "id": "0a8d6c7d",
   "metadata": {},
   "source": [
    "### math.gcd() 最大公因数 math.lcm() 最小公倍数\n"
   ]
  },
  {
   "cell_type": "code",
   "execution_count": 4,
   "id": "bab97e8b",
   "metadata": {},
   "outputs": [
    {
     "name": "stdout",
     "output_type": "stream",
     "text": [
      "24, 18最大公约数: 6\n",
      "24, 18最小公倍数: 72\n"
     ]
    }
   ],
   "source": [
    "operations = {\n",
    "    \"24, 18最大公约数\": gcd(24, 18),  # 最大公约数（仅限整数）\n",
    "    \"24, 18最小公倍数\": lcm(24, 18),  # 最小公倍数\n",
    "}\n",
    "for key, value in operations.items():\n",
    "    print(f\"{key}: {value}\")"
   ]
  },
  {
   "cell_type": "markdown",
   "id": "bd673588",
   "metadata": {},
   "source": [
    "### 数值计算\n"
   ]
  },
  {
   "cell_type": "code",
   "execution_count": 5,
   "id": "ef2a6ced",
   "metadata": {},
   "outputs": [
    {
     "name": "stdout",
     "output_type": "stream",
     "text": [
      "factorial(x)：: 3628800\n",
      "exp(x): 22026.465794806718\n",
      "sqrt(x): 3.1622776601683795\n",
      "isqrt(x): 3\n",
      "log(x): 2.302585092994046\n",
      "log10(x): 1.0\n",
      "log2(x): 3.321928094887362\n",
      "pow(x, y): 100.0\n"
     ]
    }
   ],
   "source": [
    "x = 10\n",
    "y = 2\n",
    "operations = {\n",
    "    \"factorial(x)：\": factorial(x),  # 120\n",
    "    \"exp(x)\": exp(x),  # e的x次幂\n",
    "    \"sqrt(x)\": sqrt(x),  # 平方根\n",
    "    \"isqrt(x)\": isqrt(x),  # 整数平方根（返回整数）\n",
    "    \"exp(x)\": exp(x),  # e的x次幂\n",
    "    \"log(x)\": log(x),  # 自然对数 ln(x)\n",
    "    \"log10(x)\": log10(x),  # 以10为底的对数\n",
    "    \"log2(x)\": log2(x),  # 以2为底的对数\n",
    "    \"pow(x, y)\": pow(x, y),  # x的y次幂（返回float\n",
    "}\n",
    "for key, value in operations.items():\n",
    "    print(f\"{key}: {value}\")"
   ]
  },
  {
   "cell_type": "markdown",
   "id": "cff67ee4",
   "metadata": {},
   "source": [
    "### math.comb(m,n) 组合\n",
    "\n",
    "实现$C^{n}_{m}$，功能类似于 iterools.combinations()，只不过这个只计算组合数量\n"
   ]
  },
  {
   "cell_type": "code",
   "execution_count": 6,
   "id": "9fabf678",
   "metadata": {},
   "outputs": [
    {
     "name": "stdout",
     "output_type": "stream",
     "text": [
      "10\n"
     ]
    }
   ],
   "source": [
    "print(comb(5, 2))  # 10  (5 选 2 组合)"
   ]
  },
  {
   "cell_type": "markdown",
   "id": "3359f6e3",
   "metadata": {},
   "source": [
    "## statistics 统计工具\n",
    "\n",
    "$\\text{\\color{red}适用于list和tuple小规模计算}$\n"
   ]
  },
  {
   "cell_type": "code",
   "execution_count": 7,
   "id": "783ad785",
   "metadata": {},
   "outputs": [],
   "source": [
    "import statistics as stats  # 统计模块，这种方式导入模块可以给它起个别名"
   ]
  },
  {
   "cell_type": "markdown",
   "id": "f1f02b47",
   "metadata": {},
   "source": [
    "### 中心趋势\n"
   ]
  },
  {
   "cell_type": "code",
   "execution_count": 8,
   "id": "1ef63af7",
   "metadata": {},
   "outputs": [
    {
     "name": "stdout",
     "output_type": "stream",
     "text": [
      "mean(data): 5.875\n",
      "median(data): 6.5\n",
      "mode(data): 3\n",
      "multimode(data): [3]\n",
      "median_low(data): 6\n",
      "median_high(data): 7\n"
     ]
    }
   ],
   "source": [
    "data = [1, 3, 3, 6, 7, 8, 9, 10]\n",
    "results = {\n",
    "    \"mean(data)\": stats.mean(data),  # 平均值\n",
    "    \"median(data)\": stats.median(data),  # 中位数\n",
    "    \"mode(data)\": stats.mode(data),  # 众数（最常见的值）\n",
    "    \"multimode(data)\": stats.multimode(data),  # 返回所有众数列表（Python 3.8+）\n",
    "    \"median_low(data)\": stats.median_low(data),  # 取中间偏小\n",
    "    \"median_high(data)\": stats.median_high(data),  # 取中间偏大\n",
    "}\n",
    "for key, value in results.items():\n",
    "    print(f\"{key}: {value}\")"
   ]
  },
  {
   "cell_type": "markdown",
   "id": "9ea7f206",
   "metadata": {},
   "source": [
    "### 离散程度\n"
   ]
  },
  {
   "cell_type": "code",
   "execution_count": 9,
   "id": "9cac03b0",
   "metadata": {},
   "outputs": [
    {
     "name": "stdout",
     "output_type": "stream",
     "text": [
      "样本方差 variance: 10.410714285714286\n",
      "总体方差 pvariance: 9.109375\n",
      "样本标准差 standard deviation: 3.2265638511757806\n",
      "总体标准差 population standard deviation: 3.018174116912409\n"
     ]
    }
   ],
   "source": [
    "results = {\n",
    "    \"样本方差 variance\": stats.variance(data),  # 样本方差（除以n-1）\n",
    "    \"总体方差 pvariance\": stats.pvariance(data),  # 总体方差（除以n）\n",
    "    \"样本标准差 standard deviation\": stats.stdev(data),  # 样本标准差 = sqrt(variance)\n",
    "    \"总体标准差 population standard deviation\": stats.pstdev(\n",
    "        data\n",
    "    ),  # 总体标准差 = sqrt(pvariance)\n",
    "}\n",
    "for key, value in results.items():\n",
    "    print(f\"{key}: {value}\")"
   ]
  },
  {
   "cell_type": "markdown",
   "id": "35590c2f",
   "metadata": {},
   "source": [
    "## numpy 大规模计算工具\n",
    "\n",
    "$\\text{\\color{red}支持大规模数据，数组和矩阵的计算}$\n"
   ]
  },
  {
   "cell_type": "code",
   "execution_count": 10,
   "id": "cf5b4839",
   "metadata": {},
   "outputs": [
    {
     "name": "stdout",
     "output_type": "stream",
     "text": [
      "numpy.mean(data): 2.5\n",
      "numpy.median(data): 2.5\n",
      "numpy.std(data): 1.118033988749895\n",
      "numpy.var(data): 1.25\n",
      "numpy.sqrt(data): [1.         1.41421356 1.73205081 2.        ]\n",
      "numpy.log(data): [0.         0.69314718 1.09861229 1.38629436]\n",
      "numpy.log10(data): [0.         0.30103    0.47712125 0.60205999]\n",
      "numpy.log2(data): [0.        1.        1.5849625 2.       ]\n",
      "numpy.exp(data): [ 2.71828183  7.3890561  20.08553692 54.59815003]\n",
      "numpy.power(data, 2): [ 1  4  9 16]\n",
      "numpy.ceil(data): [1 2 3 4]\n",
      "numpy.floor(data): [1 2 3 4]\n",
      "numpy.trunc(data): [1 2 3 4]\n",
      "numpy.abs(data): [1 2 3 4]\n",
      "numpy.sum(data): 10\n",
      "numpy.prod(data): 24\n",
      "numpy.min(data): 1\n",
      "numpy.max(data): 4\n"
     ]
    }
   ],
   "source": [
    "import numpy as np\n",
    "\n",
    "data = [1, 2, 3, 4]\n",
    "\n",
    "results = {\n",
    "    \"numpy.mean(data)\": np.mean(data),  # 平均值\n",
    "    \"numpy.median(data)\": np.median(data),  # 中位数\n",
    "    \"numpy.std(data)\": np.std(data),  # 标准差\n",
    "    \"numpy.var(data)\": np.var(data),  # 方差\n",
    "    \"numpy.sqrt(data)\": np.sqrt(data),  # 平方根\n",
    "    \"numpy.log(data)\": np.log(data),  # 自然对数\n",
    "    \"numpy.log10(data)\": np.log10(data),  # 以10为底的对数\n",
    "    \"numpy.log2(data)\": np.log2(data),  # 以2为底的对数\n",
    "    \"numpy.exp(data)\": np.exp(data),  # e的x次幂\n",
    "    \"numpy.power(data, 2)\": np.power(data, 2),  # x的y次幂\n",
    "    \"numpy.ceil(data)\": np.ceil(data),  # 向上取整\n",
    "    \"numpy.floor(data)\": np.floor(data),  # 向下取整\n",
    "    \"numpy.trunc(data)\": np.trunc(data),  # 截断为整数（向0取整）\n",
    "    \"numpy.abs(data)\": np.abs(data),  # 绝对值\n",
    "    \"numpy.sum(data)\": np.sum(data),  # 求和\n",
    "    \"numpy.prod(data)\": np.prod(data),  # 乘积\n",
    "    \"numpy.min(data)\": np.min(data),  # 最小值\n",
    "    \"numpy.max(data)\": np.max(data),  # 最大值\n",
    "}\n",
    "for key, value in results.items():\n",
    "    print(f\"{key}: {value}\")\n",
    "import pandas as pd"
   ]
  },
  {
   "cell_type": "markdown",
   "id": "995e9129",
   "metadata": {},
   "source": [
    "## pandas 数据处理库\n"
   ]
  },
  {
   "cell_type": "markdown",
   "id": "1958e799",
   "metadata": {},
   "source": [
    "### Series 一维带标签的数组（类似于 Excel 的一列）\n"
   ]
  },
  {
   "cell_type": "code",
   "execution_count": 11,
   "id": "624e0825",
   "metadata": {},
   "outputs": [
    {
     "name": "stdout",
     "output_type": "stream",
     "text": [
      "0    1\n",
      "1    2\n",
      "2    3\n",
      "dtype: int64\n",
      "1\n"
     ]
    }
   ],
   "source": [
    "import pandas as pd\n",
    "\n",
    "a = pd.Series([1, 2, 3])  # 创建一个Series对象\n",
    "print(a)  # 打印Series对象\n",
    "print(a[0])  # 访问第一个元素"
   ]
  },
  {
   "cell_type": "code",
   "execution_count": 12,
   "id": "f2cde9e0",
   "metadata": {},
   "outputs": [
    {
     "name": "stdout",
     "output_type": "stream",
     "text": [
      "a    10\n",
      "b    20\n",
      "c    30\n",
      "dtype: int64\n"
     ]
    }
   ],
   "source": [
    "# 创建一个带有索引的Series对象\n",
    "s = pd.Series([10, 20, 30], index=[\"a\", \"b\", \"c\"])\n",
    "print(s)"
   ]
  },
  {
   "cell_type": "code",
   "execution_count": 13,
   "id": "e82d9961",
   "metadata": {},
   "outputs": [
    {
     "name": "stdout",
     "output_type": "stream",
     "text": [
      "Index(['a', 'b', 'c'], dtype='object')\n"
     ]
    }
   ],
   "source": [
    "print(s.index)  # 输出索引"
   ]
  },
  {
   "cell_type": "code",
   "execution_count": 14,
   "id": "f8d78512",
   "metadata": {},
   "outputs": [
    {
     "name": "stdout",
     "output_type": "stream",
     "text": [
      "[10 20 30]\n"
     ]
    }
   ],
   "source": [
    "print(s.values)  # 输出值"
   ]
  },
  {
   "cell_type": "code",
   "execution_count": 15,
   "id": "03335ed8",
   "metadata": {},
   "outputs": [
    {
     "name": "stdout",
     "output_type": "stream",
     "text": [
      "10\n"
     ]
    }
   ],
   "source": [
    "print(s[\"a\"])  # 访问索引为\"a\"的值"
   ]
  },
  {
   "cell_type": "code",
   "execution_count": 16,
   "id": "f17a0bd4",
   "metadata": {},
   "outputs": [
    {
     "name": "stdout",
     "output_type": "stream",
     "text": [
      "20\n"
     ]
    },
    {
     "name": "stderr",
     "output_type": "stream",
     "text": [
      "/var/folders/qk/c0kw00px36q2hc_qlg3x21k40000gn/T/ipykernel_10250/4043737563.py:1: FutureWarning: Series.__getitem__ treating keys as positions is deprecated. In a future version, integer keys will always be treated as labels (consistent with DataFrame behavior). To access a value by position, use `ser.iloc[pos]`\n",
      "  print(s[1])  # 访问第二个值\n"
     ]
    }
   ],
   "source": [
    "print(s[1])  # 访问第二个值"
   ]
  },
  {
   "cell_type": "code",
   "execution_count": 17,
   "id": "734ddc13",
   "metadata": {},
   "outputs": [
    {
     "name": "stdout",
     "output_type": "stream",
     "text": [
      "b    20\n",
      "c    30\n",
      "dtype: int64\n"
     ]
    }
   ],
   "source": [
    "print(s[1:])  # 切片访问"
   ]
  },
  {
   "cell_type": "code",
   "execution_count": 18,
   "id": "9c35e83f",
   "metadata": {},
   "outputs": [
    {
     "name": "stdout",
     "output_type": "stream",
     "text": [
      "a    10\n",
      "b    20\n",
      "dtype: int64\n"
     ]
    }
   ],
   "source": [
    "print(s[[\"a\", \"b\"]])  # 访问多个索引"
   ]
  },
  {
   "cell_type": "markdown",
   "id": "92972f7a",
   "metadata": {},
   "source": [
    "### DataFrame 二维表格数据结构\n"
   ]
  },
  {
   "cell_type": "markdown",
   "id": "0621d252",
   "metadata": {},
   "source": [
    "#### DataFrame 创建\n"
   ]
  },
  {
   "cell_type": "code",
   "execution_count": 19,
   "id": "7fd4a342",
   "metadata": {},
   "outputs": [
    {
     "name": "stdout",
     "output_type": "stream",
     "text": [
      "    Name  Age\n",
      "0  Alice   25\n",
      "1    Bob   30\n"
     ]
    }
   ],
   "source": [
    "# 方式一\n",
    "data = {\"Name\": [\"Alice\", \"Bob\"], \"Age\": [25, 30]}\n",
    "df = pd.DataFrame(data)\n",
    "print(df)"
   ]
  },
  {
   "cell_type": "code",
   "execution_count": 20,
   "id": "a172c78a",
   "metadata": {},
   "outputs": [
    {
     "name": "stdout",
     "output_type": "stream",
     "text": [
      "    Name  Age\n",
      "0  Alice   25\n",
      "1    Bob   30\n"
     ]
    }
   ],
   "source": [
    "# 方式二\n",
    "data = [\n",
    "    {\"Name\": \"Alice\", \"Age\": 25},\n",
    "    {\"Name\": \"Bob\", \"Age\": 30},\n",
    "]\n",
    "df = pd.DataFrame(data)\n",
    "print(df)"
   ]
  },
  {
   "cell_type": "code",
   "execution_count": 21,
   "id": "5a7c8af0",
   "metadata": {},
   "outputs": [
    {
     "name": "stdout",
     "output_type": "stream",
     "text": [
      "    Name  Age\n",
      "0  Alice   25\n",
      "1    Bob   30\n"
     ]
    }
   ],
   "source": [
    "# 方式三\n",
    "data = [\n",
    "    [\"Alice\", 25],\n",
    "    [\"Bob\", 30],\n",
    "]\n",
    "columns = [\"Name\", \"Age\"]\n",
    "df = pd.DataFrame(data, columns=columns)\n",
    "print(df)"
   ]
  },
  {
   "cell_type": "markdown",
   "id": "ab6bc077",
   "metadata": {},
   "source": [
    "#### DataFrame 查看数据\n"
   ]
  },
  {
   "cell_type": "markdown",
   "id": "26f72aa3",
   "metadata": {},
   "source": [
    "##### 数据整体描述\n"
   ]
  },
  {
   "cell_type": "code",
   "execution_count": 22,
   "id": "1c7df08d",
   "metadata": {},
   "outputs": [
    {
     "data": {
      "application/vnd.microsoft.datawrangler.viewer.v0+json": {
       "columns": [
        {
         "name": "index",
         "rawType": "int64",
         "type": "integer"
        },
        {
         "name": "Name",
         "rawType": "object",
         "type": "string"
        },
        {
         "name": "Age",
         "rawType": "int64",
         "type": "integer"
        },
        {
         "name": "Salary",
         "rawType": "int64",
         "type": "integer"
        },
        {
         "name": "City",
         "rawType": "object",
         "type": "string"
        }
       ],
       "conversionMethod": "pd.DataFrame",
       "ref": "fd31c28e-60bf-447d-aae0-fd8294477402",
       "rows": [
        [
         "0",
         "Alice",
         "25",
         "50000",
         "New York"
        ],
        [
         "1",
         "Bob",
         "30",
         "60000",
         "Los Angeles"
        ],
        [
         "2",
         "Charlie",
         "35",
         "70000",
         "Chicago"
        ],
        [
         "3",
         "Marone",
         "25",
         "80000",
         "Houston"
        ],
        [
         "4",
         "Jack",
         "45",
         "90000",
         "Phoenix"
        ]
       ],
       "shape": {
        "columns": 4,
        "rows": 5
       }
      },
      "text/html": [
       "<div>\n",
       "<style scoped>\n",
       "    .dataframe tbody tr th:only-of-type {\n",
       "        vertical-align: middle;\n",
       "    }\n",
       "\n",
       "    .dataframe tbody tr th {\n",
       "        vertical-align: top;\n",
       "    }\n",
       "\n",
       "    .dataframe thead th {\n",
       "        text-align: right;\n",
       "    }\n",
       "</style>\n",
       "<table border=\"1\" class=\"dataframe\">\n",
       "  <thead>\n",
       "    <tr style=\"text-align: right;\">\n",
       "      <th></th>\n",
       "      <th>Name</th>\n",
       "      <th>Age</th>\n",
       "      <th>Salary</th>\n",
       "      <th>City</th>\n",
       "    </tr>\n",
       "  </thead>\n",
       "  <tbody>\n",
       "    <tr>\n",
       "      <th>0</th>\n",
       "      <td>Alice</td>\n",
       "      <td>25</td>\n",
       "      <td>50000</td>\n",
       "      <td>New York</td>\n",
       "    </tr>\n",
       "    <tr>\n",
       "      <th>1</th>\n",
       "      <td>Bob</td>\n",
       "      <td>30</td>\n",
       "      <td>60000</td>\n",
       "      <td>Los Angeles</td>\n",
       "    </tr>\n",
       "    <tr>\n",
       "      <th>2</th>\n",
       "      <td>Charlie</td>\n",
       "      <td>35</td>\n",
       "      <td>70000</td>\n",
       "      <td>Chicago</td>\n",
       "    </tr>\n",
       "    <tr>\n",
       "      <th>3</th>\n",
       "      <td>Marone</td>\n",
       "      <td>25</td>\n",
       "      <td>80000</td>\n",
       "      <td>Houston</td>\n",
       "    </tr>\n",
       "    <tr>\n",
       "      <th>4</th>\n",
       "      <td>Jack</td>\n",
       "      <td>45</td>\n",
       "      <td>90000</td>\n",
       "      <td>Phoenix</td>\n",
       "    </tr>\n",
       "  </tbody>\n",
       "</table>\n",
       "</div>"
      ],
      "text/plain": [
       "      Name  Age  Salary         City\n",
       "0    Alice   25   50000     New York\n",
       "1      Bob   30   60000  Los Angeles\n",
       "2  Charlie   35   70000      Chicago\n",
       "3   Marone   25   80000      Houston\n",
       "4     Jack   45   90000      Phoenix"
      ]
     },
     "execution_count": 22,
     "metadata": {},
     "output_type": "execute_result"
    }
   ],
   "source": [
    "df = pd.DataFrame(\n",
    "    {\n",
    "        \"Name\": [\"Alice\", \"Bob\", \"Charlie\", \"Marone\", \"Jack\", \"Tom\"],\n",
    "        \"Age\": [25, 30, 35, 25, 45, 50],\n",
    "        \"Salary\": [50000, 60000, 70000, 80000, 90000, 100000],\n",
    "        \"City\": [\n",
    "            \"New York\",\n",
    "            \"Los Angeles\",\n",
    "            \"Chicago\",\n",
    "            \"Houston\",\n",
    "            \"Phoenix\",\n",
    "            \"Philadelphia\",\n",
    "        ],\n",
    "    }\n",
    ")\n",
    "df.head()  # 查看前5行"
   ]
  },
  {
   "cell_type": "code",
   "execution_count": 23,
   "id": "1a9a6cb9",
   "metadata": {},
   "outputs": [
    {
     "data": {
      "application/vnd.microsoft.datawrangler.viewer.v0+json": {
       "columns": [
        {
         "name": "index",
         "rawType": "int64",
         "type": "integer"
        },
        {
         "name": "Name",
         "rawType": "object",
         "type": "string"
        },
        {
         "name": "Age",
         "rawType": "int64",
         "type": "integer"
        },
        {
         "name": "Salary",
         "rawType": "int64",
         "type": "integer"
        },
        {
         "name": "City",
         "rawType": "object",
         "type": "string"
        }
       ],
       "conversionMethod": "pd.DataFrame",
       "ref": "8b0e7dd0-66ed-4c2d-8306-e45c1247cc3e",
       "rows": [
        [
         "3",
         "Marone",
         "25",
         "80000",
         "Houston"
        ],
        [
         "4",
         "Jack",
         "45",
         "90000",
         "Phoenix"
        ],
        [
         "5",
         "Tom",
         "50",
         "100000",
         "Philadelphia"
        ]
       ],
       "shape": {
        "columns": 4,
        "rows": 3
       }
      },
      "text/html": [
       "<div>\n",
       "<style scoped>\n",
       "    .dataframe tbody tr th:only-of-type {\n",
       "        vertical-align: middle;\n",
       "    }\n",
       "\n",
       "    .dataframe tbody tr th {\n",
       "        vertical-align: top;\n",
       "    }\n",
       "\n",
       "    .dataframe thead th {\n",
       "        text-align: right;\n",
       "    }\n",
       "</style>\n",
       "<table border=\"1\" class=\"dataframe\">\n",
       "  <thead>\n",
       "    <tr style=\"text-align: right;\">\n",
       "      <th></th>\n",
       "      <th>Name</th>\n",
       "      <th>Age</th>\n",
       "      <th>Salary</th>\n",
       "      <th>City</th>\n",
       "    </tr>\n",
       "  </thead>\n",
       "  <tbody>\n",
       "    <tr>\n",
       "      <th>3</th>\n",
       "      <td>Marone</td>\n",
       "      <td>25</td>\n",
       "      <td>80000</td>\n",
       "      <td>Houston</td>\n",
       "    </tr>\n",
       "    <tr>\n",
       "      <th>4</th>\n",
       "      <td>Jack</td>\n",
       "      <td>45</td>\n",
       "      <td>90000</td>\n",
       "      <td>Phoenix</td>\n",
       "    </tr>\n",
       "    <tr>\n",
       "      <th>5</th>\n",
       "      <td>Tom</td>\n",
       "      <td>50</td>\n",
       "      <td>100000</td>\n",
       "      <td>Philadelphia</td>\n",
       "    </tr>\n",
       "  </tbody>\n",
       "</table>\n",
       "</div>"
      ],
      "text/plain": [
       "     Name  Age  Salary          City\n",
       "3  Marone   25   80000       Houston\n",
       "4    Jack   45   90000       Phoenix\n",
       "5     Tom   50  100000  Philadelphia"
      ]
     },
     "execution_count": 23,
     "metadata": {},
     "output_type": "execute_result"
    }
   ],
   "source": [
    "df.tail(3)  # 查看后3行"
   ]
  },
  {
   "cell_type": "code",
   "execution_count": 24,
   "id": "1d968a97",
   "metadata": {},
   "outputs": [
    {
     "data": {
      "text/plain": [
       "(6, 4)"
      ]
     },
     "execution_count": 24,
     "metadata": {},
     "output_type": "execute_result"
    }
   ],
   "source": [
    "df.shape  # 查看维度"
   ]
  },
  {
   "cell_type": "code",
   "execution_count": 25,
   "id": "b2814b25",
   "metadata": {},
   "outputs": [
    {
     "name": "stdout",
     "output_type": "stream",
     "text": [
      "<class 'pandas.core.frame.DataFrame'>\n",
      "RangeIndex: 6 entries, 0 to 5\n",
      "Data columns (total 4 columns):\n",
      " #   Column  Non-Null Count  Dtype \n",
      "---  ------  --------------  ----- \n",
      " 0   Name    6 non-null      object\n",
      " 1   Age     6 non-null      int64 \n",
      " 2   Salary  6 non-null      int64 \n",
      " 3   City    6 non-null      object\n",
      "dtypes: int64(2), object(2)\n",
      "memory usage: 324.0+ bytes\n"
     ]
    }
   ],
   "source": [
    "df.info()  # 数据结构概览"
   ]
  },
  {
   "cell_type": "code",
   "execution_count": 26,
   "id": "5b7fc393",
   "metadata": {},
   "outputs": [
    {
     "data": {
      "application/vnd.microsoft.datawrangler.viewer.v0+json": {
       "columns": [
        {
         "name": "index",
         "rawType": "object",
         "type": "string"
        },
        {
         "name": "Age",
         "rawType": "float64",
         "type": "float"
        },
        {
         "name": "Salary",
         "rawType": "float64",
         "type": "float"
        }
       ],
       "conversionMethod": "pd.DataFrame",
       "ref": "22a6a033-337a-4e3b-8e80-bdbf2a984a2f",
       "rows": [
        [
         "count",
         "6.0",
         "6.0"
        ],
        [
         "mean",
         "35.0",
         "75000.0"
        ],
        [
         "std",
         "10.488088481701515",
         "18708.286933869706"
        ],
        [
         "min",
         "25.0",
         "50000.0"
        ],
        [
         "25%",
         "26.25",
         "62500.0"
        ],
        [
         "50%",
         "32.5",
         "75000.0"
        ],
        [
         "75%",
         "42.5",
         "87500.0"
        ],
        [
         "max",
         "50.0",
         "100000.0"
        ]
       ],
       "shape": {
        "columns": 2,
        "rows": 8
       }
      },
      "text/html": [
       "<div>\n",
       "<style scoped>\n",
       "    .dataframe tbody tr th:only-of-type {\n",
       "        vertical-align: middle;\n",
       "    }\n",
       "\n",
       "    .dataframe tbody tr th {\n",
       "        vertical-align: top;\n",
       "    }\n",
       "\n",
       "    .dataframe thead th {\n",
       "        text-align: right;\n",
       "    }\n",
       "</style>\n",
       "<table border=\"1\" class=\"dataframe\">\n",
       "  <thead>\n",
       "    <tr style=\"text-align: right;\">\n",
       "      <th></th>\n",
       "      <th>Age</th>\n",
       "      <th>Salary</th>\n",
       "    </tr>\n",
       "  </thead>\n",
       "  <tbody>\n",
       "    <tr>\n",
       "      <th>count</th>\n",
       "      <td>6.000000</td>\n",
       "      <td>6.000000</td>\n",
       "    </tr>\n",
       "    <tr>\n",
       "      <th>mean</th>\n",
       "      <td>35.000000</td>\n",
       "      <td>75000.000000</td>\n",
       "    </tr>\n",
       "    <tr>\n",
       "      <th>std</th>\n",
       "      <td>10.488088</td>\n",
       "      <td>18708.286934</td>\n",
       "    </tr>\n",
       "    <tr>\n",
       "      <th>min</th>\n",
       "      <td>25.000000</td>\n",
       "      <td>50000.000000</td>\n",
       "    </tr>\n",
       "    <tr>\n",
       "      <th>25%</th>\n",
       "      <td>26.250000</td>\n",
       "      <td>62500.000000</td>\n",
       "    </tr>\n",
       "    <tr>\n",
       "      <th>50%</th>\n",
       "      <td>32.500000</td>\n",
       "      <td>75000.000000</td>\n",
       "    </tr>\n",
       "    <tr>\n",
       "      <th>75%</th>\n",
       "      <td>42.500000</td>\n",
       "      <td>87500.000000</td>\n",
       "    </tr>\n",
       "    <tr>\n",
       "      <th>max</th>\n",
       "      <td>50.000000</td>\n",
       "      <td>100000.000000</td>\n",
       "    </tr>\n",
       "  </tbody>\n",
       "</table>\n",
       "</div>"
      ],
      "text/plain": [
       "             Age         Salary\n",
       "count   6.000000       6.000000\n",
       "mean   35.000000   75000.000000\n",
       "std    10.488088   18708.286934\n",
       "min    25.000000   50000.000000\n",
       "25%    26.250000   62500.000000\n",
       "50%    32.500000   75000.000000\n",
       "75%    42.500000   87500.000000\n",
       "max    50.000000  100000.000000"
      ]
     },
     "execution_count": 26,
     "metadata": {},
     "output_type": "execute_result"
    }
   ],
   "source": [
    "df.describe()  # 数值列的统计描述"
   ]
  },
  {
   "cell_type": "markdown",
   "id": "50641789",
   "metadata": {},
   "source": [
    "##### 查看列数据\n"
   ]
  },
  {
   "cell_type": "code",
   "execution_count": 27,
   "id": "b426ceac",
   "metadata": {},
   "outputs": [
    {
     "name": "stdout",
     "output_type": "stream",
     "text": [
      "0      Alice\n",
      "1        Bob\n",
      "2    Charlie\n",
      "3     Marone\n",
      "4       Jack\n",
      "5        Tom\n",
      "Name: Name, dtype: object\n",
      "0    25\n",
      "1    30\n",
      "2    35\n",
      "3    25\n",
      "4    45\n",
      "5    50\n",
      "Name: Age, dtype: int64\n"
     ]
    }
   ],
   "source": [
    "# 查看某一列数据\n",
    "print(df[\"Name\"])  # 打印姓名列\n",
    "print(df.Age)  # 打印年龄列"
   ]
  },
  {
   "cell_type": "code",
   "execution_count": 28,
   "id": "5242bede",
   "metadata": {},
   "outputs": [
    {
     "name": "stdout",
     "output_type": "stream",
     "text": [
      "      Name  Age\n",
      "0    Alice   25\n",
      "1      Bob   30\n",
      "2  Charlie   35\n",
      "3   Marone   25\n",
      "4     Jack   45\n",
      "5      Tom   50\n"
     ]
    }
   ],
   "source": [
    "# 查看多列数据\n",
    "print(df[[\"Name\", \"Age\"]])  # 打印姓名和年龄列"
   ]
  },
  {
   "cell_type": "code",
   "execution_count": 29,
   "id": "cea85d45",
   "metadata": {},
   "outputs": [
    {
     "data": {
      "text/plain": [
       "count     6.000000\n",
       "mean     35.000000\n",
       "std      10.488088\n",
       "min      25.000000\n",
       "25%      26.250000\n",
       "50%      32.500000\n",
       "75%      42.500000\n",
       "max      50.000000\n",
       "Name: Age, dtype: float64"
      ]
     },
     "execution_count": 29,
     "metadata": {},
     "output_type": "execute_result"
    }
   ],
   "source": [
    "# 查看特定列的统计描述\n",
    "df[\"Age\"].describe()  # 年龄列的统计描述"
   ]
  },
  {
   "cell_type": "markdown",
   "id": "715c4b32",
   "metadata": {},
   "source": [
    "##### 查看行数据\n"
   ]
  },
  {
   "cell_type": "markdown",
   "id": "9d5abe77",
   "metadata": {},
   "source": [
    "**.iloc[]**\n",
    "\n",
    "是基于位置索引查找，不包含结束位置\n"
   ]
  },
  {
   "cell_type": "code",
   "execution_count": 30,
   "id": "8d45b971",
   "metadata": {},
   "outputs": [
    {
     "name": "stdout",
     "output_type": "stream",
     "text": [
      "Name         Alice\n",
      "Age             25\n",
      "Salary       50000\n",
      "City      New York\n",
      "Name: 0, dtype: object\n"
     ]
    }
   ],
   "source": [
    "# 查看行数据\n",
    "print(df.iloc[0])  # 打印第一行数据"
   ]
  },
  {
   "cell_type": "code",
   "execution_count": 31,
   "id": "44db65e0",
   "metadata": {},
   "outputs": [
    {
     "name": "stdout",
     "output_type": "stream",
     "text": [
      "      Name  Age  Salary         City\n",
      "1      Bob   30   60000  Los Angeles\n",
      "2  Charlie   35   70000      Chicago\n"
     ]
    }
   ],
   "source": [
    "print(df.iloc[1:3])  # 打印第二到第三行数据"
   ]
  },
  {
   "cell_type": "code",
   "execution_count": 32,
   "id": "f992c4b5",
   "metadata": {},
   "outputs": [
    {
     "name": "stdout",
     "output_type": "stream",
     "text": [
      "      Name  Age  Salary      City\n",
      "0    Alice   25   50000  New York\n",
      "2  Charlie   35   70000   Chicago\n",
      "4     Jack   45   90000   Phoenix\n"
     ]
    }
   ],
   "source": [
    "print(df.iloc[[0, 2, 4]])  # 打印第一、第三和第五行数据"
   ]
  },
  {
   "cell_type": "code",
   "execution_count": 33,
   "id": "2340e4ea",
   "metadata": {},
   "outputs": [
    {
     "name": "stdout",
     "output_type": "stream",
     "text": [
      "0      Alice\n",
      "1        Bob\n",
      "2    Charlie\n",
      "3     Marone\n",
      "4       Jack\n",
      "5        Tom\n",
      "Name: Name, dtype: object\n"
     ]
    }
   ],
   "source": [
    "print(df.iloc[:, 0])  # 打印第一列数据"
   ]
  },
  {
   "cell_type": "code",
   "execution_count": 34,
   "id": "b9a4c6b0",
   "metadata": {},
   "outputs": [
    {
     "name": "stdout",
     "output_type": "stream",
     "text": [
      "   Age  Salary\n",
      "0   25   50000\n",
      "1   30   60000\n",
      "2   35   70000\n",
      "3   25   80000\n",
      "4   45   90000\n",
      "5   50  100000\n"
     ]
    }
   ],
   "source": [
    "print(df.iloc[:, 1:3])  # 打印第二到第三列数据"
   ]
  },
  {
   "cell_type": "code",
   "execution_count": 35,
   "id": "e745a466",
   "metadata": {},
   "outputs": [
    {
     "name": "stdout",
     "output_type": "stream",
     "text": [
      "      Name  Salary\n",
      "0    Alice   50000\n",
      "1      Bob   60000\n",
      "2  Charlie   70000\n",
      "3   Marone   80000\n",
      "4     Jack   90000\n",
      "5      Tom  100000\n"
     ]
    }
   ],
   "source": [
    "print(df.iloc[:, [0, 2]])  # 打印第一和第三列数据"
   ]
  },
  {
   "cell_type": "code",
   "execution_count": 36,
   "id": "2aa927f7",
   "metadata": {},
   "outputs": [
    {
     "name": "stdout",
     "output_type": "stream",
     "text": [
      "   Age  Salary\n",
      "0   25   50000\n",
      "1   30   60000\n",
      "2   35   70000\n"
     ]
    }
   ],
   "source": [
    "print(df.iloc[0:3, 1:3])  # 打印第一到第三行和第二到第三列的数据"
   ]
  },
  {
   "cell_type": "code",
   "execution_count": 37,
   "id": "1d87e93a",
   "metadata": {},
   "outputs": [
    {
     "name": "stdout",
     "output_type": "stream",
     "text": [
      "   Age      City\n",
      "0   25  New York\n",
      "2   35   Chicago\n"
     ]
    }
   ],
   "source": [
    "print(df.iloc[[0, 2], [1, 3]])  # 打印第一和第三行的第二和第四列数据"
   ]
  },
  {
   "cell_type": "code",
   "execution_count": 38,
   "id": "146a523b",
   "metadata": {},
   "outputs": [
    {
     "name": "stdout",
     "output_type": "stream",
     "text": [
      "   Age         City\n",
      "0   25     New York\n",
      "1   30  Los Angeles\n",
      "2   35      Chicago\n"
     ]
    }
   ],
   "source": [
    "print(df.iloc[0:3, [1, 3]])  # 打印第一到第三行的第二和第四列数据"
   ]
  },
  {
   "cell_type": "markdown",
   "id": "2fccc55d",
   "metadata": {},
   "source": [
    "**.loc[]**\n",
    "\n",
    "是基于标签查找，包含结束位置，使用行列名\n"
   ]
  },
  {
   "cell_type": "code",
   "execution_count": 39,
   "id": "c366409e",
   "metadata": {},
   "outputs": [
    {
     "name": "stdout",
     "output_type": "stream",
     "text": [
      "[0 1 2 3 4 5]\n",
      "      Name  Age  Salary          City\n",
      "0    Alice   25   50000      New York\n",
      "1      Bob   30   60000   Los Angeles\n",
      "2  Charlie   35   70000       Chicago\n",
      "我   Marone   25   80000       Houston\n",
      "4     Jack   45   90000       Phoenix\n",
      "5      Tom   50  100000  Philadelphia\n"
     ]
    },
    {
     "data": {
      "application/vnd.microsoft.datawrangler.viewer.v0+json": {
       "columns": [
        {
         "name": "index",
         "rawType": "object",
         "type": "unknown"
        },
        {
         "name": "Name",
         "rawType": "object",
         "type": "string"
        },
        {
         "name": "Age",
         "rawType": "int64",
         "type": "integer"
        },
        {
         "name": "Salary",
         "rawType": "int64",
         "type": "integer"
        },
        {
         "name": "City",
         "rawType": "object",
         "type": "string"
        }
       ],
       "conversionMethod": "pd.DataFrame",
       "ref": "88c0ae45-46ed-4ba5-92d0-d1db90947eac",
       "rows": [
        [
         "0",
         "Alice",
         "25",
         "50000",
         "New York"
        ],
        [
         "1",
         "Bob",
         "30",
         "60000",
         "Los Angeles"
        ],
        [
         "2",
         "Charlie",
         "35",
         "70000",
         "Chicago"
        ],
        [
         "我",
         "Marone",
         "25",
         "80000",
         "Houston"
        ],
        [
         "4",
         "Jack",
         "45",
         "90000",
         "Phoenix"
        ],
        [
         "5",
         "Tom",
         "50",
         "100000",
         "Philadelphia"
        ]
       ],
       "shape": {
        "columns": 4,
        "rows": 6
       }
      },
      "text/html": [
       "<div>\n",
       "<style scoped>\n",
       "    .dataframe tbody tr th:only-of-type {\n",
       "        vertical-align: middle;\n",
       "    }\n",
       "\n",
       "    .dataframe tbody tr th {\n",
       "        vertical-align: top;\n",
       "    }\n",
       "\n",
       "    .dataframe thead th {\n",
       "        text-align: right;\n",
       "    }\n",
       "</style>\n",
       "<table border=\"1\" class=\"dataframe\">\n",
       "  <thead>\n",
       "    <tr style=\"text-align: right;\">\n",
       "      <th></th>\n",
       "      <th>Name</th>\n",
       "      <th>Age</th>\n",
       "      <th>Salary</th>\n",
       "      <th>City</th>\n",
       "    </tr>\n",
       "  </thead>\n",
       "  <tbody>\n",
       "    <tr>\n",
       "      <th>0</th>\n",
       "      <td>Alice</td>\n",
       "      <td>25</td>\n",
       "      <td>50000</td>\n",
       "      <td>New York</td>\n",
       "    </tr>\n",
       "    <tr>\n",
       "      <th>1</th>\n",
       "      <td>Bob</td>\n",
       "      <td>30</td>\n",
       "      <td>60000</td>\n",
       "      <td>Los Angeles</td>\n",
       "    </tr>\n",
       "    <tr>\n",
       "      <th>2</th>\n",
       "      <td>Charlie</td>\n",
       "      <td>35</td>\n",
       "      <td>70000</td>\n",
       "      <td>Chicago</td>\n",
       "    </tr>\n",
       "    <tr>\n",
       "      <th>我</th>\n",
       "      <td>Marone</td>\n",
       "      <td>25</td>\n",
       "      <td>80000</td>\n",
       "      <td>Houston</td>\n",
       "    </tr>\n",
       "    <tr>\n",
       "      <th>4</th>\n",
       "      <td>Jack</td>\n",
       "      <td>45</td>\n",
       "      <td>90000</td>\n",
       "      <td>Phoenix</td>\n",
       "    </tr>\n",
       "    <tr>\n",
       "      <th>5</th>\n",
       "      <td>Tom</td>\n",
       "      <td>50</td>\n",
       "      <td>100000</td>\n",
       "      <td>Philadelphia</td>\n",
       "    </tr>\n",
       "  </tbody>\n",
       "</table>\n",
       "</div>"
      ],
      "text/plain": [
       "      Name  Age  Salary          City\n",
       "0    Alice   25   50000      New York\n",
       "1      Bob   30   60000   Los Angeles\n",
       "2  Charlie   35   70000       Chicago\n",
       "我   Marone   25   80000       Houston\n",
       "4     Jack   45   90000       Phoenix\n",
       "5      Tom   50  100000  Philadelphia"
      ]
     },
     "execution_count": 39,
     "metadata": {},
     "output_type": "execute_result"
    }
   ],
   "source": [
    "print(df.index.values)  # 查看索引值： [0 1 2 3 4 5]\n",
    "df = df.rename(index={3: \"我\"})  # 修改索引\n",
    "print(df)\n",
    "df"
   ]
  },
  {
   "cell_type": "code",
   "execution_count": 40,
   "id": "b79d15f3",
   "metadata": {},
   "outputs": [
    {
     "data": {
      "text/plain": [
       "Name       Marone\n",
       "Age            25\n",
       "Salary      80000\n",
       "City      Houston\n",
       "Name: 我, dtype: object"
      ]
     },
     "execution_count": 40,
     "metadata": {},
     "output_type": "execute_result"
    }
   ],
   "source": [
    "df.loc[\"我\"]  # 查看索引为\"我\"的行数据"
   ]
  },
  {
   "cell_type": "code",
   "execution_count": 41,
   "id": "53305767",
   "metadata": {},
   "outputs": [
    {
     "data": {
      "text/plain": [
       "'Marone'"
      ]
     },
     "execution_count": 41,
     "metadata": {},
     "output_type": "execute_result"
    }
   ],
   "source": [
    "df.loc[\"我\", \"Name\"]  # 查看索引为\"我\"的行数据的姓名列数据"
   ]
  },
  {
   "cell_type": "code",
   "execution_count": 42,
   "id": "e23ada5a",
   "metadata": {},
   "outputs": [
    {
     "data": {
      "text/plain": [
       "Name      Marone\n",
       "Age           25\n",
       "Salary     80000\n",
       "Name: 我, dtype: object"
      ]
     },
     "execution_count": 42,
     "metadata": {},
     "output_type": "execute_result"
    }
   ],
   "source": [
    "df.loc[\"我\", \"Name\":\"Salary\"]  # 查看索引为\"我\"的行数据的姓名到薪水列数据"
   ]
  },
  {
   "cell_type": "markdown",
   "id": "151c511a",
   "metadata": {},
   "source": [
    "#### DataFrame 编辑\n"
   ]
  },
  {
   "cell_type": "code",
   "execution_count": 43,
   "id": "ede514d1",
   "metadata": {},
   "outputs": [
    {
     "name": "stdout",
     "output_type": "stream",
     "text": [
      "      Name  Age  Salary          City\n",
      "0    Alice   25   50000      New York\n",
      "1      Bob   30   60000   Los Angeles\n",
      "2  Charlie   35   70000       Chicago\n",
      "我   Marone   25   80000       Houston\n",
      "4     Jack   45   90000       Phoenix\n",
      "5      Tom   50  100000  Philadelphia\n"
     ]
    }
   ],
   "source": [
    "print(df)  # 查看所有数据"
   ]
  },
  {
   "cell_type": "markdown",
   "id": "03789e74",
   "metadata": {},
   "source": [
    "##### 索引编辑\n"
   ]
  },
  {
   "cell_type": "markdown",
   "id": "2a9a59ab",
   "metadata": {},
   "source": [
    "替换某一列为索引\n"
   ]
  },
  {
   "cell_type": "code",
   "execution_count": 44,
   "id": "ecf5d879",
   "metadata": {},
   "outputs": [
    {
     "name": "stdout",
     "output_type": "stream",
     "text": [
      "         Age  Salary          City\n",
      "Name                              \n",
      "Alice     25   50000      New York\n",
      "Bob       30   60000   Los Angeles\n",
      "Charlie   35   70000       Chicago\n",
      "Marone    25   80000       Houston\n",
      "Jack      45   90000       Phoenix\n",
      "Tom       50  100000  Philadelphia\n",
      "Index(['Alice', 'Bob', 'Charlie', 'Marone', 'Jack', 'Tom'], dtype='object', name='Name')\n"
     ]
    }
   ],
   "source": [
    "df.set_index(\"Name\", inplace=True)  # 将姓名列设置为索引\n",
    "print(df)  # 查看数据\n",
    "print(df.index)  # 查看索引"
   ]
  },
  {
   "cell_type": "markdown",
   "id": "eed5d6a8",
   "metadata": {},
   "source": [
    "还原索引\n"
   ]
  },
  {
   "cell_type": "code",
   "execution_count": 45,
   "id": "c4979667",
   "metadata": {},
   "outputs": [
    {
     "name": "stdout",
     "output_type": "stream",
     "text": [
      "旧数据:\n",
      "         Age  Salary          City\n",
      "Name                              \n",
      "Alice     25   50000      New York\n",
      "Bob       30   60000   Los Angeles\n",
      "Charlie   35   70000       Chicago\n",
      "Marone    25   80000       Houston\n",
      "Jack      45   90000       Phoenix\n",
      "Tom       50  100000  Philadelphia\n",
      "\n",
      "\n",
      "新数据:\n",
      "      Name  Age  Salary          City\n",
      "0    Alice   25   50000      New York\n",
      "1      Bob   30   60000   Los Angeles\n",
      "2  Charlie   35   70000       Chicago\n",
      "3   Marone   25   80000       Houston\n",
      "4     Jack   45   90000       Phoenix\n",
      "5      Tom   50  100000  Philadelphia\n"
     ]
    }
   ],
   "source": [
    "df_reset = df.reset_index()  # 重置索引\n",
    "print(\"旧数据:\")\n",
    "print(df)  # 查看旧数据\n",
    "print(\"\\n\")\n",
    "print(\"新数据:\")\n",
    "print(df_reset)  # 查看新数据"
   ]
  },
  {
   "cell_type": "markdown",
   "id": "e01c0b3e",
   "metadata": {},
   "source": [
    "##### 内容编辑\n"
   ]
  },
  {
   "cell_type": "markdown",
   "id": "1c8c0527",
   "metadata": {},
   "source": [
    "编辑内容\n"
   ]
  },
  {
   "cell_type": "code",
   "execution_count": 46,
   "id": "5bcb40b2",
   "metadata": {},
   "outputs": [
    {
     "name": "stdout",
     "output_type": "stream",
     "text": [
      "      Name  Age  Salary          City\n",
      "0    Alice   25   50000      New York\n",
      "1      Bob   30   60000   Los Angeles\n",
      "2  Charlie   35   70000       Chicago\n",
      "3   Marone   25   80000     Guangzhou\n",
      "4     Jack   45   90000       Phoenix\n",
      "5      Tom   50  100000  Philadelphia\n",
      "\n",
      "\n",
      "      Name  Age  Salary          City\n",
      "0    Alice   25   50000      New York\n",
      "1      Bob   30   60000   Los Angeles\n",
      "2  Charlie   35   70000       Chicago\n",
      "3   Marone   25   80000     Guangzhou\n",
      "4     Jack   45   90000      Shenzhen\n",
      "5      Tom   50  100000  Philadelphia\n"
     ]
    },
    {
     "name": "stderr",
     "output_type": "stream",
     "text": [
      "/var/folders/qk/c0kw00px36q2hc_qlg3x21k40000gn/T/ipykernel_10250/589345846.py:10: FutureWarning: ChainedAssignmentError: behaviour will change in pandas 3.0!\n",
      "You are setting values through chained assignment. Currently this works in certain cases, but when using Copy-on-Write (which will become the default behaviour in pandas 3.0) this will never work to update the original DataFrame or Series, because the intermediate object on which we are setting values will behave as a copy.\n",
      "A typical example is when you are setting values in a column of a DataFrame, like:\n",
      "\n",
      "df[\"col\"][row_indexer] = value\n",
      "\n",
      "Use `df.loc[row_indexer, \"col\"] = values` instead, to perform the assignment in a single step and ensure this keeps updating the original `df`.\n",
      "\n",
      "See the caveats in the documentation: https://pandas.pydata.org/pandas-docs/stable/user_guide/indexing.html#returning-a-view-versus-a-copy\n",
      "\n",
      "  df[\"City\"][4] = \"Shenzhen\"\n",
      "/var/folders/qk/c0kw00px36q2hc_qlg3x21k40000gn/T/ipykernel_10250/589345846.py:10: SettingWithCopyWarning: \n",
      "A value is trying to be set on a copy of a slice from a DataFrame\n",
      "\n",
      "See the caveats in the documentation: https://pandas.pydata.org/pandas-docs/stable/user_guide/indexing.html#returning-a-view-versus-a-copy\n",
      "  df[\"City\"][4] = \"Shenzhen\"\n"
     ]
    }
   ],
   "source": [
    "# 修改某个值\n",
    "# 方式一\n",
    "df = df_reset\n",
    "df.loc[3, \"City\"] = \"Guangzhou\"\n",
    "print(df)  # 查看数据\n",
    "\n",
    "print(\"\\n\")\n",
    "\n",
    "# 方式二（不推荐）\n",
    "df[\"City\"][4] = \"Shenzhen\"\n",
    "print(df)  # 查看数据"
   ]
  },
  {
   "cell_type": "code",
   "execution_count": 47,
   "id": "fa6779db",
   "metadata": {},
   "outputs": [
    {
     "name": "stdout",
     "output_type": "stream",
     "text": [
      "     Name  Age  Salary          City\n",
      "0   Alice   25   50000      New York\n",
      "1     Bob   30   60000   Los Angeles\n",
      "2    YiYi   21   80000      Hangzhou\n",
      "3  Marone   25   80000     Guangzhou\n",
      "4    Jack   45   90000      Shenzhen\n",
      "5     Tom   50  100000  Philadelphia\n"
     ]
    }
   ],
   "source": [
    "# 修改一行\n",
    "df.loc[2] = [\"YiYi\", 21, 80000, \"Hangzhou\"]\n",
    "print(df)  # 查看数据"
   ]
  },
  {
   "cell_type": "code",
   "execution_count": 48,
   "id": "d0ebf21c",
   "metadata": {},
   "outputs": [
    {
     "name": "stdout",
     "output_type": "stream",
     "text": [
      "     Name  Age  Salary          City\n",
      "0   Alice   25   50000      New York\n",
      "1     Bob   30   60000   Los Angeles\n",
      "2    YiYi   21   80000      Hangzhou\n",
      "3  Marone   25   80000     Guangzhou\n",
      "4    Jack   45   90000      Shenzhen\n",
      "5     Tom   50  100000  Philadelphia\n",
      "6    Tony   28   90000       Beijing\n"
     ]
    }
   ],
   "source": [
    "# 增加一行\n",
    "df.loc[6] = [\"Tony\", 28, 90000, \"Beijing\"]\n",
    "print(df)  # 查看数据"
   ]
  },
  {
   "cell_type": "code",
   "execution_count": 49,
   "id": "8362d6eb",
   "metadata": {},
   "outputs": [
    {
     "name": "stdout",
     "output_type": "stream",
     "text": [
      "     Name  Age  Salary       City\n",
      "2    YiYi   21   80000   Hangzhou\n",
      "3  Marone   25   80000  Guangzhou\n",
      "4    Jack   45   90000   Shenzhen\n",
      "6    Tony   28   90000    Beijing\n"
     ]
    }
   ],
   "source": [
    "# 删除一行\n",
    "df.drop(index=1, inplace=True)  # 删除索引为1的行，用index参数表示删除行\n",
    "df.drop(\n",
    "    [0, 5], axis=0, inplace=True\n",
    ")  # 删除索引为0和5的行，inplace=True表示在原数据上修改，否则会返回一个新的数据\n",
    "print(df)  # 查看数据"
   ]
  },
  {
   "cell_type": "code",
   "execution_count": 50,
   "id": "e0212882",
   "metadata": {},
   "outputs": [
    {
     "name": "stdout",
     "output_type": "stream",
     "text": [
      "     Name  Age  Salary       City\n",
      "0    YiYi   21   80000   Hangzhou\n",
      "1  Marone   25   80000  Guangzhou\n",
      "2    Jack   45   90000   Shenzhen\n",
      "3    Tony   28   90000    Beijing\n"
     ]
    }
   ],
   "source": [
    "# 此时索引不连续了，可以重置索引\n",
    "df = df.reset_index(drop=True)  # 重置索引，drop=True表示不保留旧索引\n",
    "print(df)  # 查看数据"
   ]
  },
  {
   "cell_type": "code",
   "execution_count": 51,
   "id": "1486f06b",
   "metadata": {},
   "outputs": [
    {
     "name": "stdout",
     "output_type": "stream",
     "text": [
      "     Name  Age  Salary       City\n",
      "0    YiYi   22   80000   Hangzhou\n",
      "1  Marone   26   80000  Guangzhou\n",
      "2    Jack   46   90000   Shenzhen\n",
      "3    Tony   29   90000    Beijing\n"
     ]
    }
   ],
   "source": [
    "# 修改一列\n",
    "df[\"Age\"] = df[\"Age\"] + 1  # 年龄加1\n",
    "print(df)  # 查看数据"
   ]
  },
  {
   "cell_type": "code",
   "execution_count": 52,
   "id": "03688286",
   "metadata": {},
   "outputs": [
    {
     "name": "stdout",
     "output_type": "stream",
     "text": [
      "     Name  Age  Salary       City  test 年龄段\n",
      "0    YiYi   22   80000   Hangzhou  1223  青年\n",
      "1  Marone   26   80000  Guangzhou  1223  青年\n",
      "2    Jack   46   90000   Shenzhen  1223  中年\n",
      "3    Tony   29   90000    Beijing  1223  青年\n"
     ]
    }
   ],
   "source": [
    "# 增加一列\n",
    "df[\"test\"] = 1223\n",
    "df[\"年龄段\"] = df[\"Age\"].apply(\n",
    "    lambda x: \"青年\" if x < 30 else (\"中年\" if x < 50 else \"老年\")\n",
    ")\n",
    "print(df)  # 查看数据"
   ]
  },
  {
   "cell_type": "code",
   "execution_count": 53,
   "id": "599cc0d4",
   "metadata": {},
   "outputs": [
    {
     "name": "stdout",
     "output_type": "stream",
     "text": [
      "     Name  Age       City 年龄段\n",
      "0    YiYi   22   Hangzhou  青年\n",
      "1  Marone   26  Guangzhou  青年\n",
      "2    Jack   46   Shenzhen  中年\n",
      "3    Tony   29    Beijing  青年\n"
     ]
    }
   ],
   "source": [
    "# 删除一列\n",
    "df.drop(columns=\"Salary\", inplace=True)  # 删除薪水列\n",
    "df.drop(\"test\", axis=1, inplace=True)  # 当axis = 1时删除列，删除test列\n",
    "print(df)  # 查看数据"
   ]
  },
  {
   "cell_type": "markdown",
   "id": "a2ab72f7",
   "metadata": {},
   "source": [
    "##### 缺失值编辑 (缺失值：Null, NaN)\n"
   ]
  },
  {
   "cell_type": "markdown",
   "id": "bb67aa6d",
   "metadata": {},
   "source": [
    "缺失值处理\n"
   ]
  },
  {
   "cell_type": "code",
   "execution_count": 54,
   "id": "01bfec87",
   "metadata": {},
   "outputs": [
    {
     "name": "stdout",
     "output_type": "stream",
     "text": [
      "     Name   Age       City  年龄段\n",
      "0    YiYi  22.0   Hangzhou   青年\n",
      "1  Marone  26.0  Guangzhou   青年\n",
      "2    Jack   NaN   Shenzhen   中年\n",
      "3    Tony  29.0    Beijing  NaN\n"
     ]
    }
   ],
   "source": [
    "df.loc[2, \"Age\"] = np.nan  # 将第三行的年龄设置为缺失值\n",
    "df.loc[3, \"年龄段\"] = np.nan  # 将第四行的年龄段设置为缺失值\n",
    "print(df)  # 查看数据"
   ]
  },
  {
   "cell_type": "code",
   "execution_count": 55,
   "id": "c5514d2d",
   "metadata": {},
   "outputs": [
    {
     "name": "stdout",
     "output_type": "stream",
     "text": [
      "    Name    Age   City    年龄段\n",
      "0  False  False  False  False\n",
      "1  False  False  False  False\n",
      "2  False   True  False  False\n",
      "3  False  False  False   True\n"
     ]
    }
   ],
   "source": [
    "# 查找缺失值\n",
    "print(df.isna())  # 查看缺失值"
   ]
  },
  {
   "cell_type": "code",
   "execution_count": 56,
   "id": "de0f019a",
   "metadata": {},
   "outputs": [
    {
     "name": "stdout",
     "output_type": "stream",
     "text": [
      "Name    False\n",
      "Age      True\n",
      "City    False\n",
      "年龄段      True\n",
      "dtype: bool\n"
     ]
    }
   ],
   "source": [
    "# 逐列查找\n",
    "print(df.isna().any())  # 查看每列是否有缺失值，.any()表示一列中有一个True就返回True"
   ]
  },
  {
   "cell_type": "code",
   "execution_count": 57,
   "id": "c22021a2",
   "metadata": {},
   "outputs": [
    {
     "name": "stdout",
     "output_type": "stream",
     "text": [
      "0    False\n",
      "1    False\n",
      "2     True\n",
      "3     True\n",
      "dtype: bool\n"
     ]
    }
   ],
   "source": [
    "# 逐行查找\n",
    "print(\n",
    "    df.isna().any(axis=1)\n",
    ")  # 查看每行是否有缺失值，.any(axis=1)表示一行中有一个True就返回True"
   ]
  },
  {
   "cell_type": "code",
   "execution_count": 58,
   "id": "e881adcd",
   "metadata": {},
   "outputs": [
    {
     "name": "stdout",
     "output_type": "stream",
     "text": [
      "     Name   Age       City  年龄段\n",
      "0    YiYi  22.0   Hangzhou   青年\n",
      "1  Marone  26.0  Guangzhou   青年\n",
      "2    Jack   0.0   Shenzhen   中年\n",
      "3    Tony  29.0    Beijing  NaN\n"
     ]
    },
    {
     "name": "stderr",
     "output_type": "stream",
     "text": [
      "/var/folders/qk/c0kw00px36q2hc_qlg3x21k40000gn/T/ipykernel_10250/527016454.py:2: FutureWarning: A value is trying to be set on a copy of a DataFrame or Series through chained assignment using an inplace method.\n",
      "The behavior will change in pandas 3.0. This inplace method will never work because the intermediate object on which we are setting values always behaves as a copy.\n",
      "\n",
      "For example, when doing 'df[col].method(value, inplace=True)', try using 'df.method({col: value}, inplace=True)' or df[col] = df[col].method(value) instead, to perform the operation inplace on the original object.\n",
      "\n",
      "\n",
      "  df[\"Age\"].fillna(0, inplace=True)  # 将缺失值替换为0\n"
     ]
    }
   ],
   "source": [
    "# 替换缺失值\n",
    "df[\"Age\"].fillna(0, inplace=True)  # 将缺失值替换为0\n",
    "print(df)  # 查看数据"
   ]
  },
  {
   "cell_type": "code",
   "execution_count": 59,
   "id": "3b09c0f1",
   "metadata": {},
   "outputs": [
    {
     "name": "stdout",
     "output_type": "stream",
     "text": [
      "     Name   Age       City 年龄段\n",
      "0    YiYi  22.0   Hangzhou  青年\n",
      "1  Marone  26.0  Guangzhou  青年\n",
      "2    Jack   0.0   Shenzhen  中年\n",
      "3    Tony  29.0    Beijing  青年\n"
     ]
    },
    {
     "name": "stderr",
     "output_type": "stream",
     "text": [
      "/var/folders/qk/c0kw00px36q2hc_qlg3x21k40000gn/T/ipykernel_10250/3145843503.py:2: FutureWarning: A value is trying to be set on a copy of a DataFrame or Series through chained assignment using an inplace method.\n",
      "The behavior will change in pandas 3.0. This inplace method will never work because the intermediate object on which we are setting values always behaves as a copy.\n",
      "\n",
      "For example, when doing 'df[col].method(value, inplace=True)', try using 'df.method({col: value}, inplace=True)' or df[col] = df[col].method(value) instead, to perform the operation inplace on the original object.\n",
      "\n",
      "\n",
      "  df[\"年龄段\"].fillna(\n"
     ]
    }
   ],
   "source": [
    "# 替换缺失值\n",
    "df[\"年龄段\"].fillna(\n",
    "    df[\"年龄段\"].mode()[0], inplace=True\n",
    ")  # 将缺失值替换为众数 **.mode()返回一个Series对象，里面是不同元素出现次数的排名，最多的在第一个，所以用[0]取第一个元素\n",
    "print(df)  # 查看数据"
   ]
  },
  {
   "cell_type": "code",
   "execution_count": 60,
   "id": "17d1d762",
   "metadata": {},
   "outputs": [
    {
     "name": "stdout",
     "output_type": "stream",
     "text": [
      "     Name   Age       City 年龄段 Nationality\n",
      "0    YiYi  22.0   Hangzhou  青年          中国\n",
      "1  Marone  26.0  Guangzhou  青年          中国\n",
      "2    Jack   0.0   Shenzhen  中年         NaN\n",
      "3    Tony  29.0    Beijing  青年         NaN\n"
     ]
    }
   ],
   "source": [
    "df[\"Nationality\"] = df[\"City\"].apply(\n",
    "    lambda x: \"中国\" if x in [\"Guangzhou\", \"Hangzhou\"] else np.nan\n",
    ")  # 根据城市列添加国籍列\n",
    "print(df)  # 查看数据"
   ]
  },
  {
   "cell_type": "code",
   "execution_count": 61,
   "id": "4fcdd829",
   "metadata": {},
   "outputs": [
    {
     "name": "stdout",
     "output_type": "stream",
     "text": [
      "     Name   Age       City 年龄段 Nationality\n",
      "0    YiYi  22.0   Hangzhou  青年          中国\n",
      "1  Marone  26.0  Guangzhou  青年          中国\n"
     ]
    }
   ],
   "source": [
    "# 删除缺失值\n",
    "df = df.dropna()  # 删除所有缺失值\n",
    "print(df)  # 查看数据"
   ]
  },
  {
   "cell_type": "markdown",
   "id": "3b801f3a",
   "metadata": {},
   "source": [
    "#### DataFrame 读写文件\n"
   ]
  },
  {
   "cell_type": "markdown",
   "id": "c68b10be",
   "metadata": {},
   "source": [
    "可以读 csv，xlsx 文件\n",
    "\n",
    "read_csv()和 read_excel()，操作一样，以 csv 为例\n"
   ]
  },
  {
   "cell_type": "code",
   "execution_count": 62,
   "id": "bdaa4e68",
   "metadata": {},
   "outputs": [
    {
     "name": "stdout",
     "output_type": "stream",
     "text": [
      "    ID    Name  Age       Hobby       City\n",
      "0  524  Marone   25        YiYi  Guangzhou\n",
      "1  702    YiYi   21      Marone   Hangzhou\n",
      "2  987    Jack   22  Basketball   Shenzhen\n",
      "3  434    Tony   28    Football   Shanghai\n"
     ]
    }
   ],
   "source": [
    "# 读取csv文件\n",
    "df_csv = pd.read_csv(\"template.csv\")  # 读取csv文件，括号里是文件路径\n",
    "print(df_csv)  # 查看数据"
   ]
  },
  {
   "cell_type": "code",
   "execution_count": 63,
   "id": "8ed02f71",
   "metadata": {},
   "outputs": [
    {
     "name": "stdout",
     "output_type": "stream",
     "text": [
      "     0       1    2           3          4\n",
      "0   ID    Name  Age       Hobby       City\n",
      "1  524  Marone   25        YiYi  Guangzhou\n",
      "2  702    YiYi   21      Marone   Hangzhou\n",
      "3  987    Jack   22  Basketball   Shenzhen\n",
      "4  434    Tony   28    Football   Shanghai\n"
     ]
    }
   ],
   "source": [
    "df_csv = pd.read_csv(\"template.csv\", header=None)  # 不要表头，把表头当成数据\n",
    "print(df_csv)  # 查看数据"
   ]
  },
  {
   "cell_type": "code",
   "execution_count": 64,
   "id": "102b2a96",
   "metadata": {},
   "outputs": [
    {
     "name": "stdout",
     "output_type": "stream",
     "text": [
      "       Name  Age       Hobby       City\n",
      "ID                                     \n",
      "524  Marone   25        YiYi  Guangzhou\n",
      "702    YiYi   21      Marone   Hangzhou\n",
      "987    Jack   22  Basketball   Shenzhen\n",
      "434    Tony   28    Football   Shanghai\n"
     ]
    }
   ],
   "source": [
    "df_csv = pd.read_csv(\"template.csv\", index_col=\"ID\")  # 将ID列设置为索引\n",
    "print(df_csv)  # 查看数据"
   ]
  },
  {
   "cell_type": "code",
   "execution_count": 65,
   "id": "b03ab4ac",
   "metadata": {},
   "outputs": [
    {
     "name": "stdout",
     "output_type": "stream",
     "text": [
      "  Student ID    Name  Age       Hobby       City\n",
      "0         ID    Name  Age       Hobby       City\n",
      "1        524  Marone   25        YiYi  Guangzhou\n",
      "2        702    YiYi   21      Marone   Hangzhou\n",
      "3        987    Jack   22  Basketball   Shenzhen\n",
      "4        434    Tony   28    Football   Shanghai\n",
      "   Student ID    Name  Age       Hobby       City\n",
      "0         524  Marone   25        YiYi  Guangzhou\n",
      "1         702    YiYi   21      Marone   Hangzhou\n",
      "2         987    Jack   22  Basketball   Shenzhen\n",
      "3         434    Tony   28    Football   Shanghai\n",
      "   Student ID    Name  Age       Hobby       City\n",
      "0         524  Marone   25        YiYi  Guangzhou\n",
      "1         702    YiYi   21      Marone   Hangzhou\n",
      "2         987    Jack   22  Basketball   Shenzhen\n",
      "3         434    Tony   28    Football   Shanghai\n"
     ]
    }
   ],
   "source": [
    "headers = [\"Student ID\", \"Name\", \"Age\", \"Hobby\", \"City\"]  # 自定义表头,修改了第一项\n",
    "df_csv = pd.read_csv(\n",
    "    \"template.csv\", names=headers\n",
    ")  # 自定义表头，但会保留原表头作为数据\n",
    "print(df_csv)  # 查看数据\n",
    "\n",
    "# 修改表头（推荐）\n",
    "df_csv = pd.read_csv(\"template.csv\")\n",
    "df_csv.columns = headers  # 修改表头\n",
    "print(df_csv)  # 查看数据\n",
    "\n",
    "df_csv = pd.read_csv(\n",
    "    \"template.csv\", names=headers, skiprows=1\n",
    ")  # 跳过第一行，即跳过原表头\n",
    "print(df_csv)  # 查看数据"
   ]
  },
  {
   "cell_type": "markdown",
   "id": "214f0313",
   "metadata": {},
   "source": [
    "写 csv 文件\n"
   ]
  },
  {
   "cell_type": "markdown",
   "id": "2f16204d",
   "metadata": {},
   "source": [
    "文件位置：\n",
    "\n",
    "1. [Class_5_example_results/student.csv](Class_5_example_results/student.csv)\n",
    "2. [Class_5_example_results/student2.csv](Class_5_example_results/student2.csv)\n"
   ]
  },
  {
   "cell_type": "code",
   "execution_count": 66,
   "id": "1faa877e",
   "metadata": {},
   "outputs": [],
   "source": [
    "df_csv.to_csv(\n",
    "    \"Class_5_example_results/student.csv\", index=False\n",
    ")  # 保存为csv文件，index=False表示不保存索引\n",
    "df_csv.to_csv(\n",
    "    \"Class_5_example_results/student2.csv\", index=True, header=False\n",
    ")  # 保存为csv文件，保存索引，不保存表头"
   ]
  },
  {
   "cell_type": "markdown",
   "id": "bbeaf307",
   "metadata": {},
   "source": [
    "### DataFrame 高阶处理\n"
   ]
  },
  {
   "cell_type": "code",
   "execution_count": 67,
   "id": "df349524",
   "metadata": {},
   "outputs": [
    {
     "data": {
      "application/vnd.microsoft.datawrangler.viewer.v0+json": {
       "columns": [
        {
         "name": "index",
         "rawType": "int64",
         "type": "integer"
        },
        {
         "name": "Name",
         "rawType": "object",
         "type": "string"
        },
        {
         "name": "Age",
         "rawType": "int64",
         "type": "integer"
        },
        {
         "name": "Salary",
         "rawType": "int64",
         "type": "integer"
        },
        {
         "name": "City",
         "rawType": "object",
         "type": "string"
        },
        {
         "name": "Gender",
         "rawType": "object",
         "type": "string"
        }
       ],
       "conversionMethod": "pd.DataFrame",
       "ref": "064b3805-fb9d-4598-9cd4-d294fb02de84",
       "rows": [
        [
         "0",
         "Alice",
         "25",
         "50000",
         "New York",
         "F"
        ],
        [
         "1",
         "Bob",
         "30",
         "60000",
         "Los Angeles",
         "M"
        ],
        [
         "2",
         "Charlie",
         "35",
         "70000",
         "Chicago",
         "M"
        ],
        [
         "3",
         "Marone",
         "25",
         "80000",
         "Houston",
         "M"
        ],
        [
         "4",
         "Jack",
         "45",
         "90000",
         "Phoenix",
         "M"
        ],
        [
         "5",
         "Tom",
         "50",
         "100000",
         "Philadelphia",
         "M"
        ],
        [
         "6",
         "Bob",
         "30",
         "60000",
         "Los Angeles",
         "M"
        ],
        [
         "7",
         "Lily",
         "34",
         "80000",
         "Rhode Island",
         "F"
        ]
       ],
       "shape": {
        "columns": 5,
        "rows": 8
       }
      },
      "text/html": [
       "<div>\n",
       "<style scoped>\n",
       "    .dataframe tbody tr th:only-of-type {\n",
       "        vertical-align: middle;\n",
       "    }\n",
       "\n",
       "    .dataframe tbody tr th {\n",
       "        vertical-align: top;\n",
       "    }\n",
       "\n",
       "    .dataframe thead th {\n",
       "        text-align: right;\n",
       "    }\n",
       "</style>\n",
       "<table border=\"1\" class=\"dataframe\">\n",
       "  <thead>\n",
       "    <tr style=\"text-align: right;\">\n",
       "      <th></th>\n",
       "      <th>Name</th>\n",
       "      <th>Age</th>\n",
       "      <th>Salary</th>\n",
       "      <th>City</th>\n",
       "      <th>Gender</th>\n",
       "    </tr>\n",
       "  </thead>\n",
       "  <tbody>\n",
       "    <tr>\n",
       "      <th>0</th>\n",
       "      <td>Alice</td>\n",
       "      <td>25</td>\n",
       "      <td>50000</td>\n",
       "      <td>New York</td>\n",
       "      <td>F</td>\n",
       "    </tr>\n",
       "    <tr>\n",
       "      <th>1</th>\n",
       "      <td>Bob</td>\n",
       "      <td>30</td>\n",
       "      <td>60000</td>\n",
       "      <td>Los Angeles</td>\n",
       "      <td>M</td>\n",
       "    </tr>\n",
       "    <tr>\n",
       "      <th>2</th>\n",
       "      <td>Charlie</td>\n",
       "      <td>35</td>\n",
       "      <td>70000</td>\n",
       "      <td>Chicago</td>\n",
       "      <td>M</td>\n",
       "    </tr>\n",
       "    <tr>\n",
       "      <th>3</th>\n",
       "      <td>Marone</td>\n",
       "      <td>25</td>\n",
       "      <td>80000</td>\n",
       "      <td>Houston</td>\n",
       "      <td>M</td>\n",
       "    </tr>\n",
       "    <tr>\n",
       "      <th>4</th>\n",
       "      <td>Jack</td>\n",
       "      <td>45</td>\n",
       "      <td>90000</td>\n",
       "      <td>Phoenix</td>\n",
       "      <td>M</td>\n",
       "    </tr>\n",
       "    <tr>\n",
       "      <th>5</th>\n",
       "      <td>Tom</td>\n",
       "      <td>50</td>\n",
       "      <td>100000</td>\n",
       "      <td>Philadelphia</td>\n",
       "      <td>M</td>\n",
       "    </tr>\n",
       "    <tr>\n",
       "      <th>6</th>\n",
       "      <td>Bob</td>\n",
       "      <td>30</td>\n",
       "      <td>60000</td>\n",
       "      <td>Los Angeles</td>\n",
       "      <td>M</td>\n",
       "    </tr>\n",
       "    <tr>\n",
       "      <th>7</th>\n",
       "      <td>Lily</td>\n",
       "      <td>34</td>\n",
       "      <td>80000</td>\n",
       "      <td>Rhode Island</td>\n",
       "      <td>F</td>\n",
       "    </tr>\n",
       "  </tbody>\n",
       "</table>\n",
       "</div>"
      ],
      "text/plain": [
       "      Name  Age  Salary          City Gender\n",
       "0    Alice   25   50000      New York      F\n",
       "1      Bob   30   60000   Los Angeles      M\n",
       "2  Charlie   35   70000       Chicago      M\n",
       "3   Marone   25   80000       Houston      M\n",
       "4     Jack   45   90000       Phoenix      M\n",
       "5      Tom   50  100000  Philadelphia      M\n",
       "6      Bob   30   60000   Los Angeles      M\n",
       "7     Lily   34   80000  Rhode Island      F"
      ]
     },
     "execution_count": 67,
     "metadata": {},
     "output_type": "execute_result"
    }
   ],
   "source": [
    "df = pd.DataFrame(\n",
    "    {\n",
    "        \"Name\": [\"Alice\", \"Bob\", \"Charlie\", \"Marone\", \"Jack\", \"Tom\", \"Bob\", \"Lily\"],\n",
    "        \"Age\": [25, 30, 35, 25, 45, 50, 30, 34],\n",
    "        \"Salary\": [50000, 60000, 70000, 80000, 90000, 100000, 60000, 80000],\n",
    "        \"City\": [\n",
    "            \"New York\",\n",
    "            \"Los Angeles\",\n",
    "            \"Chicago\",\n",
    "            \"Houston\",\n",
    "            \"Phoenix\",\n",
    "            \"Philadelphia\",\n",
    "            \"Los Angeles\",\n",
    "            \"Rhode Island\",\n",
    "        ],\n",
    "        \"Gender\": [\"F\", \"M\", \"M\", \"M\", \"M\", \"M\", \"M\", \"F\"],\n",
    "    }\n",
    ")\n",
    "\n",
    "df"
   ]
  },
  {
   "cell_type": "markdown",
   "id": "85f4ca62",
   "metadata": {},
   "source": [
    "#### 排序\n"
   ]
  },
  {
   "cell_type": "code",
   "execution_count": 68,
   "id": "7598a31c",
   "metadata": {},
   "outputs": [
    {
     "name": "stdout",
     "output_type": "stream",
     "text": [
      "按照年龄升序排序:\n",
      "      Name  Age  Salary          City Gender\n",
      "0    Alice   25   50000      New York      F\n",
      "3   Marone   25   80000       Houston      M\n",
      "1      Bob   30   60000   Los Angeles      M\n",
      "6      Bob   30   60000   Los Angeles      M\n",
      "7     Lily   34   80000  Rhode Island      F\n",
      "2  Charlie   35   70000       Chicago      M\n",
      "4     Jack   45   90000       Phoenix      M\n",
      "5      Tom   50  100000  Philadelphia      M\n",
      "\n",
      "\n",
      "按照薪水降序排序:\n",
      "      Name  Age  Salary          City Gender\n",
      "5      Tom   50  100000  Philadelphia      M\n",
      "4     Jack   45   90000       Phoenix      M\n",
      "3   Marone   25   80000       Houston      M\n",
      "7     Lily   34   80000  Rhode Island      F\n",
      "2  Charlie   35   70000       Chicago      M\n",
      "1      Bob   30   60000   Los Angeles      M\n",
      "6      Bob   30   60000   Los Angeles      M\n",
      "0    Alice   25   50000      New York      F\n",
      "\n",
      "\n",
      "按照年龄升序，薪水降序排序:\n",
      "      Name  Age  Salary          City Gender\n",
      "3   Marone   25   80000       Houston      M\n",
      "0    Alice   25   50000      New York      F\n",
      "1      Bob   30   60000   Los Angeles      M\n",
      "6      Bob   30   60000   Los Angeles      M\n",
      "7     Lily   34   80000  Rhode Island      F\n",
      "2  Charlie   35   70000       Chicago      M\n",
      "4     Jack   45   90000       Phoenix      M\n",
      "5      Tom   50  100000  Philadelphia      M\n",
      "\n",
      "\n",
      "按照索引升序排序:\n",
      "      Name  Age  Salary          City Gender\n",
      "0    Alice   25   50000      New York      F\n",
      "1      Bob   30   60000   Los Angeles      M\n",
      "2  Charlie   35   70000       Chicago      M\n",
      "3   Marone   25   80000       Houston      M\n",
      "4     Jack   45   90000       Phoenix      M\n",
      "5      Tom   50  100000  Philadelphia      M\n",
      "6      Bob   30   60000   Los Angeles      M\n",
      "7     Lily   34   80000  Rhode Island      F\n",
      "\n",
      "\n",
      "按照年龄升序，薪水降序排序，更改原数据:\n",
      "      Name  Age  Salary          City Gender\n",
      "3   Marone   25   80000       Houston      M\n",
      "0    Alice   25   50000      New York      F\n",
      "1      Bob   30   60000   Los Angeles      M\n",
      "6      Bob   30   60000   Los Angeles      M\n",
      "7     Lily   34   80000  Rhode Island      F\n",
      "2  Charlie   35   70000       Chicago      M\n",
      "4     Jack   45   90000       Phoenix      M\n",
      "5      Tom   50  100000  Philadelphia      M\n",
      "\n",
      "\n",
      "按照年龄升序，薪水降序排序，更改原数据，保留索引:\n",
      "      Name  Age  Salary          City Gender\n",
      "0   Marone   25   80000       Houston      M\n",
      "1    Alice   25   50000      New York      F\n",
      "2      Bob   30   60000   Los Angeles      M\n",
      "3      Bob   30   60000   Los Angeles      M\n",
      "4     Lily   34   80000  Rhode Island      F\n",
      "5  Charlie   35   70000       Chicago      M\n",
      "6     Jack   45   90000       Phoenix      M\n",
      "7      Tom   50  100000  Philadelphia      M\n"
     ]
    }
   ],
   "source": [
    "print(\"按照年龄升序排序:\")\n",
    "df_sorted = df.sort_values(by=\"Age\")  # 按照年龄升序排序，默认是升序\n",
    "print(df_sorted)  # 查看数据\n",
    "print(\"\\n\")\n",
    "\n",
    "print(\"按照薪水降序排序:\")\n",
    "df_sorted = df.sort_values(by=\"Salary\", ascending=False)  # 按照薪水降序排序\n",
    "print(df_sorted)  # 查看数据\n",
    "print(\"\\n\")\n",
    "\n",
    "print(\"按照年龄升序，薪水降序排序:\")\n",
    "df_sorted = df.sort_values(\n",
    "    by=[\"Age\", \"Salary\"], ascending=[True, False]\n",
    ")  # 按照年龄升序，薪水降序排序，返回一个新的数据\n",
    "print(df_sorted)  # 查看数据\n",
    "print(\"\\n\")\n",
    "\n",
    "print(\"按照索引升序排序:\")\n",
    "df_sorted_index = df_sorted.sort_index()  # 按照索引升序排序，默认是升序\n",
    "print(df_sorted_index)  # 查看数据\n",
    "print(\"\\n\")\n",
    "\n",
    "print(\"按照年龄升序，薪水降序排序，更改原数据:\")\n",
    "df.sort_values(\n",
    "    by=[\"Age\", \"Salary\"], ascending=[True, False], inplace=True\n",
    ")  # 按照年龄升序，薪水降序排序，保留原数据\n",
    "print(df)\n",
    "print(\"\\n\")\n",
    "\n",
    "print(\"按照年龄升序，薪水降序排序，更改原数据，保留索引:\")\n",
    "df.sort_values(\n",
    "    by=[\"Age\", \"Salary\"], ascending=[True, False], inplace=True, ignore_index=True\n",
    ")  # 按照年龄升序，薪水降序排序，保留原数据，重置索引\n",
    "print(df)"
   ]
  },
  {
   "cell_type": "markdown",
   "id": "49e3c358",
   "metadata": {},
   "source": [
    "#### 重复值\n"
   ]
  },
  {
   "cell_type": "code",
   "execution_count": 69,
   "id": "fc11dacf",
   "metadata": {},
   "outputs": [
    {
     "name": "stdout",
     "output_type": "stream",
     "text": [
      "查看重复值:\n",
      "0    False\n",
      "1    False\n",
      "2    False\n",
      "3     True\n",
      "4    False\n",
      "5    False\n",
      "6    False\n",
      "7    False\n",
      "dtype: bool\n",
      "\n",
      "\n",
      "原本数据:\n",
      "      Name  Age  Salary          City Gender\n",
      "0   Marone   25   80000       Houston      M\n",
      "1    Alice   25   50000      New York      F\n",
      "2      Bob   30   60000   Los Angeles      M\n",
      "3      Bob   30   60000   Los Angeles      M\n",
      "4     Lily   34   80000  Rhode Island      F\n",
      "5  Charlie   35   70000       Chicago      M\n",
      "6     Jack   45   90000       Phoenix      M\n",
      "7      Tom   50  100000  Philadelphia      M\n",
      "\n",
      "\n",
      "去重后数据:\n",
      "      Name  Age  Salary          City Gender\n",
      "0   Marone   25   80000       Houston      M\n",
      "1    Alice   25   50000      New York      F\n",
      "2      Bob   30   60000   Los Angeles      M\n",
      "4     Lily   34   80000  Rhode Island      F\n",
      "5  Charlie   35   70000       Chicago      M\n",
      "6     Jack   45   90000       Phoenix      M\n",
      "7      Tom   50  100000  Philadelphia      M\n",
      "\n",
      "\n",
      "查看唯一值:\n",
      "['M' 'F']\n"
     ]
    }
   ],
   "source": [
    "df.duplicated()  # 查看重复值，返回布尔值\n",
    "print(\"查看重复值:\")\n",
    "print(df.duplicated())  # 查看重复值\n",
    "print(\"\\n\")\n",
    "\n",
    "# 去掉重复值，返回新的数据 * 原本的df不变\n",
    "df1 = df.drop_duplicates()\n",
    "\n",
    "# 查看原本数据\n",
    "print(\"原本数据:\")\n",
    "print(df)\n",
    "print(\"\\n\")\n",
    "\n",
    "# 查看去掉重复值后的数据\n",
    "print(\"去重后数据:\")\n",
    "print(df1)\n",
    "print(\"\\n\")\n",
    "\n",
    "# 查看唯一值\n",
    "print(\"查看唯一值:\")\n",
    "print(df[\"Gender\"].unique())  # 查看性别列的唯一值"
   ]
  },
  {
   "cell_type": "markdown",
   "id": "8664ec66",
   "metadata": {},
   "source": [
    "#### 筛选\n"
   ]
  },
  {
   "cell_type": "code",
   "execution_count": 70,
   "id": "a93e25c2",
   "metadata": {},
   "outputs": [
    {
     "name": "stdout",
     "output_type": "stream",
     "text": [
      "筛选年龄小于40岁的:\n",
      "      Name  Age  Salary          City Gender\n",
      "0   Marone   25   80000       Houston      M\n",
      "1    Alice   25   50000      New York      F\n",
      "2      Bob   30   60000   Los Angeles      M\n",
      "3      Bob   30   60000   Los Angeles      M\n",
      "4     Lily   34   80000  Rhode Island      F\n",
      "5  Charlie   35   70000       Chicago      M\n",
      "\n",
      "\n",
      "筛选薪水高于70000的人:\n",
      "     Name  Age  Salary          City Gender\n",
      "0  Marone   25   80000       Houston      M\n",
      "4    Lily   34   80000  Rhode Island      F\n",
      "6    Jack   45   90000       Phoenix      M\n",
      "7     Tom   50  100000  Philadelphia      M\n",
      "\n",
      "\n",
      "年龄小于40且薪水高于70000的人:\n",
      "     Name  Age  Salary          City Gender\n",
      "0  Marone   25   80000       Houston      M\n",
      "4    Lily   34   80000  Rhode Island      F\n"
     ]
    }
   ],
   "source": [
    "# 筛选年龄小于40岁的人\n",
    "print(\"筛选年龄小于40岁的:\")\n",
    "print(df[df[\"Age\"] < 40])\n",
    "print(\"\\n\")\n",
    "\n",
    "# 筛选薪水高于70000的人\n",
    "print(\"筛选薪水高于70000的人:\")\n",
    "print(df[df[\"Salary\"] > 70000])\n",
    "print(\"\\n\")\n",
    "\n",
    "# 筛选年龄小于40且薪水高于70000的人\n",
    "print(\"年龄小于40且薪水高于70000的人:\")\n",
    "print(df[(df[\"Age\"] < 40) & (df[\"Salary\"] > 70000)])  # 注意&的两边要加括号"
   ]
  },
  {
   "cell_type": "markdown",
   "id": "4d634790",
   "metadata": {},
   "source": [
    "#### 分组\n"
   ]
  },
  {
   "cell_type": "code",
   "execution_count": 71,
   "id": "6199ac11",
   "metadata": {},
   "outputs": [
    {
     "name": "stdout",
     "output_type": "stream",
     "text": [
      "<pandas.core.groupby.generic.DataFrameGroupBy object at 0x105890230>\n"
     ]
    }
   ],
   "source": [
    "df_grouped = df.groupby(\"Gender\")  # 按照年龄分组\n",
    "print(df_grouped)  # 得到一个DataFrameGroupBy对象，不可以直接查看"
   ]
  },
  {
   "cell_type": "code",
   "execution_count": 72,
   "id": "3a3e6ed5",
   "metadata": {},
   "outputs": [
    {
     "name": "stdout",
     "output_type": "stream",
     "text": [
      "Group: F\n",
      "    Name  Age  Salary          City Gender\n",
      "1  Alice   25   50000      New York      F\n",
      "4   Lily   34   80000  Rhode Island      F\n",
      "\n",
      "\n",
      "Group: M\n",
      "      Name  Age  Salary          City Gender\n",
      "0   Marone   25   80000       Houston      M\n",
      "2      Bob   30   60000   Los Angeles      M\n",
      "3      Bob   30   60000   Los Angeles      M\n",
      "5  Charlie   35   70000       Chicago      M\n",
      "6     Jack   45   90000       Phoenix      M\n",
      "7      Tom   50  100000  Philadelphia      M\n",
      "\n",
      "\n"
     ]
    }
   ],
   "source": [
    "for group_name, group_data in df_grouped:  # 遍历分组来查看\n",
    "    print(f\"Group: {group_name}\")\n",
    "    print(group_data)\n",
    "    print(\"\\n\")"
   ]
  },
  {
   "cell_type": "code",
   "execution_count": 73,
   "id": "42ba17e6",
   "metadata": {},
   "outputs": [
    {
     "name": "stdout",
     "output_type": "stream",
     "text": [
      "分组后的数据:\n",
      "Gender\n",
      "F    2\n",
      "M    6\n",
      "dtype: int64\n",
      "\n",
      "\n",
      "每组年龄的平均值:\n",
      "Gender\n",
      "F    29.500000\n",
      "M    35.833333\n",
      "Name: Age, dtype: float64\n",
      "\n",
      "\n",
      "每组年龄的总和:\n",
      "Gender\n",
      "F     59\n",
      "M    215\n",
      "Name: Age, dtype: int64\n",
      "\n",
      "\n",
      "每组年龄的最大值:\n",
      "Gender\n",
      "F    34\n",
      "M    50\n",
      "Name: Age, dtype: int64\n",
      "\n",
      "\n",
      "每组薪水的最小值:\n",
      "Gender\n",
      "F    50000\n",
      "M    60000\n",
      "Name: Salary, dtype: int64\n",
      "\n",
      "\n"
     ]
    }
   ],
   "source": [
    "# 分组后的数据\n",
    "print(\"分组后的数据:\")\n",
    "print(df_grouped.size())  # 查看每组的大小\n",
    "print(\"\\n\")\n",
    "\n",
    "print(\"每组年龄的平均值:\")\n",
    "print(df_grouped[\"Age\"].mean())  # 查看每组年龄的平均值\n",
    "print(\"\\n\")\n",
    "\n",
    "print(\"每组年龄的总和:\")\n",
    "print(df_grouped[\"Age\"].sum())  # 查看每组年龄的总和\n",
    "print(\"\\n\")\n",
    "\n",
    "print(\"每组年龄的最大值:\")\n",
    "print(df_grouped[\"Age\"].max())  # 查看每组年龄的最大值\n",
    "print(\"\\n\")\n",
    "\n",
    "print(\"每组薪水的最小值:\")\n",
    "print(df_grouped[\"Salary\"].min())  # 查看每组薪水的最小值\n",
    "print(\"\\n\")"
   ]
  },
  {
   "cell_type": "markdown",
   "id": "9bcc3cb5",
   "metadata": {},
   "source": [
    "#### 聚合 .agg()"
   ]
  },
  {
   "cell_type": "markdown",
   "id": "247e751b",
   "metadata": {},
   "source": [
    "**单列数据聚合一个函数**"
   ]
  },
  {
   "cell_type": "code",
   "execution_count": 74,
   "id": "81dd2154",
   "metadata": {},
   "outputs": [
    {
     "name": "stdout",
     "output_type": "stream",
     "text": [
      "薪水的平均值:\n",
      "73750.0\n",
      "\n",
      "\n",
      "薪水的总和:\n",
      "590000\n",
      "\n",
      "\n",
      "查看最大的年龄:\n",
      "50\n"
     ]
    }
   ],
   "source": [
    "print(\"薪水的平均值:\")\n",
    "print(df[\"Salary\"].agg(\"mean\"))  # 对薪水列进行聚合操作，跟直接使用.mean()一样\n",
    "print(\"\\n\")\n",
    "\n",
    "print(\"薪水的总和:\")\n",
    "print(df[\"Salary\"].agg(\"sum\"))  # 查看薪水列的总和，跟直接使用.sum()一样\n",
    "print(\"\\n\")\n",
    "\n",
    "print(\"查看最大的年龄:\")\n",
    "print(df[\"Age\"].agg(\"max\"))  # 查看年龄列的最大值，跟直接使用.max()一样"
   ]
  },
  {
   "cell_type": "markdown",
   "id": "990edfb7",
   "metadata": {},
   "source": [
    "**单列数据聚合多个函数**"
   ]
  },
  {
   "cell_type": "code",
   "execution_count": 75,
   "id": "4b17e054",
   "metadata": {},
   "outputs": [
    {
     "name": "stdout",
     "output_type": "stream",
     "text": [
      "查看最多和最少的薪水:\n",
      "max    100000\n",
      "min     50000\n",
      "Name: Salary, dtype: int64\n"
     ]
    }
   ],
   "source": [
    "print(\"查看最多和最少的薪水:\")\n",
    "print(df[\"Salary\"].agg([\"max\", \"min\"]))  # 查看薪水列的最大值和最小值"
   ]
  },
  {
   "cell_type": "markdown",
   "id": "c7e33000",
   "metadata": {},
   "source": [
    "**多列数据聚合多个函数**"
   ]
  },
  {
   "cell_type": "code",
   "execution_count": 76,
   "id": "c05acf21",
   "metadata": {},
   "outputs": [
    {
     "name": "stdout",
     "output_type": "stream",
     "text": [
      "查看最大年龄和最少薪水:\n",
      "Age          50\n",
      "Salary    50000\n",
      "dtype: int64\n"
     ]
    }
   ],
   "source": [
    "print(\"查看最大年龄和最少薪水:\")\n",
    "print(df.agg({\"Age\": \"max\", \"Salary\": \"min\"}))  # 查看最大年龄和最少薪水"
   ]
  },
  {
   "cell_type": "markdown",
   "id": "9f6b05d0",
   "metadata": {},
   "source": [
    "**数据聚合自定义函数**\n"
   ]
  },
  {
   "cell_type": "code",
   "execution_count": 77,
   "id": "fabcfe96",
   "metadata": {},
   "outputs": [
    {
     "name": "stdout",
     "output_type": "stream",
     "text": [
      "查看年龄的范围:\n",
      "25\n",
      "\n",
      "\n",
      "查看年龄和薪水的范围:\n",
      "Age          25\n",
      "Salary    50000\n",
      "dtype: int64\n",
      "\n",
      "\n",
      "查看年龄和城市的众数:\n",
      "Age              25\n",
      "City    Los Angeles\n",
      "dtype: object\n"
     ]
    }
   ],
   "source": [
    "def range(x):  # 定义一个函数，计算最大值和最小值的差\n",
    "    return x.max() - x.min()\n",
    "\n",
    "def most_common(x):  # 定义一个函数，计算众数\n",
    "    return x.mode()[0] if not x.empty else None\n",
    "\n",
    "\n",
    "print(\"查看年龄的范围:\")\n",
    "print(df[\"Age\"].agg(range))  # 查看年龄列的范围\n",
    "print(\"\\n\")\n",
    "\n",
    "print(\"查看年龄和薪水的范围:\")\n",
    "print(df.agg({\"Age\": range, \"Salary\": range}))  # 查看年龄和薪水的范围\n",
    "print(\"\\n\")\n",
    "\n",
    "print(\"查看年龄和城市的众数:\")\n",
    "print(df.agg({\"Age\": most_common, \"City\": most_common}))  # 查看年龄和城市的众数\n"
   ]
  },
  {
   "cell_type": "markdown",
   "id": "a6bc448c",
   "metadata": {},
   "source": [
    "**分组聚合（常用）**\n"
   ]
  },
  {
   "cell_type": "code",
   "execution_count": 78,
   "id": "ad61ae44",
   "metadata": {},
   "outputs": [
    {
     "name": "stdout",
     "output_type": "stream",
     "text": [
      "不同性别平均工资:\n",
      "              Salary\n",
      "Gender              \n",
      "F       65000.000000\n",
      "M       76666.666667\n",
      "\n",
      "\n",
      "不同性别的人数:\n",
      "        Gender\n",
      "Gender        \n",
      "F            2\n",
      "M            6\n",
      "\n",
      "\n",
      "不同性别的平均年龄和薪水:\n",
      "              Age        Salary\n",
      "Gender                         \n",
      "F       29.500000  65000.000000\n",
      "M       35.833333  76666.666667\n",
      "\n",
      "\n",
      "不同性别的薪水的方差:\n",
      "              Salary\n",
      "Gender              \n",
      "F       4.500000e+08\n",
      "M       2.666667e+08\n",
      "\n",
      "\n",
      "不同年龄的平均薪水和标准差:\n",
      "       Salary              \n",
      "         mean           std\n",
      "Age                        \n",
      "25    65000.0  21213.203436\n",
      "30    60000.0      0.000000\n",
      "34    80000.0           NaN\n",
      "35    70000.0           NaN\n",
      "45    90000.0           NaN\n",
      "50   100000.0           NaN\n",
      "\n",
      "\n"
     ]
    }
   ],
   "source": [
    "print(\"不同性别平均工资:\")\n",
    "print(df.groupby(\"Gender\").agg({\"Salary\": \"mean\"}))  # 查看不同性别的平均工资\n",
    "print(\"\\n\")\n",
    "\n",
    "print(\"不同性别的人数:\")\n",
    "print(df.groupby(\"Gender\").agg({\"Gender\": \"count\"}))  # 查看不同性别的人数\n",
    "print(\"\\n\")\n",
    "\n",
    "print(\"不同性别的平均年龄和薪水:\")\n",
    "print(\n",
    "    df.groupby(\"Gender\").agg({\"Age\": \"mean\", \"Salary\": \"mean\"})\n",
    ")  # 查看不同性别的平均年龄和薪水\n",
    "print(\"\\n\")\n",
    "\n",
    "print(\"不同性别的薪水的方差:\")\n",
    "print(df.groupby(\"Gender\").agg({\"Salary\": \"var\"}))  # 查看不同性别的薪水的方差\n",
    "print(\"\\n\")\n",
    "\n",
    "print(\"不同年龄的平均薪水和标准差:\")\n",
    "print(\n",
    "    df.groupby(\"Age\").agg({\"Salary\": [\"mean\", \"std\"]})\n",
    ")  # 查看不同年龄段的平均薪水,标准差  *NaN表示没有数据，想想为啥\n",
    "print(\"\\n\")"
   ]
  },
  {
   "cell_type": "markdown",
   "id": "c7d6655d",
   "metadata": {},
   "source": [
    "## re, textwrap 字符串处理\n"
   ]
  },
  {
   "cell_type": "code",
   "execution_count": 79,
   "id": "160acd5f",
   "metadata": {},
   "outputs": [
    {
     "name": "stdout",
     "output_type": "stream",
     "text": [
      "['123', '456']\n",
      "hello X world X\n",
      "This is a\n",
      "very long\n",
      "sentence\n",
      "that needs\n",
      "wrapping.\n"
     ]
    }
   ],
   "source": [
    "import re\n",
    "import textwrap\n",
    "\n",
    "text = \"hello 123 world 456\"\n",
    "print(re.findall(r\"\\d+\", text))  # ['123', '456']\n",
    "print(re.sub(r\"\\d+\", \"X\", text))  # 'hello X world X'\n",
    "\n",
    "wrapped_text = textwrap.wrap(\n",
    "    \"This is a very long sentence that needs wrapping.\", width=10\n",
    ")\n",
    "print(\"\\n\".join(wrapped_text))  # 自动换行"
   ]
  },
  {
   "cell_type": "markdown",
   "id": "6723c047",
   "metadata": {},
   "source": [
    "## 作业\n"
   ]
  },
  {
   "cell_type": "code",
   "execution_count": 80,
   "id": "c942dcef",
   "metadata": {},
   "outputs": [],
   "source": [
    "# Q1: 按要求修改数据库\n",
    "\n",
    "# 把学号列改为索引\n"
   ]
  }
 ],
 "metadata": {
  "kernelspec": {
   "display_name": ".venv",
   "language": "python",
   "name": "python3"
  },
  "language_info": {
   "codemirror_mode": {
    "name": "ipython",
    "version": 3
   },
   "file_extension": ".py",
   "mimetype": "text/x-python",
   "name": "python",
   "nbconvert_exporter": "python",
   "pygments_lexer": "ipython3",
   "version": "3.12.7"
  }
 },
 "nbformat": 4,
 "nbformat_minor": 5
}
