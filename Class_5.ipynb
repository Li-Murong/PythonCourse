{
 "cells": [
  {
   "cell_type": "markdown",
   "id": "3be29440",
   "metadata": {},
   "source": [
    "# 数据处理\n"
   ]
  },
  {
   "cell_type": "markdown",
   "id": "5eb2156b",
   "metadata": {},
   "source": [
    "## math 数学工具\n",
    "\n",
    "$\\text{\\color{red}只适用于单个数值计算}$\n"
   ]
  },
  {
   "cell_type": "markdown",
   "id": "6043bd72",
   "metadata": {},
   "source": [
    "### 特殊数值\n"
   ]
  },
  {
   "cell_type": "code",
   "execution_count": 27,
   "id": "ef04257e",
   "metadata": {},
   "outputs": [
    {
     "name": "stdout",
     "output_type": "stream",
     "text": [
      "pi: 3.141592653589793\n",
      "e: 2.718281828459045\n",
      "tau: 6.283185307179586\n",
      "inf: inf\n",
      "nan: nan\n"
     ]
    }
   ],
   "source": [
    "import math\n",
    "\n",
    "vals = {\n",
    "    \"pi\": math.pi,  # 圆周率，3.141592653589793\n",
    "    \"e\": math.e,  # 自然常数e，2.718281828459045\n",
    "    \"tau\": math.tau,  # 圆周率的两倍（2π）\n",
    "    \"inf\": math.inf,  # 无穷大\n",
    "    \"nan\": math.nan,  # 非数字（Not a Number）\n",
    "}\n",
    "for key, value in vals.items():\n",
    "    print(f\"{key}: {value}\")"
   ]
  },
  {
   "cell_type": "code",
   "execution_count": null,
   "id": "ef9fae73",
   "metadata": {},
   "outputs": [],
   "source": [
    "from math import (\n",
    "    gcd,\n",
    "    lcm,\n",
    "    factorial,\n",
    "    sqrt,\n",
    "    isqrt,\n",
    "    comb,\n",
    "    ceil,\n",
    "    floor,\n",
    "    trunc,\n",
    "    fabs,\n",
    "    exp,\n",
    "    log,\n",
    "    log2,\n",
    "    log10,\n",
    "    pow,\n",
    ")"
   ]
  },
  {
   "cell_type": "markdown",
   "id": "69b7cdf9",
   "metadata": {},
   "source": [
    "### 数值操作\n"
   ]
  },
  {
   "cell_type": "code",
   "execution_count": 29,
   "id": "e1c74419",
   "metadata": {},
   "outputs": [
    {
     "name": "stdout",
     "output_type": "stream",
     "text": [
      "ceil(x): 13\n",
      "floor(x): 12\n",
      "trunc(x): 12\n",
      "fabs(y): 702.0\n"
     ]
    }
   ],
   "source": [
    "x = 12.23\n",
    "y = 702\n",
    "\n",
    "operations = {\n",
    "    \"ceil(x)\": ceil(x),  # 向上取整\n",
    "    \"floor(x)\": floor(x),  # 向下取整\n",
    "    \"trunc(x)\": trunc(x),  # 截断为整数（向0取整，也是去掉小数）\n",
    "    \"fabs(y)\": fabs(y),  # 绝对值（返回float）\n",
    "}\n",
    "\n",
    "for key, value in operations.items():\n",
    "    print(f\"{key}: {value}\")"
   ]
  },
  {
   "cell_type": "markdown",
   "id": "0a8d6c7d",
   "metadata": {},
   "source": [
    "### math.gcd() 最大公因数 math.lcm() 最小公倍数\n"
   ]
  },
  {
   "cell_type": "code",
   "execution_count": 30,
   "id": "bab97e8b",
   "metadata": {},
   "outputs": [
    {
     "name": "stdout",
     "output_type": "stream",
     "text": [
      "24, 18最大公约数: 6\n",
      "24, 18最小公倍数: 72\n"
     ]
    }
   ],
   "source": [
    "operations = {\n",
    "    \"24, 18最大公约数\": gcd(24, 18),  # 最大公约数（仅限整数）\n",
    "    \"24, 18最小公倍数\": lcm(24, 18),  # 最小公倍数\n",
    "}\n",
    "for key, value in operations.items():\n",
    "    print(f\"{key}: {value}\")"
   ]
  },
  {
   "cell_type": "markdown",
   "id": "bd673588",
   "metadata": {},
   "source": [
    "### 数值计算\n"
   ]
  },
  {
   "cell_type": "code",
   "execution_count": 32,
   "id": "ef2a6ced",
   "metadata": {},
   "outputs": [
    {
     "name": "stdout",
     "output_type": "stream",
     "text": [
      "factorial(x)：: 3628800\n",
      "exp(x): 22026.465794806718\n",
      "sqrt(x): 3.1622776601683795\n",
      "isqrt(x): 3\n",
      "log(x): 2.302585092994046\n",
      "log10(x): 1.0\n",
      "log2(x): 3.321928094887362\n",
      "pow(x, y): 100.0\n"
     ]
    }
   ],
   "source": [
    "x = 10\n",
    "y = 2\n",
    "operations = {\n",
    "    \"factorial(x)：\": factorial(x),  # 120\n",
    "    \"exp(x)\": exp(x),  # e的x次幂\n",
    "    \"sqrt(x)\": sqrt(x),  # 平方根\n",
    "    \"isqrt(x)\": isqrt(x),  # 整数平方根（返回整数）\n",
    "    \"exp(x)\": exp(x),  # e的x次幂\n",
    "    \"log(x)\": log(x),  # 自然对数 ln(x)\n",
    "    \"log10(x)\": log10(x),  # 以10为底的对数\n",
    "    \"log2(x)\": log2(x),  # 以2为底的对数\n",
    "    \"pow(x, y)\": pow(x, y),  # x的y次幂（返回float\n",
    "}\n",
    "for key, value in operations.items():\n",
    "    print(f\"{key}: {value}\")"
   ]
  },
  {
   "cell_type": "markdown",
   "id": "cff67ee4",
   "metadata": {},
   "source": [
    "### math.comb(m,n) 组合\n",
    "\n",
    "实现$C^{n}_{m}$，功能类似于 iterools.combinations()，只不过这个只计算组合数量\n"
   ]
  },
  {
   "cell_type": "code",
   "execution_count": null,
   "id": "9fabf678",
   "metadata": {},
   "outputs": [
    {
     "name": "stdout",
     "output_type": "stream",
     "text": [
      "10\n"
     ]
    }
   ],
   "source": [
    "print(comb(5, 2))  # 10  (5 选 2 组合)"
   ]
  },
  {
   "cell_type": "markdown",
   "id": "3359f6e3",
   "metadata": {},
   "source": [
    "## statistics 统计工具\n",
    "\n",
    "$\\text{\\color{red}适用于list和tuple小规模计算}$\n"
   ]
  },
  {
   "cell_type": "code",
   "execution_count": null,
   "id": "783ad785",
   "metadata": {},
   "outputs": [],
   "source": [
    "import statistics as stats  # 统计模块，这种方式导入模块可以给它起个别名"
   ]
  },
  {
   "cell_type": "markdown",
   "id": "f1f02b47",
   "metadata": {},
   "source": [
    "### 中心趋势\n"
   ]
  },
  {
   "cell_type": "code",
   "execution_count": 39,
   "id": "1ef63af7",
   "metadata": {},
   "outputs": [
    {
     "name": "stdout",
     "output_type": "stream",
     "text": [
      "mean(data): 5.875\n",
      "median(data): 6.5\n",
      "mode(data): 3\n",
      "multimode(data): [3]\n",
      "median_low(data): 6\n",
      "median_high(data): 7\n"
     ]
    }
   ],
   "source": [
    "data = [1, 3, 3, 6, 7, 8, 9, 10]\n",
    "results = {\n",
    "    \"mean(data)\": stats.mean(data),  # 平均值\n",
    "    \"median(data)\": stats.median(data),  # 中位数\n",
    "    \"mode(data)\": stats.mode(data),  # 众数（最常见的值）\n",
    "    \"multimode(data)\": stats.multimode(data),  # 返回所有众数列表（Python 3.8+）\n",
    "    \"median_low(data)\": stats.median_low(data),  # 取中间偏小\n",
    "    \"median_high(data)\": stats.median_high(data),  # 取中间偏大\n",
    "}\n",
    "for key, value in results.items():\n",
    "    print(f\"{key}: {value}\")"
   ]
  },
  {
   "cell_type": "markdown",
   "id": "9ea7f206",
   "metadata": {},
   "source": [
    "### 离散程度\n"
   ]
  },
  {
   "cell_type": "code",
   "execution_count": 41,
   "id": "9cac03b0",
   "metadata": {},
   "outputs": [
    {
     "name": "stdout",
     "output_type": "stream",
     "text": [
      "样本方差 variance: 10.410714285714286\n",
      "总体方差 pvariance: 9.109375\n",
      "样本标准差 standard deviation: 3.2265638511757806\n",
      "总体标准差 population standard deviation: 3.018174116912409\n"
     ]
    }
   ],
   "source": [
    "results = {\n",
    "    \"样本方差 variance\": stats.variance(data),  # 样本方差（除以n-1）\n",
    "    \"总体方差 pvariance\": stats.pvariance(data),  # 总体方差（除以n）\n",
    "    \"样本标准差 standard deviation\": stats.stdev(data),  # 样本标准差 = sqrt(variance)\n",
    "    \"总体标准差 population standard deviation\": stats.pstdev(\n",
    "        data\n",
    "    ),  # 总体标准差 = sqrt(pvariance)\n",
    "}\n",
    "for key, value in results.items():\n",
    "    print(f\"{key}: {value}\")"
   ]
  },
  {
   "cell_type": "markdown",
   "id": "35590c2f",
   "metadata": {},
   "source": [
    "## numpy 大规模计算工具\n",
    "\n",
    "$\\text{\\color{red}支持大规模数据，数组和矩阵的计算}$\n"
   ]
  },
  {
   "cell_type": "code",
   "execution_count": 47,
   "id": "cf5b4839",
   "metadata": {},
   "outputs": [
    {
     "name": "stdout",
     "output_type": "stream",
     "text": [
      "numpy.mean(data): 2.5\n",
      "numpy.median(data): 2.5\n",
      "numpy.std(data): 1.118033988749895\n",
      "numpy.var(data): 1.25\n",
      "numpy.sqrt(data): [1.         1.41421356 1.73205081 2.        ]\n",
      "numpy.log(data): [0.         0.69314718 1.09861229 1.38629436]\n",
      "numpy.log10(data): [0.         0.30103    0.47712125 0.60205999]\n",
      "numpy.log2(data): [0.        1.        1.5849625 2.       ]\n",
      "numpy.exp(data): [ 2.71828183  7.3890561  20.08553692 54.59815003]\n",
      "numpy.power(data, 2): [ 1  4  9 16]\n",
      "numpy.ceil(data): [1 2 3 4]\n",
      "numpy.floor(data): [1 2 3 4]\n",
      "numpy.trunc(data): [1 2 3 4]\n",
      "numpy.abs(data): [1 2 3 4]\n",
      "numpy.sum(data): 10\n",
      "numpy.prod(data): 24\n",
      "numpy.min(data): 1\n",
      "numpy.max(data): 4\n"
     ]
    }
   ],
   "source": [
    "import numpy as np\n",
    "\n",
    "data = [1, 2, 3, 4]\n",
    "\n",
    "results = {\n",
    "    \"numpy.mean(data)\": np.mean(data),  # 平均值\n",
    "    \"numpy.median(data)\": np.median(data),  # 中位数\n",
    "    \"numpy.std(data)\": np.std(data),  # 标准差\n",
    "    \"numpy.var(data)\": np.var(data),  # 方差\n",
    "    \"numpy.sqrt(data)\": np.sqrt(data),  # 平方根\n",
    "    \"numpy.log(data)\": np.log(data),  # 自然对数\n",
    "    \"numpy.log10(data)\": np.log10(data),  # 以10为底的对数\n",
    "    \"numpy.log2(data)\": np.log2(data),  # 以2为底的对数\n",
    "    \"numpy.exp(data)\": np.exp(data),  # e的x次幂\n",
    "    \"numpy.power(data, 2)\": np.power(data, 2),  # x的y次幂\n",
    "    \"numpy.ceil(data)\": np.ceil(data),  # 向上取整\n",
    "    \"numpy.floor(data)\": np.floor(data),  # 向下取整\n",
    "    \"numpy.trunc(data)\": np.trunc(data),  # 截断为整数（向0取整）\n",
    "    \"numpy.abs(data)\": np.abs(data),  # 绝对值\n",
    "    \"numpy.sum(data)\": np.sum(data),  # 求和\n",
    "    \"numpy.prod(data)\": np.prod(data),  # 乘积\n",
    "    \"numpy.min(data)\": np.min(data),  # 最小值\n",
    "    \"numpy.max(data)\": np.max(data),  # 最大值\n",
    "}\n",
    "for key, value in results.items():\n",
    "    print(f\"{key}: {value}\")\n",
    "import pandas as pd"
   ]
  },
  {
   "cell_type": "markdown",
   "id": "995e9129",
   "metadata": {},
   "source": [
    "## pandas 数据表格\n"
   ]
  },
  {
   "cell_type": "code",
   "execution_count": null,
   "id": "7fd4a342",
   "metadata": {},
   "outputs": [],
   "source": []
  },
  {
   "cell_type": "markdown",
   "id": "c7d6655d",
   "metadata": {},
   "source": [
    "## re, textwrap 字符串处理\n"
   ]
  },
  {
   "cell_type": "code",
   "execution_count": null,
   "id": "160acd5f",
   "metadata": {},
   "outputs": [],
   "source": [
    "import re\n",
    "import textwrap\n",
    "\n",
    "text = \"hello 123 world 456\"\n",
    "print(re.findall(r\"\\d+\", text))  # ['123', '456']\n",
    "print(re.sub(r\"\\d+\", \"X\", text))  # 'hello X world X'\n",
    "\n",
    "wrapped_text = textwrap.wrap(\n",
    "    \"This is a very long sentence that needs wrapping.\", width=10\n",
    ")\n",
    "print(\"\\n\".join(wrapped_text))  # 自动换行"
   ]
  }
 ],
 "metadata": {
  "kernelspec": {
   "display_name": ".venv",
   "language": "python",
   "name": "python3"
  },
  "language_info": {
   "codemirror_mode": {
    "name": "ipython",
    "version": 3
   },
   "file_extension": ".py",
   "mimetype": "text/x-python",
   "name": "python",
   "nbconvert_exporter": "python",
   "pygments_lexer": "ipython3",
   "version": "3.12.7"
  }
 },
 "nbformat": 4,
 "nbformat_minor": 5
}
