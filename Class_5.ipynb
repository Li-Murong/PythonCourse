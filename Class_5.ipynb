{
 "cells": [
  {
   "cell_type": "markdown",
   "id": "3be29440",
   "metadata": {},
   "source": [
    "# 数据处理\n"
   ]
  },
  {
   "cell_type": "markdown",
   "id": "5eb2156b",
   "metadata": {},
   "source": [
    "## math 数学工具\n",
    "\n",
    "$\\text{\\color{red}只适用于单个数值计算}$\n"
   ]
  },
  {
   "cell_type": "markdown",
   "id": "6043bd72",
   "metadata": {},
   "source": [
    "### 特殊数值\n"
   ]
  },
  {
   "cell_type": "code",
   "execution_count": 1,
   "id": "ef04257e",
   "metadata": {},
   "outputs": [
    {
     "name": "stdout",
     "output_type": "stream",
     "text": [
      "pi: 3.141592653589793\n",
      "e: 2.718281828459045\n",
      "tau: 6.283185307179586\n",
      "inf: inf\n",
      "nan: nan\n"
     ]
    }
   ],
   "source": [
    "import math\n",
    "\n",
    "vals = {\n",
    "    \"pi\": math.pi,  # 圆周率，3.141592653589793\n",
    "    \"e\": math.e,  # 自然常数e，2.718281828459045\n",
    "    \"tau\": math.tau,  # 圆周率的两倍（2π）\n",
    "    \"inf\": math.inf,  # 无穷大\n",
    "    \"nan\": math.nan,  # 非数字（Not a Number）\n",
    "}\n",
    "for key, value in vals.items():\n",
    "    print(f\"{key}: {value}\")"
   ]
  },
  {
   "cell_type": "code",
   "execution_count": 2,
   "id": "ef9fae73",
   "metadata": {},
   "outputs": [],
   "source": [
    "from math import (\n",
    "    gcd,\n",
    "    lcm,\n",
    "    factorial,\n",
    "    sqrt,\n",
    "    isqrt,\n",
    "    comb,\n",
    "    ceil,\n",
    "    floor,\n",
    "    trunc,\n",
    "    fabs,\n",
    "    exp,\n",
    "    log,\n",
    "    log2,\n",
    "    log10,\n",
    "    pow,\n",
    ")"
   ]
  },
  {
   "cell_type": "markdown",
   "id": "69b7cdf9",
   "metadata": {},
   "source": [
    "### 数值操作\n"
   ]
  },
  {
   "cell_type": "code",
   "execution_count": 3,
   "id": "e1c74419",
   "metadata": {},
   "outputs": [
    {
     "name": "stdout",
     "output_type": "stream",
     "text": [
      "ceil(x): 13\n",
      "floor(x): 12\n",
      "trunc(x): 12\n",
      "fabs(y): 702.0\n"
     ]
    }
   ],
   "source": [
    "x = 12.23\n",
    "y = 702\n",
    "\n",
    "operations = {\n",
    "    \"ceil(x)\": ceil(x),  # 向上取整\n",
    "    \"floor(x)\": floor(x),  # 向下取整\n",
    "    \"trunc(x)\": trunc(x),  # 截断为整数（向0取整，也是去掉小数）\n",
    "    \"fabs(y)\": fabs(y),  # 绝对值（返回float）\n",
    "}\n",
    "\n",
    "for key, value in operations.items():\n",
    "    print(f\"{key}: {value}\")"
   ]
  },
  {
   "cell_type": "markdown",
   "id": "0a8d6c7d",
   "metadata": {},
   "source": [
    "### math.gcd() 最大公因数 math.lcm() 最小公倍数\n"
   ]
  },
  {
   "cell_type": "code",
   "execution_count": 4,
   "id": "bab97e8b",
   "metadata": {},
   "outputs": [
    {
     "name": "stdout",
     "output_type": "stream",
     "text": [
      "24, 18最大公约数: 6\n",
      "24, 18最小公倍数: 72\n"
     ]
    }
   ],
   "source": [
    "operations = {\n",
    "    \"24, 18最大公约数\": gcd(24, 18),  # 最大公约数（仅限整数）\n",
    "    \"24, 18最小公倍数\": lcm(24, 18),  # 最小公倍数\n",
    "}\n",
    "for key, value in operations.items():\n",
    "    print(f\"{key}: {value}\")"
   ]
  },
  {
   "cell_type": "markdown",
   "id": "bd673588",
   "metadata": {},
   "source": [
    "### 数值计算\n"
   ]
  },
  {
   "cell_type": "code",
   "execution_count": 5,
   "id": "ef2a6ced",
   "metadata": {},
   "outputs": [
    {
     "name": "stdout",
     "output_type": "stream",
     "text": [
      "factorial(x): 3628800\n",
      "exp(x): 22026.465794806718\n",
      "sqrt(x): 3.1622776601683795\n",
      "isqrt(x): 3\n",
      "log(x): 2.302585092994046\n",
      "log10(x): 1.0\n",
      "log2(x): 3.321928094887362\n",
      "pow(x, y): 100.0\n"
     ]
    }
   ],
   "source": [
    "x = 10\n",
    "y = 2\n",
    "operations = {\n",
    "    \"factorial(x)\": factorial(x),  # 120\n",
    "    \"exp(x)\": exp(x),  # e的x次幂\n",
    "    \"sqrt(x)\": sqrt(x),  # 平方根\n",
    "    \"isqrt(x)\": isqrt(x),  # 整数平方根（返回整数）\n",
    "    \"exp(x)\": exp(x),  # e的x次幂\n",
    "    \"log(x)\": log(x),  # 自然对数 ln(x)\n",
    "    \"log10(x)\": log10(x),  # 以10为底的对数\n",
    "    \"log2(x)\": log2(x),  # 以2为底的对数\n",
    "    \"pow(x, y)\": pow(x, y),  # x的y次幂（返回float\n",
    "}\n",
    "for key, value in operations.items():\n",
    "    print(f\"{key}: {value}\")"
   ]
  },
  {
   "cell_type": "markdown",
   "id": "cff67ee4",
   "metadata": {},
   "source": [
    "### math.comb(m,n) 组合\n",
    "\n",
    "实现$C^{n}_{m}$，功能类似于 iterools.combinations()，只不过这个只计算组合数量\n"
   ]
  },
  {
   "cell_type": "code",
   "execution_count": 6,
   "id": "9fabf678",
   "metadata": {},
   "outputs": [
    {
     "name": "stdout",
     "output_type": "stream",
     "text": [
      "10\n"
     ]
    }
   ],
   "source": [
    "print(comb(5, 2))  # 10  (5 选 2 组合)"
   ]
  },
  {
   "cell_type": "markdown",
   "id": "3359f6e3",
   "metadata": {},
   "source": [
    "## statistics 统计工具\n",
    "\n",
    "$\\text{\\color{red}适用于list和tuple小规模计算}$\n"
   ]
  },
  {
   "cell_type": "code",
   "execution_count": 7,
   "id": "783ad785",
   "metadata": {},
   "outputs": [],
   "source": [
    "import statistics as stats  # 统计模块，这种方式导入模块可以给它起个别名"
   ]
  },
  {
   "cell_type": "markdown",
   "id": "f1f02b47",
   "metadata": {},
   "source": [
    "### 中心趋势\n"
   ]
  },
  {
   "cell_type": "code",
   "execution_count": 8,
   "id": "1ef63af7",
   "metadata": {},
   "outputs": [
    {
     "name": "stdout",
     "output_type": "stream",
     "text": [
      "mean(data): 5.875\n",
      "median(data): 6.5\n",
      "mode(data): 3\n",
      "multimode(data): [3]\n",
      "median_low(data): 6\n",
      "median_high(data): 7\n"
     ]
    }
   ],
   "source": [
    "data = [1, 3, 3, 6, 7, 8, 9, 10]\n",
    "results = {\n",
    "    \"mean(data)\": stats.mean(data),  # 平均值\n",
    "    \"median(data)\": stats.median(data),  # 中位数\n",
    "    \"mode(data)\": stats.mode(data),  # 众数（最常见的值）\n",
    "    \"multimode(data)\": stats.multimode(data),  # 返回所有众数列表（Python 3.8+）\n",
    "    \"median_low(data)\": stats.median_low(data),  # 取中间偏小\n",
    "    \"median_high(data)\": stats.median_high(data),  # 取中间偏大\n",
    "}\n",
    "for key, value in results.items():\n",
    "    print(f\"{key}: {value}\")"
   ]
  },
  {
   "cell_type": "markdown",
   "id": "9ea7f206",
   "metadata": {},
   "source": [
    "### 离散程度\n"
   ]
  },
  {
   "cell_type": "code",
   "execution_count": 9,
   "id": "9cac03b0",
   "metadata": {},
   "outputs": [
    {
     "name": "stdout",
     "output_type": "stream",
     "text": [
      "样本方差 variance: 10.410714285714286\n",
      "总体方差 pvariance: 9.109375\n",
      "样本标准差 standard deviation: 3.2265638511757806\n",
      "总体标准差 population standard deviation: 3.018174116912409\n"
     ]
    }
   ],
   "source": [
    "results = {\n",
    "    \"样本方差 variance\": stats.variance(data),  # 样本方差（除以n-1）\n",
    "    \"总体方差 pvariance\": stats.pvariance(data),  # 总体方差（除以n）\n",
    "    \"样本标准差 standard deviation\": stats.stdev(data),  # 样本标准差 = sqrt(variance)\n",
    "    \"总体标准差 population standard deviation\": stats.pstdev(\n",
    "        data\n",
    "    ),  # 总体标准差 = sqrt(pvariance)\n",
    "}\n",
    "for key, value in results.items():\n",
    "    print(f\"{key}: {value}\")"
   ]
  },
  {
   "cell_type": "markdown",
   "id": "35590c2f",
   "metadata": {},
   "source": [
    "## numpy 大规模计算工具\n",
    "\n",
    "$\\text{\\color{red}支持大规模数据，数组和矩阵的计算}$\n"
   ]
  },
  {
   "cell_type": "code",
   "execution_count": 10,
   "id": "cf5b4839",
   "metadata": {},
   "outputs": [
    {
     "name": "stdout",
     "output_type": "stream",
     "text": [
      "numpy.mean(data): 2.5\n",
      "numpy.median(data): 2.5\n",
      "numpy.std(data): 1.118033988749895\n",
      "numpy.var(data): 1.25\n",
      "numpy.sqrt(data): [1.         1.41421356 1.73205081 2.        ]\n",
      "numpy.log(data): [0.         0.69314718 1.09861229 1.38629436]\n",
      "numpy.log10(data): [0.         0.30103    0.47712125 0.60205999]\n",
      "numpy.log2(data): [0.        1.        1.5849625 2.       ]\n",
      "numpy.exp(data): [ 2.71828183  7.3890561  20.08553692 54.59815003]\n",
      "numpy.power(data, 2): [ 1  4  9 16]\n",
      "numpy.ceil(data): [1 2 3 4]\n",
      "numpy.floor(data): [1 2 3 4]\n",
      "numpy.trunc(data): [1 2 3 4]\n",
      "numpy.abs(data): [1 2 3 4]\n",
      "numpy.sum(data): 10\n",
      "numpy.prod(data): 24\n",
      "numpy.min(data): 1\n",
      "numpy.max(data): 4\n"
     ]
    }
   ],
   "source": [
    "import numpy as np\n",
    "\n",
    "data = [1, 2, 3, 4]\n",
    "\n",
    "results = {\n",
    "    \"numpy.mean(data)\": np.mean(data),  # 平均值\n",
    "    \"numpy.median(data)\": np.median(data),  # 中位数\n",
    "    \"numpy.std(data)\": np.std(data),  # 标准差\n",
    "    \"numpy.var(data)\": np.var(data),  # 方差\n",
    "    \"numpy.sqrt(data)\": np.sqrt(data),  # 平方根\n",
    "    \"numpy.log(data)\": np.log(data),  # 自然对数\n",
    "    \"numpy.log10(data)\": np.log10(data),  # 以10为底的对数\n",
    "    \"numpy.log2(data)\": np.log2(data),  # 以2为底的对数\n",
    "    \"numpy.exp(data)\": np.exp(data),  # e的x次幂\n",
    "    \"numpy.power(data, 2)\": np.power(data, 2),  # x的y次幂\n",
    "    \"numpy.ceil(data)\": np.ceil(data),  # 向上取整\n",
    "    \"numpy.floor(data)\": np.floor(data),  # 向下取整\n",
    "    \"numpy.trunc(data)\": np.trunc(data),  # 截断为整数（向0取整）\n",
    "    \"numpy.abs(data)\": np.abs(data),  # 绝对值\n",
    "    \"numpy.sum(data)\": np.sum(data),  # 求和\n",
    "    \"numpy.prod(data)\": np.prod(data),  # 乘积\n",
    "    \"numpy.min(data)\": np.min(data),  # 最小值\n",
    "    \"numpy.max(data)\": np.max(data),  # 最大值\n",
    "}\n",
    "for key, value in results.items():\n",
    "    print(f\"{key}: {value}\")"
   ]
  },
  {
   "cell_type": "markdown",
   "id": "995e9129",
   "metadata": {},
   "source": [
    "## pandas 数据处理库\n"
   ]
  },
  {
   "cell_type": "markdown",
   "id": "1958e799",
   "metadata": {},
   "source": [
    "### Series 一维带标签的数组（类似于 Excel 的一列）\n"
   ]
  },
  {
   "cell_type": "code",
   "execution_count": 11,
   "id": "624e0825",
   "metadata": {},
   "outputs": [
    {
     "name": "stdout",
     "output_type": "stream",
     "text": [
      "0    1\n",
      "1    2\n",
      "2    3\n",
      "dtype: int64\n",
      "1\n"
     ]
    }
   ],
   "source": [
    "import pandas as pd\n",
    "\n",
    "a = pd.Series([1, 2, 3])  # 创建一个Series对象\n",
    "print(a)  # 打印Series对象\n",
    "print(a[0])  # 访问第一个元素"
   ]
  },
  {
   "cell_type": "code",
   "execution_count": 12,
   "id": "f2cde9e0",
   "metadata": {},
   "outputs": [
    {
     "name": "stdout",
     "output_type": "stream",
     "text": [
      "a    10\n",
      "b    20\n",
      "c    30\n",
      "dtype: int64\n"
     ]
    }
   ],
   "source": [
    "# 创建一个带有索引的Series对象\n",
    "s = pd.Series([10, 20, 30], index=[\"a\", \"b\", \"c\"])\n",
    "print(s)"
   ]
  },
  {
   "cell_type": "code",
   "execution_count": 13,
   "id": "e82d9961",
   "metadata": {},
   "outputs": [
    {
     "name": "stdout",
     "output_type": "stream",
     "text": [
      "Index(['a', 'b', 'c'], dtype='object')\n"
     ]
    }
   ],
   "source": [
    "print(s.index)  # 输出索引"
   ]
  },
  {
   "cell_type": "code",
   "execution_count": 14,
   "id": "f8d78512",
   "metadata": {},
   "outputs": [
    {
     "name": "stdout",
     "output_type": "stream",
     "text": [
      "[10 20 30]\n"
     ]
    }
   ],
   "source": [
    "print(s.values)  # 输出值"
   ]
  },
  {
   "cell_type": "code",
   "execution_count": 15,
   "id": "03335ed8",
   "metadata": {},
   "outputs": [
    {
     "name": "stdout",
     "output_type": "stream",
     "text": [
      "10\n"
     ]
    }
   ],
   "source": [
    "print(s[\"a\"])  # 访问索引为\"a\"的值"
   ]
  },
  {
   "cell_type": "code",
   "execution_count": 16,
   "id": "f17a0bd4",
   "metadata": {},
   "outputs": [
    {
     "name": "stdout",
     "output_type": "stream",
     "text": [
      "20\n"
     ]
    },
    {
     "name": "stderr",
     "output_type": "stream",
     "text": [
      "/var/folders/qk/c0kw00px36q2hc_qlg3x21k40000gn/T/ipykernel_68620/4043737563.py:1: FutureWarning: Series.__getitem__ treating keys as positions is deprecated. In a future version, integer keys will always be treated as labels (consistent with DataFrame behavior). To access a value by position, use `ser.iloc[pos]`\n",
      "  print(s[1])  # 访问第二个值\n"
     ]
    }
   ],
   "source": [
    "print(s[1])  # 访问第二个值"
   ]
  },
  {
   "cell_type": "code",
   "execution_count": 17,
   "id": "734ddc13",
   "metadata": {},
   "outputs": [
    {
     "name": "stdout",
     "output_type": "stream",
     "text": [
      "b    20\n",
      "c    30\n",
      "dtype: int64\n"
     ]
    }
   ],
   "source": [
    "print(s[1:])  # 切片访问"
   ]
  },
  {
   "cell_type": "code",
   "execution_count": 18,
   "id": "9c35e83f",
   "metadata": {},
   "outputs": [
    {
     "name": "stdout",
     "output_type": "stream",
     "text": [
      "a    10\n",
      "b    20\n",
      "dtype: int64\n"
     ]
    }
   ],
   "source": [
    "print(s[[\"a\", \"b\"]])  # 访问多个索引"
   ]
  },
  {
   "cell_type": "markdown",
   "id": "92972f7a",
   "metadata": {},
   "source": [
    "### DataFrame 二维表格数据结构\n"
   ]
  },
  {
   "cell_type": "markdown",
   "id": "0621d252",
   "metadata": {},
   "source": [
    "#### DataFrame 创建\n"
   ]
  },
  {
   "cell_type": "code",
   "execution_count": 19,
   "id": "7fd4a342",
   "metadata": {},
   "outputs": [
    {
     "name": "stdout",
     "output_type": "stream",
     "text": [
      "    Name  Age\n",
      "0  Alice   25\n",
      "1    Bob   30\n"
     ]
    }
   ],
   "source": [
    "# 方式一\n",
    "data = {\"Name\": [\"Alice\", \"Bob\"], \"Age\": [25, 30]}\n",
    "df = pd.DataFrame(data)\n",
    "print(df)"
   ]
  },
  {
   "cell_type": "code",
   "execution_count": 20,
   "id": "a172c78a",
   "metadata": {},
   "outputs": [
    {
     "name": "stdout",
     "output_type": "stream",
     "text": [
      "    Name  Age\n",
      "0  Alice   25\n",
      "1    Bob   30\n"
     ]
    }
   ],
   "source": [
    "# 方式二\n",
    "data = [\n",
    "    {\"Name\": \"Alice\", \"Age\": 25},\n",
    "    {\"Name\": \"Bob\", \"Age\": 30},\n",
    "]\n",
    "df = pd.DataFrame(data)\n",
    "print(df)"
   ]
  },
  {
   "cell_type": "code",
   "execution_count": 21,
   "id": "5a7c8af0",
   "metadata": {},
   "outputs": [
    {
     "name": "stdout",
     "output_type": "stream",
     "text": [
      "    Name  Age\n",
      "0  Alice   25\n",
      "1    Bob   30\n"
     ]
    }
   ],
   "source": [
    "# 方式三\n",
    "data = [\n",
    "    [\"Alice\", 25],\n",
    "    [\"Bob\", 30],\n",
    "]\n",
    "columns = [\"Name\", \"Age\"]\n",
    "df = pd.DataFrame(data, columns=columns)\n",
    "print(df)"
   ]
  },
  {
   "cell_type": "markdown",
   "id": "ab6bc077",
   "metadata": {},
   "source": [
    "#### DataFrame 查看数据\n"
   ]
  },
  {
   "cell_type": "markdown",
   "id": "26f72aa3",
   "metadata": {},
   "source": [
    "##### 数据整体描述\n"
   ]
  },
  {
   "cell_type": "code",
   "execution_count": 22,
   "id": "1c7df08d",
   "metadata": {},
   "outputs": [
    {
     "data": {
      "application/vnd.microsoft.datawrangler.viewer.v0+json": {
       "columns": [
        {
         "name": "index",
         "rawType": "int64",
         "type": "integer"
        },
        {
         "name": "Name",
         "rawType": "object",
         "type": "string"
        },
        {
         "name": "Age",
         "rawType": "int64",
         "type": "integer"
        },
        {
         "name": "Salary",
         "rawType": "int64",
         "type": "integer"
        },
        {
         "name": "City",
         "rawType": "object",
         "type": "string"
        }
       ],
       "conversionMethod": "pd.DataFrame",
       "ref": "5039e4d1-e40d-4774-94ce-56129fdf30ae",
       "rows": [
        [
         "0",
         "Alice",
         "25",
         "50000",
         "New York"
        ],
        [
         "1",
         "Bob",
         "30",
         "60000",
         "Los Angeles"
        ],
        [
         "2",
         "Charlie",
         "35",
         "70000",
         "Chicago"
        ],
        [
         "3",
         "Marone",
         "25",
         "80000",
         "Houston"
        ],
        [
         "4",
         "Jack",
         "45",
         "90000",
         "Phoenix"
        ]
       ],
       "shape": {
        "columns": 4,
        "rows": 5
       }
      },
      "text/html": [
       "<div>\n",
       "<style scoped>\n",
       "    .dataframe tbody tr th:only-of-type {\n",
       "        vertical-align: middle;\n",
       "    }\n",
       "\n",
       "    .dataframe tbody tr th {\n",
       "        vertical-align: top;\n",
       "    }\n",
       "\n",
       "    .dataframe thead th {\n",
       "        text-align: right;\n",
       "    }\n",
       "</style>\n",
       "<table border=\"1\" class=\"dataframe\">\n",
       "  <thead>\n",
       "    <tr style=\"text-align: right;\">\n",
       "      <th></th>\n",
       "      <th>Name</th>\n",
       "      <th>Age</th>\n",
       "      <th>Salary</th>\n",
       "      <th>City</th>\n",
       "    </tr>\n",
       "  </thead>\n",
       "  <tbody>\n",
       "    <tr>\n",
       "      <th>0</th>\n",
       "      <td>Alice</td>\n",
       "      <td>25</td>\n",
       "      <td>50000</td>\n",
       "      <td>New York</td>\n",
       "    </tr>\n",
       "    <tr>\n",
       "      <th>1</th>\n",
       "      <td>Bob</td>\n",
       "      <td>30</td>\n",
       "      <td>60000</td>\n",
       "      <td>Los Angeles</td>\n",
       "    </tr>\n",
       "    <tr>\n",
       "      <th>2</th>\n",
       "      <td>Charlie</td>\n",
       "      <td>35</td>\n",
       "      <td>70000</td>\n",
       "      <td>Chicago</td>\n",
       "    </tr>\n",
       "    <tr>\n",
       "      <th>3</th>\n",
       "      <td>Marone</td>\n",
       "      <td>25</td>\n",
       "      <td>80000</td>\n",
       "      <td>Houston</td>\n",
       "    </tr>\n",
       "    <tr>\n",
       "      <th>4</th>\n",
       "      <td>Jack</td>\n",
       "      <td>45</td>\n",
       "      <td>90000</td>\n",
       "      <td>Phoenix</td>\n",
       "    </tr>\n",
       "  </tbody>\n",
       "</table>\n",
       "</div>"
      ],
      "text/plain": [
       "      Name  Age  Salary         City\n",
       "0    Alice   25   50000     New York\n",
       "1      Bob   30   60000  Los Angeles\n",
       "2  Charlie   35   70000      Chicago\n",
       "3   Marone   25   80000      Houston\n",
       "4     Jack   45   90000      Phoenix"
      ]
     },
     "execution_count": 22,
     "metadata": {},
     "output_type": "execute_result"
    }
   ],
   "source": [
    "df = pd.DataFrame(\n",
    "    {\n",
    "        \"Name\": [\"Alice\", \"Bob\", \"Charlie\", \"Marone\", \"Jack\", \"Tom\"],\n",
    "        \"Age\": [25, 30, 35, 25, 45, 50],\n",
    "        \"Salary\": [50000, 60000, 70000, 80000, 90000, 100000],\n",
    "        \"City\": [\n",
    "            \"New York\",\n",
    "            \"Los Angeles\",\n",
    "            \"Chicago\",\n",
    "            \"Houston\",\n",
    "            \"Phoenix\",\n",
    "            \"Philadelphia\",\n",
    "        ],\n",
    "    }\n",
    ")\n",
    "df.head()  # 查看前5行"
   ]
  },
  {
   "cell_type": "code",
   "execution_count": 23,
   "id": "1a9a6cb9",
   "metadata": {},
   "outputs": [
    {
     "data": {
      "application/vnd.microsoft.datawrangler.viewer.v0+json": {
       "columns": [
        {
         "name": "index",
         "rawType": "int64",
         "type": "integer"
        },
        {
         "name": "Name",
         "rawType": "object",
         "type": "string"
        },
        {
         "name": "Age",
         "rawType": "int64",
         "type": "integer"
        },
        {
         "name": "Salary",
         "rawType": "int64",
         "type": "integer"
        },
        {
         "name": "City",
         "rawType": "object",
         "type": "string"
        }
       ],
       "conversionMethod": "pd.DataFrame",
       "ref": "d88d87a5-b724-4a49-aae9-2f806e1ca93a",
       "rows": [
        [
         "3",
         "Marone",
         "25",
         "80000",
         "Houston"
        ],
        [
         "4",
         "Jack",
         "45",
         "90000",
         "Phoenix"
        ],
        [
         "5",
         "Tom",
         "50",
         "100000",
         "Philadelphia"
        ]
       ],
       "shape": {
        "columns": 4,
        "rows": 3
       }
      },
      "text/html": [
       "<div>\n",
       "<style scoped>\n",
       "    .dataframe tbody tr th:only-of-type {\n",
       "        vertical-align: middle;\n",
       "    }\n",
       "\n",
       "    .dataframe tbody tr th {\n",
       "        vertical-align: top;\n",
       "    }\n",
       "\n",
       "    .dataframe thead th {\n",
       "        text-align: right;\n",
       "    }\n",
       "</style>\n",
       "<table border=\"1\" class=\"dataframe\">\n",
       "  <thead>\n",
       "    <tr style=\"text-align: right;\">\n",
       "      <th></th>\n",
       "      <th>Name</th>\n",
       "      <th>Age</th>\n",
       "      <th>Salary</th>\n",
       "      <th>City</th>\n",
       "    </tr>\n",
       "  </thead>\n",
       "  <tbody>\n",
       "    <tr>\n",
       "      <th>3</th>\n",
       "      <td>Marone</td>\n",
       "      <td>25</td>\n",
       "      <td>80000</td>\n",
       "      <td>Houston</td>\n",
       "    </tr>\n",
       "    <tr>\n",
       "      <th>4</th>\n",
       "      <td>Jack</td>\n",
       "      <td>45</td>\n",
       "      <td>90000</td>\n",
       "      <td>Phoenix</td>\n",
       "    </tr>\n",
       "    <tr>\n",
       "      <th>5</th>\n",
       "      <td>Tom</td>\n",
       "      <td>50</td>\n",
       "      <td>100000</td>\n",
       "      <td>Philadelphia</td>\n",
       "    </tr>\n",
       "  </tbody>\n",
       "</table>\n",
       "</div>"
      ],
      "text/plain": [
       "     Name  Age  Salary          City\n",
       "3  Marone   25   80000       Houston\n",
       "4    Jack   45   90000       Phoenix\n",
       "5     Tom   50  100000  Philadelphia"
      ]
     },
     "execution_count": 23,
     "metadata": {},
     "output_type": "execute_result"
    }
   ],
   "source": [
    "df.tail(3)  # 查看后3行"
   ]
  },
  {
   "cell_type": "code",
   "execution_count": 24,
   "id": "1d968a97",
   "metadata": {},
   "outputs": [
    {
     "data": {
      "text/plain": [
       "(6, 4)"
      ]
     },
     "execution_count": 24,
     "metadata": {},
     "output_type": "execute_result"
    }
   ],
   "source": [
    "df.shape  # 查看维度"
   ]
  },
  {
   "cell_type": "code",
   "execution_count": 25,
   "id": "b2814b25",
   "metadata": {},
   "outputs": [
    {
     "name": "stdout",
     "output_type": "stream",
     "text": [
      "<class 'pandas.core.frame.DataFrame'>\n",
      "RangeIndex: 6 entries, 0 to 5\n",
      "Data columns (total 4 columns):\n",
      " #   Column  Non-Null Count  Dtype \n",
      "---  ------  --------------  ----- \n",
      " 0   Name    6 non-null      object\n",
      " 1   Age     6 non-null      int64 \n",
      " 2   Salary  6 non-null      int64 \n",
      " 3   City    6 non-null      object\n",
      "dtypes: int64(2), object(2)\n",
      "memory usage: 324.0+ bytes\n"
     ]
    }
   ],
   "source": [
    "df.info()  # 数据结构概览"
   ]
  },
  {
   "cell_type": "code",
   "execution_count": 26,
   "id": "5b7fc393",
   "metadata": {},
   "outputs": [
    {
     "data": {
      "application/vnd.microsoft.datawrangler.viewer.v0+json": {
       "columns": [
        {
         "name": "index",
         "rawType": "object",
         "type": "string"
        },
        {
         "name": "Age",
         "rawType": "float64",
         "type": "float"
        },
        {
         "name": "Salary",
         "rawType": "float64",
         "type": "float"
        }
       ],
       "conversionMethod": "pd.DataFrame",
       "ref": "7600df80-3f0a-4a2e-9281-e4c7fd040808",
       "rows": [
        [
         "count",
         "6.0",
         "6.0"
        ],
        [
         "mean",
         "35.0",
         "75000.0"
        ],
        [
         "std",
         "10.488088481701515",
         "18708.286933869706"
        ],
        [
         "min",
         "25.0",
         "50000.0"
        ],
        [
         "25%",
         "26.25",
         "62500.0"
        ],
        [
         "50%",
         "32.5",
         "75000.0"
        ],
        [
         "75%",
         "42.5",
         "87500.0"
        ],
        [
         "max",
         "50.0",
         "100000.0"
        ]
       ],
       "shape": {
        "columns": 2,
        "rows": 8
       }
      },
      "text/html": [
       "<div>\n",
       "<style scoped>\n",
       "    .dataframe tbody tr th:only-of-type {\n",
       "        vertical-align: middle;\n",
       "    }\n",
       "\n",
       "    .dataframe tbody tr th {\n",
       "        vertical-align: top;\n",
       "    }\n",
       "\n",
       "    .dataframe thead th {\n",
       "        text-align: right;\n",
       "    }\n",
       "</style>\n",
       "<table border=\"1\" class=\"dataframe\">\n",
       "  <thead>\n",
       "    <tr style=\"text-align: right;\">\n",
       "      <th></th>\n",
       "      <th>Age</th>\n",
       "      <th>Salary</th>\n",
       "    </tr>\n",
       "  </thead>\n",
       "  <tbody>\n",
       "    <tr>\n",
       "      <th>count</th>\n",
       "      <td>6.000000</td>\n",
       "      <td>6.000000</td>\n",
       "    </tr>\n",
       "    <tr>\n",
       "      <th>mean</th>\n",
       "      <td>35.000000</td>\n",
       "      <td>75000.000000</td>\n",
       "    </tr>\n",
       "    <tr>\n",
       "      <th>std</th>\n",
       "      <td>10.488088</td>\n",
       "      <td>18708.286934</td>\n",
       "    </tr>\n",
       "    <tr>\n",
       "      <th>min</th>\n",
       "      <td>25.000000</td>\n",
       "      <td>50000.000000</td>\n",
       "    </tr>\n",
       "    <tr>\n",
       "      <th>25%</th>\n",
       "      <td>26.250000</td>\n",
       "      <td>62500.000000</td>\n",
       "    </tr>\n",
       "    <tr>\n",
       "      <th>50%</th>\n",
       "      <td>32.500000</td>\n",
       "      <td>75000.000000</td>\n",
       "    </tr>\n",
       "    <tr>\n",
       "      <th>75%</th>\n",
       "      <td>42.500000</td>\n",
       "      <td>87500.000000</td>\n",
       "    </tr>\n",
       "    <tr>\n",
       "      <th>max</th>\n",
       "      <td>50.000000</td>\n",
       "      <td>100000.000000</td>\n",
       "    </tr>\n",
       "  </tbody>\n",
       "</table>\n",
       "</div>"
      ],
      "text/plain": [
       "             Age         Salary\n",
       "count   6.000000       6.000000\n",
       "mean   35.000000   75000.000000\n",
       "std    10.488088   18708.286934\n",
       "min    25.000000   50000.000000\n",
       "25%    26.250000   62500.000000\n",
       "50%    32.500000   75000.000000\n",
       "75%    42.500000   87500.000000\n",
       "max    50.000000  100000.000000"
      ]
     },
     "execution_count": 26,
     "metadata": {},
     "output_type": "execute_result"
    }
   ],
   "source": [
    "df.describe()  # 数值列的统计描述"
   ]
  },
  {
   "cell_type": "markdown",
   "id": "50641789",
   "metadata": {},
   "source": [
    "##### 查看列数据\n"
   ]
  },
  {
   "cell_type": "code",
   "execution_count": 27,
   "id": "b426ceac",
   "metadata": {},
   "outputs": [
    {
     "name": "stdout",
     "output_type": "stream",
     "text": [
      "0      Alice\n",
      "1        Bob\n",
      "2    Charlie\n",
      "3     Marone\n",
      "4       Jack\n",
      "5        Tom\n",
      "Name: Name, dtype: object\n",
      "0    25\n",
      "1    30\n",
      "2    35\n",
      "3    25\n",
      "4    45\n",
      "5    50\n",
      "Name: Age, dtype: int64\n"
     ]
    }
   ],
   "source": [
    "# 查看某一列数据\n",
    "print(df[\"Name\"])  # 打印姓名列\n",
    "print(df.Age)  # 打印年龄列"
   ]
  },
  {
   "cell_type": "code",
   "execution_count": 28,
   "id": "5242bede",
   "metadata": {},
   "outputs": [
    {
     "name": "stdout",
     "output_type": "stream",
     "text": [
      "      Name  Age\n",
      "0    Alice   25\n",
      "1      Bob   30\n",
      "2  Charlie   35\n",
      "3   Marone   25\n",
      "4     Jack   45\n",
      "5      Tom   50\n"
     ]
    }
   ],
   "source": [
    "# 查看多列数据\n",
    "print(df[[\"Name\", \"Age\"]])  # 打印姓名和年龄列"
   ]
  },
  {
   "cell_type": "code",
   "execution_count": 29,
   "id": "cea85d45",
   "metadata": {},
   "outputs": [
    {
     "data": {
      "text/plain": [
       "count     6.000000\n",
       "mean     35.000000\n",
       "std      10.488088\n",
       "min      25.000000\n",
       "25%      26.250000\n",
       "50%      32.500000\n",
       "75%      42.500000\n",
       "max      50.000000\n",
       "Name: Age, dtype: float64"
      ]
     },
     "execution_count": 29,
     "metadata": {},
     "output_type": "execute_result"
    }
   ],
   "source": [
    "# 查看特定列的统计描述\n",
    "df[\"Age\"].describe()  # 年龄列的统计描述"
   ]
  },
  {
   "cell_type": "markdown",
   "id": "715c4b32",
   "metadata": {},
   "source": [
    "##### 查看行数据\n"
   ]
  },
  {
   "cell_type": "markdown",
   "id": "9d5abe77",
   "metadata": {},
   "source": [
    "**`.iloc[]`**\n",
    "\n",
    "是基于位置索引查找，不包含结束位置\n"
   ]
  },
  {
   "cell_type": "code",
   "execution_count": 30,
   "id": "8d45b971",
   "metadata": {},
   "outputs": [
    {
     "name": "stdout",
     "output_type": "stream",
     "text": [
      "Name         Alice\n",
      "Age             25\n",
      "Salary       50000\n",
      "City      New York\n",
      "Name: 0, dtype: object\n"
     ]
    }
   ],
   "source": [
    "# 查看行数据\n",
    "print(df.iloc[0])  # 打印第一行数据"
   ]
  },
  {
   "cell_type": "code",
   "execution_count": 31,
   "id": "44db65e0",
   "metadata": {},
   "outputs": [
    {
     "name": "stdout",
     "output_type": "stream",
     "text": [
      "      Name  Age  Salary         City\n",
      "1      Bob   30   60000  Los Angeles\n",
      "2  Charlie   35   70000      Chicago\n"
     ]
    }
   ],
   "source": [
    "print(df.iloc[1:3])  # 打印第二到第三行数据"
   ]
  },
  {
   "cell_type": "code",
   "execution_count": 32,
   "id": "f992c4b5",
   "metadata": {},
   "outputs": [
    {
     "name": "stdout",
     "output_type": "stream",
     "text": [
      "      Name  Age  Salary      City\n",
      "0    Alice   25   50000  New York\n",
      "2  Charlie   35   70000   Chicago\n",
      "4     Jack   45   90000   Phoenix\n"
     ]
    }
   ],
   "source": [
    "print(df.iloc[[0, 2, 4]])  # 打印第一、第三和第五行数据"
   ]
  },
  {
   "cell_type": "code",
   "execution_count": 33,
   "id": "2340e4ea",
   "metadata": {},
   "outputs": [
    {
     "name": "stdout",
     "output_type": "stream",
     "text": [
      "0      Alice\n",
      "1        Bob\n",
      "2    Charlie\n",
      "3     Marone\n",
      "4       Jack\n",
      "5        Tom\n",
      "Name: Name, dtype: object\n"
     ]
    }
   ],
   "source": [
    "print(df.iloc[:, 0])  # 打印第一列数据"
   ]
  },
  {
   "cell_type": "code",
   "execution_count": 34,
   "id": "b9a4c6b0",
   "metadata": {},
   "outputs": [
    {
     "name": "stdout",
     "output_type": "stream",
     "text": [
      "   Age  Salary\n",
      "0   25   50000\n",
      "1   30   60000\n",
      "2   35   70000\n",
      "3   25   80000\n",
      "4   45   90000\n",
      "5   50  100000\n"
     ]
    }
   ],
   "source": [
    "print(df.iloc[:, 1:3])  # 打印第二到第三列数据"
   ]
  },
  {
   "cell_type": "code",
   "execution_count": 35,
   "id": "e745a466",
   "metadata": {},
   "outputs": [
    {
     "name": "stdout",
     "output_type": "stream",
     "text": [
      "      Name  Salary\n",
      "0    Alice   50000\n",
      "1      Bob   60000\n",
      "2  Charlie   70000\n",
      "3   Marone   80000\n",
      "4     Jack   90000\n",
      "5      Tom  100000\n"
     ]
    }
   ],
   "source": [
    "print(df.iloc[:, [0, 2]])  # 打印第一和第三列数据"
   ]
  },
  {
   "cell_type": "code",
   "execution_count": 36,
   "id": "2aa927f7",
   "metadata": {},
   "outputs": [
    {
     "name": "stdout",
     "output_type": "stream",
     "text": [
      "   Age  Salary\n",
      "0   25   50000\n",
      "1   30   60000\n",
      "2   35   70000\n"
     ]
    }
   ],
   "source": [
    "print(df.iloc[0:3, 1:3])  # 打印第一到第三行和第二到第三列的数据"
   ]
  },
  {
   "cell_type": "code",
   "execution_count": 37,
   "id": "1d87e93a",
   "metadata": {},
   "outputs": [
    {
     "name": "stdout",
     "output_type": "stream",
     "text": [
      "   Age      City\n",
      "0   25  New York\n",
      "2   35   Chicago\n"
     ]
    }
   ],
   "source": [
    "print(df.iloc[[0, 2], [1, 3]])  # 打印第一和第三行的第二和第四列数据"
   ]
  },
  {
   "cell_type": "code",
   "execution_count": 38,
   "id": "146a523b",
   "metadata": {},
   "outputs": [
    {
     "name": "stdout",
     "output_type": "stream",
     "text": [
      "   Age         City\n",
      "0   25     New York\n",
      "1   30  Los Angeles\n",
      "2   35      Chicago\n"
     ]
    }
   ],
   "source": [
    "print(df.iloc[0:3, [1, 3]])  # 打印第一到第三行的第二和第四列数据"
   ]
  },
  {
   "cell_type": "markdown",
   "id": "2fccc55d",
   "metadata": {},
   "source": [
    "**`.loc[]`**\n",
    "\n",
    "是基于标签查找，包含结束位置，使用行列名\n"
   ]
  },
  {
   "cell_type": "code",
   "execution_count": 39,
   "id": "c366409e",
   "metadata": {},
   "outputs": [
    {
     "name": "stdout",
     "output_type": "stream",
     "text": [
      "[0 1 2 3 4 5]\n",
      "      Name  Age  Salary          City\n",
      "0    Alice   25   50000      New York\n",
      "1      Bob   30   60000   Los Angeles\n",
      "2  Charlie   35   70000       Chicago\n",
      "我   Marone   25   80000       Houston\n",
      "4     Jack   45   90000       Phoenix\n",
      "5      Tom   50  100000  Philadelphia\n"
     ]
    },
    {
     "data": {
      "application/vnd.microsoft.datawrangler.viewer.v0+json": {
       "columns": [
        {
         "name": "index",
         "rawType": "object",
         "type": "unknown"
        },
        {
         "name": "Name",
         "rawType": "object",
         "type": "string"
        },
        {
         "name": "Age",
         "rawType": "int64",
         "type": "integer"
        },
        {
         "name": "Salary",
         "rawType": "int64",
         "type": "integer"
        },
        {
         "name": "City",
         "rawType": "object",
         "type": "string"
        }
       ],
       "conversionMethod": "pd.DataFrame",
       "ref": "879fe4d0-fb95-408d-917c-9c1517dd1dc2",
       "rows": [
        [
         "0",
         "Alice",
         "25",
         "50000",
         "New York"
        ],
        [
         "1",
         "Bob",
         "30",
         "60000",
         "Los Angeles"
        ],
        [
         "2",
         "Charlie",
         "35",
         "70000",
         "Chicago"
        ],
        [
         "我",
         "Marone",
         "25",
         "80000",
         "Houston"
        ],
        [
         "4",
         "Jack",
         "45",
         "90000",
         "Phoenix"
        ],
        [
         "5",
         "Tom",
         "50",
         "100000",
         "Philadelphia"
        ]
       ],
       "shape": {
        "columns": 4,
        "rows": 6
       }
      },
      "text/html": [
       "<div>\n",
       "<style scoped>\n",
       "    .dataframe tbody tr th:only-of-type {\n",
       "        vertical-align: middle;\n",
       "    }\n",
       "\n",
       "    .dataframe tbody tr th {\n",
       "        vertical-align: top;\n",
       "    }\n",
       "\n",
       "    .dataframe thead th {\n",
       "        text-align: right;\n",
       "    }\n",
       "</style>\n",
       "<table border=\"1\" class=\"dataframe\">\n",
       "  <thead>\n",
       "    <tr style=\"text-align: right;\">\n",
       "      <th></th>\n",
       "      <th>Name</th>\n",
       "      <th>Age</th>\n",
       "      <th>Salary</th>\n",
       "      <th>City</th>\n",
       "    </tr>\n",
       "  </thead>\n",
       "  <tbody>\n",
       "    <tr>\n",
       "      <th>0</th>\n",
       "      <td>Alice</td>\n",
       "      <td>25</td>\n",
       "      <td>50000</td>\n",
       "      <td>New York</td>\n",
       "    </tr>\n",
       "    <tr>\n",
       "      <th>1</th>\n",
       "      <td>Bob</td>\n",
       "      <td>30</td>\n",
       "      <td>60000</td>\n",
       "      <td>Los Angeles</td>\n",
       "    </tr>\n",
       "    <tr>\n",
       "      <th>2</th>\n",
       "      <td>Charlie</td>\n",
       "      <td>35</td>\n",
       "      <td>70000</td>\n",
       "      <td>Chicago</td>\n",
       "    </tr>\n",
       "    <tr>\n",
       "      <th>我</th>\n",
       "      <td>Marone</td>\n",
       "      <td>25</td>\n",
       "      <td>80000</td>\n",
       "      <td>Houston</td>\n",
       "    </tr>\n",
       "    <tr>\n",
       "      <th>4</th>\n",
       "      <td>Jack</td>\n",
       "      <td>45</td>\n",
       "      <td>90000</td>\n",
       "      <td>Phoenix</td>\n",
       "    </tr>\n",
       "    <tr>\n",
       "      <th>5</th>\n",
       "      <td>Tom</td>\n",
       "      <td>50</td>\n",
       "      <td>100000</td>\n",
       "      <td>Philadelphia</td>\n",
       "    </tr>\n",
       "  </tbody>\n",
       "</table>\n",
       "</div>"
      ],
      "text/plain": [
       "      Name  Age  Salary          City\n",
       "0    Alice   25   50000      New York\n",
       "1      Bob   30   60000   Los Angeles\n",
       "2  Charlie   35   70000       Chicago\n",
       "我   Marone   25   80000       Houston\n",
       "4     Jack   45   90000       Phoenix\n",
       "5      Tom   50  100000  Philadelphia"
      ]
     },
     "execution_count": 39,
     "metadata": {},
     "output_type": "execute_result"
    }
   ],
   "source": [
    "print(df.index.values)  # 查看索引值： [0 1 2 3 4 5]\n",
    "df = df.rename(index={3: \"我\"})  # 修改索引\n",
    "print(df)\n",
    "df"
   ]
  },
  {
   "cell_type": "code",
   "execution_count": 40,
   "id": "b79d15f3",
   "metadata": {},
   "outputs": [
    {
     "data": {
      "text/plain": [
       "Name       Marone\n",
       "Age            25\n",
       "Salary      80000\n",
       "City      Houston\n",
       "Name: 我, dtype: object"
      ]
     },
     "execution_count": 40,
     "metadata": {},
     "output_type": "execute_result"
    }
   ],
   "source": [
    "df.loc[\"我\"]  # 查看索引为\"我\"的行数据"
   ]
  },
  {
   "cell_type": "code",
   "execution_count": 41,
   "id": "53305767",
   "metadata": {},
   "outputs": [
    {
     "data": {
      "text/plain": [
       "'Marone'"
      ]
     },
     "execution_count": 41,
     "metadata": {},
     "output_type": "execute_result"
    }
   ],
   "source": [
    "df.loc[\"我\", \"Name\"]  # 查看索引为\"我\"的行数据的姓名列数据"
   ]
  },
  {
   "cell_type": "code",
   "execution_count": 42,
   "id": "e23ada5a",
   "metadata": {},
   "outputs": [
    {
     "data": {
      "text/plain": [
       "Name      Marone\n",
       "Age           25\n",
       "Salary     80000\n",
       "Name: 我, dtype: object"
      ]
     },
     "execution_count": 42,
     "metadata": {},
     "output_type": "execute_result"
    }
   ],
   "source": [
    "df.loc[\"我\", \"Name\":\"Salary\"]  # 查看索引为\"我\"的行数据的姓名到薪水列数据"
   ]
  },
  {
   "cell_type": "markdown",
   "id": "151c511a",
   "metadata": {},
   "source": [
    "#### DataFrame 编辑\n"
   ]
  },
  {
   "cell_type": "code",
   "execution_count": 43,
   "id": "ede514d1",
   "metadata": {},
   "outputs": [
    {
     "name": "stdout",
     "output_type": "stream",
     "text": [
      "      Name  Age  Salary          City\n",
      "0    Alice   25   50000      New York\n",
      "1      Bob   30   60000   Los Angeles\n",
      "2  Charlie   35   70000       Chicago\n",
      "我   Marone   25   80000       Houston\n",
      "4     Jack   45   90000       Phoenix\n",
      "5      Tom   50  100000  Philadelphia\n"
     ]
    }
   ],
   "source": [
    "print(df)  # 查看所有数据"
   ]
  },
  {
   "cell_type": "markdown",
   "id": "03789e74",
   "metadata": {},
   "source": [
    "##### 索引编辑\n"
   ]
  },
  {
   "cell_type": "markdown",
   "id": "2a9a59ab",
   "metadata": {},
   "source": [
    "替换某一列为索引\n"
   ]
  },
  {
   "cell_type": "code",
   "execution_count": 44,
   "id": "ecf5d879",
   "metadata": {},
   "outputs": [
    {
     "name": "stdout",
     "output_type": "stream",
     "text": [
      "         Age  Salary          City\n",
      "Name                              \n",
      "Alice     25   50000      New York\n",
      "Bob       30   60000   Los Angeles\n",
      "Charlie   35   70000       Chicago\n",
      "Marone    25   80000       Houston\n",
      "Jack      45   90000       Phoenix\n",
      "Tom       50  100000  Philadelphia\n",
      "Index(['Alice', 'Bob', 'Charlie', 'Marone', 'Jack', 'Tom'], dtype='object', name='Name')\n"
     ]
    }
   ],
   "source": [
    "df.set_index(\"Name\", inplace=True)  # 将姓名列设置为索引\n",
    "print(df)  # 查看数据\n",
    "print(df.index)  # 查看索引"
   ]
  },
  {
   "cell_type": "markdown",
   "id": "eed5d6a8",
   "metadata": {},
   "source": [
    "还原索引\n"
   ]
  },
  {
   "cell_type": "code",
   "execution_count": 45,
   "id": "c4979667",
   "metadata": {},
   "outputs": [
    {
     "name": "stdout",
     "output_type": "stream",
     "text": [
      "旧数据:\n",
      "         Age  Salary          City\n",
      "Name                              \n",
      "Alice     25   50000      New York\n",
      "Bob       30   60000   Los Angeles\n",
      "Charlie   35   70000       Chicago\n",
      "Marone    25   80000       Houston\n",
      "Jack      45   90000       Phoenix\n",
      "Tom       50  100000  Philadelphia\n",
      "\n",
      "\n",
      "新数据:\n",
      "      Name  Age  Salary          City\n",
      "0    Alice   25   50000      New York\n",
      "1      Bob   30   60000   Los Angeles\n",
      "2  Charlie   35   70000       Chicago\n",
      "3   Marone   25   80000       Houston\n",
      "4     Jack   45   90000       Phoenix\n",
      "5      Tom   50  100000  Philadelphia\n"
     ]
    }
   ],
   "source": [
    "df_reset = df.reset_index()  # 重置索引\n",
    "print(\"旧数据:\")\n",
    "print(df)  # 查看旧数据\n",
    "print(\"\\n\")\n",
    "print(\"新数据:\")\n",
    "print(df_reset)  # 查看新数据"
   ]
  },
  {
   "cell_type": "markdown",
   "id": "e01c0b3e",
   "metadata": {},
   "source": [
    "##### 内容编辑\n"
   ]
  },
  {
   "cell_type": "markdown",
   "id": "1c8c0527",
   "metadata": {},
   "source": [
    "编辑内容\n"
   ]
  },
  {
   "cell_type": "code",
   "execution_count": 46,
   "id": "5bcb40b2",
   "metadata": {},
   "outputs": [
    {
     "name": "stdout",
     "output_type": "stream",
     "text": [
      "      Name  Age  Salary          City\n",
      "0    Alice   25   50000      New York\n",
      "1      Bob   30   60000   Los Angeles\n",
      "2  Charlie   35   70000       Chicago\n",
      "3   Marone   25   80000     Guangzhou\n",
      "4     Jack   45   90000       Phoenix\n",
      "5      Tom   50  100000  Philadelphia\n",
      "\n",
      "\n",
      "      Name  Age  Salary          City\n",
      "0    Alice   25   50000      New York\n",
      "1      Bob   30   60000   Los Angeles\n",
      "2  Charlie   35   70000       Chicago\n",
      "3   Marone   25   80000     Guangzhou\n",
      "4     Jack   45   90000      Shenzhen\n",
      "5      Tom   50  100000  Philadelphia\n"
     ]
    },
    {
     "name": "stderr",
     "output_type": "stream",
     "text": [
      "/var/folders/qk/c0kw00px36q2hc_qlg3x21k40000gn/T/ipykernel_68620/589345846.py:10: FutureWarning: ChainedAssignmentError: behaviour will change in pandas 3.0!\n",
      "You are setting values through chained assignment. Currently this works in certain cases, but when using Copy-on-Write (which will become the default behaviour in pandas 3.0) this will never work to update the original DataFrame or Series, because the intermediate object on which we are setting values will behave as a copy.\n",
      "A typical example is when you are setting values in a column of a DataFrame, like:\n",
      "\n",
      "df[\"col\"][row_indexer] = value\n",
      "\n",
      "Use `df.loc[row_indexer, \"col\"] = values` instead, to perform the assignment in a single step and ensure this keeps updating the original `df`.\n",
      "\n",
      "See the caveats in the documentation: https://pandas.pydata.org/pandas-docs/stable/user_guide/indexing.html#returning-a-view-versus-a-copy\n",
      "\n",
      "  df[\"City\"][4] = \"Shenzhen\"\n",
      "/var/folders/qk/c0kw00px36q2hc_qlg3x21k40000gn/T/ipykernel_68620/589345846.py:10: SettingWithCopyWarning: \n",
      "A value is trying to be set on a copy of a slice from a DataFrame\n",
      "\n",
      "See the caveats in the documentation: https://pandas.pydata.org/pandas-docs/stable/user_guide/indexing.html#returning-a-view-versus-a-copy\n",
      "  df[\"City\"][4] = \"Shenzhen\"\n"
     ]
    }
   ],
   "source": [
    "# 修改某个值\n",
    "# 方式一\n",
    "df = df_reset\n",
    "df.loc[3, \"City\"] = \"Guangzhou\"\n",
    "print(df)  # 查看数据\n",
    "\n",
    "print(\"\\n\")\n",
    "\n",
    "# 方式二（不推荐）\n",
    "df[\"City\"][4] = \"Shenzhen\"\n",
    "print(df)  # 查看数据"
   ]
  },
  {
   "cell_type": "code",
   "execution_count": 47,
   "id": "fa6779db",
   "metadata": {},
   "outputs": [
    {
     "name": "stdout",
     "output_type": "stream",
     "text": [
      "     Name  Age  Salary          City\n",
      "0   Alice   25   50000      New York\n",
      "1     Bob   30   60000   Los Angeles\n",
      "2    YiYi   21   80000      Hangzhou\n",
      "3  Marone   25   80000     Guangzhou\n",
      "4    Jack   45   90000      Shenzhen\n",
      "5     Tom   50  100000  Philadelphia\n"
     ]
    }
   ],
   "source": [
    "# 修改一行\n",
    "df.loc[2] = [\"YiYi\", 21, 80000, \"Hangzhou\"]\n",
    "print(df)  # 查看数据"
   ]
  },
  {
   "cell_type": "code",
   "execution_count": 48,
   "id": "d0ebf21c",
   "metadata": {},
   "outputs": [
    {
     "name": "stdout",
     "output_type": "stream",
     "text": [
      "     Name  Age  Salary          City\n",
      "0   Alice   25   50000      New York\n",
      "1     Bob   30   60000   Los Angeles\n",
      "2    YiYi   21   80000      Hangzhou\n",
      "3  Marone   25   80000     Guangzhou\n",
      "4    Jack   45   90000      Shenzhen\n",
      "5     Tom   50  100000  Philadelphia\n",
      "6    Tony   28   90000       Beijing\n"
     ]
    }
   ],
   "source": [
    "# 增加一行\n",
    "df.loc[6] = [\"Tony\", 28, 90000, \"Beijing\"]\n",
    "print(df)  # 查看数据"
   ]
  },
  {
   "cell_type": "code",
   "execution_count": 49,
   "id": "8362d6eb",
   "metadata": {},
   "outputs": [
    {
     "name": "stdout",
     "output_type": "stream",
     "text": [
      "     Name  Age  Salary       City\n",
      "2    YiYi   21   80000   Hangzhou\n",
      "3  Marone   25   80000  Guangzhou\n",
      "4    Jack   45   90000   Shenzhen\n",
      "6    Tony   28   90000    Beijing\n"
     ]
    }
   ],
   "source": [
    "# 删除一行\n",
    "df.drop(index=1, inplace=True)  # 删除索引为1的行，用index参数表示删除行\n",
    "df.drop(\n",
    "    [0, 5], axis=0, inplace=True\n",
    ")  # 删除索引为0和5的行，inplace=True表示在原数据上修改，否则会返回一个新的数据\n",
    "print(df)  # 查看数据"
   ]
  },
  {
   "cell_type": "code",
   "execution_count": 50,
   "id": "e0212882",
   "metadata": {},
   "outputs": [
    {
     "name": "stdout",
     "output_type": "stream",
     "text": [
      "     Name  Age  Salary       City\n",
      "0    YiYi   21   80000   Hangzhou\n",
      "1  Marone   25   80000  Guangzhou\n",
      "2    Jack   45   90000   Shenzhen\n",
      "3    Tony   28   90000    Beijing\n"
     ]
    }
   ],
   "source": [
    "# 此时索引不连续了，可以重置索引\n",
    "df = df.reset_index(drop=True)  # 重置索引，drop=True表示不保留旧索引\n",
    "print(df)  # 查看数据"
   ]
  },
  {
   "cell_type": "code",
   "execution_count": 51,
   "id": "1486f06b",
   "metadata": {},
   "outputs": [
    {
     "name": "stdout",
     "output_type": "stream",
     "text": [
      "     Name  Age  Salary       City\n",
      "0    YiYi   22   80000   Hangzhou\n",
      "1  Marone   26   80000  Guangzhou\n",
      "2    Jack   46   90000   Shenzhen\n",
      "3    Tony   29   90000    Beijing\n"
     ]
    }
   ],
   "source": [
    "# 修改一列\n",
    "df[\"Age\"] = df[\"Age\"] + 1  # 年龄加1\n",
    "print(df)  # 查看数据"
   ]
  },
  {
   "cell_type": "code",
   "execution_count": 52,
   "id": "03688286",
   "metadata": {},
   "outputs": [
    {
     "name": "stdout",
     "output_type": "stream",
     "text": [
      "     Name  Age  Salary       City  test 年龄段\n",
      "0    YiYi   22   80000   Hangzhou  1223  青年\n",
      "1  Marone   26   80000  Guangzhou  1223  青年\n",
      "2    Jack   46   90000   Shenzhen  1223  中年\n",
      "3    Tony   29   90000    Beijing  1223  青年\n"
     ]
    }
   ],
   "source": [
    "# 增加一列\n",
    "df[\"test\"] = 1223\n",
    "df[\"年龄段\"] = df[\"Age\"].apply(\n",
    "    lambda x: \"青年\" if x < 30 else (\"中年\" if x < 50 else \"老年\")\n",
    ")\n",
    "print(df)  # 查看数据"
   ]
  },
  {
   "cell_type": "code",
   "execution_count": 53,
   "id": "599cc0d4",
   "metadata": {},
   "outputs": [
    {
     "name": "stdout",
     "output_type": "stream",
     "text": [
      "     Name  Age       City 年龄段\n",
      "0    YiYi   22   Hangzhou  青年\n",
      "1  Marone   26  Guangzhou  青年\n",
      "2    Jack   46   Shenzhen  中年\n",
      "3    Tony   29    Beijing  青年\n"
     ]
    }
   ],
   "source": [
    "# 删除一列\n",
    "df.drop(columns=\"Salary\", inplace=True)  # 删除薪水列\n",
    "df.drop(\"test\", axis=1, inplace=True)  # 当axis = 1时删除列，删除test列\n",
    "print(df)  # 查看数据"
   ]
  },
  {
   "cell_type": "markdown",
   "id": "a2ab72f7",
   "metadata": {},
   "source": [
    "##### 缺失值编辑 (缺失值：Null, NaN)\n"
   ]
  },
  {
   "cell_type": "markdown",
   "id": "bb67aa6d",
   "metadata": {},
   "source": [
    "缺失值处理\n"
   ]
  },
  {
   "cell_type": "code",
   "execution_count": 54,
   "id": "01bfec87",
   "metadata": {},
   "outputs": [
    {
     "name": "stdout",
     "output_type": "stream",
     "text": [
      "     Name   Age       City  年龄段\n",
      "0    YiYi  22.0   Hangzhou   青年\n",
      "1  Marone  26.0  Guangzhou   青年\n",
      "2    Jack   NaN   Shenzhen   中年\n",
      "3    Tony  29.0    Beijing  NaN\n"
     ]
    }
   ],
   "source": [
    "df.loc[2, \"Age\"] = np.nan  # 将第三行的年龄设置为缺失值\n",
    "df.loc[3, \"年龄段\"] = np.nan  # 将第四行的年龄段设置为缺失值\n",
    "print(df)  # 查看数据"
   ]
  },
  {
   "cell_type": "code",
   "execution_count": 55,
   "id": "c5514d2d",
   "metadata": {},
   "outputs": [
    {
     "name": "stdout",
     "output_type": "stream",
     "text": [
      "    Name    Age   City    年龄段\n",
      "0  False  False  False  False\n",
      "1  False  False  False  False\n",
      "2  False   True  False  False\n",
      "3  False  False  False   True\n"
     ]
    }
   ],
   "source": [
    "# 查找缺失值\n",
    "print(df.isna())  # 查看缺失值"
   ]
  },
  {
   "cell_type": "code",
   "execution_count": 56,
   "id": "de0f019a",
   "metadata": {},
   "outputs": [
    {
     "name": "stdout",
     "output_type": "stream",
     "text": [
      "Name    False\n",
      "Age      True\n",
      "City    False\n",
      "年龄段      True\n",
      "dtype: bool\n"
     ]
    }
   ],
   "source": [
    "# 逐列查找\n",
    "print(df.isna().any())  # 查看每列是否有缺失值，.any()表示一列中有一个True就返回True"
   ]
  },
  {
   "cell_type": "code",
   "execution_count": 57,
   "id": "c22021a2",
   "metadata": {},
   "outputs": [
    {
     "name": "stdout",
     "output_type": "stream",
     "text": [
      "0    False\n",
      "1    False\n",
      "2     True\n",
      "3     True\n",
      "dtype: bool\n"
     ]
    }
   ],
   "source": [
    "# 逐行查找\n",
    "print(\n",
    "    df.isna().any(axis=1)\n",
    ")  # 查看每行是否有缺失值，.any(axis=1)表示一行中有一个True就返回True"
   ]
  },
  {
   "cell_type": "code",
   "execution_count": 58,
   "id": "e881adcd",
   "metadata": {},
   "outputs": [
    {
     "name": "stdout",
     "output_type": "stream",
     "text": [
      "     Name   Age       City  年龄段\n",
      "0    YiYi  22.0   Hangzhou   青年\n",
      "1  Marone  26.0  Guangzhou   青年\n",
      "2    Jack   0.0   Shenzhen   中年\n",
      "3    Tony  29.0    Beijing  NaN\n"
     ]
    },
    {
     "name": "stderr",
     "output_type": "stream",
     "text": [
      "/var/folders/qk/c0kw00px36q2hc_qlg3x21k40000gn/T/ipykernel_68620/527016454.py:2: FutureWarning: A value is trying to be set on a copy of a DataFrame or Series through chained assignment using an inplace method.\n",
      "The behavior will change in pandas 3.0. This inplace method will never work because the intermediate object on which we are setting values always behaves as a copy.\n",
      "\n",
      "For example, when doing 'df[col].method(value, inplace=True)', try using 'df.method({col: value}, inplace=True)' or df[col] = df[col].method(value) instead, to perform the operation inplace on the original object.\n",
      "\n",
      "\n",
      "  df[\"Age\"].fillna(0, inplace=True)  # 将缺失值替换为0\n"
     ]
    }
   ],
   "source": [
    "# 替换缺失值\n",
    "df[\"Age\"].fillna(0, inplace=True)  # 将缺失值替换为0\n",
    "print(df)  # 查看数据"
   ]
  },
  {
   "cell_type": "code",
   "execution_count": 59,
   "id": "3b09c0f1",
   "metadata": {},
   "outputs": [
    {
     "name": "stdout",
     "output_type": "stream",
     "text": [
      "     Name   Age       City 年龄段\n",
      "0    YiYi  22.0   Hangzhou  青年\n",
      "1  Marone  26.0  Guangzhou  青年\n",
      "2    Jack   0.0   Shenzhen  中年\n",
      "3    Tony  29.0    Beijing  青年\n"
     ]
    },
    {
     "name": "stderr",
     "output_type": "stream",
     "text": [
      "/var/folders/qk/c0kw00px36q2hc_qlg3x21k40000gn/T/ipykernel_68620/3145843503.py:2: FutureWarning: A value is trying to be set on a copy of a DataFrame or Series through chained assignment using an inplace method.\n",
      "The behavior will change in pandas 3.0. This inplace method will never work because the intermediate object on which we are setting values always behaves as a copy.\n",
      "\n",
      "For example, when doing 'df[col].method(value, inplace=True)', try using 'df.method({col: value}, inplace=True)' or df[col] = df[col].method(value) instead, to perform the operation inplace on the original object.\n",
      "\n",
      "\n",
      "  df[\"年龄段\"].fillna(\n"
     ]
    }
   ],
   "source": [
    "# 替换缺失值\n",
    "df[\"年龄段\"].fillna(\n",
    "    df[\"年龄段\"].mode()[0], inplace=True\n",
    ")  # 将缺失值替换为众数 **.mode()返回一个Series对象，里面是不同元素出现次数的排名，最多的在第一个，所以用[0]取第一个元素\n",
    "print(df)  # 查看数据"
   ]
  },
  {
   "cell_type": "code",
   "execution_count": 60,
   "id": "17d1d762",
   "metadata": {},
   "outputs": [
    {
     "name": "stdout",
     "output_type": "stream",
     "text": [
      "     Name   Age       City 年龄段 Nationality\n",
      "0    YiYi  22.0   Hangzhou  青年          中国\n",
      "1  Marone  26.0  Guangzhou  青年          中国\n",
      "2    Jack   0.0   Shenzhen  中年         NaN\n",
      "3    Tony  29.0    Beijing  青年         NaN\n"
     ]
    }
   ],
   "source": [
    "df[\"Nationality\"] = df[\"City\"].apply(\n",
    "    lambda x: \"中国\" if x in [\"Guangzhou\", \"Hangzhou\"] else np.nan\n",
    ")  # 根据城市列添加国籍列\n",
    "print(df)  # 查看数据"
   ]
  },
  {
   "cell_type": "code",
   "execution_count": 61,
   "id": "4fcdd829",
   "metadata": {},
   "outputs": [
    {
     "name": "stdout",
     "output_type": "stream",
     "text": [
      "     Name   Age       City 年龄段 Nationality\n",
      "0    YiYi  22.0   Hangzhou  青年          中国\n",
      "1  Marone  26.0  Guangzhou  青年          中国\n"
     ]
    }
   ],
   "source": [
    "# 删除缺失值\n",
    "df = df.dropna()  # 删除所有缺失值\n",
    "print(df)  # 查看数据"
   ]
  },
  {
   "cell_type": "markdown",
   "id": "3b801f3a",
   "metadata": {},
   "source": [
    "#### DataFrame 读写文件\n"
   ]
  },
  {
   "cell_type": "markdown",
   "id": "c68b10be",
   "metadata": {},
   "source": [
    "可以读 csv，xlsx 文件\n",
    "\n",
    "`read_csv()`和 `read_excel()`，操作一样，以 csv 为例\n"
   ]
  },
  {
   "cell_type": "code",
   "execution_count": 62,
   "id": "bdaa4e68",
   "metadata": {},
   "outputs": [
    {
     "name": "stdout",
     "output_type": "stream",
     "text": [
      "    ID    Name  Age       Hobby       City\n",
      "0  524  Marone   25        YiYi  Guangzhou\n",
      "1  702    YiYi   21      Marone   Hangzhou\n",
      "2  987    Jack   22  Basketball   Shenzhen\n",
      "3  434    Tony   28    Football   Shanghai\n"
     ]
    }
   ],
   "source": [
    "# 读取csv文件\n",
    "df_csv = pd.read_csv(\"template.csv\")  # 读取csv文件，括号里是文件路径\n",
    "print(df_csv)  # 查看数据"
   ]
  },
  {
   "cell_type": "code",
   "execution_count": 63,
   "id": "8ed02f71",
   "metadata": {},
   "outputs": [
    {
     "name": "stdout",
     "output_type": "stream",
     "text": [
      "     0       1    2           3          4\n",
      "0   ID    Name  Age       Hobby       City\n",
      "1  524  Marone   25        YiYi  Guangzhou\n",
      "2  702    YiYi   21      Marone   Hangzhou\n",
      "3  987    Jack   22  Basketball   Shenzhen\n",
      "4  434    Tony   28    Football   Shanghai\n"
     ]
    }
   ],
   "source": [
    "df_csv = pd.read_csv(\"template.csv\", header=None)  # 不要表头，把表头当成数据\n",
    "print(df_csv)  # 查看数据"
   ]
  },
  {
   "cell_type": "code",
   "execution_count": 64,
   "id": "102b2a96",
   "metadata": {},
   "outputs": [
    {
     "name": "stdout",
     "output_type": "stream",
     "text": [
      "       Name  Age       Hobby       City\n",
      "ID                                     \n",
      "524  Marone   25        YiYi  Guangzhou\n",
      "702    YiYi   21      Marone   Hangzhou\n",
      "987    Jack   22  Basketball   Shenzhen\n",
      "434    Tony   28    Football   Shanghai\n"
     ]
    }
   ],
   "source": [
    "df_csv = pd.read_csv(\"template.csv\", index_col=\"ID\")  # 将ID列设置为索引\n",
    "print(df_csv)  # 查看数据"
   ]
  },
  {
   "cell_type": "code",
   "execution_count": 65,
   "id": "b03ab4ac",
   "metadata": {},
   "outputs": [
    {
     "name": "stdout",
     "output_type": "stream",
     "text": [
      "  Student ID    Name  Age       Hobby       City\n",
      "0         ID    Name  Age       Hobby       City\n",
      "1        524  Marone   25        YiYi  Guangzhou\n",
      "2        702    YiYi   21      Marone   Hangzhou\n",
      "3        987    Jack   22  Basketball   Shenzhen\n",
      "4        434    Tony   28    Football   Shanghai\n",
      "\n",
      "\n",
      "   Student ID    Name  Age       Hobby       City\n",
      "0         524  Marone   25        YiYi  Guangzhou\n",
      "1         702    YiYi   21      Marone   Hangzhou\n",
      "2         987    Jack   22  Basketball   Shenzhen\n",
      "3         434    Tony   28    Football   Shanghai\n",
      "\n",
      "\n",
      "   Student ID    Name  Age       Hobby       City\n",
      "0         524  Marone   25        YiYi  Guangzhou\n",
      "1         702    YiYi   21      Marone   Hangzhou\n",
      "2         987    Jack   22  Basketball   Shenzhen\n",
      "3         434    Tony   28    Football   Shanghai\n"
     ]
    }
   ],
   "source": [
    "headers = [\"Student ID\", \"Name\", \"Age\", \"Hobby\", \"City\"]  # 自定义表头,修改了第一项\n",
    "df_csv = pd.read_csv(\n",
    "    \"template.csv\", names=headers\n",
    ")  # 自定义表头，但会保留原表头作为数据\n",
    "print(df_csv)  # 查看数据\n",
    "print(\"\\n\")\n",
    "\n",
    "# 修改表头（推荐）\n",
    "df_csv = pd.read_csv(\"template.csv\")\n",
    "df_csv.columns = headers  # 修改表头\n",
    "print(df_csv)  # 查看数据\n",
    "print(\"\\n\")\n",
    "\n",
    "df_csv = pd.read_csv(\n",
    "    \"template.csv\", names=headers, skiprows=1\n",
    ")  # 跳过第一行，即跳过原表头\n",
    "print(df_csv)  # 查看数据"
   ]
  },
  {
   "cell_type": "markdown",
   "id": "214f0313",
   "metadata": {},
   "source": [
    "写 csv 文件\n"
   ]
  },
  {
   "cell_type": "markdown",
   "id": "2f16204d",
   "metadata": {},
   "source": [
    "文件位置：\n",
    "\n",
    "1. [Class_5_example_results/student.csv](Class_5_example_results/student.csv)\n",
    "2. [Class_5_example_results/student2.csv](Class_5_example_results/student2.csv)\n"
   ]
  },
  {
   "cell_type": "code",
   "execution_count": 66,
   "id": "1faa877e",
   "metadata": {},
   "outputs": [],
   "source": [
    "df_csv.to_csv(\n",
    "    \"Class_5_example_results/student.csv\", index=False\n",
    ")  # 保存为csv文件，index=False表示不保存索引\n",
    "df_csv.to_csv(\n",
    "    \"Class_5_example_results/student2.csv\", index=True, header=False\n",
    ")  # 保存为csv文件，保存索引，不保存表头"
   ]
  },
  {
   "cell_type": "markdown",
   "id": "bbeaf307",
   "metadata": {},
   "source": [
    "### DataFrame 高阶处理\n"
   ]
  },
  {
   "cell_type": "code",
   "execution_count": 67,
   "id": "df349524",
   "metadata": {},
   "outputs": [
    {
     "data": {
      "application/vnd.microsoft.datawrangler.viewer.v0+json": {
       "columns": [
        {
         "name": "index",
         "rawType": "int64",
         "type": "integer"
        },
        {
         "name": "Name",
         "rawType": "object",
         "type": "string"
        },
        {
         "name": "Age",
         "rawType": "int64",
         "type": "integer"
        },
        {
         "name": "Salary",
         "rawType": "int64",
         "type": "integer"
        },
        {
         "name": "City",
         "rawType": "object",
         "type": "string"
        },
        {
         "name": "Gender",
         "rawType": "object",
         "type": "string"
        }
       ],
       "conversionMethod": "pd.DataFrame",
       "ref": "a0609281-4bdf-4a24-8b1c-fcb4493e0a1b",
       "rows": [
        [
         "0",
         "Alice",
         "25",
         "50000",
         "New York",
         "F"
        ],
        [
         "1",
         "Bob",
         "30",
         "60000",
         "Los Angeles",
         "M"
        ],
        [
         "2",
         "Charlie",
         "35",
         "70000",
         "Chicago",
         "M"
        ],
        [
         "3",
         "Marone",
         "25",
         "80000",
         "Houston",
         "M"
        ],
        [
         "4",
         "Jack",
         "45",
         "90000",
         "Phoenix",
         "M"
        ],
        [
         "5",
         "Tom",
         "50",
         "100000",
         "Philadelphia",
         "M"
        ],
        [
         "6",
         "Bob",
         "30",
         "60000",
         "Los Angeles",
         "M"
        ],
        [
         "7",
         "Lily",
         "34",
         "80000",
         "Rhode Island",
         "F"
        ]
       ],
       "shape": {
        "columns": 5,
        "rows": 8
       }
      },
      "text/html": [
       "<div>\n",
       "<style scoped>\n",
       "    .dataframe tbody tr th:only-of-type {\n",
       "        vertical-align: middle;\n",
       "    }\n",
       "\n",
       "    .dataframe tbody tr th {\n",
       "        vertical-align: top;\n",
       "    }\n",
       "\n",
       "    .dataframe thead th {\n",
       "        text-align: right;\n",
       "    }\n",
       "</style>\n",
       "<table border=\"1\" class=\"dataframe\">\n",
       "  <thead>\n",
       "    <tr style=\"text-align: right;\">\n",
       "      <th></th>\n",
       "      <th>Name</th>\n",
       "      <th>Age</th>\n",
       "      <th>Salary</th>\n",
       "      <th>City</th>\n",
       "      <th>Gender</th>\n",
       "    </tr>\n",
       "  </thead>\n",
       "  <tbody>\n",
       "    <tr>\n",
       "      <th>0</th>\n",
       "      <td>Alice</td>\n",
       "      <td>25</td>\n",
       "      <td>50000</td>\n",
       "      <td>New York</td>\n",
       "      <td>F</td>\n",
       "    </tr>\n",
       "    <tr>\n",
       "      <th>1</th>\n",
       "      <td>Bob</td>\n",
       "      <td>30</td>\n",
       "      <td>60000</td>\n",
       "      <td>Los Angeles</td>\n",
       "      <td>M</td>\n",
       "    </tr>\n",
       "    <tr>\n",
       "      <th>2</th>\n",
       "      <td>Charlie</td>\n",
       "      <td>35</td>\n",
       "      <td>70000</td>\n",
       "      <td>Chicago</td>\n",
       "      <td>M</td>\n",
       "    </tr>\n",
       "    <tr>\n",
       "      <th>3</th>\n",
       "      <td>Marone</td>\n",
       "      <td>25</td>\n",
       "      <td>80000</td>\n",
       "      <td>Houston</td>\n",
       "      <td>M</td>\n",
       "    </tr>\n",
       "    <tr>\n",
       "      <th>4</th>\n",
       "      <td>Jack</td>\n",
       "      <td>45</td>\n",
       "      <td>90000</td>\n",
       "      <td>Phoenix</td>\n",
       "      <td>M</td>\n",
       "    </tr>\n",
       "    <tr>\n",
       "      <th>5</th>\n",
       "      <td>Tom</td>\n",
       "      <td>50</td>\n",
       "      <td>100000</td>\n",
       "      <td>Philadelphia</td>\n",
       "      <td>M</td>\n",
       "    </tr>\n",
       "    <tr>\n",
       "      <th>6</th>\n",
       "      <td>Bob</td>\n",
       "      <td>30</td>\n",
       "      <td>60000</td>\n",
       "      <td>Los Angeles</td>\n",
       "      <td>M</td>\n",
       "    </tr>\n",
       "    <tr>\n",
       "      <th>7</th>\n",
       "      <td>Lily</td>\n",
       "      <td>34</td>\n",
       "      <td>80000</td>\n",
       "      <td>Rhode Island</td>\n",
       "      <td>F</td>\n",
       "    </tr>\n",
       "  </tbody>\n",
       "</table>\n",
       "</div>"
      ],
      "text/plain": [
       "      Name  Age  Salary          City Gender\n",
       "0    Alice   25   50000      New York      F\n",
       "1      Bob   30   60000   Los Angeles      M\n",
       "2  Charlie   35   70000       Chicago      M\n",
       "3   Marone   25   80000       Houston      M\n",
       "4     Jack   45   90000       Phoenix      M\n",
       "5      Tom   50  100000  Philadelphia      M\n",
       "6      Bob   30   60000   Los Angeles      M\n",
       "7     Lily   34   80000  Rhode Island      F"
      ]
     },
     "execution_count": 67,
     "metadata": {},
     "output_type": "execute_result"
    }
   ],
   "source": [
    "df = pd.DataFrame(\n",
    "    {\n",
    "        \"Name\": [\"Alice\", \"Bob\", \"Charlie\", \"Marone\", \"Jack\", \"Tom\", \"Bob\", \"Lily\"],\n",
    "        \"Age\": [25, 30, 35, 25, 45, 50, 30, 34],\n",
    "        \"Salary\": [50000, 60000, 70000, 80000, 90000, 100000, 60000, 80000],\n",
    "        \"City\": [\n",
    "            \"New York\",\n",
    "            \"Los Angeles\",\n",
    "            \"Chicago\",\n",
    "            \"Houston\",\n",
    "            \"Phoenix\",\n",
    "            \"Philadelphia\",\n",
    "            \"Los Angeles\",\n",
    "            \"Rhode Island\",\n",
    "        ],\n",
    "        \"Gender\": [\"F\", \"M\", \"M\", \"M\", \"M\", \"M\", \"M\", \"F\"],\n",
    "    }\n",
    ")\n",
    "\n",
    "df"
   ]
  },
  {
   "cell_type": "markdown",
   "id": "85f4ca62",
   "metadata": {},
   "source": [
    "#### 排序\n"
   ]
  },
  {
   "cell_type": "code",
   "execution_count": 68,
   "id": "7598a31c",
   "metadata": {},
   "outputs": [
    {
     "name": "stdout",
     "output_type": "stream",
     "text": [
      "按照年龄升序排序:\n",
      "      Name  Age  Salary          City Gender\n",
      "0    Alice   25   50000      New York      F\n",
      "3   Marone   25   80000       Houston      M\n",
      "1      Bob   30   60000   Los Angeles      M\n",
      "6      Bob   30   60000   Los Angeles      M\n",
      "7     Lily   34   80000  Rhode Island      F\n",
      "2  Charlie   35   70000       Chicago      M\n",
      "4     Jack   45   90000       Phoenix      M\n",
      "5      Tom   50  100000  Philadelphia      M\n",
      "\n",
      "\n",
      "按照薪水降序排序:\n",
      "      Name  Age  Salary          City Gender\n",
      "5      Tom   50  100000  Philadelphia      M\n",
      "4     Jack   45   90000       Phoenix      M\n",
      "3   Marone   25   80000       Houston      M\n",
      "7     Lily   34   80000  Rhode Island      F\n",
      "2  Charlie   35   70000       Chicago      M\n",
      "1      Bob   30   60000   Los Angeles      M\n",
      "6      Bob   30   60000   Los Angeles      M\n",
      "0    Alice   25   50000      New York      F\n",
      "\n",
      "\n",
      "按照年龄升序，薪水降序排序:\n",
      "      Name  Age  Salary          City Gender\n",
      "3   Marone   25   80000       Houston      M\n",
      "0    Alice   25   50000      New York      F\n",
      "1      Bob   30   60000   Los Angeles      M\n",
      "6      Bob   30   60000   Los Angeles      M\n",
      "7     Lily   34   80000  Rhode Island      F\n",
      "2  Charlie   35   70000       Chicago      M\n",
      "4     Jack   45   90000       Phoenix      M\n",
      "5      Tom   50  100000  Philadelphia      M\n",
      "\n",
      "\n",
      "按照索引升序排序:\n",
      "      Name  Age  Salary          City Gender\n",
      "0    Alice   25   50000      New York      F\n",
      "1      Bob   30   60000   Los Angeles      M\n",
      "2  Charlie   35   70000       Chicago      M\n",
      "3   Marone   25   80000       Houston      M\n",
      "4     Jack   45   90000       Phoenix      M\n",
      "5      Tom   50  100000  Philadelphia      M\n",
      "6      Bob   30   60000   Los Angeles      M\n",
      "7     Lily   34   80000  Rhode Island      F\n",
      "\n",
      "\n",
      "按照年龄升序，薪水降序排序，更改原数据:\n",
      "      Name  Age  Salary          City Gender\n",
      "3   Marone   25   80000       Houston      M\n",
      "0    Alice   25   50000      New York      F\n",
      "1      Bob   30   60000   Los Angeles      M\n",
      "6      Bob   30   60000   Los Angeles      M\n",
      "7     Lily   34   80000  Rhode Island      F\n",
      "2  Charlie   35   70000       Chicago      M\n",
      "4     Jack   45   90000       Phoenix      M\n",
      "5      Tom   50  100000  Philadelphia      M\n",
      "\n",
      "\n",
      "按照年龄升序，薪水降序排序，更改原数据，重置索引:\n",
      "      Name  Age  Salary          City Gender\n",
      "0   Marone   25   80000       Houston      M\n",
      "1    Alice   25   50000      New York      F\n",
      "2      Bob   30   60000   Los Angeles      M\n",
      "3      Bob   30   60000   Los Angeles      M\n",
      "4     Lily   34   80000  Rhode Island      F\n",
      "5  Charlie   35   70000       Chicago      M\n",
      "6     Jack   45   90000       Phoenix      M\n",
      "7      Tom   50  100000  Philadelphia      M\n"
     ]
    }
   ],
   "source": [
    "print(\"按照年龄升序排序:\")\n",
    "df_sorted = df.sort_values(by=\"Age\")  # 按照年龄升序排序，默认是升序\n",
    "print(df_sorted)  # 查看数据\n",
    "print(\"\\n\")\n",
    "\n",
    "print(\"按照薪水降序排序:\")\n",
    "df_sorted = df.sort_values(by=\"Salary\", ascending=False)  # 按照薪水降序排序\n",
    "print(df_sorted)  # 查看数据\n",
    "print(\"\\n\")\n",
    "\n",
    "print(\"按照年龄升序，薪水降序排序:\")\n",
    "df_sorted = df.sort_values(\n",
    "    by=[\"Age\", \"Salary\"], ascending=[True, False]\n",
    ")  # 按照年龄升序，薪水降序排序，返回一个新的数据\n",
    "print(df_sorted)  # 查看数据\n",
    "print(\"\\n\")\n",
    "\n",
    "print(\"按照索引升序排序:\")\n",
    "df_sorted_index = df_sorted.sort_index()  # 按照索引升序排序，默认是升序\n",
    "print(df_sorted_index)  # 查看数据\n",
    "print(\"\\n\")\n",
    "\n",
    "print(\"按照年龄升序，薪水降序排序，更改原数据:\")\n",
    "df.sort_values(\n",
    "    by=[\"Age\", \"Salary\"], ascending=[True, False], inplace=True\n",
    ")  # 按照年龄升序，薪水降序排序，保留原数据\n",
    "print(df)\n",
    "print(\"\\n\")\n",
    "\n",
    "print(\"按照年龄升序，薪水降序排序，更改原数据，重置索引:\")\n",
    "df.sort_values(\n",
    "    by=[\"Age\", \"Salary\"], ascending=[True, False], inplace=True, ignore_index=True\n",
    ")  # 按照年龄升序，薪水降序排序，保留原数据，重置索引\n",
    "print(df)"
   ]
  },
  {
   "cell_type": "markdown",
   "id": "49e3c358",
   "metadata": {},
   "source": [
    "#### 重复值\n"
   ]
  },
  {
   "cell_type": "code",
   "execution_count": 69,
   "id": "fc11dacf",
   "metadata": {},
   "outputs": [
    {
     "name": "stdout",
     "output_type": "stream",
     "text": [
      "查看重复值:\n",
      "0    False\n",
      "1    False\n",
      "2    False\n",
      "3     True\n",
      "4    False\n",
      "5    False\n",
      "6    False\n",
      "7    False\n",
      "dtype: bool\n",
      "\n",
      "\n",
      "原本数据:\n",
      "      Name  Age  Salary          City Gender\n",
      "0   Marone   25   80000       Houston      M\n",
      "1    Alice   25   50000      New York      F\n",
      "2      Bob   30   60000   Los Angeles      M\n",
      "3      Bob   30   60000   Los Angeles      M\n",
      "4     Lily   34   80000  Rhode Island      F\n",
      "5  Charlie   35   70000       Chicago      M\n",
      "6     Jack   45   90000       Phoenix      M\n",
      "7      Tom   50  100000  Philadelphia      M\n",
      "\n",
      "\n",
      "去重后数据:\n",
      "      Name  Age  Salary          City Gender\n",
      "0   Marone   25   80000       Houston      M\n",
      "1    Alice   25   50000      New York      F\n",
      "2      Bob   30   60000   Los Angeles      M\n",
      "4     Lily   34   80000  Rhode Island      F\n",
      "5  Charlie   35   70000       Chicago      M\n",
      "6     Jack   45   90000       Phoenix      M\n",
      "7      Tom   50  100000  Philadelphia      M\n",
      "\n",
      "\n",
      "查看唯一值:\n",
      "['M' 'F']\n"
     ]
    }
   ],
   "source": [
    "df.duplicated()  # 查看重复值，返回布尔值\n",
    "print(\"查看重复值:\")\n",
    "print(df.duplicated())  # 查看重复值\n",
    "print(\"\\n\")\n",
    "\n",
    "# 去掉重复值，返回新的数据 * 原本的df不变\n",
    "df1 = df.drop_duplicates()\n",
    "\n",
    "# 查看原本数据\n",
    "print(\"原本数据:\")\n",
    "print(df)\n",
    "print(\"\\n\")\n",
    "\n",
    "# 查看去掉重复值后的数据\n",
    "print(\"去重后数据:\")\n",
    "print(df1)\n",
    "print(\"\\n\")\n",
    "\n",
    "# 查看唯一值\n",
    "print(\"查看唯一值:\")\n",
    "print(df[\"Gender\"].unique())  # 查看性别列的唯一值"
   ]
  },
  {
   "cell_type": "markdown",
   "id": "8664ec66",
   "metadata": {},
   "source": [
    "#### 筛选\n"
   ]
  },
  {
   "cell_type": "code",
   "execution_count": 70,
   "id": "a93e25c2",
   "metadata": {},
   "outputs": [
    {
     "name": "stdout",
     "output_type": "stream",
     "text": [
      "筛选年龄小于40岁的:\n",
      "      Name  Age  Salary          City Gender\n",
      "0   Marone   25   80000       Houston      M\n",
      "1    Alice   25   50000      New York      F\n",
      "2      Bob   30   60000   Los Angeles      M\n",
      "3      Bob   30   60000   Los Angeles      M\n",
      "4     Lily   34   80000  Rhode Island      F\n",
      "5  Charlie   35   70000       Chicago      M\n",
      "\n",
      "\n",
      "筛选薪水高于70000的人:\n",
      "     Name  Age  Salary          City Gender\n",
      "0  Marone   25   80000       Houston      M\n",
      "4    Lily   34   80000  Rhode Island      F\n",
      "6    Jack   45   90000       Phoenix      M\n",
      "7     Tom   50  100000  Philadelphia      M\n",
      "\n",
      "\n",
      "年龄小于40且薪水高于70000的人:\n",
      "     Name  Age  Salary          City Gender\n",
      "0  Marone   25   80000       Houston      M\n",
      "4    Lily   34   80000  Rhode Island      F\n"
     ]
    }
   ],
   "source": [
    "# 筛选年龄小于40岁的人\n",
    "print(\"筛选年龄小于40岁的:\")\n",
    "print(df[df[\"Age\"] < 40])\n",
    "print(\"\\n\")\n",
    "\n",
    "# 筛选薪水高于70000的人\n",
    "print(\"筛选薪水高于70000的人:\")\n",
    "print(df[df[\"Salary\"] > 70000])\n",
    "print(\"\\n\")\n",
    "\n",
    "# 筛选年龄小于40且薪水高于70000的人\n",
    "print(\"年龄小于40且薪水高于70000的人:\")\n",
    "print(df[(df[\"Age\"] < 40) & (df[\"Salary\"] > 70000)])  # 注意&的两边要加括号"
   ]
  },
  {
   "cell_type": "markdown",
   "id": "4d634790",
   "metadata": {},
   "source": [
    "#### 分组\n"
   ]
  },
  {
   "cell_type": "code",
   "execution_count": 71,
   "id": "6199ac11",
   "metadata": {},
   "outputs": [
    {
     "name": "stdout",
     "output_type": "stream",
     "text": [
      "<pandas.core.groupby.generic.DataFrameGroupBy object at 0x12bae5190>\n"
     ]
    }
   ],
   "source": [
    "df_grouped = df.groupby(\"Gender\")  # 按照年龄分组\n",
    "print(df_grouped)  # 得到一个DataFrameGroupBy对象，不可以直接查看"
   ]
  },
  {
   "cell_type": "code",
   "execution_count": 72,
   "id": "3a3e6ed5",
   "metadata": {},
   "outputs": [
    {
     "name": "stdout",
     "output_type": "stream",
     "text": [
      "Group: F\n",
      "    Name  Age  Salary          City Gender\n",
      "1  Alice   25   50000      New York      F\n",
      "4   Lily   34   80000  Rhode Island      F\n",
      "\n",
      "\n",
      "Group: M\n",
      "      Name  Age  Salary          City Gender\n",
      "0   Marone   25   80000       Houston      M\n",
      "2      Bob   30   60000   Los Angeles      M\n",
      "3      Bob   30   60000   Los Angeles      M\n",
      "5  Charlie   35   70000       Chicago      M\n",
      "6     Jack   45   90000       Phoenix      M\n",
      "7      Tom   50  100000  Philadelphia      M\n",
      "\n",
      "\n"
     ]
    }
   ],
   "source": [
    "for group_name, group_data in df_grouped:  # 遍历分组来查看\n",
    "    print(f\"Group: {group_name}\")\n",
    "    print(group_data)\n",
    "    print(\"\\n\")"
   ]
  },
  {
   "cell_type": "code",
   "execution_count": 73,
   "id": "42ba17e6",
   "metadata": {},
   "outputs": [
    {
     "name": "stdout",
     "output_type": "stream",
     "text": [
      "分组后的数据:\n",
      "Gender\n",
      "F    2\n",
      "M    6\n",
      "dtype: int64\n",
      "\n",
      "\n",
      "每组年龄的平均值:\n",
      "Gender\n",
      "F    29.500000\n",
      "M    35.833333\n",
      "Name: Age, dtype: float64\n",
      "\n",
      "\n",
      "每组年龄的总和:\n",
      "Gender\n",
      "F     59\n",
      "M    215\n",
      "Name: Age, dtype: int64\n",
      "\n",
      "\n",
      "每组年龄的最大值:\n",
      "Gender\n",
      "F    34\n",
      "M    50\n",
      "Name: Age, dtype: int64\n",
      "\n",
      "\n",
      "每组薪水的最小值:\n",
      "Gender\n",
      "F    50000\n",
      "M    60000\n",
      "Name: Salary, dtype: int64\n",
      "\n",
      "\n"
     ]
    }
   ],
   "source": [
    "# 分组后的数据\n",
    "print(\"分组后的数据:\")\n",
    "print(df_grouped.size())  # 查看每组的大小\n",
    "print(\"\\n\")\n",
    "\n",
    "print(\"每组年龄的平均值:\")\n",
    "print(df_grouped[\"Age\"].mean())  # 查看每组年龄的平均值\n",
    "print(\"\\n\")\n",
    "\n",
    "print(\"每组年龄的总和:\")\n",
    "print(df_grouped[\"Age\"].sum())  # 查看每组年龄的总和\n",
    "print(\"\\n\")\n",
    "\n",
    "print(\"每组年龄的最大值:\")\n",
    "print(df_grouped[\"Age\"].max())  # 查看每组年龄的最大值\n",
    "print(\"\\n\")\n",
    "\n",
    "print(\"每组薪水的最小值:\")\n",
    "print(df_grouped[\"Salary\"].min())  # 查看每组薪水的最小值\n",
    "print(\"\\n\")"
   ]
  },
  {
   "cell_type": "markdown",
   "id": "9bcc3cb5",
   "metadata": {},
   "source": [
    "#### 聚合\n"
   ]
  },
  {
   "cell_type": "markdown",
   "id": "247e751b",
   "metadata": {},
   "source": [
    "**单列数据聚合一个函数**\n"
   ]
  },
  {
   "cell_type": "code",
   "execution_count": 74,
   "id": "81dd2154",
   "metadata": {},
   "outputs": [
    {
     "name": "stdout",
     "output_type": "stream",
     "text": [
      "薪水的平均值:\n",
      "73750.0\n",
      "\n",
      "\n",
      "薪水的总和:\n",
      "590000\n",
      "\n",
      "\n",
      "查看最大的年龄:\n",
      "50\n"
     ]
    }
   ],
   "source": [
    "print(\"薪水的平均值:\")\n",
    "print(df[\"Salary\"].agg(\"mean\"))  # 对薪水列进行聚合操作，跟直接使用.mean()一样\n",
    "print(\"\\n\")\n",
    "\n",
    "print(\"薪水的总和:\")\n",
    "print(df[\"Salary\"].agg(\"sum\"))  # 查看薪水列的总和，跟直接使用.sum()一样\n",
    "print(\"\\n\")\n",
    "\n",
    "print(\"查看最大的年龄:\")\n",
    "print(df[\"Age\"].agg(\"max\"))  # 查看年龄列的最大值，跟直接使用.max()一样"
   ]
  },
  {
   "cell_type": "markdown",
   "id": "990edfb7",
   "metadata": {},
   "source": [
    "**单列数据聚合多个函数**\n"
   ]
  },
  {
   "cell_type": "code",
   "execution_count": 75,
   "id": "4b17e054",
   "metadata": {},
   "outputs": [
    {
     "name": "stdout",
     "output_type": "stream",
     "text": [
      "查看最多和最少的薪水:\n",
      "max    100000\n",
      "min     50000\n",
      "Name: Salary, dtype: int64\n"
     ]
    }
   ],
   "source": [
    "print(\"查看最多和最少的薪水:\")\n",
    "print(df[\"Salary\"].agg([\"max\", \"min\"]))  # 查看薪水列的最大值和最小值"
   ]
  },
  {
   "cell_type": "markdown",
   "id": "c7e33000",
   "metadata": {},
   "source": [
    "**多列数据聚合多个函数**\n"
   ]
  },
  {
   "cell_type": "code",
   "execution_count": 76,
   "id": "c05acf21",
   "metadata": {},
   "outputs": [
    {
     "name": "stdout",
     "output_type": "stream",
     "text": [
      "查看最大年龄和最少薪水:\n",
      "Age          50\n",
      "Salary    50000\n",
      "dtype: int64\n"
     ]
    }
   ],
   "source": [
    "print(\"查看最大年龄和最少薪水:\")\n",
    "print(df.agg({\"Age\": \"max\", \"Salary\": \"min\"}))  # 查看最大年龄和最少薪水"
   ]
  },
  {
   "cell_type": "markdown",
   "id": "9f6b05d0",
   "metadata": {},
   "source": [
    "**数据聚合自定义函数**\n"
   ]
  },
  {
   "cell_type": "code",
   "execution_count": 77,
   "id": "fabcfe96",
   "metadata": {},
   "outputs": [
    {
     "name": "stdout",
     "output_type": "stream",
     "text": [
      "查看年龄的范围:\n",
      "25\n",
      "\n",
      "\n",
      "查看年龄和薪水的范围:\n",
      "Age          25\n",
      "Salary    50000\n",
      "dtype: int64\n",
      "\n",
      "\n",
      "查看年龄和城市的众数:\n",
      "Age              25\n",
      "City    Los Angeles\n",
      "dtype: object\n"
     ]
    }
   ],
   "source": [
    "def range(x):  # 定义一个函数，计算最大值和最小值的差\n",
    "    return x.max() - x.min()\n",
    "\n",
    "\n",
    "def most_common(x):  # 定义一个函数，计算众数\n",
    "    return x.mode()[0] if not x.empty else None\n",
    "\n",
    "\n",
    "print(\"查看年龄的范围:\")\n",
    "print(df[\"Age\"].agg(range))  # 查看年龄列的范围\n",
    "print(\"\\n\")\n",
    "\n",
    "print(\"查看年龄和薪水的范围:\")\n",
    "print(df.agg({\"Age\": range, \"Salary\": range}))  # 查看年龄和薪水的范围\n",
    "print(\"\\n\")\n",
    "\n",
    "print(\"查看年龄和城市的众数:\")\n",
    "print(df.agg({\"Age\": most_common, \"City\": most_common}))  # 查看年龄和城市的众数"
   ]
  },
  {
   "cell_type": "markdown",
   "id": "a6bc448c",
   "metadata": {},
   "source": [
    "**分组聚合（常用）**\n"
   ]
  },
  {
   "cell_type": "code",
   "execution_count": 78,
   "id": "ad61ae44",
   "metadata": {},
   "outputs": [
    {
     "name": "stdout",
     "output_type": "stream",
     "text": [
      "不同性别平均工资:\n",
      "              Salary\n",
      "Gender              \n",
      "F       65000.000000\n",
      "M       76666.666667\n",
      "\n",
      "\n",
      "不同性别的人数:\n",
      "        Gender\n",
      "Gender        \n",
      "F            2\n",
      "M            6\n",
      "\n",
      "\n",
      "不同性别的平均年龄和薪水:\n",
      "              Age        Salary\n",
      "Gender                         \n",
      "F       29.500000  65000.000000\n",
      "M       35.833333  76666.666667\n",
      "\n",
      "\n",
      "不同性别的薪水的方差:\n",
      "              Salary\n",
      "Gender              \n",
      "F       4.500000e+08\n",
      "M       2.666667e+08\n",
      "\n",
      "\n",
      "不同年龄的平均薪水和标准差:\n",
      "       Salary              \n",
      "         mean           std\n",
      "Age                        \n",
      "25    65000.0  21213.203436\n",
      "30    60000.0      0.000000\n",
      "34    80000.0           NaN\n",
      "35    70000.0           NaN\n",
      "45    90000.0           NaN\n",
      "50   100000.0           NaN\n",
      "\n",
      "\n"
     ]
    }
   ],
   "source": [
    "print(\"不同性别平均工资:\")\n",
    "print(df.groupby(\"Gender\").agg({\"Salary\": \"mean\"}))  # 查看不同性别的平均工资\n",
    "print(\"\\n\")\n",
    "\n",
    "print(\"不同性别的人数:\")\n",
    "print(df.groupby(\"Gender\").agg({\"Gender\": \"count\"}))  # 查看不同性别的人数\n",
    "print(\"\\n\")\n",
    "\n",
    "print(\"不同性别的平均年龄和薪水:\")\n",
    "print(\n",
    "    df.groupby(\"Gender\").agg({\"Age\": \"mean\", \"Salary\": \"mean\"})\n",
    ")  # 查看不同性别的平均年龄和薪水\n",
    "print(\"\\n\")\n",
    "\n",
    "print(\"不同性别的薪水的方差:\")\n",
    "print(df.groupby(\"Gender\").agg({\"Salary\": \"var\"}))  # 查看不同性别的薪水的方差\n",
    "print(\"\\n\")\n",
    "\n",
    "print(\"不同年龄的平均薪水和标准差:\")\n",
    "print(\n",
    "    df.groupby(\"Age\").agg({\"Salary\": [\"mean\", \"std\"]})\n",
    ")  # 查看不同年龄段的平均薪水,标准差  *NaN表示没有数据，想想为啥\n",
    "print(\"\\n\")"
   ]
  },
  {
   "cell_type": "markdown",
   "id": "3118fee5",
   "metadata": {},
   "source": [
    "#### 数据合并\n"
   ]
  },
  {
   "cell_type": "code",
   "execution_count": 79,
   "id": "8ff88912",
   "metadata": {},
   "outputs": [
    {
     "name": "stdout",
     "output_type": "stream",
     "text": [
      "df_A:\n",
      "  key  value\n",
      "0   A      1\n",
      "1   B      2\n",
      "2   C      3\n",
      "3   D      4\n",
      "4   G      9\n",
      "\n",
      "\n",
      "df_B:\n",
      "  key  value\n",
      "0   B      5\n",
      "1   D      6\n",
      "2   E      7\n",
      "3   F      8\n",
      "\n",
      "\n",
      "df_C:\n",
      "   stars\n",
      "0   True\n",
      "1  False\n",
      "2   True\n",
      "3  False\n",
      "4   True\n",
      "\n",
      "\n",
      "df_D:\n",
      "   stars\n",
      "0   True\n",
      "1  False\n",
      "2   True\n",
      "3  False\n"
     ]
    }
   ],
   "source": [
    "df_A = pd.DataFrame({\"key\": [\"A\", \"B\", \"C\", \"D\", \"G\"], \"value\": [1, 2, 3, 4, 9]})\n",
    "print(\"df_A:\")\n",
    "print(df_A)\n",
    "print(\"\\n\")\n",
    "\n",
    "df_B = pd.DataFrame({\"key\": [\"B\", \"D\", \"E\", \"F\"], \"value\": [5, 6, 7, 8]})\n",
    "print(\"df_B:\")\n",
    "print(df_B)\n",
    "print(\"\\n\")\n",
    "\n",
    "df_C = pd.DataFrame(\n",
    "    {\n",
    "        \"stars\": [True, False, True, False, True],\n",
    "    }\n",
    ")\n",
    "print(\"df_C:\")\n",
    "print(df_C)\n",
    "print(\"\\n\")\n",
    "\n",
    "df_D = pd.DataFrame(\n",
    "    {\n",
    "        \"stars\": [True, False, True, False],\n",
    "    }\n",
    ")\n",
    "print(\"df_D:\")\n",
    "print(df_D)"
   ]
  },
  {
   "cell_type": "markdown",
   "id": "43cbdb8d",
   "metadata": {},
   "source": [
    "**拼接**\n"
   ]
  },
  {
   "cell_type": "code",
   "execution_count": 80,
   "id": "f1663ab9",
   "metadata": {},
   "outputs": [
    {
     "name": "stdout",
     "output_type": "stream",
     "text": [
      "纵向拼接:\n",
      "  key  value\n",
      "0   A      1\n",
      "1   B      2\n",
      "2   C      3\n",
      "3   D      4\n",
      "4   G      9\n",
      "5   B      5\n",
      "6   D      6\n",
      "7   E      7\n",
      "8   F      8\n",
      "\n",
      "\n",
      "横向拼接:\n",
      "  key  value  key  value\n",
      "0   A      1    B    5.0\n",
      "1   B      2    D    6.0\n",
      "2   C      3    E    7.0\n",
      "3   D      4    F    8.0\n",
      "4   G      9  NaN    NaN\n",
      "\n",
      "\n"
     ]
    }
   ],
   "source": [
    "# 纵向拼接\n",
    "print(\"纵向拼接:\")\n",
    "df_concat = pd.concat(\n",
    "    [df_A, df_B], axis=0, ignore_index=True\n",
    ")  # 纵向拼接，ignore_index=True表示重置索引\n",
    "print(df_concat)  # 查看数据\n",
    "print(\"\\n\")\n",
    "\n",
    "# 横向拼接\n",
    "print(\"横向拼接:\")\n",
    "df_concat = pd.concat([df_A, df_B], axis=1)  # 横向拼接\n",
    "print(df_concat)  # 查看数据\n",
    "print(\"\\n\")"
   ]
  },
  {
   "cell_type": "markdown",
   "id": "8adac67f",
   "metadata": {},
   "source": [
    "**合并**\n"
   ]
  },
  {
   "cell_type": "markdown",
   "id": "438d1513",
   "metadata": {},
   "source": [
    "拼接可能会导致数据列重复，合并能解决这个问题\n",
    "\n",
    "两种合并方法：\n",
    "\n",
    "- `df.join()` 按索引\n"
   ]
  },
  {
   "cell_type": "code",
   "execution_count": 81,
   "id": "c98ae53c",
   "metadata": {},
   "outputs": [
    {
     "name": "stdout",
     "output_type": "stream",
     "text": [
      "按索引合并:\n",
      "  key  value  stars\n",
      "0   A      1   True\n",
      "1   B      2  False\n",
      "2   C      3   True\n",
      "3   D      4  False\n",
      "4   G      9   True\n",
      "\n",
      "\n",
      "  key  value  stars\n",
      "0   B      5   True\n",
      "1   D      6  False\n",
      "2   E      7   True\n",
      "3   F      8  False\n"
     ]
    }
   ],
   "source": [
    "# 按索引合并\n",
    "print(\"按索引合并:\")\n",
    "df_join_idx1 = df_A.join(df_C)  # 按索引合并，返回一个新的数据\n",
    "print(df_join_idx1)  # 查看数据\n",
    "print(\"\\n\")\n",
    "\n",
    "df_join_idx2 = df_B.join(df_D)  # 按索引合并，返回一个新的数据\n",
    "print(df_join_idx2)  # 查看数据"
   ]
  },
  {
   "cell_type": "markdown",
   "id": "e78a4441",
   "metadata": {},
   "source": [
    "- `pd.merge()` 按值\n",
    "  按值合并时有**4**种处理方式：\n",
    "\n",
    "  1. left 保留左表的所有行，右表无匹配时填充`NaN`\n",
    "  2. righ 保留右表的所有行，左表无匹配时填充`NaN`\n",
    "  3. inner 只保留两个`DataFrame`中键匹配的行（交集）\n",
    "  4. outer 保留两个表的所有行，无匹配时填充`NaN`\n",
    "\n",
    "  `df.merge()`和`pd.merge()`用法类似，可以实现同等效果\n"
   ]
  },
  {
   "cell_type": "code",
   "execution_count": 82,
   "id": "fe2b6c9a",
   "metadata": {},
   "outputs": [
    {
     "name": "stdout",
     "output_type": "stream",
     "text": [
      "左连接:\n",
      "  key  value_x  value_y\n",
      "0   A        1      NaN\n",
      "1   B        2      5.0\n",
      "2   C        3      NaN\n",
      "3   D        4      6.0\n",
      "4   G        9      NaN\n",
      "\n",
      "\n",
      "右连接:\n",
      "  key  value_x  value_y\n",
      "0   A        1      NaN\n",
      "1   B        2      5.0\n",
      "2   C        3      NaN\n",
      "3   D        4      6.0\n",
      "4   G        9      NaN\n",
      "\n",
      "\n"
     ]
    }
   ],
   "source": [
    "# left\n",
    "print(\"左连接:\")\n",
    "df_left = pd.merge(df_A, df_B, how=\"left\", on=\"key\")  # 左连接，返回一个新的数据\n",
    "print(df_left)  # 查看数据\n",
    "print(\"\\n\")\n",
    "# right\n",
    "print(\"右连接:\")\n",
    "df_right = pd.merge(df_A, df_B, how=\"left\", on=\"key\")  # 右连接，返回一个新的数据\n",
    "print(df_right)  # 查看数据\n",
    "print(\"\\n\")"
   ]
  },
  {
   "cell_type": "code",
   "execution_count": 83,
   "id": "54aa64d5",
   "metadata": {},
   "outputs": [
    {
     "name": "stdout",
     "output_type": "stream",
     "text": [
      "内连接:\n",
      "  key  value_x  value_y\n",
      "0   B        2        5\n",
      "1   D        4        6\n",
      "\n",
      "\n",
      "外连接:\n",
      "  key  value_x  value_y\n",
      "0   A      1.0      NaN\n",
      "1   B      2.0      5.0\n",
      "2   C      3.0      NaN\n",
      "3   D      4.0      6.0\n",
      "4   E      NaN      7.0\n",
      "5   F      NaN      8.0\n",
      "6   G      9.0      NaN\n",
      "\n",
      "\n"
     ]
    }
   ],
   "source": [
    "# inner\n",
    "print(\"内连接:\")\n",
    "df_inner = df_A.merge(df_B, how=\"inner\", on=\"key\")  # 内连接，返回一个新的数据\n",
    "print(df_inner)  # 查看数据\n",
    "print(\"\\n\")\n",
    "# outer\n",
    "print(\"外连接:\")\n",
    "df_outer = df_A.merge(df_B, how=\"outer\", on=\"key\")  # 外连接，返回一个新的数据\n",
    "print(df_outer)  # 查看数据\n",
    "print(\"\\n\")"
   ]
  },
  {
   "cell_type": "markdown",
   "id": "a058563b",
   "metadata": {},
   "source": [
    "**高阶处理**\n",
    "\n",
    "1. 多列合并\n",
    "2. 处理列名冲突\n"
   ]
  },
  {
   "cell_type": "code",
   "execution_count": 84,
   "id": "bf227071",
   "metadata": {},
   "outputs": [
    {
     "name": "stdout",
     "output_type": "stream",
     "text": [
      "  key  value  stars\n",
      "0   A      1   True\n",
      "1   B      2  False\n",
      "2   C      3   True\n",
      "3   D      4  False\n",
      "4   G      9   True\n",
      "\n",
      "\n",
      "  key  value  stars\n",
      "0   B      5   True\n",
      "1   D      6  False\n",
      "2   E      7   True\n",
      "3   F      8  False\n",
      "\n",
      "\n",
      "按key和stars进行内连接:\n",
      "  key  value_x  stars  value_y\n",
      "0   D        4  False        6\n",
      "\n",
      "\n",
      "按key和stars进行左连接，处理冲突名称（value）:\n",
      "  key  value_A  stars  value_B\n",
      "0   A        1   True      NaN\n",
      "1   B        2  False      NaN\n",
      "2   C        3   True      NaN\n",
      "3   D        4  False      6.0\n",
      "4   G        9   True      NaN\n"
     ]
    }
   ],
   "source": [
    "print(df_join_idx1)\n",
    "print(\"\\n\")\n",
    "print(df_join_idx2)\n",
    "print(\"\\n\")\n",
    "\n",
    "# 按照key和stars进行内连接\n",
    "print(\"按key和stars进行内连接:\")\n",
    "df_merge = pd.merge(df_join_idx1, df_join_idx2, how=\"inner\", on=[\"key\", \"stars\"])\n",
    "print(df_merge)  # 查看数据\n",
    "print(\"\\n\")\n",
    "\n",
    "# 按照key和stars进行左连接，处理冲突名称（value）\n",
    "print(\"按key和stars进行左连接，处理冲突名称（value）:\")\n",
    "df_merge = pd.merge(\n",
    "    df_join_idx1, df_join_idx2, how=\"left\", on=[\"key\", \"stars\"], suffixes=(\"_A\", \"_B\")\n",
    ")\n",
    "# suffixes表示冲突名称的后缀\n",
    "print(df_merge)  # 查看数据"
   ]
  },
  {
   "cell_type": "markdown",
   "id": "3190ef0e",
   "metadata": {},
   "source": [
    "#### 可视化\n"
   ]
  },
  {
   "cell_type": "markdown",
   "id": "f6ec6d1b",
   "metadata": {},
   "source": [
    "`Pandas`内置了画图库`matplotlib`的基础功能，需要安装库\n",
    "\n",
    "基础语法：\n",
    "\n",
    "1. `df.plot(kind='图形类型', ...,x='x轴内容',y='y轴内容')`\n",
    "2. `df['某列'].plot(kind='图形类型', ...)`\n",
    "   | **图类型** | **kind 值** | **适用场景** |\n",
    "   | --- | --- | --- |\n",
    "   | 折线图 | 'line'（默认） | 连续趋势、时间序列 |\n",
    "   | 条形图 | 'bar' | 分类别比较 |\n",
    "   | 条形图（水平） | 'barh' | 横向类别比较 |\n",
    "   | 直方图 | 'hist' | 数值分布 |\n",
    "   | 密度图 | 'kde' | 平滑版的直方图 |\n",
    "   | 饼图 | 'pie' | 比例关系（建议用于 Series） |\n",
    "   | 散点图 | 'scatter' | 数值相关性（二维） |\n",
    "   | 箱型图 | 'box' | 分布 + 离群点检测 |\n"
   ]
  },
  {
   "cell_type": "code",
   "execution_count": 85,
   "id": "18a4e783",
   "metadata": {},
   "outputs": [
    {
     "data": {
      "application/vnd.microsoft.datawrangler.viewer.v0+json": {
       "columns": [
        {
         "name": "index",
         "rawType": "int64",
         "type": "integer"
        },
        {
         "name": "Name",
         "rawType": "object",
         "type": "string"
        },
        {
         "name": "Age",
         "rawType": "int64",
         "type": "integer"
        },
        {
         "name": "Salary",
         "rawType": "int64",
         "type": "integer"
        },
        {
         "name": "City",
         "rawType": "object",
         "type": "string"
        },
        {
         "name": "Gender",
         "rawType": "object",
         "type": "string"
        }
       ],
       "conversionMethod": "pd.DataFrame",
       "ref": "20881d4c-38f3-4351-b64f-5e5181c53702",
       "rows": [
        [
         "0",
         "Marone",
         "25",
         "80000",
         "Houston",
         "M"
        ],
        [
         "1",
         "Alice",
         "25",
         "50000",
         "New York",
         "F"
        ],
        [
         "2",
         "Bob",
         "30",
         "60000",
         "Los Angeles",
         "M"
        ],
        [
         "3",
         "Lily",
         "34",
         "1000",
         "Rhode Island",
         "F"
        ],
        [
         "4",
         "Charlie",
         "35",
         "70000",
         "Chicago",
         "M"
        ],
        [
         "5",
         "Jack",
         "45",
         "90000",
         "Phoenix",
         "M"
        ],
        [
         "6",
         "Tom",
         "50",
         "100000",
         "Philadelphia",
         "M"
        ]
       ],
       "shape": {
        "columns": 5,
        "rows": 7
       }
      },
      "text/html": [
       "<div>\n",
       "<style scoped>\n",
       "    .dataframe tbody tr th:only-of-type {\n",
       "        vertical-align: middle;\n",
       "    }\n",
       "\n",
       "    .dataframe tbody tr th {\n",
       "        vertical-align: top;\n",
       "    }\n",
       "\n",
       "    .dataframe thead th {\n",
       "        text-align: right;\n",
       "    }\n",
       "</style>\n",
       "<table border=\"1\" class=\"dataframe\">\n",
       "  <thead>\n",
       "    <tr style=\"text-align: right;\">\n",
       "      <th></th>\n",
       "      <th>Name</th>\n",
       "      <th>Age</th>\n",
       "      <th>Salary</th>\n",
       "      <th>City</th>\n",
       "      <th>Gender</th>\n",
       "    </tr>\n",
       "  </thead>\n",
       "  <tbody>\n",
       "    <tr>\n",
       "      <th>0</th>\n",
       "      <td>Marone</td>\n",
       "      <td>25</td>\n",
       "      <td>80000</td>\n",
       "      <td>Houston</td>\n",
       "      <td>M</td>\n",
       "    </tr>\n",
       "    <tr>\n",
       "      <th>1</th>\n",
       "      <td>Alice</td>\n",
       "      <td>25</td>\n",
       "      <td>50000</td>\n",
       "      <td>New York</td>\n",
       "      <td>F</td>\n",
       "    </tr>\n",
       "    <tr>\n",
       "      <th>2</th>\n",
       "      <td>Bob</td>\n",
       "      <td>30</td>\n",
       "      <td>60000</td>\n",
       "      <td>Los Angeles</td>\n",
       "      <td>M</td>\n",
       "    </tr>\n",
       "    <tr>\n",
       "      <th>3</th>\n",
       "      <td>Lily</td>\n",
       "      <td>34</td>\n",
       "      <td>1000</td>\n",
       "      <td>Rhode Island</td>\n",
       "      <td>F</td>\n",
       "    </tr>\n",
       "    <tr>\n",
       "      <th>4</th>\n",
       "      <td>Charlie</td>\n",
       "      <td>35</td>\n",
       "      <td>70000</td>\n",
       "      <td>Chicago</td>\n",
       "      <td>M</td>\n",
       "    </tr>\n",
       "    <tr>\n",
       "      <th>5</th>\n",
       "      <td>Jack</td>\n",
       "      <td>45</td>\n",
       "      <td>90000</td>\n",
       "      <td>Phoenix</td>\n",
       "      <td>M</td>\n",
       "    </tr>\n",
       "    <tr>\n",
       "      <th>6</th>\n",
       "      <td>Tom</td>\n",
       "      <td>50</td>\n",
       "      <td>100000</td>\n",
       "      <td>Philadelphia</td>\n",
       "      <td>M</td>\n",
       "    </tr>\n",
       "  </tbody>\n",
       "</table>\n",
       "</div>"
      ],
      "text/plain": [
       "      Name  Age  Salary          City Gender\n",
       "0   Marone   25   80000       Houston      M\n",
       "1    Alice   25   50000      New York      F\n",
       "2      Bob   30   60000   Los Angeles      M\n",
       "3     Lily   34    1000  Rhode Island      F\n",
       "4  Charlie   35   70000       Chicago      M\n",
       "5     Jack   45   90000       Phoenix      M\n",
       "6      Tom   50  100000  Philadelphia      M"
      ]
     },
     "execution_count": 85,
     "metadata": {},
     "output_type": "execute_result"
    }
   ],
   "source": [
    "df.drop_duplicates(\n",
    "    ignore_index=True, inplace=True\n",
    ")  # 删除重复值，ignore_index=True表示重置索引\n",
    "df.iloc[3, 2] = 1000  # 修改数据\n",
    "df"
   ]
  },
  {
   "cell_type": "markdown",
   "id": "d7ad537e",
   "metadata": {},
   "source": [
    "##### **折线图**\n"
   ]
  },
  {
   "cell_type": "code",
   "execution_count": 86,
   "id": "473d990d",
   "metadata": {},
   "outputs": [
    {
     "data": {
      "text/plain": [
       "<Axes: title={'center': 'line 1'}>"
      ]
     },
     "execution_count": 86,
     "metadata": {},
     "output_type": "execute_result"
    },
    {
     "data": {
      "image/png": "[encoded data removed]",
      "text/plain": [
       "<Figure size 640x480 with 1 Axes>"
      ]
     },
     "metadata": {},
     "output_type": "display_data"
    }
   ],
   "source": [
    "df.plot(title=\"line 1\")  # 绘制折线图，title表示标题"
   ]
  },
  {
   "cell_type": "code",
   "execution_count": 87,
   "id": "6eb2127c",
   "metadata": {},
   "outputs": [
    {
     "data": {
      "text/plain": [
       "<Axes: title={'center': 'line 2'}>"
      ]
     },
     "execution_count": 87,
     "metadata": {},
     "output_type": "execute_result"
    },
    {
     "data": {
      "image/png": "[encoded data removed]",
      "text/plain": [
       "<Figure size 640x480 with 1 Axes>"
      ]
     },
     "metadata": {},
     "output_type": "display_data"
    }
   ],
   "source": [
    "# 绘制Salary折线图\n",
    "df[\"Salary\"].plot(title=\"line 2\", legend=True)  # legend=True表示显示图例"
   ]
  },
  {
   "cell_type": "markdown",
   "id": "1c5a54f9",
   "metadata": {},
   "source": [
    "##### **柱状图**\n"
   ]
  },
  {
   "cell_type": "code",
   "execution_count": 88,
   "id": "9ab7350b",
   "metadata": {},
   "outputs": [
    {
     "data": {
      "text/plain": [
       "<Axes: title={'center': 'Salary bar'}, xlabel='Name'>"
      ]
     },
     "execution_count": 88,
     "metadata": {},
     "output_type": "execute_result"
    },
    {
     "data": {
      "image/png": "[encoded data removed]",
      "text/plain": [
       "<Figure size 640x480 with 1 Axes>"
      ]
     },
     "metadata": {},
     "output_type": "display_data"
    }
   ],
   "source": [
    "df.plot(kind=\"bar\", x=\"Name\", y=\"Salary\", title=\"Salary bar\")  # 绘制柱状图，x轴为姓名"
   ]
  },
  {
   "cell_type": "code",
   "execution_count": 89,
   "id": "faadd26a",
   "metadata": {},
   "outputs": [
    {
     "data": {
      "text/plain": [
       "<Axes: title={'center': 'Salary barh'}, ylabel='Name'>"
      ]
     },
     "execution_count": 89,
     "metadata": {},
     "output_type": "execute_result"
    },
    {
     "data": {
      "image/png": "[encoded data removed]",
      "text/plain": [
       "<Figure size 640x480 with 1 Axes>"
      ]
     },
     "metadata": {},
     "output_type": "display_data"
    }
   ],
   "source": [
    "df.plot(\n",
    "    kind=\"barh\", x=\"Name\", y=\"Salary\", title=\"Salary barh\"\n",
    ")  # 绘制水平柱状图，x轴为姓名"
   ]
  },
  {
   "cell_type": "markdown",
   "id": "b2e30bec",
   "metadata": {},
   "source": [
    "##### **直方图**\n"
   ]
  },
  {
   "cell_type": "code",
   "execution_count": 90,
   "id": "0984ce33",
   "metadata": {},
   "outputs": [
    {
     "data": {
      "text/plain": [
       "<Axes: title={'center': 'Salary hist 1'}, ylabel='Frequency'>"
      ]
     },
     "execution_count": 90,
     "metadata": {},
     "output_type": "execute_result"
    },
    {
     "data": {
      "image/png": "[encoded data removed]",
      "text/plain": [
       "<Figure size 640x480 with 1 Axes>"
      ]
     },
     "metadata": {},
     "output_type": "display_data"
    }
   ],
   "source": [
    "# 薪资的直方图\n",
    "df[\"Salary\"].plot(kind=\"hist\", bins=5, title=\"Salary hist 1\")  # bins表示分成几组"
   ]
  },
  {
   "cell_type": "code",
   "execution_count": 91,
   "id": "08267bf3",
   "metadata": {},
   "outputs": [
    {
     "data": {
      "text/plain": [
       "<Axes: title={'center': 'Salary hist 2'}, ylabel='Frequency'>"
      ]
     },
     "execution_count": 91,
     "metadata": {},
     "output_type": "execute_result"
    },
    {
     "data": {
      "image/png": "[encoded data removed]",
      "text/plain": [
       "<Figure size 640x480 with 1 Axes>"
      ]
     },
     "metadata": {},
     "output_type": "display_data"
    }
   ],
   "source": [
    "df[\"Salary\"].plot(\n",
    "    kind=\"hist\", bins=5, cumulative=True, title=\"Salary hist 2\"\n",
    ")  # 累计直方图"
   ]
  },
  {
   "cell_type": "markdown",
   "id": "a4b7a1ec",
   "metadata": {},
   "source": [
    "##### **密度图**\n"
   ]
  },
  {
   "cell_type": "code",
   "execution_count": 92,
   "id": "fdff765e",
   "metadata": {},
   "outputs": [
    {
     "data": {
      "text/plain": [
       "<Axes: title={'center': 'Salary density'}, ylabel='Density'>"
      ]
     },
     "execution_count": 92,
     "metadata": {},
     "output_type": "execute_result"
    },
    {
     "data": {
      "image/png": "[encoded data removed]",
      "text/plain": [
       "<Figure size 640x480 with 1 Axes>"
      ]
     },
     "metadata": {},
     "output_type": "display_data"
    }
   ],
   "source": [
    "# 薪资的密度图\n",
    "df[\"Salary\"].plot(\n",
    "    kind=\"density\",  # 密度图，'kde'也可以\n",
    "    title=\"Salary density\",\n",
    "    alpha=0.5,  # 透明度，0-1之间，0表示完全透明，1表示完全不透明\n",
    "    color=\"red\",  # 颜色\n",
    "    linestyle=\"--\",  # 线条样式，有'-'、'--'、'-.'、':'等\n",
    "    linewidth=2,  # 线条宽度\n",
    "    grid=True,  # 网格线\n",
    "    xlim=(0, 200000),  # xlim表示x轴范围，可省略\n",
    ")"
   ]
  },
  {
   "cell_type": "markdown",
   "id": "c6dfedd5",
   "metadata": {},
   "source": [
    "##### **饼图**\n"
   ]
  },
  {
   "cell_type": "code",
   "execution_count": 93,
   "id": "041eddb8",
   "metadata": {},
   "outputs": [
    {
     "data": {
      "text/plain": [
       "<Axes: title={'center': 'Age pie'}, ylabel='count'>"
      ]
     },
     "execution_count": 93,
     "metadata": {},
     "output_type": "execute_result"
    },
    {
     "data": {
      "image/png": "[encoded data removed]",
      "text/plain": [
       "<Figure size 640x480 with 1 Axes>"
      ]
     },
     "metadata": {},
     "output_type": "display_data"
    }
   ],
   "source": [
    "# 绘制饼图，不同年龄段的数量\n",
    "age_counts = df[\"Age\"].value_counts()  # 统计不同年龄段的数量\n",
    "age_counts.plot(\n",
    "    kind=\"pie\",\n",
    "    legend=True,\n",
    "    title=\"Age pie\",\n",
    ")"
   ]
  },
  {
   "cell_type": "markdown",
   "id": "92748266",
   "metadata": {},
   "source": [
    "##### **散点图**\n"
   ]
  },
  {
   "cell_type": "code",
   "execution_count": 94,
   "id": "09468187",
   "metadata": {},
   "outputs": [
    {
     "data": {
      "text/plain": [
       "<Axes: title={'center': 'Age vs Salary'}, xlabel='Age', ylabel='Salary'>"
      ]
     },
     "execution_count": 94,
     "metadata": {},
     "output_type": "execute_result"
    },
    {
     "data": {
      "image/png": "[encoded data removed]",
      "text/plain": [
       "<Figure size 640x480 with 1 Axes>"
      ]
     },
     "metadata": {},
     "output_type": "display_data"
    }
   ],
   "source": [
    "df.plot(kind=\"scatter\", x=\"Age\", y=\"Salary\", title=\"Age vs Salary\")  # 绘制散点图"
   ]
  },
  {
   "cell_type": "markdown",
   "id": "5f870471",
   "metadata": {},
   "source": [
    "##### **箱型图**\n"
   ]
  },
  {
   "cell_type": "code",
   "execution_count": 95,
   "id": "01d1d0ae",
   "metadata": {},
   "outputs": [
    {
     "data": {
      "text/plain": [
       "<Axes: title={'center': 'Salary box'}>"
      ]
     },
     "execution_count": 95,
     "metadata": {},
     "output_type": "execute_result"
    },
    {
     "data": {
      "image/png": "[encoded data removed]",
      "text/plain": [
       "<Figure size 640x480 with 1 Axes>"
      ]
     },
     "metadata": {},
     "output_type": "display_data"
    }
   ],
   "source": [
    "df[\"Salary\"].plot(\n",
    "    kind=\"box\",\n",
    "    title=\"Salary box\",\n",
    "    showfliers=True,  # 显示异常值（默认）\n",
    "    showmeans=True,  # 显示均值（虚线）\n",
    "    meanline=True,  # 用线表示均值（而不是点）\n",
    "    patch_artist=True,  # 填充箱体颜色\n",
    "    boxprops={\"facecolor\": \"lightblue\"},  # 箱体样式\n",
    ")  # 绘制箱线图，查看年龄的分布情况"
   ]
  },
  {
   "cell_type": "markdown",
   "id": "6a8a8be8",
   "metadata": {},
   "source": [
    "#### map()\n"
   ]
  },
  {
   "cell_type": "markdown",
   "id": "2fae2f2c",
   "metadata": {},
   "source": [
    "- 只可用于一列数据: `df['一列']`或者`Series`\n"
   ]
  },
  {
   "cell_type": "code",
   "execution_count": 96,
   "id": "8b40208d",
   "metadata": {},
   "outputs": [
    {
     "data": {
      "application/vnd.microsoft.datawrangler.viewer.v0+json": {
       "columns": [
        {
         "name": "index",
         "rawType": "int64",
         "type": "integer"
        },
        {
         "name": "Name",
         "rawType": "object",
         "type": "string"
        },
        {
         "name": "Age",
         "rawType": "int64",
         "type": "integer"
        },
        {
         "name": "Salary",
         "rawType": "int64",
         "type": "integer"
        },
        {
         "name": "City",
         "rawType": "object",
         "type": "string"
        },
        {
         "name": "Gender",
         "rawType": "object",
         "type": "string"
        }
       ],
       "conversionMethod": "pd.DataFrame",
       "ref": "c50a34d0-053c-424c-95cd-52142cc4dece",
       "rows": [
        [
         "0",
         "Marone",
         "25",
         "80000",
         "Houston",
         "M"
        ],
        [
         "1",
         "Alice",
         "25",
         "50000",
         "New York",
         "F"
        ],
        [
         "2",
         "Bob",
         "30",
         "60000",
         "Los Angeles",
         "M"
        ],
        [
         "3",
         "Lily",
         "34",
         "1000",
         "Rhode Island",
         "F"
        ],
        [
         "4",
         "Charlie",
         "35",
         "70000",
         "Chicago",
         "M"
        ],
        [
         "5",
         "Jack",
         "45",
         "90000",
         "Phoenix",
         "M"
        ],
        [
         "6",
         "Tom",
         "50",
         "100000",
         "Philadelphia",
         "M"
        ]
       ],
       "shape": {
        "columns": 5,
        "rows": 7
       }
      },
      "text/html": [
       "<div>\n",
       "<style scoped>\n",
       "    .dataframe tbody tr th:only-of-type {\n",
       "        vertical-align: middle;\n",
       "    }\n",
       "\n",
       "    .dataframe tbody tr th {\n",
       "        vertical-align: top;\n",
       "    }\n",
       "\n",
       "    .dataframe thead th {\n",
       "        text-align: right;\n",
       "    }\n",
       "</style>\n",
       "<table border=\"1\" class=\"dataframe\">\n",
       "  <thead>\n",
       "    <tr style=\"text-align: right;\">\n",
       "      <th></th>\n",
       "      <th>Name</th>\n",
       "      <th>Age</th>\n",
       "      <th>Salary</th>\n",
       "      <th>City</th>\n",
       "      <th>Gender</th>\n",
       "    </tr>\n",
       "  </thead>\n",
       "  <tbody>\n",
       "    <tr>\n",
       "      <th>0</th>\n",
       "      <td>Marone</td>\n",
       "      <td>25</td>\n",
       "      <td>80000</td>\n",
       "      <td>Houston</td>\n",
       "      <td>M</td>\n",
       "    </tr>\n",
       "    <tr>\n",
       "      <th>1</th>\n",
       "      <td>Alice</td>\n",
       "      <td>25</td>\n",
       "      <td>50000</td>\n",
       "      <td>New York</td>\n",
       "      <td>F</td>\n",
       "    </tr>\n",
       "    <tr>\n",
       "      <th>2</th>\n",
       "      <td>Bob</td>\n",
       "      <td>30</td>\n",
       "      <td>60000</td>\n",
       "      <td>Los Angeles</td>\n",
       "      <td>M</td>\n",
       "    </tr>\n",
       "    <tr>\n",
       "      <th>3</th>\n",
       "      <td>Lily</td>\n",
       "      <td>34</td>\n",
       "      <td>1000</td>\n",
       "      <td>Rhode Island</td>\n",
       "      <td>F</td>\n",
       "    </tr>\n",
       "    <tr>\n",
       "      <th>4</th>\n",
       "      <td>Charlie</td>\n",
       "      <td>35</td>\n",
       "      <td>70000</td>\n",
       "      <td>Chicago</td>\n",
       "      <td>M</td>\n",
       "    </tr>\n",
       "    <tr>\n",
       "      <th>5</th>\n",
       "      <td>Jack</td>\n",
       "      <td>45</td>\n",
       "      <td>90000</td>\n",
       "      <td>Phoenix</td>\n",
       "      <td>M</td>\n",
       "    </tr>\n",
       "    <tr>\n",
       "      <th>6</th>\n",
       "      <td>Tom</td>\n",
       "      <td>50</td>\n",
       "      <td>100000</td>\n",
       "      <td>Philadelphia</td>\n",
       "      <td>M</td>\n",
       "    </tr>\n",
       "  </tbody>\n",
       "</table>\n",
       "</div>"
      ],
      "text/plain": [
       "      Name  Age  Salary          City Gender\n",
       "0   Marone   25   80000       Houston      M\n",
       "1    Alice   25   50000      New York      F\n",
       "2      Bob   30   60000   Los Angeles      M\n",
       "3     Lily   34    1000  Rhode Island      F\n",
       "4  Charlie   35   70000       Chicago      M\n",
       "5     Jack   45   90000       Phoenix      M\n",
       "6      Tom   50  100000  Philadelphia      M"
      ]
     },
     "execution_count": 96,
     "metadata": {},
     "output_type": "execute_result"
    }
   ],
   "source": [
    "df"
   ]
  },
  {
   "cell_type": "code",
   "execution_count": 97,
   "id": "103e3ccc",
   "metadata": {},
   "outputs": [
    {
     "data": {
      "application/vnd.microsoft.datawrangler.viewer.v0+json": {
       "columns": [
        {
         "name": "index",
         "rawType": "int64",
         "type": "integer"
        },
        {
         "name": "Name",
         "rawType": "object",
         "type": "string"
        },
        {
         "name": "Age",
         "rawType": "int64",
         "type": "integer"
        },
        {
         "name": "Salary",
         "rawType": "int64",
         "type": "integer"
        },
        {
         "name": "City",
         "rawType": "object",
         "type": "string"
        },
        {
         "name": "Gender",
         "rawType": "object",
         "type": "string"
        }
       ],
       "conversionMethod": "pd.DataFrame",
       "ref": "d9e0876c-4c5e-44f9-af28-cfb857c6ac47",
       "rows": [
        [
         "0",
         "Marone",
         "26",
         "80000",
         "Houston",
         "M"
        ],
        [
         "1",
         "Alice",
         "26",
         "50000",
         "New York",
         "F"
        ],
        [
         "2",
         "Bob",
         "31",
         "60000",
         "Los Angeles",
         "M"
        ],
        [
         "3",
         "Lily",
         "35",
         "1000",
         "Rhode Island",
         "F"
        ],
        [
         "4",
         "Charlie",
         "36",
         "70000",
         "Chicago",
         "M"
        ],
        [
         "5",
         "Jack",
         "46",
         "90000",
         "Phoenix",
         "M"
        ],
        [
         "6",
         "Tom",
         "51",
         "100000",
         "Philadelphia",
         "M"
        ]
       ],
       "shape": {
        "columns": 5,
        "rows": 7
       }
      },
      "text/html": [
       "<div>\n",
       "<style scoped>\n",
       "    .dataframe tbody tr th:only-of-type {\n",
       "        vertical-align: middle;\n",
       "    }\n",
       "\n",
       "    .dataframe tbody tr th {\n",
       "        vertical-align: top;\n",
       "    }\n",
       "\n",
       "    .dataframe thead th {\n",
       "        text-align: right;\n",
       "    }\n",
       "</style>\n",
       "<table border=\"1\" class=\"dataframe\">\n",
       "  <thead>\n",
       "    <tr style=\"text-align: right;\">\n",
       "      <th></th>\n",
       "      <th>Name</th>\n",
       "      <th>Age</th>\n",
       "      <th>Salary</th>\n",
       "      <th>City</th>\n",
       "      <th>Gender</th>\n",
       "    </tr>\n",
       "  </thead>\n",
       "  <tbody>\n",
       "    <tr>\n",
       "      <th>0</th>\n",
       "      <td>Marone</td>\n",
       "      <td>26</td>\n",
       "      <td>80000</td>\n",
       "      <td>Houston</td>\n",
       "      <td>M</td>\n",
       "    </tr>\n",
       "    <tr>\n",
       "      <th>1</th>\n",
       "      <td>Alice</td>\n",
       "      <td>26</td>\n",
       "      <td>50000</td>\n",
       "      <td>New York</td>\n",
       "      <td>F</td>\n",
       "    </tr>\n",
       "    <tr>\n",
       "      <th>2</th>\n",
       "      <td>Bob</td>\n",
       "      <td>31</td>\n",
       "      <td>60000</td>\n",
       "      <td>Los Angeles</td>\n",
       "      <td>M</td>\n",
       "    </tr>\n",
       "    <tr>\n",
       "      <th>3</th>\n",
       "      <td>Lily</td>\n",
       "      <td>35</td>\n",
       "      <td>1000</td>\n",
       "      <td>Rhode Island</td>\n",
       "      <td>F</td>\n",
       "    </tr>\n",
       "    <tr>\n",
       "      <th>4</th>\n",
       "      <td>Charlie</td>\n",
       "      <td>36</td>\n",
       "      <td>70000</td>\n",
       "      <td>Chicago</td>\n",
       "      <td>M</td>\n",
       "    </tr>\n",
       "    <tr>\n",
       "      <th>5</th>\n",
       "      <td>Jack</td>\n",
       "      <td>46</td>\n",
       "      <td>90000</td>\n",
       "      <td>Phoenix</td>\n",
       "      <td>M</td>\n",
       "    </tr>\n",
       "    <tr>\n",
       "      <th>6</th>\n",
       "      <td>Tom</td>\n",
       "      <td>51</td>\n",
       "      <td>100000</td>\n",
       "      <td>Philadelphia</td>\n",
       "      <td>M</td>\n",
       "    </tr>\n",
       "  </tbody>\n",
       "</table>\n",
       "</div>"
      ],
      "text/plain": [
       "      Name  Age  Salary          City Gender\n",
       "0   Marone   26   80000       Houston      M\n",
       "1    Alice   26   50000      New York      F\n",
       "2      Bob   31   60000   Los Angeles      M\n",
       "3     Lily   35    1000  Rhode Island      F\n",
       "4  Charlie   36   70000       Chicago      M\n",
       "5     Jack   46   90000       Phoenix      M\n",
       "6      Tom   51  100000  Philadelphia      M"
      ]
     },
     "execution_count": 97,
     "metadata": {},
     "output_type": "execute_result"
    }
   ],
   "source": [
    "# 给年龄都加1岁\n",
    "df[\"Age\"] = df[\"Age\"].map(lambda x: x + 1)  # map函数，给每个元素加1\n",
    "df"
   ]
  },
  {
   "cell_type": "code",
   "execution_count": 98,
   "id": "eba5be08",
   "metadata": {},
   "outputs": [
    {
     "data": {
      "application/vnd.microsoft.datawrangler.viewer.v0+json": {
       "columns": [
        {
         "name": "index",
         "rawType": "int64",
         "type": "integer"
        },
        {
         "name": "Name",
         "rawType": "object",
         "type": "string"
        },
        {
         "name": "Age",
         "rawType": "int64",
         "type": "integer"
        },
        {
         "name": "Salary",
         "rawType": "int64",
         "type": "integer"
        },
        {
         "name": "City",
         "rawType": "object",
         "type": "string"
        },
        {
         "name": "Gender",
         "rawType": "object",
         "type": "string"
        }
       ],
       "conversionMethod": "pd.DataFrame",
       "ref": "cbf3b51d-6cd8-4e95-b572-ddc17bbae9a3",
       "rows": [
        [
         "0",
         "Marone",
         "26",
         "80000",
         "Houston",
         "男"
        ],
        [
         "1",
         "Alice",
         "26",
         "50000",
         "New York",
         "女"
        ],
        [
         "2",
         "Bob",
         "31",
         "60000",
         "Los Angeles",
         "男"
        ],
        [
         "3",
         "Lily",
         "35",
         "1000",
         "Rhode Island",
         "女"
        ],
        [
         "4",
         "Charlie",
         "36",
         "70000",
         "Chicago",
         "男"
        ],
        [
         "5",
         "Jack",
         "46",
         "90000",
         "Phoenix",
         "男"
        ],
        [
         "6",
         "Tom",
         "51",
         "100000",
         "Philadelphia",
         "男"
        ]
       ],
       "shape": {
        "columns": 5,
        "rows": 7
       }
      },
      "text/html": [
       "<div>\n",
       "<style scoped>\n",
       "    .dataframe tbody tr th:only-of-type {\n",
       "        vertical-align: middle;\n",
       "    }\n",
       "\n",
       "    .dataframe tbody tr th {\n",
       "        vertical-align: top;\n",
       "    }\n",
       "\n",
       "    .dataframe thead th {\n",
       "        text-align: right;\n",
       "    }\n",
       "</style>\n",
       "<table border=\"1\" class=\"dataframe\">\n",
       "  <thead>\n",
       "    <tr style=\"text-align: right;\">\n",
       "      <th></th>\n",
       "      <th>Name</th>\n",
       "      <th>Age</th>\n",
       "      <th>Salary</th>\n",
       "      <th>City</th>\n",
       "      <th>Gender</th>\n",
       "    </tr>\n",
       "  </thead>\n",
       "  <tbody>\n",
       "    <tr>\n",
       "      <th>0</th>\n",
       "      <td>Marone</td>\n",
       "      <td>26</td>\n",
       "      <td>80000</td>\n",
       "      <td>Houston</td>\n",
       "      <td>男</td>\n",
       "    </tr>\n",
       "    <tr>\n",
       "      <th>1</th>\n",
       "      <td>Alice</td>\n",
       "      <td>26</td>\n",
       "      <td>50000</td>\n",
       "      <td>New York</td>\n",
       "      <td>女</td>\n",
       "    </tr>\n",
       "    <tr>\n",
       "      <th>2</th>\n",
       "      <td>Bob</td>\n",
       "      <td>31</td>\n",
       "      <td>60000</td>\n",
       "      <td>Los Angeles</td>\n",
       "      <td>男</td>\n",
       "    </tr>\n",
       "    <tr>\n",
       "      <th>3</th>\n",
       "      <td>Lily</td>\n",
       "      <td>35</td>\n",
       "      <td>1000</td>\n",
       "      <td>Rhode Island</td>\n",
       "      <td>女</td>\n",
       "    </tr>\n",
       "    <tr>\n",
       "      <th>4</th>\n",
       "      <td>Charlie</td>\n",
       "      <td>36</td>\n",
       "      <td>70000</td>\n",
       "      <td>Chicago</td>\n",
       "      <td>男</td>\n",
       "    </tr>\n",
       "    <tr>\n",
       "      <th>5</th>\n",
       "      <td>Jack</td>\n",
       "      <td>46</td>\n",
       "      <td>90000</td>\n",
       "      <td>Phoenix</td>\n",
       "      <td>男</td>\n",
       "    </tr>\n",
       "    <tr>\n",
       "      <th>6</th>\n",
       "      <td>Tom</td>\n",
       "      <td>51</td>\n",
       "      <td>100000</td>\n",
       "      <td>Philadelphia</td>\n",
       "      <td>男</td>\n",
       "    </tr>\n",
       "  </tbody>\n",
       "</table>\n",
       "</div>"
      ],
      "text/plain": [
       "      Name  Age  Salary          City Gender\n",
       "0   Marone   26   80000       Houston      男\n",
       "1    Alice   26   50000      New York      女\n",
       "2      Bob   31   60000   Los Angeles      男\n",
       "3     Lily   35    1000  Rhode Island      女\n",
       "4  Charlie   36   70000       Chicago      男\n",
       "5     Jack   46   90000       Phoenix      男\n",
       "6      Tom   51  100000  Philadelphia      男"
      ]
     },
     "execution_count": 98,
     "metadata": {},
     "output_type": "execute_result"
    }
   ],
   "source": [
    "# 把性别改为中文\n",
    "df[\"Gender\"] = df[\"Gender\"].map({\"M\": \"男\", \"F\": \"女\"})  # map函数，给每个元素改为中文\n",
    "df"
   ]
  },
  {
   "cell_type": "code",
   "execution_count": 99,
   "id": "ac7885e6",
   "metadata": {},
   "outputs": [
    {
     "data": {
      "application/vnd.microsoft.datawrangler.viewer.v0+json": {
       "columns": [
        {
         "name": "index",
         "rawType": "int64",
         "type": "integer"
        },
        {
         "name": "Name",
         "rawType": "object",
         "type": "string"
        },
        {
         "name": "Age",
         "rawType": "int64",
         "type": "integer"
        },
        {
         "name": "Salary",
         "rawType": "int64",
         "type": "integer"
        },
        {
         "name": "City",
         "rawType": "object",
         "type": "string"
        },
        {
         "name": "Gender",
         "rawType": "object",
         "type": "string"
        },
        {
         "name": "年龄段",
         "rawType": "object",
         "type": "string"
        }
       ],
       "conversionMethod": "pd.DataFrame",
       "ref": "dda84898-1a3e-45c9-85db-39cc178c4615",
       "rows": [
        [
         "0",
         "Marone",
         "26",
         "80000",
         "Houston",
         "男",
         "青年"
        ],
        [
         "1",
         "Alice",
         "26",
         "50000",
         "New York",
         "女",
         "青年"
        ],
        [
         "2",
         "Bob",
         "31",
         "60000",
         "Los Angeles",
         "男",
         "中年"
        ],
        [
         "3",
         "Lily",
         "35",
         "1000",
         "Rhode Island",
         "女",
         "中年"
        ],
        [
         "4",
         "Charlie",
         "36",
         "70000",
         "Chicago",
         "男",
         "中年"
        ],
        [
         "5",
         "Jack",
         "46",
         "90000",
         "Phoenix",
         "男",
         "中年"
        ],
        [
         "6",
         "Tom",
         "51",
         "100000",
         "Philadelphia",
         "男",
         "老年"
        ]
       ],
       "shape": {
        "columns": 6,
        "rows": 7
       }
      },
      "text/html": [
       "<div>\n",
       "<style scoped>\n",
       "    .dataframe tbody tr th:only-of-type {\n",
       "        vertical-align: middle;\n",
       "    }\n",
       "\n",
       "    .dataframe tbody tr th {\n",
       "        vertical-align: top;\n",
       "    }\n",
       "\n",
       "    .dataframe thead th {\n",
       "        text-align: right;\n",
       "    }\n",
       "</style>\n",
       "<table border=\"1\" class=\"dataframe\">\n",
       "  <thead>\n",
       "    <tr style=\"text-align: right;\">\n",
       "      <th></th>\n",
       "      <th>Name</th>\n",
       "      <th>Age</th>\n",
       "      <th>Salary</th>\n",
       "      <th>City</th>\n",
       "      <th>Gender</th>\n",
       "      <th>年龄段</th>\n",
       "    </tr>\n",
       "  </thead>\n",
       "  <tbody>\n",
       "    <tr>\n",
       "      <th>0</th>\n",
       "      <td>Marone</td>\n",
       "      <td>26</td>\n",
       "      <td>80000</td>\n",
       "      <td>Houston</td>\n",
       "      <td>男</td>\n",
       "      <td>青年</td>\n",
       "    </tr>\n",
       "    <tr>\n",
       "      <th>1</th>\n",
       "      <td>Alice</td>\n",
       "      <td>26</td>\n",
       "      <td>50000</td>\n",
       "      <td>New York</td>\n",
       "      <td>女</td>\n",
       "      <td>青年</td>\n",
       "    </tr>\n",
       "    <tr>\n",
       "      <th>2</th>\n",
       "      <td>Bob</td>\n",
       "      <td>31</td>\n",
       "      <td>60000</td>\n",
       "      <td>Los Angeles</td>\n",
       "      <td>男</td>\n",
       "      <td>中年</td>\n",
       "    </tr>\n",
       "    <tr>\n",
       "      <th>3</th>\n",
       "      <td>Lily</td>\n",
       "      <td>35</td>\n",
       "      <td>1000</td>\n",
       "      <td>Rhode Island</td>\n",
       "      <td>女</td>\n",
       "      <td>中年</td>\n",
       "    </tr>\n",
       "    <tr>\n",
       "      <th>4</th>\n",
       "      <td>Charlie</td>\n",
       "      <td>36</td>\n",
       "      <td>70000</td>\n",
       "      <td>Chicago</td>\n",
       "      <td>男</td>\n",
       "      <td>中年</td>\n",
       "    </tr>\n",
       "    <tr>\n",
       "      <th>5</th>\n",
       "      <td>Jack</td>\n",
       "      <td>46</td>\n",
       "      <td>90000</td>\n",
       "      <td>Phoenix</td>\n",
       "      <td>男</td>\n",
       "      <td>中年</td>\n",
       "    </tr>\n",
       "    <tr>\n",
       "      <th>6</th>\n",
       "      <td>Tom</td>\n",
       "      <td>51</td>\n",
       "      <td>100000</td>\n",
       "      <td>Philadelphia</td>\n",
       "      <td>男</td>\n",
       "      <td>老年</td>\n",
       "    </tr>\n",
       "  </tbody>\n",
       "</table>\n",
       "</div>"
      ],
      "text/plain": [
       "      Name  Age  Salary          City Gender 年龄段\n",
       "0   Marone   26   80000       Houston      男  青年\n",
       "1    Alice   26   50000      New York      女  青年\n",
       "2      Bob   31   60000   Los Angeles      男  中年\n",
       "3     Lily   35    1000  Rhode Island      女  中年\n",
       "4  Charlie   36   70000       Chicago      男  中年\n",
       "5     Jack   46   90000       Phoenix      男  中年\n",
       "6      Tom   51  100000  Philadelphia      男  老年"
      ]
     },
     "execution_count": 99,
     "metadata": {},
     "output_type": "execute_result"
    }
   ],
   "source": [
    "def age_category(age):  # 定义一个函数，给年龄分类\n",
    "    if age < 30:\n",
    "        return \"青年\"\n",
    "    elif age < 50:\n",
    "        return \"中年\"\n",
    "    else:\n",
    "        return \"老年\"\n",
    "\n",
    "\n",
    "df[\"年龄段\"] = df[\"Age\"].map(age_category)  # map函数，给每个元素分类\n",
    "df"
   ]
  },
  {
   "cell_type": "code",
   "execution_count": null,
   "id": "d53b51d7",
   "metadata": {},
   "outputs": [],
   "source": []
  },
  {
   "cell_type": "markdown",
   "id": "c7d6655d",
   "metadata": {},
   "source": [
    "## 字符串处理\n"
   ]
  },
  {
   "cell_type": "markdown",
   "id": "92c67dc6",
   "metadata": {},
   "source": [
    "### re 正则\n"
   ]
  },
  {
   "cell_type": "markdown",
   "id": "0df1ae0a",
   "metadata": {},
   "source": [
    "| **语法** | **准确含义**                                         | **示例**                           | **注意事项**                                                                   |\n",
    "| -------- | ---------------------------------------------------- | ---------------------------------- | ------------------------------------------------------------------------------ |\n",
    "| `.`      | 匹配任意**单个**字符（除换行符  `\\n`）               | `a.c` → \"abc\", \"a-c\"               | 如需匹配真正的  `.`，需转义  `\\.`                                              |\n",
    "| `\\.`     | 匹配字符  `.`                                        | `example\\.com` → \"example.com\"     | 转义特殊字符                                                                   |\n",
    "| `[]`     | 匹配字符集`[]`中的任意一个字符                       | `[aeiou]` → 匹配任意元音字母       | 特殊字符（如  `.`、`*`）在  `[]`内失去特殊意义                                 |\n",
    "| `[.-]`   | 匹配  `.`  或  `-`（在字符集内）                     | `[a-z.-]` → 匹配小写字母、`.`、`-` | 在  `[]`  内，`.`  和  `-`  通常不需要转义（除非  `-`  表示范围，如  `[a-z]`） |\n",
    "| `+`      | 匹配前一个字符  **1 次或多次**                       | `a+` → \"a\", \"aaa\"                  | 贪婪匹配                                                                       |\n",
    "| `\\d`     | 匹配数字，等价于  `[0-9]`                            | `\\d+` → \"123\"                      |                                                                                |\n",
    "| `\\w`     | 匹配单词字符（字母、数字、下划线）                   | `\\w+` → \"user_123\"                 | 等价于  `[A-Za-z0-9_]`                                                         |\n",
    "| `\\s`     | 匹配空白字符（空格、制表符  `\\t`、换行符  `\\n`  等） | `\\s+` → \" \\t\\n\"                    |                                                                                |\n",
    "| `\\b`     | 匹配单词边界（非字符）                               | `\\bword\\b` → 匹配独立的 \"word\"     | 边界是零宽断言（不消耗字符）                                                   |\n",
    "| `^`      | 匹配字符串开头                                       | `^Start` → \"Start\" 开头            | 多行模式下 (`re.M`) 也匹配行首                                                 |\n",
    "| `$`      | 匹配字符串结尾                                       | `end$` → \"end\" 结尾                | 多行模式下 (`re.M`) 也匹配行尾                                                 |\n",
    "| `*`      | 匹配前一个字符  **0 次或多次**                       | `a*` → \"\", \"a\", \"aaa\"              | 贪婪匹配（尽可能多）                                                           |\n",
    "| `{n}`    | 匹配 n 次                                            | `a{3}` → \"aaa\"                     |                                                                                |\n",
    "| `{m,n}`  | 匹配前一个字符  **m 到 n 次**                        | `a{2,4}` → \"aa\", \"aaa\", \"aaaa\"     | `{m}`  表示精确 m 次，`{m,}`  表示至少 m 次                                    |\n",
    "| `{m,}`   | 匹配至少  `m`  次（无上限）                          | `a{2,}` → \"aa\", \"aaa\", ...         |                                                                                |\n",
    "| `{,n}`   | 匹配最多  `n`  次（部分语言支持）                    | `a{,3}` → \"\", \"a\", \"aa\", \"aaa\"     |                                                                                |\n",
    "| `()`     | 分组捕获并提取内容                                   | `(abc)+` → \"abcabc\"                | 可通过  `group()`  获取分组内容                                                |\n",
    "| `@`      | 匹配字符  `@`                                        | `\\w+@\\w+\\.com` → 匹配邮箱          | 普通字符，无特殊意义                                                           |\n"
   ]
  },
  {
   "cell_type": "markdown",
   "id": "81e469fc",
   "metadata": {},
   "source": [
    "| **函数/方法**                  | **作用**                         |\n",
    "| ------------------------------ | -------------------------------- |\n",
    "| `re.match(syntax, string)`     | 从字符串**开头**匹配             |\n",
    "| `re.search(syntax, string) `   | 在字符串中查找**第一个**匹配     |\n",
    "| `re.findall(syntax, string)`   | 找到**所有**匹配项，返回列表     |\n",
    "| `re.finditer(syntax, string)`  | 返回所有匹配项的迭代器           |\n",
    "| `re.sub(syntax, repl, string)` | 用 repl 替换匹配到的字符串       |\n",
    "| `re.compile(syntax)  `         | 编译正则表达式，返回一个正则对象 |\n",
    "\n",
    "**`syntax`:正则语法**\n",
    "\n",
    "**`string`: 字符串**\n"
   ]
  },
  {
   "cell_type": "code",
   "execution_count": 100,
   "id": "a712989d",
   "metadata": {},
   "outputs": [
    {
     "name": "stdout",
     "output_type": "stream",
     "text": [
      "example@mail.com\n"
     ]
    }
   ],
   "source": [
    "import re\n",
    "\n",
    "text = \"我的邮箱是 example@mail.com\"\n",
    "match = re.search(r\"\\b[\\w.-]+@[\\w.-]+\\.\\w+\\b\", text)  # 正则表达式匹配邮箱\n",
    "print(match.group())  # 输出: example@mail.com"
   ]
  },
  {
   "cell_type": "code",
   "execution_count": 101,
   "id": "1f49c778",
   "metadata": {},
   "outputs": [
    {
     "name": "stdout",
     "output_type": "stream",
     "text": [
      "['23', '100']\n"
     ]
    }
   ],
   "source": [
    "text = \"今天花了23元，昨天花了100元\"\n",
    "nums = re.findall(r\"\\d+\", text)\n",
    "print(nums)  # 输出: ['23', '100']"
   ]
  },
  {
   "cell_type": "code",
   "execution_count": 102,
   "id": "f3fff82b",
   "metadata": {},
   "outputs": [
    {
     "name": "stdout",
     "output_type": "stream",
     "text": [
      "请联系我老婆：153****0737\n"
     ]
    }
   ],
   "source": [
    "text = \"请联系我老婆：15356170737\"\n",
    "new_text = re.sub(r\"(\\d{3})\\d{4}(\\d{4})\", r\"\\1****\\2\", text)\n",
    "print(new_text)  # 输出: 请联系我：138****5678"
   ]
  },
  {
   "cell_type": "markdown",
   "id": "2491554d",
   "metadata": {},
   "source": [
    "### textwrap\n"
   ]
  },
  {
   "cell_type": "markdown",
   "id": "c41388d7",
   "metadata": {},
   "source": [
    "| **函数**                         | **说明**                                 |\n",
    "| -------------------------------- | ---------------------------------------- |\n",
    "| textwrap.wrap(text, width=70)    | 将长文本按指定宽度拆分成一个列表         |\n",
    "| textwrap.fill(text, width=70)    | 将长文本格式化为一个段落字符串（带换行） |\n",
    "| textwrap.shorten(text, width=50) | 将文本缩短为指定宽度，末尾加 ...         |\n",
    "| textwrap.indent(text, prefix)    | 为文本每一行添加前缀（缩进）             |\n",
    "| textwrap.dedent(text)            | 去除多行文本的统一缩进                   |\n"
   ]
  },
  {
   "cell_type": "code",
   "execution_count": 103,
   "id": "160acd5f",
   "metadata": {},
   "outputs": [
    {
     "name": "stdout",
     "output_type": "stream",
     "text": [
      "['This is a', 'very long', 'sentence', 'that needs', 'wrapping.']\n"
     ]
    }
   ],
   "source": [
    "import textwrap\n",
    "\n",
    "text = \"This is a very long sentence that needs wrapping.\"\n",
    "wrapped_text = textwrap.wrap(text, width=10)\n",
    "print(wrapped_text)  # 自动换行，返回一个列表"
   ]
  },
  {
   "cell_type": "code",
   "execution_count": 104,
   "id": "7d00bd3e",
   "metadata": {},
   "outputs": [
    {
     "name": "stdout",
     "output_type": "stream",
     "text": [
      "This is a\n",
      "very long\n",
      "sentence\n",
      "that needs\n",
      "wrapping.\n"
     ]
    }
   ],
   "source": [
    "print(textwrap.fill(text, width=10))"
   ]
  },
  {
   "cell_type": "code",
   "execution_count": 105,
   "id": "458806c9",
   "metadata": {},
   "outputs": [
    {
     "name": "stdout",
     "output_type": "stream",
     "text": [
      ">>> 这是一些\n",
      ">>> 要输出的\n",
      ">>> 内容\n"
     ]
    }
   ],
   "source": [
    "paragraph = textwrap.fill(\"这是一些要输出的内容\", width=4)\n",
    "indented = textwrap.indent(paragraph, prefix=\">>> \")\n",
    "print(indented)"
   ]
  },
  {
   "cell_type": "code",
   "execution_count": 106,
   "id": "d81f3bec",
   "metadata": {},
   "outputs": [
    {
     "name": "stdout",
     "output_type": "stream",
     "text": [
      "\n",
      "第一行内容\n",
      "第二行内容\n",
      "\n"
     ]
    }
   ],
   "source": [
    "text = \"\"\"\n",
    "    第一行内容\n",
    "    第二行内容\n",
    "\"\"\"\n",
    "print(textwrap.dedent(text))"
   ]
  },
  {
   "cell_type": "markdown",
   "id": "6723c047",
   "metadata": {},
   "source": [
    "# 作业\n"
   ]
  },
  {
   "cell_type": "code",
   "execution_count": 107,
   "id": "c942dcef",
   "metadata": {},
   "outputs": [
    {
     "name": "stdout",
     "output_type": "stream",
     "text": [
      "    ID    Name  Age       Hobby       City Gender\n",
      "0  524  Marone   25        YiYi  Guangzhou      M\n",
      "1  702    YiYi   21      Marone   Hangzhou      F\n",
      "2  987    Jack   22  Basketball   Shenzhen      M\n",
      "3  434    Tony   28    Football   Shanghai      M\n",
      "4   32  Linlin   24          LV    Tianjin      F\n",
      "5  234    Reza   36         LLM     Tehran      M\n",
      "6   23  Xavier   68       Power     London      M\n",
      "7   53   Logan  120       Squat  Edinburgh      M\n",
      "8   55    Jane   28    Deadpull    Houston    NaN\n",
      "9   15  Khalil   43     NeoSoul   Hongkong      M\n"
     ]
    }
   ],
   "source": [
    "# Q1: 读取data_Class_5.xls文件的students表格，这个没讲，自己查一下怎么解决。sheet_name = \"students\"\n",
    "df_xls = pd.read_excel(\"data_Class_5.xls\", sheet_name=sheet_name)\n",
    "df_xls = df_xls.drop_duplicates()\n",
    "print(df_xls)"
   ]
  },
  {
   "cell_type": "code",
   "execution_count": 108,
   "id": "651bfd99",
   "metadata": {},
   "outputs": [
    {
     "data": {
      "text/html": [
       "<div>\n",
       "<style scoped>\n",
       "    .dataframe tbody tr th:only-of-type {\n",
       "        vertical-align: middle;\n",
       "    }\n",
       "\n",
       "    .dataframe tbody tr th {\n",
       "        vertical-align: top;\n",
       "    }\n",
       "\n",
       "    .dataframe thead th {\n",
       "        text-align: right;\n",
       "    }\n",
       "</style>\n",
       "<table border=\"1\" class=\"dataframe\">\n",
       "  <thead>\n",
       "    <tr style=\"text-align: right;\">\n",
       "      <th></th>\n",
       "      <th>ID</th>\n",
       "      <th>Name</th>\n",
       "      <th>Age</th>\n",
       "      <th>Hobby</th>\n",
       "      <th>City</th>\n",
       "      <th>Gender</th>\n",
       "    </tr>\n",
       "  </thead>\n",
       "  <tbody>\n",
       "    <tr>\n",
       "      <th>0</th>\n",
       "      <td>524</td>\n",
       "      <td>Marone</td>\n",
       "      <td>25</td>\n",
       "      <td>YiYi</td>\n",
       "      <td>Guangzhou</td>\n",
       "      <td>M</td>\n",
       "    </tr>\n",
       "    <tr>\n",
       "      <th>1</th>\n",
       "      <td>702</td>\n",
       "      <td>YiYi</td>\n",
       "      <td>21</td>\n",
       "      <td>Marone</td>\n",
       "      <td>Hangzhou</td>\n",
       "      <td>F</td>\n",
       "    </tr>\n",
       "    <tr>\n",
       "      <th>2</th>\n",
       "      <td>987</td>\n",
       "      <td>Jack</td>\n",
       "      <td>22</td>\n",
       "      <td>Basketball</td>\n",
       "      <td>Shenzhen</td>\n",
       "      <td>M</td>\n",
       "    </tr>\n",
       "    <tr>\n",
       "      <th>3</th>\n",
       "      <td>434</td>\n",
       "      <td>Tony</td>\n",
       "      <td>28</td>\n",
       "      <td>Football</td>\n",
       "      <td>Shanghai</td>\n",
       "      <td>M</td>\n",
       "    </tr>\n",
       "    <tr>\n",
       "      <th>4</th>\n",
       "      <td>32</td>\n",
       "      <td>Linlin</td>\n",
       "      <td>24</td>\n",
       "      <td>LV</td>\n",
       "      <td>Tianjin</td>\n",
       "      <td>F</td>\n",
       "    </tr>\n",
       "  </tbody>\n",
       "</table>\n",
       "</div>"
      ],
      "text/plain": [
       "    ID    Name  Age       Hobby       City Gender\n",
       "0  524  Marone   25        YiYi  Guangzhou      M\n",
       "1  702    YiYi   21      Marone   Hangzhou      F\n",
       "2  987    Jack   22  Basketball   Shenzhen      M\n",
       "3  434    Tony   28    Football   Shanghai      M\n",
       "4   32  Linlin   24          LV    Tianjin      F"
      ]
     },
     "execution_count": 108,
     "metadata": {},
     "output_type": "execute_result"
    }
   ],
   "source": [
    "# Q2: 展示表格的前5行数据df_xls.head()"
   ]
  },
  {
   "cell_type": "code",
   "execution_count": 109,
   "id": "56c57a4f",
   "metadata": {},
   "outputs": [
    {
     "name": "stdout",
     "output_type": "stream",
     "text": [
      "              Name  Age       Hobby       City Gender\n",
      "Student ID                                           \n",
      "524         Marone   25        YiYi  Guangzhou      M\n",
      "702           YiYi   21      Marone   Hangzhou      F\n",
      "987           Jack   22  Basketball   Shenzhen      M\n",
      "434           Tony   28    Football   Shanghai      M\n",
      "32          Linlin   24          LV    Tianjin      F\n",
      "234           Reza   36         LLM     Tehran      M\n",
      "23          Xavier   68       Power     London      M\n",
      "53           Logan  120       Squat  Edinburgh      M\n",
      "55            Jane   28    Deadpull    Houston    NaN\n",
      "15          Khalil   43     NeoSoul   Hongkong      M\n"
     ]
    }
   ],
   "source": [
    "# Q3: 把ID改成Student_ID，并把它设置为索引headers = [\"Student ID\", \"Name\", \"Age\", \"Hobby\", \"City\", \"Gender\"]\n",
    "df_xls.columns = headers\n",
    "df_xls.set_index(\"Student ID\", inplace=True)\n",
    "print(df_xls)"
   ]
  },
  {
   "cell_type": "code",
   "execution_count": 110,
   "id": "c5a1748a",
   "metadata": {},
   "outputs": [
    {
     "name": "stdout",
     "output_type": "stream",
     "text": [
      "             Name    Age  Hobby   City  Gender\n",
      "Student ID                                    \n",
      "524         False  False  False  False   False\n",
      "702         False  False  False  False   False\n",
      "987         False  False  False  False   False\n",
      "434         False  False  False  False   False\n",
      "32          False  False  False  False   False\n",
      "234         False  False  False  False   False\n",
      "23          False  False  False  False   False\n",
      "53          False  False  False  False   False\n",
      "55          False  False  False  False    True\n",
      "15          False  False  False  False   False\n",
      "              Name  Age       Hobby       City Gender\n",
      "Student ID                                           \n",
      "524         Marone   25        YiYi  Guangzhou      M\n",
      "702           YiYi   21      Marone   Hangzhou      F\n",
      "987           Jack   22  Basketball   Shenzhen      M\n",
      "434           Tony   28    Football   Shanghai      M\n",
      "32          Linlin   24          LV    Tianjin      F\n",
      "234           Reza   36         LLM     Tehran      M\n",
      "23          Xavier   68       Power     London      M\n",
      "53           Logan  120       Squat  Edinburgh      M\n",
      "55            Jane   28    Deadpull    Houston      M\n",
      "15          Khalil   43     NeoSoul   Hongkong      M\n"
     ]
    },
    {
     "name": "stderr",
     "output_type": "stream",
     "text": [
      "/var/folders/90/6ryx7gbj7yz5l2lshmgqprnw0000gp/T/ipykernel_22732/1047568525.py:3: FutureWarning: A value is trying to be set on a copy of a DataFrame or Series through chained assignment using an inplace method.\n",
      "The behavior will change in pandas 3.0. This inplace method will never work because the intermediate object on which we are setting values always behaves as a copy.\n",
      "\n",
      "For example, when doing 'df[col].method(value, inplace=True)', try using 'df.method({col: value}, inplace=True)' or df[col] = df[col].method(value) instead, to perform the operation inplace on the original object.\n",
      "\n",
      "\n",
      "  df_xls[\"Gender\"].fillna(df_xls[\"Gender\"].mode()[0],inplace=True)\n"
     ]
    }
   ],
   "source": [
    "# Q4: 找到缺失值，用该列众数填充print(df_xls.isna())\n",
    "df_xls[\"Gender\"].fillna(df_xls[\"Gender\"].mode()[0], inplace=True)\n",
    "print(df_xls)"
   ]
  },
  {
   "cell_type": "code",
   "execution_count": 111,
   "id": "6e744976",
   "metadata": {},
   "outputs": [
    {
     "name": "stdout",
     "output_type": "stream",
     "text": [
      "              Name  Age       Hobby       City Gender\n",
      "Student ID                                           \n",
      "524         Marone   25        YiYi  Guangzhou      M\n",
      "702           YiYi   21      Marone   Hangzhou      F\n",
      "987           Jack   22  Basketball   Shenzhen      M\n",
      "434           Tony   28    Football   Shanghai      M\n",
      "32          Linlin   24          LV    Tianjin      F\n",
      "234           Reza   36         LLM     Tehran      M\n",
      "55            Jane   28    Deadpull    Houston      M\n",
      "15          Khalil   43     NeoSoul   Hongkong      M\n"
     ]
    }
   ],
   "source": [
    "# Q5: 找到年龄列的异常值，删除该行数据Q1 = np.percentile(df_xls[\"Age\"], 25)\n",
    "Q3 = np.percentile(df_xls[\"Age\"], 75)\n",
    "IQR = Q3 - Q1\n",
    "lower = Q1 - 1.5 * IQR\n",
    "upper = Q3 + 1.5 * IQR\n",
    "df_xls = df_xls[(df_xls[\"Age\"] >= lower) & (df_xls[\"Age\"] <= upper)]\n",
    "print(df_xls)"
   ]
  },
  {
   "cell_type": "code",
   "execution_count": 112,
   "id": "f5d8c3e5",
   "metadata": {},
   "outputs": [
    {
     "name": "stdout",
     "output_type": "stream",
     "text": [
      "              Name  Age       Hobby       City Gender Age_Group\n",
      "Student ID                                                     \n",
      "524         Marone   25        YiYi  Guangzhou      M        青年\n",
      "702           YiYi   21      Marone   Hangzhou      F        青年\n",
      "987           Jack   22  Basketball   Shenzhen      M        青年\n",
      "434           Tony   28    Football   Shanghai      M        青年\n",
      "32          Linlin   24          LV    Tianjin      F        青年\n",
      "234           Reza   36         LLM     Tehran      M        中年\n",
      "55            Jane   28    Deadpull    Houston      M        青年\n",
      "15          Khalil   43     NeoSoul   Hongkong      M        中年\n"
     ]
    }
   ],
   "source": [
    "# Q6: 年龄<=35的人为青年，35<年龄<=50的人为中年，年龄>50的人为老年，添加一列Age_Groupdf_xls[\"Age_Group\"] = df_xls[\"Age\"].apply(\n",
    "    lambda x: \"青年\" if x <= 35 else (\"中年\" if 35 < x <= 50 else \"老年\")\n",
    ")\n",
    "print(df_xls)"
   ]
  },
  {
   "cell_type": "code",
   "execution_count": 113,
   "id": "9abf0bb1",
   "metadata": {},
   "outputs": [
    {
     "name": "stdout",
     "output_type": "stream",
     "text": [
      "Age_Group\n",
      "中年    2\n",
      "青年    6\n",
      "dtype: int64\n"
     ]
    }
   ],
   "source": [
    "# Q7: 统计每个年龄段的人数df_Age = df_xls.groupby(\"Age_Group\")\n",
    "print(df_Age.size())"
   ]
  },
  {
   "cell_type": "code",
   "execution_count": 114,
   "id": "7093933a",
   "metadata": {},
   "outputs": [
    {
     "name": "stdout",
     "output_type": "stream",
     "text": [
      "              Name  Age       Hobby       City Gender Age_Group\n",
      "Student ID                                                     \n",
      "702           YiYi   21      Marone   Hangzhou      F        青年\n",
      "987           Jack   22  Basketball   Shenzhen      M        青年\n",
      "32          Linlin   24          LV    Tianjin      F        青年\n",
      "524         Marone   25        YiYi  Guangzhou      M        青年\n",
      "434           Tony   28    Football   Shanghai      M        青年\n",
      "55            Jane   28    Deadpull    Houston      M        青年\n",
      "234           Reza   36         LLM     Tehran      M        中年\n",
      "15          Khalil   43     NeoSoul   Hongkong      M        中年\n"
     ]
    }
   ],
   "source": [
    "# Q8: 按年龄升序排列\n",
    "df_sorted = df_xls.sort_values(by=\"Age\")\n",
    "print(df_sorted)"
   ]
  },
  {
   "cell_type": "markdown",
   "id": "3bdabe7b",
   "metadata": {},
   "source": [
    "---\n"
   ]
  },
  {
   "cell_type": "code",
   "execution_count": 115,
   "id": "04e9846d",
   "metadata": {},
   "outputs": [
    {
     "name": "stdout",
     "output_type": "stream",
     "text": [
      "    Item_ID            Item    Price       Category  Quantity       Date\n",
      "0        23           Apple     2.45          Fruit         5 2024-12-03\n",
      "1        14       Olive Oil    35.00           Food         1 2024-12-04\n",
      "2        86      Toothpaste     4.30        Grocery         1 2024-12-05\n",
      "3       109          TCL TV  2599.00    Electronics         1 2024-12-25\n",
      "4        26          Grapes     3.99          Fruit         5 2024-12-25\n",
      "5        39      Tenderloin    18.99           Food         3 2024-12-25\n",
      "6        47        Notebook     2.99     Stationery        10 2025-01-15\n",
      "7        52         Shampoo     8.50  Personal Care         2 2025-02-08\n",
      "8        64         Bananas     1.29          Fruit         6 2025-03-12\n",
      "9        78            Rice    12.75           Food         2 2025-04-05\n",
      "10       91       Desk Lamp    45.60     Home Goods         1 2025-04-20\n",
      "11      115            Pens     0.99     Stationery        20 2025-04-28\n",
      "12       56      Drumsticks     5.99           Food         6 2025-04-29\n",
      "13       57  Chicken Thighs     4.99           Food         4 2025-04-30\n"
     ]
    }
   ],
   "source": [
    "# Q1: 读取data_Class_5.xls文件的products表格df_products = pd.read_excel(\"data_Class_5.xls\", sheet_name=\"products\")\n",
    "print(df_products)"
   ]
  },
  {
   "cell_type": "code",
   "execution_count": 116,
   "id": "990289a3",
   "metadata": {},
   "outputs": [
    {
     "name": "stdout",
     "output_type": "stream",
     "text": [
      "   Item_ID      Item  Price     Category  Quantity       Date\n",
      "0      598       PS5    599  Electronics         1 2024-11-23\n",
      "1      444  Mac mini    899  Electronics         1 2024-11-25\n",
      "\n",
      "\n",
      "    Item_ID            Item    Price       Category  Quantity       Date\n",
      "0        23           Apple     2.45          Fruit         5 2024-12-03\n",
      "1        14       Olive Oil    35.00           Food         1 2024-12-04\n",
      "2        86      Toothpaste     4.30        Grocery         1 2024-12-05\n",
      "3       109          TCL TV  2599.00    Electronics         1 2024-12-25\n",
      "4        26          Grapes     3.99          Fruit         5 2024-12-25\n",
      "5        39      Tenderloin    18.99           Food         3 2024-12-25\n",
      "6        47        Notebook     2.99     Stationery        10 2025-01-15\n",
      "7        52         Shampoo     8.50  Personal Care         2 2025-02-08\n",
      "8        64         Bananas     1.29          Fruit         6 2025-03-12\n",
      "9        78            Rice    12.75           Food         2 2025-04-05\n",
      "10       91       Desk Lamp    45.60     Home Goods         1 2025-04-20\n",
      "11      115            Pens     0.99     Stationery        20 2025-04-28\n",
      "12       56      Drumsticks     5.99           Food         6 2025-04-29\n",
      "13       57  Chicken Thighs     4.99           Food         4 2025-04-30\n",
      "14      598             PS5   599.00    Electronics         1 2024-11-23\n",
      "15      444        Mac mini   899.00    Electronics         1 2024-11-25\n"
     ]
    }
   ],
   "source": [
    "# Q2: 读取data_Class_5.xls文件的products_plus表格，拼接到products表格中df_plus = pd.read_excel(\"data_Class_5.xls\", sheet_name=\"products_plus\")\n",
    "print(df_plus)\n",
    "print(\"\\n\")\n",
    "\n",
    "df_concat = pd.concat([df_products, df_plus], axis=0, ignore_index=True)\n",
    "print(df_concat)"
   ]
  },
  {
   "cell_type": "code",
   "execution_count": 117,
   "id": "0f06ce05",
   "metadata": {},
   "outputs": [
    {
     "name": "stdout",
     "output_type": "stream",
     "text": [
      "    Item_ID            Item    Price       Category  Quantity       Date\n",
      "14      598             PS5   599.00    Electronics         1 2024-11-23\n",
      "15      444        Mac mini   899.00    Electronics         1 2024-11-25\n",
      "0        23           Apple     2.45          Fruit         5 2024-12-03\n",
      "1        14       Olive Oil    35.00           Food         1 2024-12-04\n",
      "2        86      Toothpaste     4.30        Grocery         1 2024-12-05\n",
      "3       109          TCL TV  2599.00    Electronics         1 2024-12-25\n",
      "4        26          Grapes     3.99          Fruit         5 2024-12-25\n",
      "5        39      Tenderloin    18.99           Food         3 2024-12-25\n",
      "6        47        Notebook     2.99     Stationery        10 2025-01-15\n",
      "7        52         Shampoo     8.50  Personal Care         2 2025-02-08\n",
      "8        64         Bananas     1.29          Fruit         6 2025-03-12\n",
      "9        78            Rice    12.75           Food         2 2025-04-05\n",
      "10       91       Desk Lamp    45.60     Home Goods         1 2025-04-20\n",
      "11      115            Pens     0.99     Stationery        20 2025-04-28\n",
      "12       56      Drumsticks     5.99           Food         6 2025-04-29\n",
      "13       57  Chicken Thighs     4.99           Food         4 2025-04-30\n"
     ]
    }
   ],
   "source": [
    "# Q3: 按照日期升序排列df_concat = df_concat.sort_values(by=\"Date\")\n",
    "print(df_concat)"
   ]
  },
  {
   "cell_type": "code",
   "execution_count": 118,
   "id": "41f612a8",
   "metadata": {},
   "outputs": [
    {
     "name": "stdout",
     "output_type": "stream",
     "text": [
      "    Item_ID        Item   Price     Category  Quantity       Date\n",
      "14      598         PS5  599.00  Electronics         1 2024-11-23\n",
      "15      444    Mac mini  899.00  Electronics         1 2024-11-25\n",
      "0        23       Apple    2.45        Fruit         5 2024-12-03\n",
      "1        14   Olive Oil   35.00         Food         1 2024-12-04\n",
      "2        86  Toothpaste    4.30      Grocery         1 2024-12-05\n"
     ]
    }
   ],
   "source": [
    "# Q4: 展示表格的前5行数据print(df_concat.head())"
   ]
  },
  {
   "cell_type": "code",
   "execution_count": 119,
   "id": "b7766269",
   "metadata": {},
   "outputs": [
    {
     "name": "stdout",
     "output_type": "stream",
     "text": [
      "                   Item    Price       Category  Quantity       Date\n",
      "Item_ID                                                             \n",
      "598                 PS5   599.00    Electronics         1 2024-11-23\n",
      "444            Mac mini   899.00    Electronics         1 2024-11-25\n",
      "23                Apple     2.45          Fruit         5 2024-12-03\n",
      "14            Olive Oil    35.00           Food         1 2024-12-04\n",
      "86           Toothpaste     4.30        Grocery         1 2024-12-05\n",
      "109              TCL TV  2599.00    Electronics         1 2024-12-25\n",
      "26               Grapes     3.99          Fruit         5 2024-12-25\n",
      "39           Tenderloin    18.99           Food         3 2024-12-25\n",
      "47             Notebook     2.99     Stationery        10 2025-01-15\n",
      "52              Shampoo     8.50  Personal Care         2 2025-02-08\n",
      "64              Bananas     1.29          Fruit         6 2025-03-12\n",
      "78                 Rice    12.75           Food         2 2025-04-05\n",
      "91            Desk Lamp    45.60     Home Goods         1 2025-04-20\n",
      "115                Pens     0.99     Stationery        20 2025-04-28\n",
      "56           Drumsticks     5.99           Food         6 2025-04-29\n",
      "57       Chicken Thighs     4.99           Food         4 2025-04-30\n"
     ]
    }
   ],
   "source": [
    "# Q5: 把Item_ID列设置为索引df_concat.set_index(\"Item_ID\", inplace=True)\n",
    "print(df_concat)"
   ]
  },
  {
   "cell_type": "code",
   "execution_count": 120,
   "id": "14ea6e27",
   "metadata": {},
   "outputs": [
    {
     "name": "stdout",
     "output_type": "stream",
     "text": [
      "                   Item    Price       Category  Quantity       Date  \\\n",
      "Item_ID                                                                \n",
      "598                 PS5   599.00    Electronics         1 2024-11-23   \n",
      "444            Mac mini   899.00    Electronics         1 2024-11-25   \n",
      "23                Apple     2.45          Fruit         5 2024-12-03   \n",
      "14            Olive Oil    35.00           Food         1 2024-12-04   \n",
      "86           Toothpaste     4.30        Grocery         1 2024-12-05   \n",
      "109              TCL TV  2599.00    Electronics         1 2024-12-25   \n",
      "26               Grapes     3.99          Fruit         5 2024-12-25   \n",
      "39           Tenderloin    18.99           Food         3 2024-12-25   \n",
      "47             Notebook     2.99     Stationery        10 2025-01-15   \n",
      "52              Shampoo     8.50  Personal Care         2 2025-02-08   \n",
      "64              Bananas     1.29          Fruit         6 2025-03-12   \n",
      "78                 Rice    12.75           Food         2 2025-04-05   \n",
      "91            Desk Lamp    45.60     Home Goods         1 2025-04-20   \n",
      "115                Pens     0.99     Stationery        20 2025-04-28   \n",
      "56           Drumsticks     5.99           Food         6 2025-04-29   \n",
      "57       Chicken Thighs     4.99           Food         4 2025-04-30   \n",
      "\n",
      "         Total_Price  \n",
      "Item_ID               \n",
      "598           599.00  \n",
      "444           899.00  \n",
      "23             12.25  \n",
      "14             35.00  \n",
      "86              4.30  \n",
      "109          2599.00  \n",
      "26             19.95  \n",
      "39             56.97  \n",
      "47             29.90  \n",
      "52             17.00  \n",
      "64              7.74  \n",
      "78             25.50  \n",
      "91             45.60  \n",
      "115            19.80  \n",
      "56             35.94  \n",
      "57             19.96  \n"
     ]
    }
   ],
   "source": [
    "# Q6: 算出每个产品的总价（单价*数量），添加一列Total_Pricedf_concat[\"Total_Price\"] = df_concat[\"Price\"] * df_concat[\"Quantity\"]\n",
    "print(df_concat)"
   ]
  },
  {
   "cell_type": "code",
   "execution_count": 121,
   "id": "7ea71e4e",
   "metadata": {},
   "outputs": [
    {
     "name": "stdout",
     "output_type": "stream",
     "text": [
      "Category\n",
      "Electronics      4097.00\n",
      "Food              173.37\n",
      "Fruit              39.94\n",
      "Grocery             4.30\n",
      "Home Goods         45.60\n",
      "Personal Care      17.00\n",
      "Stationery         49.70\n",
      "Name: Total_Price, dtype: float64\n"
     ]
    }
   ],
   "source": [
    "# Q7: 算出每一类产品的总价df_Category = df_concat.groupby(\"Category\")\n",
    "print(df_Category[\"Total_Price\"].sum())"
   ]
  },
  {
   "cell_type": "code",
   "execution_count": 122,
   "id": "57a0a4c2",
   "metadata": {},
   "outputs": [
    {
     "name": "stdout",
     "output_type": "stream",
     "text": [
      "Category\n",
      "Electronics      1365.666667\n",
      "Food               15.544000\n",
      "Fruit               2.576667\n",
      "Grocery             4.300000\n",
      "Home Goods         45.600000\n",
      "Personal Care       8.500000\n",
      "Stationery          1.990000\n",
      "Name: Price, dtype: float64\n"
     ]
    }
   ],
   "source": [
    "# Q8: 算出每一类产品的平均单价print(df_Category[\"Price\"].mean())"
   ]
  },
  {
   "cell_type": "code",
   "execution_count": 123,
   "id": "3847ee2a",
   "metadata": {},
   "outputs": [
    {
     "name": "stdout",
     "output_type": "stream",
     "text": [
      "               Item  Price\n",
      "Item_ID                   \n",
      "39       Tenderloin  18.99\n",
      "78             Rice  12.75\n"
     ]
    }
   ],
   "source": [
    "# Q9: 找到价格>10且<=20的产品，输出它们的名称和价格print(\n",
    "    df_concat[(10 < df_concat[\"Price\"]) & (df_concat[\"Price\"] <= 20)][\n",
    "        [\"Item\", \"Price\"]\n",
    "    ]\n",
    ")"
   ]
  },
  {
   "cell_type": "code",
   "execution_count": 124,
   "id": "cf7940d5",
   "metadata": {},
   "outputs": [
    {
     "name": "stdout",
     "output_type": "stream",
     "text": [
      "20\n",
      "         Item  Quantity\n",
      "Item_ID                \n",
      "115      Pens        20\n"
     ]
    }
   ],
   "source": [
    "# Q10: 找到最畅销的产品，输出它们的名称和销量# print(np.max(df_concat['Quantity']))\n",
    "max = df_concat[\"Quantity\"].agg(\"max\")\n",
    "print(max)\n",
    "# df_max=df_concat[df_concat['Quantity']==max]\n",
    "print(df_concat[df_concat[\"Quantity\"] == max][[\"Item\", \"Quantity\"]])"
   ]
  },
  {
   "cell_type": "code",
   "execution_count": 125,
   "id": "5b8080e3",
   "metadata": {},
   "outputs": [
    {
     "name": "stdout",
     "output_type": "stream",
     "text": [
      "                   Item  Price Category  Quantity       Date  Total_Price\n",
      "Item_ID                                                                  \n",
      "14            Olive Oil  35.00     Food         1 2024-12-04        35.00\n",
      "39           Tenderloin  18.99     Food         3 2024-12-25        56.97\n",
      "78                 Rice  12.75     Food         2 2025-04-05        25.50\n",
      "56           Drumsticks   5.99     Food         6 2025-04-29        35.94\n",
      "57       Chicken Thighs   4.99     Food         4 2025-04-30        19.96\n",
      "                   Item  Quantity\n",
      "Item_ID                          \n",
      "14            Olive Oil         1\n",
      "57       Chicken Thighs         4\n"
     ]
    }
   ],
   "source": [
    "# Q11: 找到Food类产品中单价最高和最低的产品，输出它们的名称和销量df_Food = df_concat[df_concat[\"Category\"] == \"Food\"]\n",
    "print(df_Food)\n",
    "Food_max = df_Food[\"Price\"].max()\n",
    "Food_min = df_Food[\"Price\"].min()\n",
    "df_Food_Target = df_Food[\n",
    "    (df_Food[\"Price\"] == Food_max) | (df_Food[\"Price\"] == Food_min)\n",
    "]\n",
    "print(df_Food_Target[[\"Item\", \"Quantity\"]])"
   ]
  },
  {
   "cell_type": "code",
   "execution_count": 126,
   "id": "104ec45e",
   "metadata": {},
   "outputs": [
    {
     "name": "stdout",
     "output_type": "stream",
     "text": [
      "    Item_ID            Item    Price       Category  Quantity       Date  \\\n",
      "0        23           Apple     2.45          Fruit         5 2024-12-03   \n",
      "1        14       Olive Oil    35.00           Food         1 2024-12-04   \n",
      "2        86      Toothpaste     4.30        Grocery         1 2024-12-05   \n",
      "3       109          TCL TV  2599.00    Electronics         1 2024-12-25   \n",
      "4        26          Grapes     3.99          Fruit         5 2024-12-25   \n",
      "5        39      Tenderloin    18.99           Food         3 2024-12-25   \n",
      "6        47        Notebook     2.99     Stationery        10 2025-01-15   \n",
      "7        52         Shampoo     8.50  Personal Care         2 2025-02-08   \n",
      "8        64         Bananas     1.29          Fruit         6 2025-03-12   \n",
      "9        78            Rice    12.75           Food         2 2025-04-05   \n",
      "10       91       Desk Lamp    45.60     Home Goods         1 2025-04-20   \n",
      "11      115            Pens     0.99     Stationery        20 2025-04-28   \n",
      "12       56      Drumsticks     5.99           Food         6 2025-04-29   \n",
      "13       57  Chicken Thighs     4.99           Food         4 2025-04-30   \n",
      "\n",
      "   Buyback  \n",
      "0        Y  \n",
      "1        Y  \n",
      "2        Y  \n",
      "3        N  \n",
      "4        Y  \n",
      "5        Y  \n",
      "6        N  \n",
      "7        Y  \n",
      "8        Y  \n",
      "9        Y  \n",
      "10       N  \n",
      "11       N  \n",
      "12       Y  \n",
      "13       Y  \n"
     ]
    }
   ],
   "source": [
    "# Q12: 合并products和products_buyback表格，按照Item_ID列进行合并df_products_buyback = pd.read_excel(\"data_Class_5.xls\", sheet_name=\"products_buyback\")\n",
    "# print(df_products)\n",
    "# print(df_products_buyback)\n",
    "df_left = pd.merge(\n",
    "    df_products, df_products_buyback, how=\"left\", on=[\"Item_ID\", \"Item\", \"Date\"]\n",
    ")\n",
    "print(df_left)"
   ]
  },
  {
   "cell_type": "code",
   "execution_count": 127,
   "id": "b271475f",
   "metadata": {},
   "outputs": [
    {
     "data": {
      "text/plain": [
       "<Axes: title={'center': 'Buyback pie'}, ylabel='count'>"
      ]
     },
     "execution_count": 127,
     "metadata": {},
     "output_type": "execute_result"
    },
    {
     "data": {
      "image/png": "[encoded data removed]",
      "text/plain": [
       "<Figure size 640x480 with 1 Axes>"
      ]
     },
     "metadata": {},
     "output_type": "display_data"
    }
   ],
   "source": [
    "# Q13: 用饼图展示回购商品的比例Buyback_counts = df_left[\"Buyback\"].value_counts()\n",
    "Buyback_counts.plot(kind=\"pie\", legend=True, title=\"Buyback pie\", autopct=\"%1.1f%%\")"
   ]
  },
  {
   "cell_type": "code",
   "execution_count": 128,
   "id": "b463a15d",
   "metadata": {},
   "outputs": [
    {
     "name": "stdout",
     "output_type": "stream",
     "text": [
      "Category\n",
      "Electronics       3\n",
      "Food             16\n",
      "Fruit            16\n",
      "Grocery           1\n",
      "Home Goods        1\n",
      "Personal Care     2\n",
      "Stationery       30\n",
      "Name: Quantity, dtype: int64\n"
     ]
    },
    {
     "data": {
      "text/plain": [
       "<Axes: title={'center': 'Category Total Quantity'}, xlabel='Category'>"
      ]
     },
     "execution_count": 128,
     "metadata": {},
     "output_type": "execute_result"
    },
    {
     "data": {
      "image/png": "[encoded data removed]",
      "text/plain": [
       "<Figure size 640x480 with 1 Axes>"
      ]
     },
     "metadata": {},
     "output_type": "display_data"
    }
   ],
   "source": [
    "# Q14: 用柱状图展示每类产品的销量Total_Quantity = df_Category[\"Quantity\"].sum()\n",
    "print(Total_Quantity)\n",
    "Total_Quantity.plot(\n",
    "    kind=\"bar\", x=\"Category\", y=\"Total_Quantity\", title=\"Category Total Quantity\"\n",
    ")"
   ]
  },
  {
   "cell_type": "markdown",
   "id": "a7234be1",
   "metadata": {},
   "source": [
    "## 参考答案\n"
   ]
  },
  {
   "cell_type": "code",
   "execution_count": 129,
   "id": "eff7ae76",
   "metadata": {},
   "outputs": [
    {
     "data": {
      "application/vnd.microsoft.datawrangler.viewer.v0+json": {
       "columns": [
        {
         "name": "index",
         "rawType": "int64",
         "type": "integer"
        },
        {
         "name": "ID",
         "rawType": "int64",
         "type": "integer"
        },
        {
         "name": "Name",
         "rawType": "object",
         "type": "string"
        },
        {
         "name": "Age",
         "rawType": "int64",
         "type": "integer"
        },
        {
         "name": "Hobby",
         "rawType": "object",
         "type": "string"
        },
        {
         "name": "City",
         "rawType": "object",
         "type": "string"
        },
        {
         "name": "Gender",
         "rawType": "object",
         "type": "unknown"
        }
       ],
       "conversionMethod": "pd.DataFrame",
       "ref": "7e342bcb-7179-4a2f-b1ab-6bc7dd9dd66d",
       "rows": [
        [
         "0",
         "524",
         "Marone",
         "25",
         "YiYi",
         "Guangzhou",
         "M"
        ],
        [
         "1",
         "702",
         "YiYi",
         "21",
         "Marone",
         "Hangzhou",
         "F"
        ],
        [
         "2",
         "987",
         "Jack",
         "22",
         "Basketball",
         "Shenzhen",
         "M"
        ],
        [
         "3",
         "434",
         "Tony",
         "28",
         "Football",
         "Shanghai",
         "M"
        ],
        [
         "4",
         "32",
         "Linlin",
         "24",
         "LV",
         "Tianjin",
         "F"
        ],
        [
         "5",
         "234",
         "Reza",
         "36",
         "LLM",
         "Tehran",
         "M"
        ],
        [
         "6",
         "23",
         "Xavier",
         "68",
         "Power",
         "London",
         "M"
        ],
        [
         "7",
         "53",
         "Logan",
         "120",
         "Squat",
         "Edinburgh",
         "M"
        ],
        [
         "8",
         "55",
         "Jane",
         "28",
         "Deadpull",
         "Houston",
         null
        ],
        [
         "9",
         "15",
         "Khalil",
         "43",
         "NeoSoul",
         "Hongkong",
         "M"
        ],
        [
         "10",
         "32",
         "Linlin",
         "24",
         "LV",
         "Tianjin",
         "F"
        ]
       ],
       "shape": {
        "columns": 6,
        "rows": 11
       }
      },
      "text/html": [
       "<div>\n",
       "<style scoped>\n",
       "    .dataframe tbody tr th:only-of-type {\n",
       "        vertical-align: middle;\n",
       "    }\n",
       "\n",
       "    .dataframe tbody tr th {\n",
       "        vertical-align: top;\n",
       "    }\n",
       "\n",
       "    .dataframe thead th {\n",
       "        text-align: right;\n",
       "    }\n",
       "</style>\n",
       "<table border=\"1\" class=\"dataframe\">\n",
       "  <thead>\n",
       "    <tr style=\"text-align: right;\">\n",
       "      <th></th>\n",
       "      <th>ID</th>\n",
       "      <th>Name</th>\n",
       "      <th>Age</th>\n",
       "      <th>Hobby</th>\n",
       "      <th>City</th>\n",
       "      <th>Gender</th>\n",
       "    </tr>\n",
       "  </thead>\n",
       "  <tbody>\n",
       "    <tr>\n",
       "      <th>0</th>\n",
       "      <td>524</td>\n",
       "      <td>Marone</td>\n",
       "      <td>25</td>\n",
       "      <td>YiYi</td>\n",
       "      <td>Guangzhou</td>\n",
       "      <td>M</td>\n",
       "    </tr>\n",
       "    <tr>\n",
       "      <th>1</th>\n",
       "      <td>702</td>\n",
       "      <td>YiYi</td>\n",
       "      <td>21</td>\n",
       "      <td>Marone</td>\n",
       "      <td>Hangzhou</td>\n",
       "      <td>F</td>\n",
       "    </tr>\n",
       "    <tr>\n",
       "      <th>2</th>\n",
       "      <td>987</td>\n",
       "      <td>Jack</td>\n",
       "      <td>22</td>\n",
       "      <td>Basketball</td>\n",
       "      <td>Shenzhen</td>\n",
       "      <td>M</td>\n",
       "    </tr>\n",
       "    <tr>\n",
       "      <th>3</th>\n",
       "      <td>434</td>\n",
       "      <td>Tony</td>\n",
       "      <td>28</td>\n",
       "      <td>Football</td>\n",
       "      <td>Shanghai</td>\n",
       "      <td>M</td>\n",
       "    </tr>\n",
       "    <tr>\n",
       "      <th>4</th>\n",
       "      <td>32</td>\n",
       "      <td>Linlin</td>\n",
       "      <td>24</td>\n",
       "      <td>LV</td>\n",
       "      <td>Tianjin</td>\n",
       "      <td>F</td>\n",
       "    </tr>\n",
       "    <tr>\n",
       "      <th>5</th>\n",
       "      <td>234</td>\n",
       "      <td>Reza</td>\n",
       "      <td>36</td>\n",
       "      <td>LLM</td>\n",
       "      <td>Tehran</td>\n",
       "      <td>M</td>\n",
       "    </tr>\n",
       "    <tr>\n",
       "      <th>6</th>\n",
       "      <td>23</td>\n",
       "      <td>Xavier</td>\n",
       "      <td>68</td>\n",
       "      <td>Power</td>\n",
       "      <td>London</td>\n",
       "      <td>M</td>\n",
       "    </tr>\n",
       "    <tr>\n",
       "      <th>7</th>\n",
       "      <td>53</td>\n",
       "      <td>Logan</td>\n",
       "      <td>120</td>\n",
       "      <td>Squat</td>\n",
       "      <td>Edinburgh</td>\n",
       "      <td>M</td>\n",
       "    </tr>\n",
       "    <tr>\n",
       "      <th>8</th>\n",
       "      <td>55</td>\n",
       "      <td>Jane</td>\n",
       "      <td>28</td>\n",
       "      <td>Deadpull</td>\n",
       "      <td>Houston</td>\n",
       "      <td>NaN</td>\n",
       "    </tr>\n",
       "    <tr>\n",
       "      <th>9</th>\n",
       "      <td>15</td>\n",
       "      <td>Khalil</td>\n",
       "      <td>43</td>\n",
       "      <td>NeoSoul</td>\n",
       "      <td>Hongkong</td>\n",
       "      <td>M</td>\n",
       "    </tr>\n",
       "    <tr>\n",
       "      <th>10</th>\n",
       "      <td>32</td>\n",
       "      <td>Linlin</td>\n",
       "      <td>24</td>\n",
       "      <td>LV</td>\n",
       "      <td>Tianjin</td>\n",
       "      <td>F</td>\n",
       "    </tr>\n",
       "  </tbody>\n",
       "</table>\n",
       "</div>"
      ],
      "text/plain": [
       "     ID    Name  Age       Hobby       City Gender\n",
       "0   524  Marone   25        YiYi  Guangzhou      M\n",
       "1   702    YiYi   21      Marone   Hangzhou      F\n",
       "2   987    Jack   22  Basketball   Shenzhen      M\n",
       "3   434    Tony   28    Football   Shanghai      M\n",
       "4    32  Linlin   24          LV    Tianjin      F\n",
       "5   234    Reza   36         LLM     Tehran      M\n",
       "6    23  Xavier   68       Power     London      M\n",
       "7    53   Logan  120       Squat  Edinburgh      M\n",
       "8    55    Jane   28    Deadpull    Houston    NaN\n",
       "9    15  Khalil   43     NeoSoul   Hongkong      M\n",
       "10   32  Linlin   24          LV    Tianjin      F"
      ]
     },
     "execution_count": 129,
     "metadata": {},
     "output_type": "execute_result"
    }
   ],
   "source": [
    "# Q1: 读取data_Class_5.xls文件的students表格，这个没讲，自己查一下怎么解决。\n",
    "import pandas as pd\n",
    "\n",
    "df_students = pd.read_excel(\"data_Class_5.xls\", sheet_name=\"students\")\n",
    "df_students"
   ]
  },
  {
   "cell_type": "code",
   "execution_count": 130,
   "id": "4d59132c",
   "metadata": {},
   "outputs": [
    {
     "data": {
      "application/vnd.microsoft.datawrangler.viewer.v0+json": {
       "columns": [
        {
         "name": "index",
         "rawType": "int64",
         "type": "integer"
        },
        {
         "name": "ID",
         "rawType": "int64",
         "type": "integer"
        },
        {
         "name": "Name",
         "rawType": "object",
         "type": "string"
        },
        {
         "name": "Age",
         "rawType": "int64",
         "type": "integer"
        },
        {
         "name": "Hobby",
         "rawType": "object",
         "type": "string"
        },
        {
         "name": "City",
         "rawType": "object",
         "type": "string"
        },
        {
         "name": "Gender",
         "rawType": "object",
         "type": "string"
        }
       ],
       "conversionMethod": "pd.DataFrame",
       "ref": "a15f3df7-18be-45f5-aedf-e3336d9f5540",
       "rows": [
        [
         "0",
         "524",
         "Marone",
         "25",
         "YiYi",
         "Guangzhou",
         "M"
        ],
        [
         "1",
         "702",
         "YiYi",
         "21",
         "Marone",
         "Hangzhou",
         "F"
        ],
        [
         "2",
         "987",
         "Jack",
         "22",
         "Basketball",
         "Shenzhen",
         "M"
        ],
        [
         "3",
         "434",
         "Tony",
         "28",
         "Football",
         "Shanghai",
         "M"
        ],
        [
         "4",
         "32",
         "Linlin",
         "24",
         "LV",
         "Tianjin",
         "F"
        ]
       ],
       "shape": {
        "columns": 6,
        "rows": 5
       }
      },
      "text/html": [
       "<div>\n",
       "<style scoped>\n",
       "    .dataframe tbody tr th:only-of-type {\n",
       "        vertical-align: middle;\n",
       "    }\n",
       "\n",
       "    .dataframe tbody tr th {\n",
       "        vertical-align: top;\n",
       "    }\n",
       "\n",
       "    .dataframe thead th {\n",
       "        text-align: right;\n",
       "    }\n",
       "</style>\n",
       "<table border=\"1\" class=\"dataframe\">\n",
       "  <thead>\n",
       "    <tr style=\"text-align: right;\">\n",
       "      <th></th>\n",
       "      <th>ID</th>\n",
       "      <th>Name</th>\n",
       "      <th>Age</th>\n",
       "      <th>Hobby</th>\n",
       "      <th>City</th>\n",
       "      <th>Gender</th>\n",
       "    </tr>\n",
       "  </thead>\n",
       "  <tbody>\n",
       "    <tr>\n",
       "      <th>0</th>\n",
       "      <td>524</td>\n",
       "      <td>Marone</td>\n",
       "      <td>25</td>\n",
       "      <td>YiYi</td>\n",
       "      <td>Guangzhou</td>\n",
       "      <td>M</td>\n",
       "    </tr>\n",
       "    <tr>\n",
       "      <th>1</th>\n",
       "      <td>702</td>\n",
       "      <td>YiYi</td>\n",
       "      <td>21</td>\n",
       "      <td>Marone</td>\n",
       "      <td>Hangzhou</td>\n",
       "      <td>F</td>\n",
       "    </tr>\n",
       "    <tr>\n",
       "      <th>2</th>\n",
       "      <td>987</td>\n",
       "      <td>Jack</td>\n",
       "      <td>22</td>\n",
       "      <td>Basketball</td>\n",
       "      <td>Shenzhen</td>\n",
       "      <td>M</td>\n",
       "    </tr>\n",
       "    <tr>\n",
       "      <th>3</th>\n",
       "      <td>434</td>\n",
       "      <td>Tony</td>\n",
       "      <td>28</td>\n",
       "      <td>Football</td>\n",
       "      <td>Shanghai</td>\n",
       "      <td>M</td>\n",
       "    </tr>\n",
       "    <tr>\n",
       "      <th>4</th>\n",
       "      <td>32</td>\n",
       "      <td>Linlin</td>\n",
       "      <td>24</td>\n",
       "      <td>LV</td>\n",
       "      <td>Tianjin</td>\n",
       "      <td>F</td>\n",
       "    </tr>\n",
       "  </tbody>\n",
       "</table>\n",
       "</div>"
      ],
      "text/plain": [
       "    ID    Name  Age       Hobby       City Gender\n",
       "0  524  Marone   25        YiYi  Guangzhou      M\n",
       "1  702    YiYi   21      Marone   Hangzhou      F\n",
       "2  987    Jack   22  Basketball   Shenzhen      M\n",
       "3  434    Tony   28    Football   Shanghai      M\n",
       "4   32  Linlin   24          LV    Tianjin      F"
      ]
     },
     "execution_count": 130,
     "metadata": {},
     "output_type": "execute_result"
    }
   ],
   "source": [
    "# Q2: 展示表格的前5行数据\n",
    "df_students.head()"
   ]
  },
  {
   "cell_type": "code",
   "execution_count": 131,
   "id": "47e0adfb",
   "metadata": {},
   "outputs": [
    {
     "data": {
      "application/vnd.microsoft.datawrangler.viewer.v0+json": {
       "columns": [
        {
         "name": "Student_ID",
         "rawType": "int64",
         "type": "integer"
        },
        {
         "name": "Name",
         "rawType": "object",
         "type": "string"
        },
        {
         "name": "Age",
         "rawType": "int64",
         "type": "integer"
        },
        {
         "name": "Hobby",
         "rawType": "object",
         "type": "string"
        },
        {
         "name": "City",
         "rawType": "object",
         "type": "string"
        },
        {
         "name": "Gender",
         "rawType": "object",
         "type": "unknown"
        }
       ],
       "conversionMethod": "pd.DataFrame",
       "ref": "d8617166-558d-4fd1-a620-b99d1abd501d",
       "rows": [
        [
         "524",
         "Marone",
         "25",
         "YiYi",
         "Guangzhou",
         "M"
        ],
        [
         "702",
         "YiYi",
         "21",
         "Marone",
         "Hangzhou",
         "F"
        ],
        [
         "987",
         "Jack",
         "22",
         "Basketball",
         "Shenzhen",
         "M"
        ],
        [
         "434",
         "Tony",
         "28",
         "Football",
         "Shanghai",
         "M"
        ],
        [
         "32",
         "Linlin",
         "24",
         "LV",
         "Tianjin",
         "F"
        ],
        [
         "234",
         "Reza",
         "36",
         "LLM",
         "Tehran",
         "M"
        ],
        [
         "23",
         "Xavier",
         "68",
         "Power",
         "London",
         "M"
        ],
        [
         "53",
         "Logan",
         "120",
         "Squat",
         "Edinburgh",
         "M"
        ],
        [
         "55",
         "Jane",
         "28",
         "Deadpull",
         "Houston",
         null
        ],
        [
         "15",
         "Khalil",
         "43",
         "NeoSoul",
         "Hongkong",
         "M"
        ],
        [
         "32",
         "Linlin",
         "24",
         "LV",
         "Tianjin",
         "F"
        ]
       ],
       "shape": {
        "columns": 5,
        "rows": 11
       }
      },
      "text/html": [
       "<div>\n",
       "<style scoped>\n",
       "    .dataframe tbody tr th:only-of-type {\n",
       "        vertical-align: middle;\n",
       "    }\n",
       "\n",
       "    .dataframe tbody tr th {\n",
       "        vertical-align: top;\n",
       "    }\n",
       "\n",
       "    .dataframe thead th {\n",
       "        text-align: right;\n",
       "    }\n",
       "</style>\n",
       "<table border=\"1\" class=\"dataframe\">\n",
       "  <thead>\n",
       "    <tr style=\"text-align: right;\">\n",
       "      <th></th>\n",
       "      <th>Name</th>\n",
       "      <th>Age</th>\n",
       "      <th>Hobby</th>\n",
       "      <th>City</th>\n",
       "      <th>Gender</th>\n",
       "    </tr>\n",
       "    <tr>\n",
       "      <th>Student_ID</th>\n",
       "      <th></th>\n",
       "      <th></th>\n",
       "      <th></th>\n",
       "      <th></th>\n",
       "      <th></th>\n",
       "    </tr>\n",
       "  </thead>\n",
       "  <tbody>\n",
       "    <tr>\n",
       "      <th>524</th>\n",
       "      <td>Marone</td>\n",
       "      <td>25</td>\n",
       "      <td>YiYi</td>\n",
       "      <td>Guangzhou</td>\n",
       "      <td>M</td>\n",
       "    </tr>\n",
       "    <tr>\n",
       "      <th>702</th>\n",
       "      <td>YiYi</td>\n",
       "      <td>21</td>\n",
       "      <td>Marone</td>\n",
       "      <td>Hangzhou</td>\n",
       "      <td>F</td>\n",
       "    </tr>\n",
       "    <tr>\n",
       "      <th>987</th>\n",
       "      <td>Jack</td>\n",
       "      <td>22</td>\n",
       "      <td>Basketball</td>\n",
       "      <td>Shenzhen</td>\n",
       "      <td>M</td>\n",
       "    </tr>\n",
       "    <tr>\n",
       "      <th>434</th>\n",
       "      <td>Tony</td>\n",
       "      <td>28</td>\n",
       "      <td>Football</td>\n",
       "      <td>Shanghai</td>\n",
       "      <td>M</td>\n",
       "    </tr>\n",
       "    <tr>\n",
       "      <th>32</th>\n",
       "      <td>Linlin</td>\n",
       "      <td>24</td>\n",
       "      <td>LV</td>\n",
       "      <td>Tianjin</td>\n",
       "      <td>F</td>\n",
       "    </tr>\n",
       "    <tr>\n",
       "      <th>234</th>\n",
       "      <td>Reza</td>\n",
       "      <td>36</td>\n",
       "      <td>LLM</td>\n",
       "      <td>Tehran</td>\n",
       "      <td>M</td>\n",
       "    </tr>\n",
       "    <tr>\n",
       "      <th>23</th>\n",
       "      <td>Xavier</td>\n",
       "      <td>68</td>\n",
       "      <td>Power</td>\n",
       "      <td>London</td>\n",
       "      <td>M</td>\n",
       "    </tr>\n",
       "    <tr>\n",
       "      <th>53</th>\n",
       "      <td>Logan</td>\n",
       "      <td>120</td>\n",
       "      <td>Squat</td>\n",
       "      <td>Edinburgh</td>\n",
       "      <td>M</td>\n",
       "    </tr>\n",
       "    <tr>\n",
       "      <th>55</th>\n",
       "      <td>Jane</td>\n",
       "      <td>28</td>\n",
       "      <td>Deadpull</td>\n",
       "      <td>Houston</td>\n",
       "      <td>NaN</td>\n",
       "    </tr>\n",
       "    <tr>\n",
       "      <th>15</th>\n",
       "      <td>Khalil</td>\n",
       "      <td>43</td>\n",
       "      <td>NeoSoul</td>\n",
       "      <td>Hongkong</td>\n",
       "      <td>M</td>\n",
       "    </tr>\n",
       "    <tr>\n",
       "      <th>32</th>\n",
       "      <td>Linlin</td>\n",
       "      <td>24</td>\n",
       "      <td>LV</td>\n",
       "      <td>Tianjin</td>\n",
       "      <td>F</td>\n",
       "    </tr>\n",
       "  </tbody>\n",
       "</table>\n",
       "</div>"
      ],
      "text/plain": [
       "              Name  Age       Hobby       City Gender\n",
       "Student_ID                                           \n",
       "524         Marone   25        YiYi  Guangzhou      M\n",
       "702           YiYi   21      Marone   Hangzhou      F\n",
       "987           Jack   22  Basketball   Shenzhen      M\n",
       "434           Tony   28    Football   Shanghai      M\n",
       "32          Linlin   24          LV    Tianjin      F\n",
       "234           Reza   36         LLM     Tehran      M\n",
       "23          Xavier   68       Power     London      M\n",
       "53           Logan  120       Squat  Edinburgh      M\n",
       "55            Jane   28    Deadpull    Houston    NaN\n",
       "15          Khalil   43     NeoSoul   Hongkong      M\n",
       "32          Linlin   24          LV    Tianjin      F"
      ]
     },
     "execution_count": 131,
     "metadata": {},
     "output_type": "execute_result"
    }
   ],
   "source": [
    "# Q3: 把ID改成Student_ID，并把它设置为索引\n",
    "df_students.rename(columns={\"ID\": \"Student_ID\"}, inplace=True)\n",
    "df_students.set_index(\"Student_ID\", inplace=True)\n",
    "df_students"
   ]
  },
  {
   "cell_type": "code",
   "execution_count": 132,
   "id": "2184282f",
   "metadata": {},
   "outputs": [
    {
     "data": {
      "application/vnd.microsoft.datawrangler.viewer.v0+json": {
       "columns": [
        {
         "name": "Student_ID",
         "rawType": "int64",
         "type": "integer"
        },
        {
         "name": "Name",
         "rawType": "object",
         "type": "string"
        },
        {
         "name": "Age",
         "rawType": "int64",
         "type": "integer"
        },
        {
         "name": "Hobby",
         "rawType": "object",
         "type": "string"
        },
        {
         "name": "City",
         "rawType": "object",
         "type": "string"
        },
        {
         "name": "Gender",
         "rawType": "object",
         "type": "string"
        }
       ],
       "conversionMethod": "pd.DataFrame",
       "ref": "d47a5c9e-a925-46bd-a39a-e4d168f1a5e3",
       "rows": [
        [
         "524",
         "Marone",
         "25",
         "YiYi",
         "Guangzhou",
         "M"
        ],
        [
         "702",
         "YiYi",
         "21",
         "Marone",
         "Hangzhou",
         "F"
        ],
        [
         "987",
         "Jack",
         "22",
         "Basketball",
         "Shenzhen",
         "M"
        ],
        [
         "434",
         "Tony",
         "28",
         "Football",
         "Shanghai",
         "M"
        ],
        [
         "32",
         "Linlin",
         "24",
         "LV",
         "Tianjin",
         "F"
        ],
        [
         "234",
         "Reza",
         "36",
         "LLM",
         "Tehran",
         "M"
        ],
        [
         "23",
         "Xavier",
         "68",
         "Power",
         "London",
         "M"
        ],
        [
         "53",
         "Logan",
         "120",
         "Squat",
         "Edinburgh",
         "M"
        ],
        [
         "55",
         "Jane",
         "28",
         "Deadpull",
         "Houston",
         "M"
        ],
        [
         "15",
         "Khalil",
         "43",
         "NeoSoul",
         "Hongkong",
         "M"
        ],
        [
         "32",
         "Linlin",
         "24",
         "LV",
         "Tianjin",
         "F"
        ]
       ],
       "shape": {
        "columns": 5,
        "rows": 11
       }
      },
      "text/html": [
       "<div>\n",
       "<style scoped>\n",
       "    .dataframe tbody tr th:only-of-type {\n",
       "        vertical-align: middle;\n",
       "    }\n",
       "\n",
       "    .dataframe tbody tr th {\n",
       "        vertical-align: top;\n",
       "    }\n",
       "\n",
       "    .dataframe thead th {\n",
       "        text-align: right;\n",
       "    }\n",
       "</style>\n",
       "<table border=\"1\" class=\"dataframe\">\n",
       "  <thead>\n",
       "    <tr style=\"text-align: right;\">\n",
       "      <th></th>\n",
       "      <th>Name</th>\n",
       "      <th>Age</th>\n",
       "      <th>Hobby</th>\n",
       "      <th>City</th>\n",
       "      <th>Gender</th>\n",
       "    </tr>\n",
       "    <tr>\n",
       "      <th>Student_ID</th>\n",
       "      <th></th>\n",
       "      <th></th>\n",
       "      <th></th>\n",
       "      <th></th>\n",
       "      <th></th>\n",
       "    </tr>\n",
       "  </thead>\n",
       "  <tbody>\n",
       "    <tr>\n",
       "      <th>524</th>\n",
       "      <td>Marone</td>\n",
       "      <td>25</td>\n",
       "      <td>YiYi</td>\n",
       "      <td>Guangzhou</td>\n",
       "      <td>M</td>\n",
       "    </tr>\n",
       "    <tr>\n",
       "      <th>702</th>\n",
       "      <td>YiYi</td>\n",
       "      <td>21</td>\n",
       "      <td>Marone</td>\n",
       "      <td>Hangzhou</td>\n",
       "      <td>F</td>\n",
       "    </tr>\n",
       "    <tr>\n",
       "      <th>987</th>\n",
       "      <td>Jack</td>\n",
       "      <td>22</td>\n",
       "      <td>Basketball</td>\n",
       "      <td>Shenzhen</td>\n",
       "      <td>M</td>\n",
       "    </tr>\n",
       "    <tr>\n",
       "      <th>434</th>\n",
       "      <td>Tony</td>\n",
       "      <td>28</td>\n",
       "      <td>Football</td>\n",
       "      <td>Shanghai</td>\n",
       "      <td>M</td>\n",
       "    </tr>\n",
       "    <tr>\n",
       "      <th>32</th>\n",
       "      <td>Linlin</td>\n",
       "      <td>24</td>\n",
       "      <td>LV</td>\n",
       "      <td>Tianjin</td>\n",
       "      <td>F</td>\n",
       "    </tr>\n",
       "    <tr>\n",
       "      <th>234</th>\n",
       "      <td>Reza</td>\n",
       "      <td>36</td>\n",
       "      <td>LLM</td>\n",
       "      <td>Tehran</td>\n",
       "      <td>M</td>\n",
       "    </tr>\n",
       "    <tr>\n",
       "      <th>23</th>\n",
       "      <td>Xavier</td>\n",
       "      <td>68</td>\n",
       "      <td>Power</td>\n",
       "      <td>London</td>\n",
       "      <td>M</td>\n",
       "    </tr>\n",
       "    <tr>\n",
       "      <th>53</th>\n",
       "      <td>Logan</td>\n",
       "      <td>120</td>\n",
       "      <td>Squat</td>\n",
       "      <td>Edinburgh</td>\n",
       "      <td>M</td>\n",
       "    </tr>\n",
       "    <tr>\n",
       "      <th>55</th>\n",
       "      <td>Jane</td>\n",
       "      <td>28</td>\n",
       "      <td>Deadpull</td>\n",
       "      <td>Houston</td>\n",
       "      <td>M</td>\n",
       "    </tr>\n",
       "    <tr>\n",
       "      <th>15</th>\n",
       "      <td>Khalil</td>\n",
       "      <td>43</td>\n",
       "      <td>NeoSoul</td>\n",
       "      <td>Hongkong</td>\n",
       "      <td>M</td>\n",
       "    </tr>\n",
       "    <tr>\n",
       "      <th>32</th>\n",
       "      <td>Linlin</td>\n",
       "      <td>24</td>\n",
       "      <td>LV</td>\n",
       "      <td>Tianjin</td>\n",
       "      <td>F</td>\n",
       "    </tr>\n",
       "  </tbody>\n",
       "</table>\n",
       "</div>"
      ],
      "text/plain": [
       "              Name  Age       Hobby       City Gender\n",
       "Student_ID                                           \n",
       "524         Marone   25        YiYi  Guangzhou      M\n",
       "702           YiYi   21      Marone   Hangzhou      F\n",
       "987           Jack   22  Basketball   Shenzhen      M\n",
       "434           Tony   28    Football   Shanghai      M\n",
       "32          Linlin   24          LV    Tianjin      F\n",
       "234           Reza   36         LLM     Tehran      M\n",
       "23          Xavier   68       Power     London      M\n",
       "53           Logan  120       Squat  Edinburgh      M\n",
       "55            Jane   28    Deadpull    Houston      M\n",
       "15          Khalil   43     NeoSoul   Hongkong      M\n",
       "32          Linlin   24          LV    Tianjin      F"
      ]
     },
     "execution_count": 132,
     "metadata": {},
     "output_type": "execute_result"
    }
   ],
   "source": [
    "# Q4: 找到缺失值，用该列众数填充\n",
    "df_students[\"Gender\"] = df_students[\"Gender\"].fillna(\n",
    "    df_students[\"Gender\"].mode()[0]\n",
    ")  # 用众数填充缺失值\n",
    "df_students"
   ]
  },
  {
   "cell_type": "code",
   "execution_count": 133,
   "id": "2d577989",
   "metadata": {},
   "outputs": [
    {
     "data": {
      "application/vnd.microsoft.datawrangler.viewer.v0+json": {
       "columns": [
        {
         "name": "Student_ID",
         "rawType": "int64",
         "type": "integer"
        },
        {
         "name": "Name",
         "rawType": "object",
         "type": "string"
        },
        {
         "name": "Age",
         "rawType": "int64",
         "type": "integer"
        },
        {
         "name": "Hobby",
         "rawType": "object",
         "type": "string"
        },
        {
         "name": "City",
         "rawType": "object",
         "type": "string"
        },
        {
         "name": "Gender",
         "rawType": "object",
         "type": "string"
        }
       ],
       "conversionMethod": "pd.DataFrame",
       "ref": "8d6622c3-7876-40dd-9578-0c2fd1a0cba4",
       "rows": [
        [
         "524",
         "Marone",
         "25",
         "YiYi",
         "Guangzhou",
         "M"
        ],
        [
         "702",
         "YiYi",
         "21",
         "Marone",
         "Hangzhou",
         "F"
        ],
        [
         "987",
         "Jack",
         "22",
         "Basketball",
         "Shenzhen",
         "M"
        ],
        [
         "434",
         "Tony",
         "28",
         "Football",
         "Shanghai",
         "M"
        ],
        [
         "32",
         "Linlin",
         "24",
         "LV",
         "Tianjin",
         "F"
        ],
        [
         "234",
         "Reza",
         "36",
         "LLM",
         "Tehran",
         "M"
        ],
        [
         "55",
         "Jane",
         "28",
         "Deadpull",
         "Houston",
         "M"
        ],
        [
         "15",
         "Khalil",
         "43",
         "NeoSoul",
         "Hongkong",
         "M"
        ],
        [
         "32",
         "Linlin",
         "24",
         "LV",
         "Tianjin",
         "F"
        ]
       ],
       "shape": {
        "columns": 5,
        "rows": 9
       }
      },
      "text/html": [
       "<div>\n",
       "<style scoped>\n",
       "    .dataframe tbody tr th:only-of-type {\n",
       "        vertical-align: middle;\n",
       "    }\n",
       "\n",
       "    .dataframe tbody tr th {\n",
       "        vertical-align: top;\n",
       "    }\n",
       "\n",
       "    .dataframe thead th {\n",
       "        text-align: right;\n",
       "    }\n",
       "</style>\n",
       "<table border=\"1\" class=\"dataframe\">\n",
       "  <thead>\n",
       "    <tr style=\"text-align: right;\">\n",
       "      <th></th>\n",
       "      <th>Name</th>\n",
       "      <th>Age</th>\n",
       "      <th>Hobby</th>\n",
       "      <th>City</th>\n",
       "      <th>Gender</th>\n",
       "    </tr>\n",
       "    <tr>\n",
       "      <th>Student_ID</th>\n",
       "      <th></th>\n",
       "      <th></th>\n",
       "      <th></th>\n",
       "      <th></th>\n",
       "      <th></th>\n",
       "    </tr>\n",
       "  </thead>\n",
       "  <tbody>\n",
       "    <tr>\n",
       "      <th>524</th>\n",
       "      <td>Marone</td>\n",
       "      <td>25</td>\n",
       "      <td>YiYi</td>\n",
       "      <td>Guangzhou</td>\n",
       "      <td>M</td>\n",
       "    </tr>\n",
       "    <tr>\n",
       "      <th>702</th>\n",
       "      <td>YiYi</td>\n",
       "      <td>21</td>\n",
       "      <td>Marone</td>\n",
       "      <td>Hangzhou</td>\n",
       "      <td>F</td>\n",
       "    </tr>\n",
       "    <tr>\n",
       "      <th>987</th>\n",
       "      <td>Jack</td>\n",
       "      <td>22</td>\n",
       "      <td>Basketball</td>\n",
       "      <td>Shenzhen</td>\n",
       "      <td>M</td>\n",
       "    </tr>\n",
       "    <tr>\n",
       "      <th>434</th>\n",
       "      <td>Tony</td>\n",
       "      <td>28</td>\n",
       "      <td>Football</td>\n",
       "      <td>Shanghai</td>\n",
       "      <td>M</td>\n",
       "    </tr>\n",
       "    <tr>\n",
       "      <th>32</th>\n",
       "      <td>Linlin</td>\n",
       "      <td>24</td>\n",
       "      <td>LV</td>\n",
       "      <td>Tianjin</td>\n",
       "      <td>F</td>\n",
       "    </tr>\n",
       "    <tr>\n",
       "      <th>234</th>\n",
       "      <td>Reza</td>\n",
       "      <td>36</td>\n",
       "      <td>LLM</td>\n",
       "      <td>Tehran</td>\n",
       "      <td>M</td>\n",
       "    </tr>\n",
       "    <tr>\n",
       "      <th>55</th>\n",
       "      <td>Jane</td>\n",
       "      <td>28</td>\n",
       "      <td>Deadpull</td>\n",
       "      <td>Houston</td>\n",
       "      <td>M</td>\n",
       "    </tr>\n",
       "    <tr>\n",
       "      <th>15</th>\n",
       "      <td>Khalil</td>\n",
       "      <td>43</td>\n",
       "      <td>NeoSoul</td>\n",
       "      <td>Hongkong</td>\n",
       "      <td>M</td>\n",
       "    </tr>\n",
       "    <tr>\n",
       "      <th>32</th>\n",
       "      <td>Linlin</td>\n",
       "      <td>24</td>\n",
       "      <td>LV</td>\n",
       "      <td>Tianjin</td>\n",
       "      <td>F</td>\n",
       "    </tr>\n",
       "  </tbody>\n",
       "</table>\n",
       "</div>"
      ],
      "text/plain": [
       "              Name  Age       Hobby       City Gender\n",
       "Student_ID                                           \n",
       "524         Marone   25        YiYi  Guangzhou      M\n",
       "702           YiYi   21      Marone   Hangzhou      F\n",
       "987           Jack   22  Basketball   Shenzhen      M\n",
       "434           Tony   28    Football   Shanghai      M\n",
       "32          Linlin   24          LV    Tianjin      F\n",
       "234           Reza   36         LLM     Tehran      M\n",
       "55            Jane   28    Deadpull    Houston      M\n",
       "15          Khalil   43     NeoSoul   Hongkong      M\n",
       "32          Linlin   24          LV    Tianjin      F"
      ]
     },
     "execution_count": 133,
     "metadata": {},
     "output_type": "execute_result"
    },
    {
     "data": {
      "image/png": "[encoded data removed]",
      "text/plain": [
       "<Figure size 640x480 with 1 Axes>"
      ]
     },
     "metadata": {},
     "output_type": "display_data"
    }
   ],
   "source": [
    "# Q5: 找到年龄列的异常值，删除该行数据\n",
    "df_students[\"Age\"].plot(kind=\"box\")  # 绘制箱线图，发现有异常值\n",
    "Q1 = df_students[\"Age\"].quantile(0.25)  # 25%分位数\n",
    "Q3 = df_students[\"Age\"].quantile(0.75)  # 75%分位数\n",
    "IQR = Q3 - Q1  # 四分位距\n",
    "lower_bound = Q1 - 1.5 * IQR  # 下限\n",
    "upper_bound = Q3 + 1.5 * IQR  # 上限\n",
    "df_students = df_students[\n",
    "    (df_students[\"Age\"] >= lower_bound) & (df_students[\"Age\"] <= upper_bound)\n",
    "]  # 删除异常值\n",
    "df_students"
   ]
  },
  {
   "cell_type": "code",
   "execution_count": 134,
   "id": "9b85090b",
   "metadata": {},
   "outputs": [
    {
     "name": "stderr",
     "output_type": "stream",
     "text": [
      "/var/folders/l9/96w4r89d2kz_ghml_zxzqc5c0000gn/T/ipykernel_59575/1642448137.py:2: SettingWithCopyWarning: \n",
      "A value is trying to be set on a copy of a slice from a DataFrame.\n",
      "Try using .loc[row_indexer,col_indexer] = value instead\n",
      "\n",
      "See the caveats in the documentation: https://pandas.pydata.org/pandas-docs/stable/user_guide/indexing.html#returning-a-view-versus-a-copy\n",
      "  df_students[\"Age_Group\"] = df_students[\"Age\"].apply(\n"
     ]
    },
    {
     "data": {
      "application/vnd.microsoft.datawrangler.viewer.v0+json": {
       "columns": [
        {
         "name": "Student_ID",
         "rawType": "int64",
         "type": "integer"
        },
        {
         "name": "Name",
         "rawType": "object",
         "type": "string"
        },
        {
         "name": "Age",
         "rawType": "int64",
         "type": "integer"
        },
        {
         "name": "Hobby",
         "rawType": "object",
         "type": "string"
        },
        {
         "name": "City",
         "rawType": "object",
         "type": "string"
        },
        {
         "name": "Gender",
         "rawType": "object",
         "type": "string"
        },
        {
         "name": "Age_Group",
         "rawType": "object",
         "type": "string"
        }
       ],
       "conversionMethod": "pd.DataFrame",
       "ref": "e7b70cce-69c2-48e1-b2f5-767999cf8ee7",
       "rows": [
        [
         "524",
         "Marone",
         "25",
         "YiYi",
         "Guangzhou",
         "M",
         "青年"
        ],
        [
         "702",
         "YiYi",
         "21",
         "Marone",
         "Hangzhou",
         "F",
         "青年"
        ],
        [
         "987",
         "Jack",
         "22",
         "Basketball",
         "Shenzhen",
         "M",
         "青年"
        ],
        [
         "434",
         "Tony",
         "28",
         "Football",
         "Shanghai",
         "M",
         "青年"
        ],
        [
         "32",
         "Linlin",
         "24",
         "LV",
         "Tianjin",
         "F",
         "青年"
        ],
        [
         "234",
         "Reza",
         "36",
         "LLM",
         "Tehran",
         "M",
         "中年"
        ],
        [
         "55",
         "Jane",
         "28",
         "Deadpull",
         "Houston",
         "M",
         "青年"
        ],
        [
         "15",
         "Khalil",
         "43",
         "NeoSoul",
         "Hongkong",
         "M",
         "中年"
        ],
        [
         "32",
         "Linlin",
         "24",
         "LV",
         "Tianjin",
         "F",
         "青年"
        ]
       ],
       "shape": {
        "columns": 6,
        "rows": 9
       }
      },
      "text/html": [
       "<div>\n",
       "<style scoped>\n",
       "    .dataframe tbody tr th:only-of-type {\n",
       "        vertical-align: middle;\n",
       "    }\n",
       "\n",
       "    .dataframe tbody tr th {\n",
       "        vertical-align: top;\n",
       "    }\n",
       "\n",
       "    .dataframe thead th {\n",
       "        text-align: right;\n",
       "    }\n",
       "</style>\n",
       "<table border=\"1\" class=\"dataframe\">\n",
       "  <thead>\n",
       "    <tr style=\"text-align: right;\">\n",
       "      <th></th>\n",
       "      <th>Name</th>\n",
       "      <th>Age</th>\n",
       "      <th>Hobby</th>\n",
       "      <th>City</th>\n",
       "      <th>Gender</th>\n",
       "      <th>Age_Group</th>\n",
       "    </tr>\n",
       "    <tr>\n",
       "      <th>Student_ID</th>\n",
       "      <th></th>\n",
       "      <th></th>\n",
       "      <th></th>\n",
       "      <th></th>\n",
       "      <th></th>\n",
       "      <th></th>\n",
       "    </tr>\n",
       "  </thead>\n",
       "  <tbody>\n",
       "    <tr>\n",
       "      <th>524</th>\n",
       "      <td>Marone</td>\n",
       "      <td>25</td>\n",
       "      <td>YiYi</td>\n",
       "      <td>Guangzhou</td>\n",
       "      <td>M</td>\n",
       "      <td>青年</td>\n",
       "    </tr>\n",
       "    <tr>\n",
       "      <th>702</th>\n",
       "      <td>YiYi</td>\n",
       "      <td>21</td>\n",
       "      <td>Marone</td>\n",
       "      <td>Hangzhou</td>\n",
       "      <td>F</td>\n",
       "      <td>青年</td>\n",
       "    </tr>\n",
       "    <tr>\n",
       "      <th>987</th>\n",
       "      <td>Jack</td>\n",
       "      <td>22</td>\n",
       "      <td>Basketball</td>\n",
       "      <td>Shenzhen</td>\n",
       "      <td>M</td>\n",
       "      <td>青年</td>\n",
       "    </tr>\n",
       "    <tr>\n",
       "      <th>434</th>\n",
       "      <td>Tony</td>\n",
       "      <td>28</td>\n",
       "      <td>Football</td>\n",
       "      <td>Shanghai</td>\n",
       "      <td>M</td>\n",
       "      <td>青年</td>\n",
       "    </tr>\n",
       "    <tr>\n",
       "      <th>32</th>\n",
       "      <td>Linlin</td>\n",
       "      <td>24</td>\n",
       "      <td>LV</td>\n",
       "      <td>Tianjin</td>\n",
       "      <td>F</td>\n",
       "      <td>青年</td>\n",
       "    </tr>\n",
       "    <tr>\n",
       "      <th>234</th>\n",
       "      <td>Reza</td>\n",
       "      <td>36</td>\n",
       "      <td>LLM</td>\n",
       "      <td>Tehran</td>\n",
       "      <td>M</td>\n",
       "      <td>中年</td>\n",
       "    </tr>\n",
       "    <tr>\n",
       "      <th>55</th>\n",
       "      <td>Jane</td>\n",
       "      <td>28</td>\n",
       "      <td>Deadpull</td>\n",
       "      <td>Houston</td>\n",
       "      <td>M</td>\n",
       "      <td>青年</td>\n",
       "    </tr>\n",
       "    <tr>\n",
       "      <th>15</th>\n",
       "      <td>Khalil</td>\n",
       "      <td>43</td>\n",
       "      <td>NeoSoul</td>\n",
       "      <td>Hongkong</td>\n",
       "      <td>M</td>\n",
       "      <td>中年</td>\n",
       "    </tr>\n",
       "    <tr>\n",
       "      <th>32</th>\n",
       "      <td>Linlin</td>\n",
       "      <td>24</td>\n",
       "      <td>LV</td>\n",
       "      <td>Tianjin</td>\n",
       "      <td>F</td>\n",
       "      <td>青年</td>\n",
       "    </tr>\n",
       "  </tbody>\n",
       "</table>\n",
       "</div>"
      ],
      "text/plain": [
       "              Name  Age       Hobby       City Gender Age_Group\n",
       "Student_ID                                                     \n",
       "524         Marone   25        YiYi  Guangzhou      M        青年\n",
       "702           YiYi   21      Marone   Hangzhou      F        青年\n",
       "987           Jack   22  Basketball   Shenzhen      M        青年\n",
       "434           Tony   28    Football   Shanghai      M        青年\n",
       "32          Linlin   24          LV    Tianjin      F        青年\n",
       "234           Reza   36         LLM     Tehran      M        中年\n",
       "55            Jane   28    Deadpull    Houston      M        青年\n",
       "15          Khalil   43     NeoSoul   Hongkong      M        中年\n",
       "32          Linlin   24          LV    Tianjin      F        青年"
      ]
     },
     "execution_count": 134,
     "metadata": {},
     "output_type": "execute_result"
    }
   ],
   "source": [
    "# Q6: 年龄<=35的人为青年，35<年龄<=50的人为中年，年龄>50的人为老年，添加一列Age_Group\n",
    "df_students[\"Age_Group\"] = df_students[\"Age\"].apply(\n",
    "    lambda x: \"青年\" if x <= 35 else (\"中年\" if x <= 50 else \"老年\")\n",
    ")  # 添加一列\n",
    "df_students"
   ]
  },
  {
   "cell_type": "code",
   "execution_count": 135,
   "id": "9de81a0c",
   "metadata": {},
   "outputs": [
    {
     "data": {
      "text/plain": [
       "Age_Group\n",
       "中年    2\n",
       "青年    7\n",
       "dtype: int64"
      ]
     },
     "execution_count": 135,
     "metadata": {},
     "output_type": "execute_result"
    }
   ],
   "source": [
    "# Q7: 统计每个年龄段的人数\n",
    "df_Age_Group = df_students.groupby(\"Age_Group\")  # 分组\n",
    "df_Age_Group.size()  # 统计每个年龄段的人数"
   ]
  },
  {
   "cell_type": "code",
   "execution_count": 136,
   "id": "a3ab0f3d",
   "metadata": {},
   "outputs": [
    {
     "name": "stderr",
     "output_type": "stream",
     "text": [
      "/var/folders/l9/96w4r89d2kz_ghml_zxzqc5c0000gn/T/ipykernel_59575/2199932518.py:2: SettingWithCopyWarning: \n",
      "A value is trying to be set on a copy of a slice from a DataFrame\n",
      "\n",
      "See the caveats in the documentation: https://pandas.pydata.org/pandas-docs/stable/user_guide/indexing.html#returning-a-view-versus-a-copy\n",
      "  df_students.sort_values(by=\"Age\", ascending=True, inplace=True)  # 升序排列\n"
     ]
    },
    {
     "data": {
      "application/vnd.microsoft.datawrangler.viewer.v0+json": {
       "columns": [
        {
         "name": "Student_ID",
         "rawType": "int64",
         "type": "integer"
        },
        {
         "name": "Name",
         "rawType": "object",
         "type": "string"
        },
        {
         "name": "Age",
         "rawType": "int64",
         "type": "integer"
        },
        {
         "name": "Hobby",
         "rawType": "object",
         "type": "string"
        },
        {
         "name": "City",
         "rawType": "object",
         "type": "string"
        },
        {
         "name": "Gender",
         "rawType": "object",
         "type": "string"
        },
        {
         "name": "Age_Group",
         "rawType": "object",
         "type": "string"
        }
       ],
       "conversionMethod": "pd.DataFrame",
       "ref": "560b3875-5c9b-4cfd-af8b-a15b79d54c38",
       "rows": [
        [
         "702",
         "YiYi",
         "21",
         "Marone",
         "Hangzhou",
         "F",
         "青年"
        ],
        [
         "987",
         "Jack",
         "22",
         "Basketball",
         "Shenzhen",
         "M",
         "青年"
        ],
        [
         "32",
         "Linlin",
         "24",
         "LV",
         "Tianjin",
         "F",
         "青年"
        ],
        [
         "32",
         "Linlin",
         "24",
         "LV",
         "Tianjin",
         "F",
         "青年"
        ],
        [
         "524",
         "Marone",
         "25",
         "YiYi",
         "Guangzhou",
         "M",
         "青年"
        ],
        [
         "434",
         "Tony",
         "28",
         "Football",
         "Shanghai",
         "M",
         "青年"
        ],
        [
         "55",
         "Jane",
         "28",
         "Deadpull",
         "Houston",
         "M",
         "青年"
        ],
        [
         "234",
         "Reza",
         "36",
         "LLM",
         "Tehran",
         "M",
         "中年"
        ],
        [
         "15",
         "Khalil",
         "43",
         "NeoSoul",
         "Hongkong",
         "M",
         "中年"
        ]
       ],
       "shape": {
        "columns": 6,
        "rows": 9
       }
      },
      "text/html": [
       "<div>\n",
       "<style scoped>\n",
       "    .dataframe tbody tr th:only-of-type {\n",
       "        vertical-align: middle;\n",
       "    }\n",
       "\n",
       "    .dataframe tbody tr th {\n",
       "        vertical-align: top;\n",
       "    }\n",
       "\n",
       "    .dataframe thead th {\n",
       "        text-align: right;\n",
       "    }\n",
       "</style>\n",
       "<table border=\"1\" class=\"dataframe\">\n",
       "  <thead>\n",
       "    <tr style=\"text-align: right;\">\n",
       "      <th></th>\n",
       "      <th>Name</th>\n",
       "      <th>Age</th>\n",
       "      <th>Hobby</th>\n",
       "      <th>City</th>\n",
       "      <th>Gender</th>\n",
       "      <th>Age_Group</th>\n",
       "    </tr>\n",
       "    <tr>\n",
       "      <th>Student_ID</th>\n",
       "      <th></th>\n",
       "      <th></th>\n",
       "      <th></th>\n",
       "      <th></th>\n",
       "      <th></th>\n",
       "      <th></th>\n",
       "    </tr>\n",
       "  </thead>\n",
       "  <tbody>\n",
       "    <tr>\n",
       "      <th>702</th>\n",
       "      <td>YiYi</td>\n",
       "      <td>21</td>\n",
       "      <td>Marone</td>\n",
       "      <td>Hangzhou</td>\n",
       "      <td>F</td>\n",
       "      <td>青年</td>\n",
       "    </tr>\n",
       "    <tr>\n",
       "      <th>987</th>\n",
       "      <td>Jack</td>\n",
       "      <td>22</td>\n",
       "      <td>Basketball</td>\n",
       "      <td>Shenzhen</td>\n",
       "      <td>M</td>\n",
       "      <td>青年</td>\n",
       "    </tr>\n",
       "    <tr>\n",
       "      <th>32</th>\n",
       "      <td>Linlin</td>\n",
       "      <td>24</td>\n",
       "      <td>LV</td>\n",
       "      <td>Tianjin</td>\n",
       "      <td>F</td>\n",
       "      <td>青年</td>\n",
       "    </tr>\n",
       "    <tr>\n",
       "      <th>32</th>\n",
       "      <td>Linlin</td>\n",
       "      <td>24</td>\n",
       "      <td>LV</td>\n",
       "      <td>Tianjin</td>\n",
       "      <td>F</td>\n",
       "      <td>青年</td>\n",
       "    </tr>\n",
       "    <tr>\n",
       "      <th>524</th>\n",
       "      <td>Marone</td>\n",
       "      <td>25</td>\n",
       "      <td>YiYi</td>\n",
       "      <td>Guangzhou</td>\n",
       "      <td>M</td>\n",
       "      <td>青年</td>\n",
       "    </tr>\n",
       "    <tr>\n",
       "      <th>434</th>\n",
       "      <td>Tony</td>\n",
       "      <td>28</td>\n",
       "      <td>Football</td>\n",
       "      <td>Shanghai</td>\n",
       "      <td>M</td>\n",
       "      <td>青年</td>\n",
       "    </tr>\n",
       "    <tr>\n",
       "      <th>55</th>\n",
       "      <td>Jane</td>\n",
       "      <td>28</td>\n",
       "      <td>Deadpull</td>\n",
       "      <td>Houston</td>\n",
       "      <td>M</td>\n",
       "      <td>青年</td>\n",
       "    </tr>\n",
       "    <tr>\n",
       "      <th>234</th>\n",
       "      <td>Reza</td>\n",
       "      <td>36</td>\n",
       "      <td>LLM</td>\n",
       "      <td>Tehran</td>\n",
       "      <td>M</td>\n",
       "      <td>中年</td>\n",
       "    </tr>\n",
       "    <tr>\n",
       "      <th>15</th>\n",
       "      <td>Khalil</td>\n",
       "      <td>43</td>\n",
       "      <td>NeoSoul</td>\n",
       "      <td>Hongkong</td>\n",
       "      <td>M</td>\n",
       "      <td>中年</td>\n",
       "    </tr>\n",
       "  </tbody>\n",
       "</table>\n",
       "</div>"
      ],
      "text/plain": [
       "              Name  Age       Hobby       City Gender Age_Group\n",
       "Student_ID                                                     \n",
       "702           YiYi   21      Marone   Hangzhou      F        青年\n",
       "987           Jack   22  Basketball   Shenzhen      M        青年\n",
       "32          Linlin   24          LV    Tianjin      F        青年\n",
       "32          Linlin   24          LV    Tianjin      F        青年\n",
       "524         Marone   25        YiYi  Guangzhou      M        青年\n",
       "434           Tony   28    Football   Shanghai      M        青年\n",
       "55            Jane   28    Deadpull    Houston      M        青年\n",
       "234           Reza   36         LLM     Tehran      M        中年\n",
       "15          Khalil   43     NeoSoul   Hongkong      M        中年"
      ]
     },
     "execution_count": 136,
     "metadata": {},
     "output_type": "execute_result"
    }
   ],
   "source": [
    "# Q8: 按年龄升序排列\n",
    "df_students.sort_values(by=\"Age\", ascending=True, inplace=True)  # 升序排列\n",
    "df_students"
   ]
  },
  {
   "cell_type": "markdown",
   "id": "3f6212d3",
   "metadata": {},
   "source": [
    "---\n"
   ]
  },
  {
   "cell_type": "code",
   "execution_count": 137,
   "id": "1121908a",
   "metadata": {},
   "outputs": [
    {
     "data": {
      "application/vnd.microsoft.datawrangler.viewer.v0+json": {
       "columns": [
        {
         "name": "index",
         "rawType": "int64",
         "type": "integer"
        },
        {
         "name": "Item_ID",
         "rawType": "int64",
         "type": "integer"
        },
        {
         "name": "Item",
         "rawType": "object",
         "type": "string"
        },
        {
         "name": "Price",
         "rawType": "float64",
         "type": "float"
        },
        {
         "name": "Category",
         "rawType": "object",
         "type": "string"
        },
        {
         "name": "Quantity",
         "rawType": "int64",
         "type": "integer"
        },
        {
         "name": "Date",
         "rawType": "datetime64[ns]",
         "type": "datetime"
        }
       ],
       "conversionMethod": "pd.DataFrame",
       "ref": "7c622017-340b-4795-8d81-55f1f58ba8af",
       "rows": [
        [
         "0",
         "23",
         "Apple",
         "2.45",
         "Fruit",
         "5",
         "2024-12-03 00:00:00"
        ],
        [
         "1",
         "14",
         "Olive Oil",
         "35.0",
         "Food",
         "1",
         "2024-12-04 00:00:00"
        ],
        [
         "2",
         "86",
         "Toothpaste",
         "4.3",
         "Grocery",
         "1",
         "2024-12-05 00:00:00"
        ],
        [
         "3",
         "109",
         "TCL TV",
         "2599.0",
         "Electronics",
         "1",
         "2024-12-25 00:00:00"
        ],
        [
         "4",
         "26",
         "Grapes",
         "3.99",
         "Fruit",
         "5",
         "2024-12-25 00:00:00"
        ],
        [
         "5",
         "39",
         "Tenderloin",
         "18.99",
         "Food",
         "3",
         "2024-12-25 00:00:00"
        ],
        [
         "6",
         "47",
         "Notebook",
         "2.99",
         "Stationery",
         "10",
         "2025-01-15 00:00:00"
        ],
        [
         "7",
         "52",
         "Shampoo",
         "8.5",
         "Personal Care",
         "2",
         "2025-02-08 00:00:00"
        ],
        [
         "8",
         "64",
         "Bananas",
         "1.29",
         "Fruit",
         "6",
         "2025-03-12 00:00:00"
        ],
        [
         "9",
         "78",
         "Rice",
         "12.75",
         "Food",
         "2",
         "2025-04-05 00:00:00"
        ],
        [
         "10",
         "91",
         "Desk Lamp",
         "45.6",
         "Home Goods",
         "1",
         "2025-04-20 00:00:00"
        ],
        [
         "11",
         "115",
         "Pens",
         "0.99",
         "Stationery",
         "20",
         "2025-04-28 00:00:00"
        ],
        [
         "12",
         "56",
         "Drumsticks",
         "5.99",
         "Food",
         "6",
         "2025-04-29 00:00:00"
        ],
        [
         "13",
         "57",
         "Chicken Thighs",
         "4.99",
         "Food",
         "4",
         "2025-04-30 00:00:00"
        ]
       ],
       "shape": {
        "columns": 6,
        "rows": 14
       }
      },
      "text/html": [
       "<div>\n",
       "<style scoped>\n",
       "    .dataframe tbody tr th:only-of-type {\n",
       "        vertical-align: middle;\n",
       "    }\n",
       "\n",
       "    .dataframe tbody tr th {\n",
       "        vertical-align: top;\n",
       "    }\n",
       "\n",
       "    .dataframe thead th {\n",
       "        text-align: right;\n",
       "    }\n",
       "</style>\n",
       "<table border=\"1\" class=\"dataframe\">\n",
       "  <thead>\n",
       "    <tr style=\"text-align: right;\">\n",
       "      <th></th>\n",
       "      <th>Item_ID</th>\n",
       "      <th>Item</th>\n",
       "      <th>Price</th>\n",
       "      <th>Category</th>\n",
       "      <th>Quantity</th>\n",
       "      <th>Date</th>\n",
       "    </tr>\n",
       "  </thead>\n",
       "  <tbody>\n",
       "    <tr>\n",
       "      <th>0</th>\n",
       "      <td>23</td>\n",
       "      <td>Apple</td>\n",
       "      <td>2.45</td>\n",
       "      <td>Fruit</td>\n",
       "      <td>5</td>\n",
       "      <td>2024-12-03</td>\n",
       "    </tr>\n",
       "    <tr>\n",
       "      <th>1</th>\n",
       "      <td>14</td>\n",
       "      <td>Olive Oil</td>\n",
       "      <td>35.00</td>\n",
       "      <td>Food</td>\n",
       "      <td>1</td>\n",
       "      <td>2024-12-04</td>\n",
       "    </tr>\n",
       "    <tr>\n",
       "      <th>2</th>\n",
       "      <td>86</td>\n",
       "      <td>Toothpaste</td>\n",
       "      <td>4.30</td>\n",
       "      <td>Grocery</td>\n",
       "      <td>1</td>\n",
       "      <td>2024-12-05</td>\n",
       "    </tr>\n",
       "    <tr>\n",
       "      <th>3</th>\n",
       "      <td>109</td>\n",
       "      <td>TCL TV</td>\n",
       "      <td>2599.00</td>\n",
       "      <td>Electronics</td>\n",
       "      <td>1</td>\n",
       "      <td>2024-12-25</td>\n",
       "    </tr>\n",
       "    <tr>\n",
       "      <th>4</th>\n",
       "      <td>26</td>\n",
       "      <td>Grapes</td>\n",
       "      <td>3.99</td>\n",
       "      <td>Fruit</td>\n",
       "      <td>5</td>\n",
       "      <td>2024-12-25</td>\n",
       "    </tr>\n",
       "    <tr>\n",
       "      <th>5</th>\n",
       "      <td>39</td>\n",
       "      <td>Tenderloin</td>\n",
       "      <td>18.99</td>\n",
       "      <td>Food</td>\n",
       "      <td>3</td>\n",
       "      <td>2024-12-25</td>\n",
       "    </tr>\n",
       "    <tr>\n",
       "      <th>6</th>\n",
       "      <td>47</td>\n",
       "      <td>Notebook</td>\n",
       "      <td>2.99</td>\n",
       "      <td>Stationery</td>\n",
       "      <td>10</td>\n",
       "      <td>2025-01-15</td>\n",
       "    </tr>\n",
       "    <tr>\n",
       "      <th>7</th>\n",
       "      <td>52</td>\n",
       "      <td>Shampoo</td>\n",
       "      <td>8.50</td>\n",
       "      <td>Personal Care</td>\n",
       "      <td>2</td>\n",
       "      <td>2025-02-08</td>\n",
       "    </tr>\n",
       "    <tr>\n",
       "      <th>8</th>\n",
       "      <td>64</td>\n",
       "      <td>Bananas</td>\n",
       "      <td>1.29</td>\n",
       "      <td>Fruit</td>\n",
       "      <td>6</td>\n",
       "      <td>2025-03-12</td>\n",
       "    </tr>\n",
       "    <tr>\n",
       "      <th>9</th>\n",
       "      <td>78</td>\n",
       "      <td>Rice</td>\n",
       "      <td>12.75</td>\n",
       "      <td>Food</td>\n",
       "      <td>2</td>\n",
       "      <td>2025-04-05</td>\n",
       "    </tr>\n",
       "    <tr>\n",
       "      <th>10</th>\n",
       "      <td>91</td>\n",
       "      <td>Desk Lamp</td>\n",
       "      <td>45.60</td>\n",
       "      <td>Home Goods</td>\n",
       "      <td>1</td>\n",
       "      <td>2025-04-20</td>\n",
       "    </tr>\n",
       "    <tr>\n",
       "      <th>11</th>\n",
       "      <td>115</td>\n",
       "      <td>Pens</td>\n",
       "      <td>0.99</td>\n",
       "      <td>Stationery</td>\n",
       "      <td>20</td>\n",
       "      <td>2025-04-28</td>\n",
       "    </tr>\n",
       "    <tr>\n",
       "      <th>12</th>\n",
       "      <td>56</td>\n",
       "      <td>Drumsticks</td>\n",
       "      <td>5.99</td>\n",
       "      <td>Food</td>\n",
       "      <td>6</td>\n",
       "      <td>2025-04-29</td>\n",
       "    </tr>\n",
       "    <tr>\n",
       "      <th>13</th>\n",
       "      <td>57</td>\n",
       "      <td>Chicken Thighs</td>\n",
       "      <td>4.99</td>\n",
       "      <td>Food</td>\n",
       "      <td>4</td>\n",
       "      <td>2025-04-30</td>\n",
       "    </tr>\n",
       "  </tbody>\n",
       "</table>\n",
       "</div>"
      ],
      "text/plain": [
       "    Item_ID            Item    Price       Category  Quantity       Date\n",
       "0        23           Apple     2.45          Fruit         5 2024-12-03\n",
       "1        14       Olive Oil    35.00           Food         1 2024-12-04\n",
       "2        86      Toothpaste     4.30        Grocery         1 2024-12-05\n",
       "3       109          TCL TV  2599.00    Electronics         1 2024-12-25\n",
       "4        26          Grapes     3.99          Fruit         5 2024-12-25\n",
       "5        39      Tenderloin    18.99           Food         3 2024-12-25\n",
       "6        47        Notebook     2.99     Stationery        10 2025-01-15\n",
       "7        52         Shampoo     8.50  Personal Care         2 2025-02-08\n",
       "8        64         Bananas     1.29          Fruit         6 2025-03-12\n",
       "9        78            Rice    12.75           Food         2 2025-04-05\n",
       "10       91       Desk Lamp    45.60     Home Goods         1 2025-04-20\n",
       "11      115            Pens     0.99     Stationery        20 2025-04-28\n",
       "12       56      Drumsticks     5.99           Food         6 2025-04-29\n",
       "13       57  Chicken Thighs     4.99           Food         4 2025-04-30"
      ]
     },
     "execution_count": 137,
     "metadata": {},
     "output_type": "execute_result"
    }
   ],
   "source": [
    "# Q1: 读取data_Class_5.xls文件的products表格\n",
    "df_products = pd.read_excel(\"data_Class_5.xls\", sheet_name=\"products\")\n",
    "df_products"
   ]
  },
  {
   "cell_type": "code",
   "execution_count": 138,
   "id": "76166475",
   "metadata": {},
   "outputs": [
    {
     "data": {
      "application/vnd.microsoft.datawrangler.viewer.v0+json": {
       "columns": [
        {
         "name": "index",
         "rawType": "int64",
         "type": "integer"
        },
        {
         "name": "Item_ID",
         "rawType": "int64",
         "type": "integer"
        },
        {
         "name": "Item",
         "rawType": "object",
         "type": "string"
        },
        {
         "name": "Price",
         "rawType": "float64",
         "type": "float"
        },
        {
         "name": "Category",
         "rawType": "object",
         "type": "string"
        },
        {
         "name": "Quantity",
         "rawType": "int64",
         "type": "integer"
        },
        {
         "name": "Date",
         "rawType": "datetime64[ns]",
         "type": "datetime"
        }
       ],
       "conversionMethod": "pd.DataFrame",
       "ref": "273eb53d-3031-495c-ba81-1e83b52a540e",
       "rows": [
        [
         "0",
         "23",
         "Apple",
         "2.45",
         "Fruit",
         "5",
         "2024-12-03 00:00:00"
        ],
        [
         "1",
         "14",
         "Olive Oil",
         "35.0",
         "Food",
         "1",
         "2024-12-04 00:00:00"
        ],
        [
         "2",
         "86",
         "Toothpaste",
         "4.3",
         "Grocery",
         "1",
         "2024-12-05 00:00:00"
        ],
        [
         "3",
         "109",
         "TCL TV",
         "2599.0",
         "Electronics",
         "1",
         "2024-12-25 00:00:00"
        ],
        [
         "4",
         "26",
         "Grapes",
         "3.99",
         "Fruit",
         "5",
         "2024-12-25 00:00:00"
        ],
        [
         "5",
         "39",
         "Tenderloin",
         "18.99",
         "Food",
         "3",
         "2024-12-25 00:00:00"
        ],
        [
         "6",
         "47",
         "Notebook",
         "2.99",
         "Stationery",
         "10",
         "2025-01-15 00:00:00"
        ],
        [
         "7",
         "52",
         "Shampoo",
         "8.5",
         "Personal Care",
         "2",
         "2025-02-08 00:00:00"
        ],
        [
         "8",
         "64",
         "Bananas",
         "1.29",
         "Fruit",
         "6",
         "2025-03-12 00:00:00"
        ],
        [
         "9",
         "78",
         "Rice",
         "12.75",
         "Food",
         "2",
         "2025-04-05 00:00:00"
        ],
        [
         "10",
         "91",
         "Desk Lamp",
         "45.6",
         "Home Goods",
         "1",
         "2025-04-20 00:00:00"
        ],
        [
         "11",
         "115",
         "Pens",
         "0.99",
         "Stationery",
         "20",
         "2025-04-28 00:00:00"
        ],
        [
         "12",
         "56",
         "Drumsticks",
         "5.99",
         "Food",
         "6",
         "2025-04-29 00:00:00"
        ],
        [
         "13",
         "57",
         "Chicken Thighs",
         "4.99",
         "Food",
         "4",
         "2025-04-30 00:00:00"
        ],
        [
         "14",
         "598",
         "PS5",
         "599.0",
         "Electronics",
         "1",
         "2024-11-23 00:00:00"
        ],
        [
         "15",
         "444",
         "Mac mini",
         "899.0",
         "Electronics",
         "1",
         "2024-11-25 00:00:00"
        ]
       ],
       "shape": {
        "columns": 6,
        "rows": 16
       }
      },
      "text/html": [
       "<div>\n",
       "<style scoped>\n",
       "    .dataframe tbody tr th:only-of-type {\n",
       "        vertical-align: middle;\n",
       "    }\n",
       "\n",
       "    .dataframe tbody tr th {\n",
       "        vertical-align: top;\n",
       "    }\n",
       "\n",
       "    .dataframe thead th {\n",
       "        text-align: right;\n",
       "    }\n",
       "</style>\n",
       "<table border=\"1\" class=\"dataframe\">\n",
       "  <thead>\n",
       "    <tr style=\"text-align: right;\">\n",
       "      <th></th>\n",
       "      <th>Item_ID</th>\n",
       "      <th>Item</th>\n",
       "      <th>Price</th>\n",
       "      <th>Category</th>\n",
       "      <th>Quantity</th>\n",
       "      <th>Date</th>\n",
       "    </tr>\n",
       "  </thead>\n",
       "  <tbody>\n",
       "    <tr>\n",
       "      <th>0</th>\n",
       "      <td>23</td>\n",
       "      <td>Apple</td>\n",
       "      <td>2.45</td>\n",
       "      <td>Fruit</td>\n",
       "      <td>5</td>\n",
       "      <td>2024-12-03</td>\n",
       "    </tr>\n",
       "    <tr>\n",
       "      <th>1</th>\n",
       "      <td>14</td>\n",
       "      <td>Olive Oil</td>\n",
       "      <td>35.00</td>\n",
       "      <td>Food</td>\n",
       "      <td>1</td>\n",
       "      <td>2024-12-04</td>\n",
       "    </tr>\n",
       "    <tr>\n",
       "      <th>2</th>\n",
       "      <td>86</td>\n",
       "      <td>Toothpaste</td>\n",
       "      <td>4.30</td>\n",
       "      <td>Grocery</td>\n",
       "      <td>1</td>\n",
       "      <td>2024-12-05</td>\n",
       "    </tr>\n",
       "    <tr>\n",
       "      <th>3</th>\n",
       "      <td>109</td>\n",
       "      <td>TCL TV</td>\n",
       "      <td>2599.00</td>\n",
       "      <td>Electronics</td>\n",
       "      <td>1</td>\n",
       "      <td>2024-12-25</td>\n",
       "    </tr>\n",
       "    <tr>\n",
       "      <th>4</th>\n",
       "      <td>26</td>\n",
       "      <td>Grapes</td>\n",
       "      <td>3.99</td>\n",
       "      <td>Fruit</td>\n",
       "      <td>5</td>\n",
       "      <td>2024-12-25</td>\n",
       "    </tr>\n",
       "    <tr>\n",
       "      <th>5</th>\n",
       "      <td>39</td>\n",
       "      <td>Tenderloin</td>\n",
       "      <td>18.99</td>\n",
       "      <td>Food</td>\n",
       "      <td>3</td>\n",
       "      <td>2024-12-25</td>\n",
       "    </tr>\n",
       "    <tr>\n",
       "      <th>6</th>\n",
       "      <td>47</td>\n",
       "      <td>Notebook</td>\n",
       "      <td>2.99</td>\n",
       "      <td>Stationery</td>\n",
       "      <td>10</td>\n",
       "      <td>2025-01-15</td>\n",
       "    </tr>\n",
       "    <tr>\n",
       "      <th>7</th>\n",
       "      <td>52</td>\n",
       "      <td>Shampoo</td>\n",
       "      <td>8.50</td>\n",
       "      <td>Personal Care</td>\n",
       "      <td>2</td>\n",
       "      <td>2025-02-08</td>\n",
       "    </tr>\n",
       "    <tr>\n",
       "      <th>8</th>\n",
       "      <td>64</td>\n",
       "      <td>Bananas</td>\n",
       "      <td>1.29</td>\n",
       "      <td>Fruit</td>\n",
       "      <td>6</td>\n",
       "      <td>2025-03-12</td>\n",
       "    </tr>\n",
       "    <tr>\n",
       "      <th>9</th>\n",
       "      <td>78</td>\n",
       "      <td>Rice</td>\n",
       "      <td>12.75</td>\n",
       "      <td>Food</td>\n",
       "      <td>2</td>\n",
       "      <td>2025-04-05</td>\n",
       "    </tr>\n",
       "    <tr>\n",
       "      <th>10</th>\n",
       "      <td>91</td>\n",
       "      <td>Desk Lamp</td>\n",
       "      <td>45.60</td>\n",
       "      <td>Home Goods</td>\n",
       "      <td>1</td>\n",
       "      <td>2025-04-20</td>\n",
       "    </tr>\n",
       "    <tr>\n",
       "      <th>11</th>\n",
       "      <td>115</td>\n",
       "      <td>Pens</td>\n",
       "      <td>0.99</td>\n",
       "      <td>Stationery</td>\n",
       "      <td>20</td>\n",
       "      <td>2025-04-28</td>\n",
       "    </tr>\n",
       "    <tr>\n",
       "      <th>12</th>\n",
       "      <td>56</td>\n",
       "      <td>Drumsticks</td>\n",
       "      <td>5.99</td>\n",
       "      <td>Food</td>\n",
       "      <td>6</td>\n",
       "      <td>2025-04-29</td>\n",
       "    </tr>\n",
       "    <tr>\n",
       "      <th>13</th>\n",
       "      <td>57</td>\n",
       "      <td>Chicken Thighs</td>\n",
       "      <td>4.99</td>\n",
       "      <td>Food</td>\n",
       "      <td>4</td>\n",
       "      <td>2025-04-30</td>\n",
       "    </tr>\n",
       "    <tr>\n",
       "      <th>14</th>\n",
       "      <td>598</td>\n",
       "      <td>PS5</td>\n",
       "      <td>599.00</td>\n",
       "      <td>Electronics</td>\n",
       "      <td>1</td>\n",
       "      <td>2024-11-23</td>\n",
       "    </tr>\n",
       "    <tr>\n",
       "      <th>15</th>\n",
       "      <td>444</td>\n",
       "      <td>Mac mini</td>\n",
       "      <td>899.00</td>\n",
       "      <td>Electronics</td>\n",
       "      <td>1</td>\n",
       "      <td>2024-11-25</td>\n",
       "    </tr>\n",
       "  </tbody>\n",
       "</table>\n",
       "</div>"
      ],
      "text/plain": [
       "    Item_ID            Item    Price       Category  Quantity       Date\n",
       "0        23           Apple     2.45          Fruit         5 2024-12-03\n",
       "1        14       Olive Oil    35.00           Food         1 2024-12-04\n",
       "2        86      Toothpaste     4.30        Grocery         1 2024-12-05\n",
       "3       109          TCL TV  2599.00    Electronics         1 2024-12-25\n",
       "4        26          Grapes     3.99          Fruit         5 2024-12-25\n",
       "5        39      Tenderloin    18.99           Food         3 2024-12-25\n",
       "6        47        Notebook     2.99     Stationery        10 2025-01-15\n",
       "7        52         Shampoo     8.50  Personal Care         2 2025-02-08\n",
       "8        64         Bananas     1.29          Fruit         6 2025-03-12\n",
       "9        78            Rice    12.75           Food         2 2025-04-05\n",
       "10       91       Desk Lamp    45.60     Home Goods         1 2025-04-20\n",
       "11      115            Pens     0.99     Stationery        20 2025-04-28\n",
       "12       56      Drumsticks     5.99           Food         6 2025-04-29\n",
       "13       57  Chicken Thighs     4.99           Food         4 2025-04-30\n",
       "14      598             PS5   599.00    Electronics         1 2024-11-23\n",
       "15      444        Mac mini   899.00    Electronics         1 2024-11-25"
      ]
     },
     "execution_count": 138,
     "metadata": {},
     "output_type": "execute_result"
    }
   ],
   "source": [
    "# Q2: 读取data_Class_5.xls文件的products_plus表格，拼接到products表格中\n",
    "df_products_plus = pd.read_excel(\n",
    "    \"data_Class_5.xls\", sheet_name=\"products_plus\"\n",
    ")  # 读取products_plus表格\n",
    "df_products = pd.concat([df_products, df_products_plus], ignore_index=True)  # 拼接\n",
    "df_products"
   ]
  },
  {
   "cell_type": "code",
   "execution_count": 139,
   "id": "e78b31c6",
   "metadata": {},
   "outputs": [
    {
     "data": {
      "application/vnd.microsoft.datawrangler.viewer.v0+json": {
       "columns": [
        {
         "name": "index",
         "rawType": "int64",
         "type": "integer"
        },
        {
         "name": "Item_ID",
         "rawType": "int64",
         "type": "integer"
        },
        {
         "name": "Item",
         "rawType": "object",
         "type": "string"
        },
        {
         "name": "Price",
         "rawType": "float64",
         "type": "float"
        },
        {
         "name": "Category",
         "rawType": "object",
         "type": "string"
        },
        {
         "name": "Quantity",
         "rawType": "int64",
         "type": "integer"
        },
        {
         "name": "Date",
         "rawType": "datetime64[ns]",
         "type": "datetime"
        }
       ],
       "conversionMethod": "pd.DataFrame",
       "ref": "f4a5f8bb-d16e-47bf-b0a0-a63576610403",
       "rows": [
        [
         "14",
         "598",
         "PS5",
         "599.0",
         "Electronics",
         "1",
         "2024-11-23 00:00:00"
        ],
        [
         "15",
         "444",
         "Mac mini",
         "899.0",
         "Electronics",
         "1",
         "2024-11-25 00:00:00"
        ],
        [
         "0",
         "23",
         "Apple",
         "2.45",
         "Fruit",
         "5",
         "2024-12-03 00:00:00"
        ],
        [
         "1",
         "14",
         "Olive Oil",
         "35.0",
         "Food",
         "1",
         "2024-12-04 00:00:00"
        ],
        [
         "2",
         "86",
         "Toothpaste",
         "4.3",
         "Grocery",
         "1",
         "2024-12-05 00:00:00"
        ],
        [
         "3",
         "109",
         "TCL TV",
         "2599.0",
         "Electronics",
         "1",
         "2024-12-25 00:00:00"
        ],
        [
         "4",
         "26",
         "Grapes",
         "3.99",
         "Fruit",
         "5",
         "2024-12-25 00:00:00"
        ],
        [
         "5",
         "39",
         "Tenderloin",
         "18.99",
         "Food",
         "3",
         "2024-12-25 00:00:00"
        ],
        [
         "6",
         "47",
         "Notebook",
         "2.99",
         "Stationery",
         "10",
         "2025-01-15 00:00:00"
        ],
        [
         "7",
         "52",
         "Shampoo",
         "8.5",
         "Personal Care",
         "2",
         "2025-02-08 00:00:00"
        ],
        [
         "8",
         "64",
         "Bananas",
         "1.29",
         "Fruit",
         "6",
         "2025-03-12 00:00:00"
        ],
        [
         "9",
         "78",
         "Rice",
         "12.75",
         "Food",
         "2",
         "2025-04-05 00:00:00"
        ],
        [
         "10",
         "91",
         "Desk Lamp",
         "45.6",
         "Home Goods",
         "1",
         "2025-04-20 00:00:00"
        ],
        [
         "11",
         "115",
         "Pens",
         "0.99",
         "Stationery",
         "20",
         "2025-04-28 00:00:00"
        ],
        [
         "12",
         "56",
         "Drumsticks",
         "5.99",
         "Food",
         "6",
         "2025-04-29 00:00:00"
        ],
        [
         "13",
         "57",
         "Chicken Thighs",
         "4.99",
         "Food",
         "4",
         "2025-04-30 00:00:00"
        ]
       ],
       "shape": {
        "columns": 6,
        "rows": 16
       }
      },
      "text/html": [
       "<div>\n",
       "<style scoped>\n",
       "    .dataframe tbody tr th:only-of-type {\n",
       "        vertical-align: middle;\n",
       "    }\n",
       "\n",
       "    .dataframe tbody tr th {\n",
       "        vertical-align: top;\n",
       "    }\n",
       "\n",
       "    .dataframe thead th {\n",
       "        text-align: right;\n",
       "    }\n",
       "</style>\n",
       "<table border=\"1\" class=\"dataframe\">\n",
       "  <thead>\n",
       "    <tr style=\"text-align: right;\">\n",
       "      <th></th>\n",
       "      <th>Item_ID</th>\n",
       "      <th>Item</th>\n",
       "      <th>Price</th>\n",
       "      <th>Category</th>\n",
       "      <th>Quantity</th>\n",
       "      <th>Date</th>\n",
       "    </tr>\n",
       "  </thead>\n",
       "  <tbody>\n",
       "    <tr>\n",
       "      <th>14</th>\n",
       "      <td>598</td>\n",
       "      <td>PS5</td>\n",
       "      <td>599.00</td>\n",
       "      <td>Electronics</td>\n",
       "      <td>1</td>\n",
       "      <td>2024-11-23</td>\n",
       "    </tr>\n",
       "    <tr>\n",
       "      <th>15</th>\n",
       "      <td>444</td>\n",
       "      <td>Mac mini</td>\n",
       "      <td>899.00</td>\n",
       "      <td>Electronics</td>\n",
       "      <td>1</td>\n",
       "      <td>2024-11-25</td>\n",
       "    </tr>\n",
       "    <tr>\n",
       "      <th>0</th>\n",
       "      <td>23</td>\n",
       "      <td>Apple</td>\n",
       "      <td>2.45</td>\n",
       "      <td>Fruit</td>\n",
       "      <td>5</td>\n",
       "      <td>2024-12-03</td>\n",
       "    </tr>\n",
       "    <tr>\n",
       "      <th>1</th>\n",
       "      <td>14</td>\n",
       "      <td>Olive Oil</td>\n",
       "      <td>35.00</td>\n",
       "      <td>Food</td>\n",
       "      <td>1</td>\n",
       "      <td>2024-12-04</td>\n",
       "    </tr>\n",
       "    <tr>\n",
       "      <th>2</th>\n",
       "      <td>86</td>\n",
       "      <td>Toothpaste</td>\n",
       "      <td>4.30</td>\n",
       "      <td>Grocery</td>\n",
       "      <td>1</td>\n",
       "      <td>2024-12-05</td>\n",
       "    </tr>\n",
       "    <tr>\n",
       "      <th>3</th>\n",
       "      <td>109</td>\n",
       "      <td>TCL TV</td>\n",
       "      <td>2599.00</td>\n",
       "      <td>Electronics</td>\n",
       "      <td>1</td>\n",
       "      <td>2024-12-25</td>\n",
       "    </tr>\n",
       "    <tr>\n",
       "      <th>4</th>\n",
       "      <td>26</td>\n",
       "      <td>Grapes</td>\n",
       "      <td>3.99</td>\n",
       "      <td>Fruit</td>\n",
       "      <td>5</td>\n",
       "      <td>2024-12-25</td>\n",
       "    </tr>\n",
       "    <tr>\n",
       "      <th>5</th>\n",
       "      <td>39</td>\n",
       "      <td>Tenderloin</td>\n",
       "      <td>18.99</td>\n",
       "      <td>Food</td>\n",
       "      <td>3</td>\n",
       "      <td>2024-12-25</td>\n",
       "    </tr>\n",
       "    <tr>\n",
       "      <th>6</th>\n",
       "      <td>47</td>\n",
       "      <td>Notebook</td>\n",
       "      <td>2.99</td>\n",
       "      <td>Stationery</td>\n",
       "      <td>10</td>\n",
       "      <td>2025-01-15</td>\n",
       "    </tr>\n",
       "    <tr>\n",
       "      <th>7</th>\n",
       "      <td>52</td>\n",
       "      <td>Shampoo</td>\n",
       "      <td>8.50</td>\n",
       "      <td>Personal Care</td>\n",
       "      <td>2</td>\n",
       "      <td>2025-02-08</td>\n",
       "    </tr>\n",
       "    <tr>\n",
       "      <th>8</th>\n",
       "      <td>64</td>\n",
       "      <td>Bananas</td>\n",
       "      <td>1.29</td>\n",
       "      <td>Fruit</td>\n",
       "      <td>6</td>\n",
       "      <td>2025-03-12</td>\n",
       "    </tr>\n",
       "    <tr>\n",
       "      <th>9</th>\n",
       "      <td>78</td>\n",
       "      <td>Rice</td>\n",
       "      <td>12.75</td>\n",
       "      <td>Food</td>\n",
       "      <td>2</td>\n",
       "      <td>2025-04-05</td>\n",
       "    </tr>\n",
       "    <tr>\n",
       "      <th>10</th>\n",
       "      <td>91</td>\n",
       "      <td>Desk Lamp</td>\n",
       "      <td>45.60</td>\n",
       "      <td>Home Goods</td>\n",
       "      <td>1</td>\n",
       "      <td>2025-04-20</td>\n",
       "    </tr>\n",
       "    <tr>\n",
       "      <th>11</th>\n",
       "      <td>115</td>\n",
       "      <td>Pens</td>\n",
       "      <td>0.99</td>\n",
       "      <td>Stationery</td>\n",
       "      <td>20</td>\n",
       "      <td>2025-04-28</td>\n",
       "    </tr>\n",
       "    <tr>\n",
       "      <th>12</th>\n",
       "      <td>56</td>\n",
       "      <td>Drumsticks</td>\n",
       "      <td>5.99</td>\n",
       "      <td>Food</td>\n",
       "      <td>6</td>\n",
       "      <td>2025-04-29</td>\n",
       "    </tr>\n",
       "    <tr>\n",
       "      <th>13</th>\n",
       "      <td>57</td>\n",
       "      <td>Chicken Thighs</td>\n",
       "      <td>4.99</td>\n",
       "      <td>Food</td>\n",
       "      <td>4</td>\n",
       "      <td>2025-04-30</td>\n",
       "    </tr>\n",
       "  </tbody>\n",
       "</table>\n",
       "</div>"
      ],
      "text/plain": [
       "    Item_ID            Item    Price       Category  Quantity       Date\n",
       "14      598             PS5   599.00    Electronics         1 2024-11-23\n",
       "15      444        Mac mini   899.00    Electronics         1 2024-11-25\n",
       "0        23           Apple     2.45          Fruit         5 2024-12-03\n",
       "1        14       Olive Oil    35.00           Food         1 2024-12-04\n",
       "2        86      Toothpaste     4.30        Grocery         1 2024-12-05\n",
       "3       109          TCL TV  2599.00    Electronics         1 2024-12-25\n",
       "4        26          Grapes     3.99          Fruit         5 2024-12-25\n",
       "5        39      Tenderloin    18.99           Food         3 2024-12-25\n",
       "6        47        Notebook     2.99     Stationery        10 2025-01-15\n",
       "7        52         Shampoo     8.50  Personal Care         2 2025-02-08\n",
       "8        64         Bananas     1.29          Fruit         6 2025-03-12\n",
       "9        78            Rice    12.75           Food         2 2025-04-05\n",
       "10       91       Desk Lamp    45.60     Home Goods         1 2025-04-20\n",
       "11      115            Pens     0.99     Stationery        20 2025-04-28\n",
       "12       56      Drumsticks     5.99           Food         6 2025-04-29\n",
       "13       57  Chicken Thighs     4.99           Food         4 2025-04-30"
      ]
     },
     "execution_count": 139,
     "metadata": {},
     "output_type": "execute_result"
    }
   ],
   "source": [
    "# Q3: 按照日期升序排列\n",
    "df_products.sort_values(by=\"Date\", ascending=True, inplace=True)  # 升序排列\n",
    "df_products"
   ]
  },
  {
   "cell_type": "code",
   "execution_count": 140,
   "id": "d32bb8f9",
   "metadata": {},
   "outputs": [
    {
     "data": {
      "application/vnd.microsoft.datawrangler.viewer.v0+json": {
       "columns": [
        {
         "name": "index",
         "rawType": "int64",
         "type": "integer"
        },
        {
         "name": "Item_ID",
         "rawType": "int64",
         "type": "integer"
        },
        {
         "name": "Item",
         "rawType": "object",
         "type": "string"
        },
        {
         "name": "Price",
         "rawType": "float64",
         "type": "float"
        },
        {
         "name": "Category",
         "rawType": "object",
         "type": "string"
        },
        {
         "name": "Quantity",
         "rawType": "int64",
         "type": "integer"
        },
        {
         "name": "Date",
         "rawType": "datetime64[ns]",
         "type": "datetime"
        }
       ],
       "conversionMethod": "pd.DataFrame",
       "ref": "a69648fe-0807-402b-8313-0f7fea925a14",
       "rows": [
        [
         "14",
         "598",
         "PS5",
         "599.0",
         "Electronics",
         "1",
         "2024-11-23 00:00:00"
        ],
        [
         "15",
         "444",
         "Mac mini",
         "899.0",
         "Electronics",
         "1",
         "2024-11-25 00:00:00"
        ],
        [
         "0",
         "23",
         "Apple",
         "2.45",
         "Fruit",
         "5",
         "2024-12-03 00:00:00"
        ],
        [
         "1",
         "14",
         "Olive Oil",
         "35.0",
         "Food",
         "1",
         "2024-12-04 00:00:00"
        ],
        [
         "2",
         "86",
         "Toothpaste",
         "4.3",
         "Grocery",
         "1",
         "2024-12-05 00:00:00"
        ]
       ],
       "shape": {
        "columns": 6,
        "rows": 5
       }
      },
      "text/html": [
       "<div>\n",
       "<style scoped>\n",
       "    .dataframe tbody tr th:only-of-type {\n",
       "        vertical-align: middle;\n",
       "    }\n",
       "\n",
       "    .dataframe tbody tr th {\n",
       "        vertical-align: top;\n",
       "    }\n",
       "\n",
       "    .dataframe thead th {\n",
       "        text-align: right;\n",
       "    }\n",
       "</style>\n",
       "<table border=\"1\" class=\"dataframe\">\n",
       "  <thead>\n",
       "    <tr style=\"text-align: right;\">\n",
       "      <th></th>\n",
       "      <th>Item_ID</th>\n",
       "      <th>Item</th>\n",
       "      <th>Price</th>\n",
       "      <th>Category</th>\n",
       "      <th>Quantity</th>\n",
       "      <th>Date</th>\n",
       "    </tr>\n",
       "  </thead>\n",
       "  <tbody>\n",
       "    <tr>\n",
       "      <th>14</th>\n",
       "      <td>598</td>\n",
       "      <td>PS5</td>\n",
       "      <td>599.00</td>\n",
       "      <td>Electronics</td>\n",
       "      <td>1</td>\n",
       "      <td>2024-11-23</td>\n",
       "    </tr>\n",
       "    <tr>\n",
       "      <th>15</th>\n",
       "      <td>444</td>\n",
       "      <td>Mac mini</td>\n",
       "      <td>899.00</td>\n",
       "      <td>Electronics</td>\n",
       "      <td>1</td>\n",
       "      <td>2024-11-25</td>\n",
       "    </tr>\n",
       "    <tr>\n",
       "      <th>0</th>\n",
       "      <td>23</td>\n",
       "      <td>Apple</td>\n",
       "      <td>2.45</td>\n",
       "      <td>Fruit</td>\n",
       "      <td>5</td>\n",
       "      <td>2024-12-03</td>\n",
       "    </tr>\n",
       "    <tr>\n",
       "      <th>1</th>\n",
       "      <td>14</td>\n",
       "      <td>Olive Oil</td>\n",
       "      <td>35.00</td>\n",
       "      <td>Food</td>\n",
       "      <td>1</td>\n",
       "      <td>2024-12-04</td>\n",
       "    </tr>\n",
       "    <tr>\n",
       "      <th>2</th>\n",
       "      <td>86</td>\n",
       "      <td>Toothpaste</td>\n",
       "      <td>4.30</td>\n",
       "      <td>Grocery</td>\n",
       "      <td>1</td>\n",
       "      <td>2024-12-05</td>\n",
       "    </tr>\n",
       "  </tbody>\n",
       "</table>\n",
       "</div>"
      ],
      "text/plain": [
       "    Item_ID        Item   Price     Category  Quantity       Date\n",
       "14      598         PS5  599.00  Electronics         1 2024-11-23\n",
       "15      444    Mac mini  899.00  Electronics         1 2024-11-25\n",
       "0        23       Apple    2.45        Fruit         5 2024-12-03\n",
       "1        14   Olive Oil   35.00         Food         1 2024-12-04\n",
       "2        86  Toothpaste    4.30      Grocery         1 2024-12-05"
      ]
     },
     "execution_count": 140,
     "metadata": {},
     "output_type": "execute_result"
    }
   ],
   "source": [
    "# Q4: 展示表格的前5行数据\n",
    "df_products.head()  # 前5行数据"
   ]
  },
  {
   "cell_type": "code",
   "execution_count": 141,
   "id": "e075e4c6",
   "metadata": {},
   "outputs": [
    {
     "data": {
      "application/vnd.microsoft.datawrangler.viewer.v0+json": {
       "columns": [
        {
         "name": "Item_ID",
         "rawType": "int64",
         "type": "integer"
        },
        {
         "name": "Item",
         "rawType": "object",
         "type": "string"
        },
        {
         "name": "Price",
         "rawType": "float64",
         "type": "float"
        },
        {
         "name": "Category",
         "rawType": "object",
         "type": "string"
        },
        {
         "name": "Quantity",
         "rawType": "int64",
         "type": "integer"
        },
        {
         "name": "Date",
         "rawType": "datetime64[ns]",
         "type": "datetime"
        }
       ],
       "conversionMethod": "pd.DataFrame",
       "ref": "0c5cbc6a-dbfc-4859-ab12-3defa46abcc6",
       "rows": [
        [
         "598",
         "PS5",
         "599.0",
         "Electronics",
         "1",
         "2024-11-23 00:00:00"
        ],
        [
         "444",
         "Mac mini",
         "899.0",
         "Electronics",
         "1",
         "2024-11-25 00:00:00"
        ],
        [
         "23",
         "Apple",
         "2.45",
         "Fruit",
         "5",
         "2024-12-03 00:00:00"
        ],
        [
         "14",
         "Olive Oil",
         "35.0",
         "Food",
         "1",
         "2024-12-04 00:00:00"
        ],
        [
         "86",
         "Toothpaste",
         "4.3",
         "Grocery",
         "1",
         "2024-12-05 00:00:00"
        ],
        [
         "109",
         "TCL TV",
         "2599.0",
         "Electronics",
         "1",
         "2024-12-25 00:00:00"
        ],
        [
         "26",
         "Grapes",
         "3.99",
         "Fruit",
         "5",
         "2024-12-25 00:00:00"
        ],
        [
         "39",
         "Tenderloin",
         "18.99",
         "Food",
         "3",
         "2024-12-25 00:00:00"
        ],
        [
         "47",
         "Notebook",
         "2.99",
         "Stationery",
         "10",
         "2025-01-15 00:00:00"
        ],
        [
         "52",
         "Shampoo",
         "8.5",
         "Personal Care",
         "2",
         "2025-02-08 00:00:00"
        ],
        [
         "64",
         "Bananas",
         "1.29",
         "Fruit",
         "6",
         "2025-03-12 00:00:00"
        ],
        [
         "78",
         "Rice",
         "12.75",
         "Food",
         "2",
         "2025-04-05 00:00:00"
        ],
        [
         "91",
         "Desk Lamp",
         "45.6",
         "Home Goods",
         "1",
         "2025-04-20 00:00:00"
        ],
        [
         "115",
         "Pens",
         "0.99",
         "Stationery",
         "20",
         "2025-04-28 00:00:00"
        ],
        [
         "56",
         "Drumsticks",
         "5.99",
         "Food",
         "6",
         "2025-04-29 00:00:00"
        ],
        [
         "57",
         "Chicken Thighs",
         "4.99",
         "Food",
         "4",
         "2025-04-30 00:00:00"
        ]
       ],
       "shape": {
        "columns": 5,
        "rows": 16
       }
      },
      "text/html": [
       "<div>\n",
       "<style scoped>\n",
       "    .dataframe tbody tr th:only-of-type {\n",
       "        vertical-align: middle;\n",
       "    }\n",
       "\n",
       "    .dataframe tbody tr th {\n",
       "        vertical-align: top;\n",
       "    }\n",
       "\n",
       "    .dataframe thead th {\n",
       "        text-align: right;\n",
       "    }\n",
       "</style>\n",
       "<table border=\"1\" class=\"dataframe\">\n",
       "  <thead>\n",
       "    <tr style=\"text-align: right;\">\n",
       "      <th></th>\n",
       "      <th>Item</th>\n",
       "      <th>Price</th>\n",
       "      <th>Category</th>\n",
       "      <th>Quantity</th>\n",
       "      <th>Date</th>\n",
       "    </tr>\n",
       "    <tr>\n",
       "      <th>Item_ID</th>\n",
       "      <th></th>\n",
       "      <th></th>\n",
       "      <th></th>\n",
       "      <th></th>\n",
       "      <th></th>\n",
       "    </tr>\n",
       "  </thead>\n",
       "  <tbody>\n",
       "    <tr>\n",
       "      <th>598</th>\n",
       "      <td>PS5</td>\n",
       "      <td>599.00</td>\n",
       "      <td>Electronics</td>\n",
       "      <td>1</td>\n",
       "      <td>2024-11-23</td>\n",
       "    </tr>\n",
       "    <tr>\n",
       "      <th>444</th>\n",
       "      <td>Mac mini</td>\n",
       "      <td>899.00</td>\n",
       "      <td>Electronics</td>\n",
       "      <td>1</td>\n",
       "      <td>2024-11-25</td>\n",
       "    </tr>\n",
       "    <tr>\n",
       "      <th>23</th>\n",
       "      <td>Apple</td>\n",
       "      <td>2.45</td>\n",
       "      <td>Fruit</td>\n",
       "      <td>5</td>\n",
       "      <td>2024-12-03</td>\n",
       "    </tr>\n",
       "    <tr>\n",
       "      <th>14</th>\n",
       "      <td>Olive Oil</td>\n",
       "      <td>35.00</td>\n",
       "      <td>Food</td>\n",
       "      <td>1</td>\n",
       "      <td>2024-12-04</td>\n",
       "    </tr>\n",
       "    <tr>\n",
       "      <th>86</th>\n",
       "      <td>Toothpaste</td>\n",
       "      <td>4.30</td>\n",
       "      <td>Grocery</td>\n",
       "      <td>1</td>\n",
       "      <td>2024-12-05</td>\n",
       "    </tr>\n",
       "    <tr>\n",
       "      <th>109</th>\n",
       "      <td>TCL TV</td>\n",
       "      <td>2599.00</td>\n",
       "      <td>Electronics</td>\n",
       "      <td>1</td>\n",
       "      <td>2024-12-25</td>\n",
       "    </tr>\n",
       "    <tr>\n",
       "      <th>26</th>\n",
       "      <td>Grapes</td>\n",
       "      <td>3.99</td>\n",
       "      <td>Fruit</td>\n",
       "      <td>5</td>\n",
       "      <td>2024-12-25</td>\n",
       "    </tr>\n",
       "    <tr>\n",
       "      <th>39</th>\n",
       "      <td>Tenderloin</td>\n",
       "      <td>18.99</td>\n",
       "      <td>Food</td>\n",
       "      <td>3</td>\n",
       "      <td>2024-12-25</td>\n",
       "    </tr>\n",
       "    <tr>\n",
       "      <th>47</th>\n",
       "      <td>Notebook</td>\n",
       "      <td>2.99</td>\n",
       "      <td>Stationery</td>\n",
       "      <td>10</td>\n",
       "      <td>2025-01-15</td>\n",
       "    </tr>\n",
       "    <tr>\n",
       "      <th>52</th>\n",
       "      <td>Shampoo</td>\n",
       "      <td>8.50</td>\n",
       "      <td>Personal Care</td>\n",
       "      <td>2</td>\n",
       "      <td>2025-02-08</td>\n",
       "    </tr>\n",
       "    <tr>\n",
       "      <th>64</th>\n",
       "      <td>Bananas</td>\n",
       "      <td>1.29</td>\n",
       "      <td>Fruit</td>\n",
       "      <td>6</td>\n",
       "      <td>2025-03-12</td>\n",
       "    </tr>\n",
       "    <tr>\n",
       "      <th>78</th>\n",
       "      <td>Rice</td>\n",
       "      <td>12.75</td>\n",
       "      <td>Food</td>\n",
       "      <td>2</td>\n",
       "      <td>2025-04-05</td>\n",
       "    </tr>\n",
       "    <tr>\n",
       "      <th>91</th>\n",
       "      <td>Desk Lamp</td>\n",
       "      <td>45.60</td>\n",
       "      <td>Home Goods</td>\n",
       "      <td>1</td>\n",
       "      <td>2025-04-20</td>\n",
       "    </tr>\n",
       "    <tr>\n",
       "      <th>115</th>\n",
       "      <td>Pens</td>\n",
       "      <td>0.99</td>\n",
       "      <td>Stationery</td>\n",
       "      <td>20</td>\n",
       "      <td>2025-04-28</td>\n",
       "    </tr>\n",
       "    <tr>\n",
       "      <th>56</th>\n",
       "      <td>Drumsticks</td>\n",
       "      <td>5.99</td>\n",
       "      <td>Food</td>\n",
       "      <td>6</td>\n",
       "      <td>2025-04-29</td>\n",
       "    </tr>\n",
       "    <tr>\n",
       "      <th>57</th>\n",
       "      <td>Chicken Thighs</td>\n",
       "      <td>4.99</td>\n",
       "      <td>Food</td>\n",
       "      <td>4</td>\n",
       "      <td>2025-04-30</td>\n",
       "    </tr>\n",
       "  </tbody>\n",
       "</table>\n",
       "</div>"
      ],
      "text/plain": [
       "                   Item    Price       Category  Quantity       Date\n",
       "Item_ID                                                             \n",
       "598                 PS5   599.00    Electronics         1 2024-11-23\n",
       "444            Mac mini   899.00    Electronics         1 2024-11-25\n",
       "23                Apple     2.45          Fruit         5 2024-12-03\n",
       "14            Olive Oil    35.00           Food         1 2024-12-04\n",
       "86           Toothpaste     4.30        Grocery         1 2024-12-05\n",
       "109              TCL TV  2599.00    Electronics         1 2024-12-25\n",
       "26               Grapes     3.99          Fruit         5 2024-12-25\n",
       "39           Tenderloin    18.99           Food         3 2024-12-25\n",
       "47             Notebook     2.99     Stationery        10 2025-01-15\n",
       "52              Shampoo     8.50  Personal Care         2 2025-02-08\n",
       "64              Bananas     1.29          Fruit         6 2025-03-12\n",
       "78                 Rice    12.75           Food         2 2025-04-05\n",
       "91            Desk Lamp    45.60     Home Goods         1 2025-04-20\n",
       "115                Pens     0.99     Stationery        20 2025-04-28\n",
       "56           Drumsticks     5.99           Food         6 2025-04-29\n",
       "57       Chicken Thighs     4.99           Food         4 2025-04-30"
      ]
     },
     "execution_count": 141,
     "metadata": {},
     "output_type": "execute_result"
    }
   ],
   "source": [
    "# Q5: 把Item_ID列设置为索引\n",
    "df_products.set_index(\"Item_ID\", inplace=True)  # 设置索引\n",
    "df_products"
   ]
  },
  {
   "cell_type": "code",
   "execution_count": 142,
   "id": "7d15043f",
   "metadata": {},
   "outputs": [
    {
     "data": {
      "application/vnd.microsoft.datawrangler.viewer.v0+json": {
       "columns": [
        {
         "name": "Item_ID",
         "rawType": "int64",
         "type": "integer"
        },
        {
         "name": "Item",
         "rawType": "object",
         "type": "string"
        },
        {
         "name": "Price",
         "rawType": "float64",
         "type": "float"
        },
        {
         "name": "Category",
         "rawType": "object",
         "type": "string"
        },
        {
         "name": "Quantity",
         "rawType": "int64",
         "type": "integer"
        },
        {
         "name": "Date",
         "rawType": "datetime64[ns]",
         "type": "datetime"
        },
        {
         "name": "Total_Price",
         "rawType": "float64",
         "type": "float"
        }
       ],
       "conversionMethod": "pd.DataFrame",
       "ref": "5f9b8db7-8ff9-4319-af60-f14e0e7cde70",
       "rows": [
        [
         "598",
         "PS5",
         "599.0",
         "Electronics",
         "1",
         "2024-11-23 00:00:00",
         "599.0"
        ],
        [
         "444",
         "Mac mini",
         "899.0",
         "Electronics",
         "1",
         "2024-11-25 00:00:00",
         "899.0"
        ],
        [
         "23",
         "Apple",
         "2.45",
         "Fruit",
         "5",
         "2024-12-03 00:00:00",
         "12.25"
        ],
        [
         "14",
         "Olive Oil",
         "35.0",
         "Food",
         "1",
         "2024-12-04 00:00:00",
         "35.0"
        ],
        [
         "86",
         "Toothpaste",
         "4.3",
         "Grocery",
         "1",
         "2024-12-05 00:00:00",
         "4.3"
        ],
        [
         "109",
         "TCL TV",
         "2599.0",
         "Electronics",
         "1",
         "2024-12-25 00:00:00",
         "2599.0"
        ],
        [
         "26",
         "Grapes",
         "3.99",
         "Fruit",
         "5",
         "2024-12-25 00:00:00",
         "19.950000000000003"
        ],
        [
         "39",
         "Tenderloin",
         "18.99",
         "Food",
         "3",
         "2024-12-25 00:00:00",
         "56.97"
        ],
        [
         "47",
         "Notebook",
         "2.99",
         "Stationery",
         "10",
         "2025-01-15 00:00:00",
         "29.900000000000002"
        ],
        [
         "52",
         "Shampoo",
         "8.5",
         "Personal Care",
         "2",
         "2025-02-08 00:00:00",
         "17.0"
        ],
        [
         "64",
         "Bananas",
         "1.29",
         "Fruit",
         "6",
         "2025-03-12 00:00:00",
         "7.74"
        ],
        [
         "78",
         "Rice",
         "12.75",
         "Food",
         "2",
         "2025-04-05 00:00:00",
         "25.5"
        ],
        [
         "91",
         "Desk Lamp",
         "45.6",
         "Home Goods",
         "1",
         "2025-04-20 00:00:00",
         "45.6"
        ],
        [
         "115",
         "Pens",
         "0.99",
         "Stationery",
         "20",
         "2025-04-28 00:00:00",
         "19.8"
        ],
        [
         "56",
         "Drumsticks",
         "5.99",
         "Food",
         "6",
         "2025-04-29 00:00:00",
         "35.94"
        ],
        [
         "57",
         "Chicken Thighs",
         "4.99",
         "Food",
         "4",
         "2025-04-30 00:00:00",
         "19.96"
        ]
       ],
       "shape": {
        "columns": 6,
        "rows": 16
       }
      },
      "text/html": [
       "<div>\n",
       "<style scoped>\n",
       "    .dataframe tbody tr th:only-of-type {\n",
       "        vertical-align: middle;\n",
       "    }\n",
       "\n",
       "    .dataframe tbody tr th {\n",
       "        vertical-align: top;\n",
       "    }\n",
       "\n",
       "    .dataframe thead th {\n",
       "        text-align: right;\n",
       "    }\n",
       "</style>\n",
       "<table border=\"1\" class=\"dataframe\">\n",
       "  <thead>\n",
       "    <tr style=\"text-align: right;\">\n",
       "      <th></th>\n",
       "      <th>Item</th>\n",
       "      <th>Price</th>\n",
       "      <th>Category</th>\n",
       "      <th>Quantity</th>\n",
       "      <th>Date</th>\n",
       "      <th>Total_Price</th>\n",
       "    </tr>\n",
       "    <tr>\n",
       "      <th>Item_ID</th>\n",
       "      <th></th>\n",
       "      <th></th>\n",
       "      <th></th>\n",
       "      <th></th>\n",
       "      <th></th>\n",
       "      <th></th>\n",
       "    </tr>\n",
       "  </thead>\n",
       "  <tbody>\n",
       "    <tr>\n",
       "      <th>598</th>\n",
       "      <td>PS5</td>\n",
       "      <td>599.00</td>\n",
       "      <td>Electronics</td>\n",
       "      <td>1</td>\n",
       "      <td>2024-11-23</td>\n",
       "      <td>599.00</td>\n",
       "    </tr>\n",
       "    <tr>\n",
       "      <th>444</th>\n",
       "      <td>Mac mini</td>\n",
       "      <td>899.00</td>\n",
       "      <td>Electronics</td>\n",
       "      <td>1</td>\n",
       "      <td>2024-11-25</td>\n",
       "      <td>899.00</td>\n",
       "    </tr>\n",
       "    <tr>\n",
       "      <th>23</th>\n",
       "      <td>Apple</td>\n",
       "      <td>2.45</td>\n",
       "      <td>Fruit</td>\n",
       "      <td>5</td>\n",
       "      <td>2024-12-03</td>\n",
       "      <td>12.25</td>\n",
       "    </tr>\n",
       "    <tr>\n",
       "      <th>14</th>\n",
       "      <td>Olive Oil</td>\n",
       "      <td>35.00</td>\n",
       "      <td>Food</td>\n",
       "      <td>1</td>\n",
       "      <td>2024-12-04</td>\n",
       "      <td>35.00</td>\n",
       "    </tr>\n",
       "    <tr>\n",
       "      <th>86</th>\n",
       "      <td>Toothpaste</td>\n",
       "      <td>4.30</td>\n",
       "      <td>Grocery</td>\n",
       "      <td>1</td>\n",
       "      <td>2024-12-05</td>\n",
       "      <td>4.30</td>\n",
       "    </tr>\n",
       "    <tr>\n",
       "      <th>109</th>\n",
       "      <td>TCL TV</td>\n",
       "      <td>2599.00</td>\n",
       "      <td>Electronics</td>\n",
       "      <td>1</td>\n",
       "      <td>2024-12-25</td>\n",
       "      <td>2599.00</td>\n",
       "    </tr>\n",
       "    <tr>\n",
       "      <th>26</th>\n",
       "      <td>Grapes</td>\n",
       "      <td>3.99</td>\n",
       "      <td>Fruit</td>\n",
       "      <td>5</td>\n",
       "      <td>2024-12-25</td>\n",
       "      <td>19.95</td>\n",
       "    </tr>\n",
       "    <tr>\n",
       "      <th>39</th>\n",
       "      <td>Tenderloin</td>\n",
       "      <td>18.99</td>\n",
       "      <td>Food</td>\n",
       "      <td>3</td>\n",
       "      <td>2024-12-25</td>\n",
       "      <td>56.97</td>\n",
       "    </tr>\n",
       "    <tr>\n",
       "      <th>47</th>\n",
       "      <td>Notebook</td>\n",
       "      <td>2.99</td>\n",
       "      <td>Stationery</td>\n",
       "      <td>10</td>\n",
       "      <td>2025-01-15</td>\n",
       "      <td>29.90</td>\n",
       "    </tr>\n",
       "    <tr>\n",
       "      <th>52</th>\n",
       "      <td>Shampoo</td>\n",
       "      <td>8.50</td>\n",
       "      <td>Personal Care</td>\n",
       "      <td>2</td>\n",
       "      <td>2025-02-08</td>\n",
       "      <td>17.00</td>\n",
       "    </tr>\n",
       "    <tr>\n",
       "      <th>64</th>\n",
       "      <td>Bananas</td>\n",
       "      <td>1.29</td>\n",
       "      <td>Fruit</td>\n",
       "      <td>6</td>\n",
       "      <td>2025-03-12</td>\n",
       "      <td>7.74</td>\n",
       "    </tr>\n",
       "    <tr>\n",
       "      <th>78</th>\n",
       "      <td>Rice</td>\n",
       "      <td>12.75</td>\n",
       "      <td>Food</td>\n",
       "      <td>2</td>\n",
       "      <td>2025-04-05</td>\n",
       "      <td>25.50</td>\n",
       "    </tr>\n",
       "    <tr>\n",
       "      <th>91</th>\n",
       "      <td>Desk Lamp</td>\n",
       "      <td>45.60</td>\n",
       "      <td>Home Goods</td>\n",
       "      <td>1</td>\n",
       "      <td>2025-04-20</td>\n",
       "      <td>45.60</td>\n",
       "    </tr>\n",
       "    <tr>\n",
       "      <th>115</th>\n",
       "      <td>Pens</td>\n",
       "      <td>0.99</td>\n",
       "      <td>Stationery</td>\n",
       "      <td>20</td>\n",
       "      <td>2025-04-28</td>\n",
       "      <td>19.80</td>\n",
       "    </tr>\n",
       "    <tr>\n",
       "      <th>56</th>\n",
       "      <td>Drumsticks</td>\n",
       "      <td>5.99</td>\n",
       "      <td>Food</td>\n",
       "      <td>6</td>\n",
       "      <td>2025-04-29</td>\n",
       "      <td>35.94</td>\n",
       "    </tr>\n",
       "    <tr>\n",
       "      <th>57</th>\n",
       "      <td>Chicken Thighs</td>\n",
       "      <td>4.99</td>\n",
       "      <td>Food</td>\n",
       "      <td>4</td>\n",
       "      <td>2025-04-30</td>\n",
       "      <td>19.96</td>\n",
       "    </tr>\n",
       "  </tbody>\n",
       "</table>\n",
       "</div>"
      ],
      "text/plain": [
       "                   Item    Price       Category  Quantity       Date  \\\n",
       "Item_ID                                                                \n",
       "598                 PS5   599.00    Electronics         1 2024-11-23   \n",
       "444            Mac mini   899.00    Electronics         1 2024-11-25   \n",
       "23                Apple     2.45          Fruit         5 2024-12-03   \n",
       "14            Olive Oil    35.00           Food         1 2024-12-04   \n",
       "86           Toothpaste     4.30        Grocery         1 2024-12-05   \n",
       "109              TCL TV  2599.00    Electronics         1 2024-12-25   \n",
       "26               Grapes     3.99          Fruit         5 2024-12-25   \n",
       "39           Tenderloin    18.99           Food         3 2024-12-25   \n",
       "47             Notebook     2.99     Stationery        10 2025-01-15   \n",
       "52              Shampoo     8.50  Personal Care         2 2025-02-08   \n",
       "64              Bananas     1.29          Fruit         6 2025-03-12   \n",
       "78                 Rice    12.75           Food         2 2025-04-05   \n",
       "91            Desk Lamp    45.60     Home Goods         1 2025-04-20   \n",
       "115                Pens     0.99     Stationery        20 2025-04-28   \n",
       "56           Drumsticks     5.99           Food         6 2025-04-29   \n",
       "57       Chicken Thighs     4.99           Food         4 2025-04-30   \n",
       "\n",
       "         Total_Price  \n",
       "Item_ID               \n",
       "598           599.00  \n",
       "444           899.00  \n",
       "23             12.25  \n",
       "14             35.00  \n",
       "86              4.30  \n",
       "109          2599.00  \n",
       "26             19.95  \n",
       "39             56.97  \n",
       "47             29.90  \n",
       "52             17.00  \n",
       "64              7.74  \n",
       "78             25.50  \n",
       "91             45.60  \n",
       "115            19.80  \n",
       "56             35.94  \n",
       "57             19.96  "
      ]
     },
     "execution_count": 142,
     "metadata": {},
     "output_type": "execute_result"
    }
   ],
   "source": [
    "# Q6: 算出每个产品的总价（单价*数量），添加一列Total_Price\n",
    "df_products[\"Total_Price\"] = df_products[\"Price\"] * df_products[\"Quantity\"]  # 添加一列\n",
    "df_products"
   ]
  },
  {
   "cell_type": "code",
   "execution_count": 143,
   "id": "174707a8",
   "metadata": {},
   "outputs": [
    {
     "data": {
      "application/vnd.microsoft.datawrangler.viewer.v0+json": {
       "columns": [
        {
         "name": "Category",
         "rawType": "object",
         "type": "string"
        },
        {
         "name": "Total_Price",
         "rawType": "float64",
         "type": "float"
        }
       ],
       "conversionMethod": "pd.DataFrame",
       "ref": "d1bc2d62-4270-4221-9373-258facaabf92",
       "rows": [
        [
         "Electronics",
         "4097.0"
        ],
        [
         "Food",
         "173.37"
        ],
        [
         "Fruit",
         "39.940000000000005"
        ],
        [
         "Grocery",
         "4.3"
        ],
        [
         "Home Goods",
         "45.6"
        ],
        [
         "Personal Care",
         "17.0"
        ],
        [
         "Stationery",
         "49.7"
        ]
       ],
       "shape": {
        "columns": 1,
        "rows": 7
       }
      },
      "text/html": [
       "<div>\n",
       "<style scoped>\n",
       "    .dataframe tbody tr th:only-of-type {\n",
       "        vertical-align: middle;\n",
       "    }\n",
       "\n",
       "    .dataframe tbody tr th {\n",
       "        vertical-align: top;\n",
       "    }\n",
       "\n",
       "    .dataframe thead th {\n",
       "        text-align: right;\n",
       "    }\n",
       "</style>\n",
       "<table border=\"1\" class=\"dataframe\">\n",
       "  <thead>\n",
       "    <tr style=\"text-align: right;\">\n",
       "      <th></th>\n",
       "      <th>Total_Price</th>\n",
       "    </tr>\n",
       "    <tr>\n",
       "      <th>Category</th>\n",
       "      <th></th>\n",
       "    </tr>\n",
       "  </thead>\n",
       "  <tbody>\n",
       "    <tr>\n",
       "      <th>Electronics</th>\n",
       "      <td>4097.00</td>\n",
       "    </tr>\n",
       "    <tr>\n",
       "      <th>Food</th>\n",
       "      <td>173.37</td>\n",
       "    </tr>\n",
       "    <tr>\n",
       "      <th>Fruit</th>\n",
       "      <td>39.94</td>\n",
       "    </tr>\n",
       "    <tr>\n",
       "      <th>Grocery</th>\n",
       "      <td>4.30</td>\n",
       "    </tr>\n",
       "    <tr>\n",
       "      <th>Home Goods</th>\n",
       "      <td>45.60</td>\n",
       "    </tr>\n",
       "    <tr>\n",
       "      <th>Personal Care</th>\n",
       "      <td>17.00</td>\n",
       "    </tr>\n",
       "    <tr>\n",
       "      <th>Stationery</th>\n",
       "      <td>49.70</td>\n",
       "    </tr>\n",
       "  </tbody>\n",
       "</table>\n",
       "</div>"
      ],
      "text/plain": [
       "               Total_Price\n",
       "Category                  \n",
       "Electronics        4097.00\n",
       "Food                173.37\n",
       "Fruit                39.94\n",
       "Grocery               4.30\n",
       "Home Goods           45.60\n",
       "Personal Care        17.00\n",
       "Stationery           49.70"
      ]
     },
     "execution_count": 143,
     "metadata": {},
     "output_type": "execute_result"
    }
   ],
   "source": [
    "# Q7: 算出每一类产品的总价\n",
    "df_products.groupby(\"Category\").agg({\"Total_Price\": \"sum\"})  # 分组求和"
   ]
  },
  {
   "cell_type": "code",
   "execution_count": 144,
   "id": "d70d54d4",
   "metadata": {},
   "outputs": [
    {
     "data": {
      "application/vnd.microsoft.datawrangler.viewer.v0+json": {
       "columns": [
        {
         "name": "Category",
         "rawType": "object",
         "type": "string"
        },
        {
         "name": "Price",
         "rawType": "float64",
         "type": "float"
        }
       ],
       "conversionMethod": "pd.DataFrame",
       "ref": "d8b7a347-73b5-4054-aef1-5613f1842c66",
       "rows": [
        [
         "Electronics",
         "1365.6666666666667"
        ],
        [
         "Food",
         "15.544"
        ],
        [
         "Fruit",
         "2.5766666666666667"
        ],
        [
         "Grocery",
         "4.3"
        ],
        [
         "Home Goods",
         "45.6"
        ],
        [
         "Personal Care",
         "8.5"
        ],
        [
         "Stationery",
         "1.9900000000000002"
        ]
       ],
       "shape": {
        "columns": 1,
        "rows": 7
       }
      },
      "text/html": [
       "<div>\n",
       "<style scoped>\n",
       "    .dataframe tbody tr th:only-of-type {\n",
       "        vertical-align: middle;\n",
       "    }\n",
       "\n",
       "    .dataframe tbody tr th {\n",
       "        vertical-align: top;\n",
       "    }\n",
       "\n",
       "    .dataframe thead th {\n",
       "        text-align: right;\n",
       "    }\n",
       "</style>\n",
       "<table border=\"1\" class=\"dataframe\">\n",
       "  <thead>\n",
       "    <tr style=\"text-align: right;\">\n",
       "      <th></th>\n",
       "      <th>Price</th>\n",
       "    </tr>\n",
       "    <tr>\n",
       "      <th>Category</th>\n",
       "      <th></th>\n",
       "    </tr>\n",
       "  </thead>\n",
       "  <tbody>\n",
       "    <tr>\n",
       "      <th>Electronics</th>\n",
       "      <td>1365.666667</td>\n",
       "    </tr>\n",
       "    <tr>\n",
       "      <th>Food</th>\n",
       "      <td>15.544000</td>\n",
       "    </tr>\n",
       "    <tr>\n",
       "      <th>Fruit</th>\n",
       "      <td>2.576667</td>\n",
       "    </tr>\n",
       "    <tr>\n",
       "      <th>Grocery</th>\n",
       "      <td>4.300000</td>\n",
       "    </tr>\n",
       "    <tr>\n",
       "      <th>Home Goods</th>\n",
       "      <td>45.600000</td>\n",
       "    </tr>\n",
       "    <tr>\n",
       "      <th>Personal Care</th>\n",
       "      <td>8.500000</td>\n",
       "    </tr>\n",
       "    <tr>\n",
       "      <th>Stationery</th>\n",
       "      <td>1.990000</td>\n",
       "    </tr>\n",
       "  </tbody>\n",
       "</table>\n",
       "</div>"
      ],
      "text/plain": [
       "                     Price\n",
       "Category                  \n",
       "Electronics    1365.666667\n",
       "Food             15.544000\n",
       "Fruit             2.576667\n",
       "Grocery           4.300000\n",
       "Home Goods       45.600000\n",
       "Personal Care     8.500000\n",
       "Stationery        1.990000"
      ]
     },
     "execution_count": 144,
     "metadata": {},
     "output_type": "execute_result"
    }
   ],
   "source": [
    "# Q8: 算出每一类产品的平均单价\n",
    "df_products.groupby(\"Category\").agg({\"Price\": \"mean\"})  # 分组求平均值\"})"
   ]
  },
  {
   "cell_type": "code",
   "execution_count": 145,
   "id": "084dac94",
   "metadata": {},
   "outputs": [
    {
     "data": {
      "application/vnd.microsoft.datawrangler.viewer.v0+json": {
       "columns": [
        {
         "name": "Item_ID",
         "rawType": "int64",
         "type": "integer"
        },
        {
         "name": "Item",
         "rawType": "object",
         "type": "string"
        },
        {
         "name": "Price",
         "rawType": "float64",
         "type": "float"
        }
       ],
       "conversionMethod": "pd.DataFrame",
       "ref": "a179cb67-fb3a-498c-a256-d3458889dd07",
       "rows": [
        [
         "39",
         "Tenderloin",
         "18.99"
        ],
        [
         "78",
         "Rice",
         "12.75"
        ]
       ],
       "shape": {
        "columns": 2,
        "rows": 2
       }
      },
      "text/html": [
       "<div>\n",
       "<style scoped>\n",
       "    .dataframe tbody tr th:only-of-type {\n",
       "        vertical-align: middle;\n",
       "    }\n",
       "\n",
       "    .dataframe tbody tr th {\n",
       "        vertical-align: top;\n",
       "    }\n",
       "\n",
       "    .dataframe thead th {\n",
       "        text-align: right;\n",
       "    }\n",
       "</style>\n",
       "<table border=\"1\" class=\"dataframe\">\n",
       "  <thead>\n",
       "    <tr style=\"text-align: right;\">\n",
       "      <th></th>\n",
       "      <th>Item</th>\n",
       "      <th>Price</th>\n",
       "    </tr>\n",
       "    <tr>\n",
       "      <th>Item_ID</th>\n",
       "      <th></th>\n",
       "      <th></th>\n",
       "    </tr>\n",
       "  </thead>\n",
       "  <tbody>\n",
       "    <tr>\n",
       "      <th>39</th>\n",
       "      <td>Tenderloin</td>\n",
       "      <td>18.99</td>\n",
       "    </tr>\n",
       "    <tr>\n",
       "      <th>78</th>\n",
       "      <td>Rice</td>\n",
       "      <td>12.75</td>\n",
       "    </tr>\n",
       "  </tbody>\n",
       "</table>\n",
       "</div>"
      ],
      "text/plain": [
       "               Item  Price\n",
       "Item_ID                   \n",
       "39       Tenderloin  18.99\n",
       "78             Rice  12.75"
      ]
     },
     "execution_count": 145,
     "metadata": {},
     "output_type": "execute_result"
    }
   ],
   "source": [
    "# Q9: 找到价格>10且<=20的产品，输出它们的名称和价格\n",
    "df_products[(df_products[\"Price\"] > 10) & (df_products[\"Price\"] <= 20)][\n",
    "    [\"Item\", \"Price\"]\n",
    "]  # 筛选数据"
   ]
  },
  {
   "cell_type": "code",
   "execution_count": 146,
   "id": "b9b71f52",
   "metadata": {},
   "outputs": [
    {
     "data": {
      "application/vnd.microsoft.datawrangler.viewer.v0+json": {
       "columns": [
        {
         "name": "Item_ID",
         "rawType": "int64",
         "type": "integer"
        },
        {
         "name": "Item",
         "rawType": "object",
         "type": "string"
        },
        {
         "name": "Quantity",
         "rawType": "int64",
         "type": "integer"
        }
       ],
       "conversionMethod": "pd.DataFrame",
       "ref": "ba897f66-8e0e-4df9-8b66-102938c5a1ec",
       "rows": [
        [
         "115",
         "Pens",
         "20"
        ]
       ],
       "shape": {
        "columns": 2,
        "rows": 1
       }
      },
      "text/html": [
       "<div>\n",
       "<style scoped>\n",
       "    .dataframe tbody tr th:only-of-type {\n",
       "        vertical-align: middle;\n",
       "    }\n",
       "\n",
       "    .dataframe tbody tr th {\n",
       "        vertical-align: top;\n",
       "    }\n",
       "\n",
       "    .dataframe thead th {\n",
       "        text-align: right;\n",
       "    }\n",
       "</style>\n",
       "<table border=\"1\" class=\"dataframe\">\n",
       "  <thead>\n",
       "    <tr style=\"text-align: right;\">\n",
       "      <th></th>\n",
       "      <th>Item</th>\n",
       "      <th>Quantity</th>\n",
       "    </tr>\n",
       "    <tr>\n",
       "      <th>Item_ID</th>\n",
       "      <th></th>\n",
       "      <th></th>\n",
       "    </tr>\n",
       "  </thead>\n",
       "  <tbody>\n",
       "    <tr>\n",
       "      <th>115</th>\n",
       "      <td>Pens</td>\n",
       "      <td>20</td>\n",
       "    </tr>\n",
       "  </tbody>\n",
       "</table>\n",
       "</div>"
      ],
      "text/plain": [
       "         Item  Quantity\n",
       "Item_ID                \n",
       "115      Pens        20"
      ]
     },
     "execution_count": 146,
     "metadata": {},
     "output_type": "execute_result"
    }
   ],
   "source": [
    "# Q10: 找到最畅销的产品，输出它们的名称和销量\n",
    "df_products[df_products[\"Quantity\"] == df_products[\"Quantity\"].max()][\n",
    "    [\"Item\", \"Quantity\"]\n",
    "]  # 筛选数据"
   ]
  },
  {
   "cell_type": "code",
   "execution_count": 147,
   "id": "f9119e80",
   "metadata": {},
   "outputs": [
    {
     "data": {
      "application/vnd.microsoft.datawrangler.viewer.v0+json": {
       "columns": [
        {
         "name": "Item_ID",
         "rawType": "int64",
         "type": "integer"
        },
        {
         "name": "Item",
         "rawType": "object",
         "type": "string"
        },
        {
         "name": "Quantity",
         "rawType": "int64",
         "type": "integer"
        }
       ],
       "conversionMethod": "pd.DataFrame",
       "ref": "28f0d4e4-3c91-473d-8927-5c2c9c94986f",
       "rows": [
        [
         "14",
         "Olive Oil",
         "1"
        ],
        [
         "57",
         "Chicken Thighs",
         "4"
        ]
       ],
       "shape": {
        "columns": 2,
        "rows": 2
       }
      },
      "text/html": [
       "<div>\n",
       "<style scoped>\n",
       "    .dataframe tbody tr th:only-of-type {\n",
       "        vertical-align: middle;\n",
       "    }\n",
       "\n",
       "    .dataframe tbody tr th {\n",
       "        vertical-align: top;\n",
       "    }\n",
       "\n",
       "    .dataframe thead th {\n",
       "        text-align: right;\n",
       "    }\n",
       "</style>\n",
       "<table border=\"1\" class=\"dataframe\">\n",
       "  <thead>\n",
       "    <tr style=\"text-align: right;\">\n",
       "      <th></th>\n",
       "      <th>Item</th>\n",
       "      <th>Quantity</th>\n",
       "    </tr>\n",
       "    <tr>\n",
       "      <th>Item_ID</th>\n",
       "      <th></th>\n",
       "      <th></th>\n",
       "    </tr>\n",
       "  </thead>\n",
       "  <tbody>\n",
       "    <tr>\n",
       "      <th>14</th>\n",
       "      <td>Olive Oil</td>\n",
       "      <td>1</td>\n",
       "    </tr>\n",
       "    <tr>\n",
       "      <th>57</th>\n",
       "      <td>Chicken Thighs</td>\n",
       "      <td>4</td>\n",
       "    </tr>\n",
       "  </tbody>\n",
       "</table>\n",
       "</div>"
      ],
      "text/plain": [
       "                   Item  Quantity\n",
       "Item_ID                          \n",
       "14            Olive Oil         1\n",
       "57       Chicken Thighs         4"
      ]
     },
     "execution_count": 147,
     "metadata": {},
     "output_type": "execute_result"
    }
   ],
   "source": [
    "# Q11: 找到Food类产品中单价最高和最低的产品，输出它们的名称和销量\n",
    "df_Food = df_products[(df_products[\"Category\"] == \"Food\")]\n",
    "df_Food[\n",
    "    (df_Food[\"Price\"] == df_Food[\"Price\"].max())\n",
    "    | (df_Food[\"Price\"] == df_Food[\"Price\"].min())\n",
    "][\n",
    "    [\"Item\", \"Quantity\"]\n",
    "]  # 筛选数据"
   ]
  },
  {
   "cell_type": "code",
   "execution_count": 148,
   "id": "bbc09ab4",
   "metadata": {},
   "outputs": [
    {
     "data": {
      "application/vnd.microsoft.datawrangler.viewer.v0+json": {
       "columns": [
        {
         "name": "index",
         "rawType": "int64",
         "type": "integer"
        },
        {
         "name": "Item",
         "rawType": "object",
         "type": "string"
        },
        {
         "name": "Price",
         "rawType": "float64",
         "type": "float"
        },
        {
         "name": "Category",
         "rawType": "object",
         "type": "string"
        },
        {
         "name": "Quantity",
         "rawType": "int64",
         "type": "integer"
        },
        {
         "name": "Date",
         "rawType": "datetime64[ns]",
         "type": "datetime"
        },
        {
         "name": "Total_Price",
         "rawType": "float64",
         "type": "float"
        },
        {
         "name": "Buyback",
         "rawType": "object",
         "type": "unknown"
        }
       ],
       "conversionMethod": "pd.DataFrame",
       "ref": "12b7b6b0-7ff6-4c42-a520-4f62be425426",
       "rows": [
        [
         "0",
         "PS5",
         "599.0",
         "Electronics",
         "1",
         "2024-11-23 00:00:00",
         "599.0",
         null
        ],
        [
         "1",
         "Mac mini",
         "899.0",
         "Electronics",
         "1",
         "2024-11-25 00:00:00",
         "899.0",
         null
        ],
        [
         "2",
         "Apple",
         "2.45",
         "Fruit",
         "5",
         "2024-12-03 00:00:00",
         "12.25",
         "Y"
        ],
        [
         "3",
         "Olive Oil",
         "35.0",
         "Food",
         "1",
         "2024-12-04 00:00:00",
         "35.0",
         "Y"
        ],
        [
         "4",
         "Toothpaste",
         "4.3",
         "Grocery",
         "1",
         "2024-12-05 00:00:00",
         "4.3",
         "Y"
        ],
        [
         "5",
         "TCL TV",
         "2599.0",
         "Electronics",
         "1",
         "2024-12-25 00:00:00",
         "2599.0",
         "N"
        ],
        [
         "6",
         "Grapes",
         "3.99",
         "Fruit",
         "5",
         "2024-12-25 00:00:00",
         "19.950000000000003",
         "Y"
        ],
        [
         "7",
         "Tenderloin",
         "18.99",
         "Food",
         "3",
         "2024-12-25 00:00:00",
         "56.97",
         "Y"
        ],
        [
         "8",
         "Notebook",
         "2.99",
         "Stationery",
         "10",
         "2025-01-15 00:00:00",
         "29.900000000000002",
         "N"
        ],
        [
         "9",
         "Shampoo",
         "8.5",
         "Personal Care",
         "2",
         "2025-02-08 00:00:00",
         "17.0",
         "Y"
        ],
        [
         "10",
         "Bananas",
         "1.29",
         "Fruit",
         "6",
         "2025-03-12 00:00:00",
         "7.74",
         "Y"
        ],
        [
         "11",
         "Rice",
         "12.75",
         "Food",
         "2",
         "2025-04-05 00:00:00",
         "25.5",
         "Y"
        ],
        [
         "12",
         "Desk Lamp",
         "45.6",
         "Home Goods",
         "1",
         "2025-04-20 00:00:00",
         "45.6",
         "N"
        ],
        [
         "13",
         "Pens",
         "0.99",
         "Stationery",
         "20",
         "2025-04-28 00:00:00",
         "19.8",
         "N"
        ],
        [
         "14",
         "Drumsticks",
         "5.99",
         "Food",
         "6",
         "2025-04-29 00:00:00",
         "35.94",
         "Y"
        ],
        [
         "15",
         "Chicken Thighs",
         "4.99",
         "Food",
         "4",
         "2025-04-30 00:00:00",
         "19.96",
         "Y"
        ]
       ],
       "shape": {
        "columns": 7,
        "rows": 16
       }
      },
      "text/html": [
       "<div>\n",
       "<style scoped>\n",
       "    .dataframe tbody tr th:only-of-type {\n",
       "        vertical-align: middle;\n",
       "    }\n",
       "\n",
       "    .dataframe tbody tr th {\n",
       "        vertical-align: top;\n",
       "    }\n",
       "\n",
       "    .dataframe thead th {\n",
       "        text-align: right;\n",
       "    }\n",
       "</style>\n",
       "<table border=\"1\" class=\"dataframe\">\n",
       "  <thead>\n",
       "    <tr style=\"text-align: right;\">\n",
       "      <th></th>\n",
       "      <th>Item</th>\n",
       "      <th>Price</th>\n",
       "      <th>Category</th>\n",
       "      <th>Quantity</th>\n",
       "      <th>Date</th>\n",
       "      <th>Total_Price</th>\n",
       "      <th>Buyback</th>\n",
       "    </tr>\n",
       "  </thead>\n",
       "  <tbody>\n",
       "    <tr>\n",
       "      <th>0</th>\n",
       "      <td>PS5</td>\n",
       "      <td>599.00</td>\n",
       "      <td>Electronics</td>\n",
       "      <td>1</td>\n",
       "      <td>2024-11-23</td>\n",
       "      <td>599.00</td>\n",
       "      <td>NaN</td>\n",
       "    </tr>\n",
       "    <tr>\n",
       "      <th>1</th>\n",
       "      <td>Mac mini</td>\n",
       "      <td>899.00</td>\n",
       "      <td>Electronics</td>\n",
       "      <td>1</td>\n",
       "      <td>2024-11-25</td>\n",
       "      <td>899.00</td>\n",
       "      <td>NaN</td>\n",
       "    </tr>\n",
       "    <tr>\n",
       "      <th>2</th>\n",
       "      <td>Apple</td>\n",
       "      <td>2.45</td>\n",
       "      <td>Fruit</td>\n",
       "      <td>5</td>\n",
       "      <td>2024-12-03</td>\n",
       "      <td>12.25</td>\n",
       "      <td>Y</td>\n",
       "    </tr>\n",
       "    <tr>\n",
       "      <th>3</th>\n",
       "      <td>Olive Oil</td>\n",
       "      <td>35.00</td>\n",
       "      <td>Food</td>\n",
       "      <td>1</td>\n",
       "      <td>2024-12-04</td>\n",
       "      <td>35.00</td>\n",
       "      <td>Y</td>\n",
       "    </tr>\n",
       "    <tr>\n",
       "      <th>4</th>\n",
       "      <td>Toothpaste</td>\n",
       "      <td>4.30</td>\n",
       "      <td>Grocery</td>\n",
       "      <td>1</td>\n",
       "      <td>2024-12-05</td>\n",
       "      <td>4.30</td>\n",
       "      <td>Y</td>\n",
       "    </tr>\n",
       "    <tr>\n",
       "      <th>5</th>\n",
       "      <td>TCL TV</td>\n",
       "      <td>2599.00</td>\n",
       "      <td>Electronics</td>\n",
       "      <td>1</td>\n",
       "      <td>2024-12-25</td>\n",
       "      <td>2599.00</td>\n",
       "      <td>N</td>\n",
       "    </tr>\n",
       "    <tr>\n",
       "      <th>6</th>\n",
       "      <td>Grapes</td>\n",
       "      <td>3.99</td>\n",
       "      <td>Fruit</td>\n",
       "      <td>5</td>\n",
       "      <td>2024-12-25</td>\n",
       "      <td>19.95</td>\n",
       "      <td>Y</td>\n",
       "    </tr>\n",
       "    <tr>\n",
       "      <th>7</th>\n",
       "      <td>Tenderloin</td>\n",
       "      <td>18.99</td>\n",
       "      <td>Food</td>\n",
       "      <td>3</td>\n",
       "      <td>2024-12-25</td>\n",
       "      <td>56.97</td>\n",
       "      <td>Y</td>\n",
       "    </tr>\n",
       "    <tr>\n",
       "      <th>8</th>\n",
       "      <td>Notebook</td>\n",
       "      <td>2.99</td>\n",
       "      <td>Stationery</td>\n",
       "      <td>10</td>\n",
       "      <td>2025-01-15</td>\n",
       "      <td>29.90</td>\n",
       "      <td>N</td>\n",
       "    </tr>\n",
       "    <tr>\n",
       "      <th>9</th>\n",
       "      <td>Shampoo</td>\n",
       "      <td>8.50</td>\n",
       "      <td>Personal Care</td>\n",
       "      <td>2</td>\n",
       "      <td>2025-02-08</td>\n",
       "      <td>17.00</td>\n",
       "      <td>Y</td>\n",
       "    </tr>\n",
       "    <tr>\n",
       "      <th>10</th>\n",
       "      <td>Bananas</td>\n",
       "      <td>1.29</td>\n",
       "      <td>Fruit</td>\n",
       "      <td>6</td>\n",
       "      <td>2025-03-12</td>\n",
       "      <td>7.74</td>\n",
       "      <td>Y</td>\n",
       "    </tr>\n",
       "    <tr>\n",
       "      <th>11</th>\n",
       "      <td>Rice</td>\n",
       "      <td>12.75</td>\n",
       "      <td>Food</td>\n",
       "      <td>2</td>\n",
       "      <td>2025-04-05</td>\n",
       "      <td>25.50</td>\n",
       "      <td>Y</td>\n",
       "    </tr>\n",
       "    <tr>\n",
       "      <th>12</th>\n",
       "      <td>Desk Lamp</td>\n",
       "      <td>45.60</td>\n",
       "      <td>Home Goods</td>\n",
       "      <td>1</td>\n",
       "      <td>2025-04-20</td>\n",
       "      <td>45.60</td>\n",
       "      <td>N</td>\n",
       "    </tr>\n",
       "    <tr>\n",
       "      <th>13</th>\n",
       "      <td>Pens</td>\n",
       "      <td>0.99</td>\n",
       "      <td>Stationery</td>\n",
       "      <td>20</td>\n",
       "      <td>2025-04-28</td>\n",
       "      <td>19.80</td>\n",
       "      <td>N</td>\n",
       "    </tr>\n",
       "    <tr>\n",
       "      <th>14</th>\n",
       "      <td>Drumsticks</td>\n",
       "      <td>5.99</td>\n",
       "      <td>Food</td>\n",
       "      <td>6</td>\n",
       "      <td>2025-04-29</td>\n",
       "      <td>35.94</td>\n",
       "      <td>Y</td>\n",
       "    </tr>\n",
       "    <tr>\n",
       "      <th>15</th>\n",
       "      <td>Chicken Thighs</td>\n",
       "      <td>4.99</td>\n",
       "      <td>Food</td>\n",
       "      <td>4</td>\n",
       "      <td>2025-04-30</td>\n",
       "      <td>19.96</td>\n",
       "      <td>Y</td>\n",
       "    </tr>\n",
       "  </tbody>\n",
       "</table>\n",
       "</div>"
      ],
      "text/plain": [
       "              Item    Price       Category  Quantity       Date  Total_Price  \\\n",
       "0              PS5   599.00    Electronics         1 2024-11-23       599.00   \n",
       "1         Mac mini   899.00    Electronics         1 2024-11-25       899.00   \n",
       "2            Apple     2.45          Fruit         5 2024-12-03        12.25   \n",
       "3        Olive Oil    35.00           Food         1 2024-12-04        35.00   \n",
       "4       Toothpaste     4.30        Grocery         1 2024-12-05         4.30   \n",
       "5           TCL TV  2599.00    Electronics         1 2024-12-25      2599.00   \n",
       "6           Grapes     3.99          Fruit         5 2024-12-25        19.95   \n",
       "7       Tenderloin    18.99           Food         3 2024-12-25        56.97   \n",
       "8         Notebook     2.99     Stationery        10 2025-01-15        29.90   \n",
       "9          Shampoo     8.50  Personal Care         2 2025-02-08        17.00   \n",
       "10         Bananas     1.29          Fruit         6 2025-03-12         7.74   \n",
       "11            Rice    12.75           Food         2 2025-04-05        25.50   \n",
       "12       Desk Lamp    45.60     Home Goods         1 2025-04-20        45.60   \n",
       "13            Pens     0.99     Stationery        20 2025-04-28        19.80   \n",
       "14      Drumsticks     5.99           Food         6 2025-04-29        35.94   \n",
       "15  Chicken Thighs     4.99           Food         4 2025-04-30        19.96   \n",
       "\n",
       "   Buyback  \n",
       "0      NaN  \n",
       "1      NaN  \n",
       "2        Y  \n",
       "3        Y  \n",
       "4        Y  \n",
       "5        N  \n",
       "6        Y  \n",
       "7        Y  \n",
       "8        N  \n",
       "9        Y  \n",
       "10       Y  \n",
       "11       Y  \n",
       "12       N  \n",
       "13       N  \n",
       "14       Y  \n",
       "15       Y  "
      ]
     },
     "execution_count": 148,
     "metadata": {},
     "output_type": "execute_result"
    }
   ],
   "source": [
    "# Q12: 合并products和products_buyback表格，按照Item_ID列进行合并\n",
    "df_products_buyback = pd.read_excel(\n",
    "    \"data_Class_5.xls\", sheet_name=\"products_buyback\"\n",
    ")  # 读取products_buyback表格\n",
    "df_products_buyback.set_index(\"Item_ID\", inplace=True)  # 设置索引\n",
    "df_products = pd.merge(\n",
    "    df_products,\n",
    "    df_products_buyback,\n",
    "    how=\"left\",\n",
    "    on=[\"Item\", \"Date\"],  # 找到Item和Date都相同的行进行合并\n",
    ")  # 合并\n",
    "df_products"
   ]
  },
  {
   "cell_type": "code",
   "execution_count": 150,
   "id": "73dfd720",
   "metadata": {},
   "outputs": [
    {
     "data": {
      "text/plain": [
       "<Axes: title={'center': 'Buyback pie'}, ylabel='count'>"
      ]
     },
     "execution_count": 150,
     "metadata": {},
     "output_type": "execute_result"
    },
    {
     "data": {
      "image/png": "[encoded data removed]",
      "text/plain": [
       "<Figure size 640x480 with 1 Axes>"
      ]
     },
     "metadata": {},
     "output_type": "display_data"
    }
   ],
   "source": [
    "# Q13: 用饼图展示回购商品的比例\n",
    "df_products[\"Buyback\"].value_counts().plot(\n",
    "    kind=\"pie\",\n",
    "    legend=True,\n",
    "    title=\"Buyback pie\",\n",
    "    autopct=\"%1.2f%%\",  # 百分比格式，保留两位小数\n",
    ")  # 饼图"
   ]
  },
  {
   "cell_type": "code",
   "execution_count": 151,
   "id": "6fe7bd02",
   "metadata": {},
   "outputs": [
    {
     "data": {
      "text/plain": [
       "<Axes: title={'center': 'Category bar'}, xlabel='Category'>"
      ]
     },
     "execution_count": 151,
     "metadata": {},
     "output_type": "execute_result"
    },
    {
     "data": {
      "image/png": "[encoded data removed]",
      "text/plain": [
       "<Figure size 640x480 with 1 Axes>"
      ]
     },
     "metadata": {},
     "output_type": "display_data"
    }
   ],
   "source": [
    "# Q14: 用柱状图展示每类产品的销量\n",
    "df_products.groupby(\"Category\").agg({\"Quantity\": \"sum\"}).plot(\n",
    "    kind=\"bar\", title=\"Category bar\"\n",
    ")  # 柱状图"
   ]
  }
 ],
 "metadata": {
  "kernelspec": {
   "display_name": ".venv",
   "language": "python",
   "name": "python3"
  },
  "language_info": {
   "codemirror_mode": {
    "name": "ipython",
    "version": 3
   },
   "file_extension": ".py",
   "mimetype": "text/x-python",
   "name": "python",
   "nbconvert_exporter": "python",
   "pygments_lexer": "ipython3",
   "version": "3.12.7"
  }
 },
 "nbformat": 4,
 "nbformat_minor": 5
}
