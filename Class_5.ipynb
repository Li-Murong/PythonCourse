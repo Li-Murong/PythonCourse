{
 "cells": [
  {
   "cell_type": "markdown",
   "id": "3be29440",
   "metadata": {},
   "source": [
    "# 数据处理\n"
   ]
  },
  {
   "cell_type": "markdown",
   "id": "5eb2156b",
   "metadata": {},
   "source": [
    "## math 数学工具\n",
    "\n",
    "$\\text{\\color{red}只适用于单个数值计算}$\n"
   ]
  },
  {
   "cell_type": "markdown",
   "id": "6043bd72",
   "metadata": {},
   "source": [
    "### 特殊数值\n"
   ]
  },
  {
   "cell_type": "code",
   "execution_count": 1,
   "id": "ef04257e",
   "metadata": {},
   "outputs": [
    {
     "name": "stdout",
     "output_type": "stream",
     "text": [
      "pi: 3.141592653589793\n",
      "e: 2.718281828459045\n",
      "tau: 6.283185307179586\n",
      "inf: inf\n",
      "nan: nan\n"
     ]
    }
   ],
   "source": [
    "import math\n",
    "\n",
    "vals = {\n",
    "    \"pi\": math.pi,  # 圆周率，3.141592653589793\n",
    "    \"e\": math.e,  # 自然常数e，2.718281828459045\n",
    "    \"tau\": math.tau,  # 圆周率的两倍（2π）\n",
    "    \"inf\": math.inf,  # 无穷大\n",
    "    \"nan\": math.nan,  # 非数字（Not a Number）\n",
    "}\n",
    "for key, value in vals.items():\n",
    "    print(f\"{key}: {value}\")"
   ]
  },
  {
   "cell_type": "code",
   "execution_count": 2,
   "id": "ef9fae73",
   "metadata": {},
   "outputs": [],
   "source": [
    "from math import (\n",
    "    gcd,\n",
    "    lcm,\n",
    "    factorial,\n",
    "    sqrt,\n",
    "    isqrt,\n",
    "    comb,\n",
    "    ceil,\n",
    "    floor,\n",
    "    trunc,\n",
    "    fabs,\n",
    "    exp,\n",
    "    log,\n",
    "    log2,\n",
    "    log10,\n",
    "    pow,\n",
    ")"
   ]
  },
  {
   "cell_type": "markdown",
   "id": "69b7cdf9",
   "metadata": {},
   "source": [
    "### 数值操作\n"
   ]
  },
  {
   "cell_type": "code",
   "execution_count": 3,
   "id": "e1c74419",
   "metadata": {},
   "outputs": [
    {
     "name": "stdout",
     "output_type": "stream",
     "text": [
      "ceil(x): 13\n",
      "floor(x): 12\n",
      "trunc(x): 12\n",
      "fabs(y): 702.0\n"
     ]
    }
   ],
   "source": [
    "x = 12.23\n",
    "y = 702\n",
    "\n",
    "operations = {\n",
    "    \"ceil(x)\": ceil(x),  # 向上取整\n",
    "    \"floor(x)\": floor(x),  # 向下取整\n",
    "    \"trunc(x)\": trunc(x),  # 截断为整数（向0取整，也是去掉小数）\n",
    "    \"fabs(y)\": fabs(y),  # 绝对值（返回float）\n",
    "}\n",
    "\n",
    "for key, value in operations.items():\n",
    "    print(f\"{key}: {value}\")"
   ]
  },
  {
   "cell_type": "markdown",
   "id": "0a8d6c7d",
   "metadata": {},
   "source": [
    "### math.gcd() 最大公因数 math.lcm() 最小公倍数\n"
   ]
  },
  {
   "cell_type": "code",
   "execution_count": 4,
   "id": "bab97e8b",
   "metadata": {},
   "outputs": [
    {
     "name": "stdout",
     "output_type": "stream",
     "text": [
      "24, 18最大公约数: 6\n",
      "24, 18最小公倍数: 72\n"
     ]
    }
   ],
   "source": [
    "operations = {\n",
    "    \"24, 18最大公约数\": gcd(24, 18),  # 最大公约数（仅限整数）\n",
    "    \"24, 18最小公倍数\": lcm(24, 18),  # 最小公倍数\n",
    "}\n",
    "for key, value in operations.items():\n",
    "    print(f\"{key}: {value}\")"
   ]
  },
  {
   "cell_type": "markdown",
   "id": "bd673588",
   "metadata": {},
   "source": [
    "### 数值计算\n"
   ]
  },
  {
   "cell_type": "code",
   "execution_count": 5,
   "id": "ef2a6ced",
   "metadata": {},
   "outputs": [
    {
     "name": "stdout",
     "output_type": "stream",
     "text": [
      "factorial(x)：: 3628800\n",
      "exp(x): 22026.465794806718\n",
      "sqrt(x): 3.1622776601683795\n",
      "isqrt(x): 3\n",
      "log(x): 2.302585092994046\n",
      "log10(x): 1.0\n",
      "log2(x): 3.321928094887362\n",
      "pow(x, y): 100.0\n"
     ]
    }
   ],
   "source": [
    "x = 10\n",
    "y = 2\n",
    "operations = {\n",
    "    \"factorial(x)：\": factorial(x),  # 120\n",
    "    \"exp(x)\": exp(x),  # e的x次幂\n",
    "    \"sqrt(x)\": sqrt(x),  # 平方根\n",
    "    \"isqrt(x)\": isqrt(x),  # 整数平方根（返回整数）\n",
    "    \"exp(x)\": exp(x),  # e的x次幂\n",
    "    \"log(x)\": log(x),  # 自然对数 ln(x)\n",
    "    \"log10(x)\": log10(x),  # 以10为底的对数\n",
    "    \"log2(x)\": log2(x),  # 以2为底的对数\n",
    "    \"pow(x, y)\": pow(x, y),  # x的y次幂（返回float\n",
    "}\n",
    "for key, value in operations.items():\n",
    "    print(f\"{key}: {value}\")"
   ]
  },
  {
   "cell_type": "markdown",
   "id": "cff67ee4",
   "metadata": {},
   "source": [
    "### math.comb(m,n) 组合\n",
    "\n",
    "实现$C^{n}_{m}$，功能类似于 iterools.combinations()，只不过这个只计算组合数量\n"
   ]
  },
  {
   "cell_type": "code",
   "execution_count": 6,
   "id": "9fabf678",
   "metadata": {},
   "outputs": [
    {
     "name": "stdout",
     "output_type": "stream",
     "text": [
      "10\n"
     ]
    }
   ],
   "source": [
    "print(comb(5, 2))  # 10  (5 选 2 组合)"
   ]
  },
  {
   "cell_type": "markdown",
   "id": "3359f6e3",
   "metadata": {},
   "source": [
    "## statistics 统计工具\n",
    "\n",
    "$\\text{\\color{red}适用于list和tuple小规模计算}$\n"
   ]
  },
  {
   "cell_type": "code",
   "execution_count": 7,
   "id": "783ad785",
   "metadata": {},
   "outputs": [],
   "source": [
    "import statistics as stats  # 统计模块，这种方式导入模块可以给它起个别名"
   ]
  },
  {
   "cell_type": "markdown",
   "id": "f1f02b47",
   "metadata": {},
   "source": [
    "### 中心趋势\n"
   ]
  },
  {
   "cell_type": "code",
   "execution_count": 8,
   "id": "1ef63af7",
   "metadata": {},
   "outputs": [
    {
     "name": "stdout",
     "output_type": "stream",
     "text": [
      "mean(data): 5.875\n",
      "median(data): 6.5\n",
      "mode(data): 3\n",
      "multimode(data): [3]\n",
      "median_low(data): 6\n",
      "median_high(data): 7\n"
     ]
    }
   ],
   "source": [
    "data = [1, 3, 3, 6, 7, 8, 9, 10]\n",
    "results = {\n",
    "    \"mean(data)\": stats.mean(data),  # 平均值\n",
    "    \"median(data)\": stats.median(data),  # 中位数\n",
    "    \"mode(data)\": stats.mode(data),  # 众数（最常见的值）\n",
    "    \"multimode(data)\": stats.multimode(data),  # 返回所有众数列表（Python 3.8+）\n",
    "    \"median_low(data)\": stats.median_low(data),  # 取中间偏小\n",
    "    \"median_high(data)\": stats.median_high(data),  # 取中间偏大\n",
    "}\n",
    "for key, value in results.items():\n",
    "    print(f\"{key}: {value}\")"
   ]
  },
  {
   "cell_type": "markdown",
   "id": "9ea7f206",
   "metadata": {},
   "source": [
    "### 离散程度\n"
   ]
  },
  {
   "cell_type": "code",
   "execution_count": 9,
   "id": "9cac03b0",
   "metadata": {},
   "outputs": [
    {
     "name": "stdout",
     "output_type": "stream",
     "text": [
      "样本方差 variance: 10.410714285714286\n",
      "总体方差 pvariance: 9.109375\n",
      "样本标准差 standard deviation: 3.2265638511757806\n",
      "总体标准差 population standard deviation: 3.018174116912409\n"
     ]
    }
   ],
   "source": [
    "results = {\n",
    "    \"样本方差 variance\": stats.variance(data),  # 样本方差（除以n-1）\n",
    "    \"总体方差 pvariance\": stats.pvariance(data),  # 总体方差（除以n）\n",
    "    \"样本标准差 standard deviation\": stats.stdev(data),  # 样本标准差 = sqrt(variance)\n",
    "    \"总体标准差 population standard deviation\": stats.pstdev(\n",
    "        data\n",
    "    ),  # 总体标准差 = sqrt(pvariance)\n",
    "}\n",
    "for key, value in results.items():\n",
    "    print(f\"{key}: {value}\")"
   ]
  },
  {
   "cell_type": "markdown",
   "id": "35590c2f",
   "metadata": {},
   "source": [
    "## numpy 大规模计算工具\n",
    "\n",
    "$\\text{\\color{red}支持大规模数据，数组和矩阵的计算}$\n"
   ]
  },
  {
   "cell_type": "code",
   "execution_count": 10,
   "id": "cf5b4839",
   "metadata": {},
   "outputs": [
    {
     "name": "stdout",
     "output_type": "stream",
     "text": [
      "numpy.mean(data): 2.5\n",
      "numpy.median(data): 2.5\n",
      "numpy.std(data): 1.118033988749895\n",
      "numpy.var(data): 1.25\n",
      "numpy.sqrt(data): [1.         1.41421356 1.73205081 2.        ]\n",
      "numpy.log(data): [0.         0.69314718 1.09861229 1.38629436]\n",
      "numpy.log10(data): [0.         0.30103    0.47712125 0.60205999]\n",
      "numpy.log2(data): [0.        1.        1.5849625 2.       ]\n",
      "numpy.exp(data): [ 2.71828183  7.3890561  20.08553692 54.59815003]\n",
      "numpy.power(data, 2): [ 1  4  9 16]\n",
      "numpy.ceil(data): [1 2 3 4]\n",
      "numpy.floor(data): [1 2 3 4]\n",
      "numpy.trunc(data): [1 2 3 4]\n",
      "numpy.abs(data): [1 2 3 4]\n",
      "numpy.sum(data): 10\n",
      "numpy.prod(data): 24\n",
      "numpy.min(data): 1\n",
      "numpy.max(data): 4\n"
     ]
    }
   ],
   "source": [
    "import numpy as np\n",
    "\n",
    "data = [1, 2, 3, 4]\n",
    "\n",
    "results = {\n",
    "    \"numpy.mean(data)\": np.mean(data),  # 平均值\n",
    "    \"numpy.median(data)\": np.median(data),  # 中位数\n",
    "    \"numpy.std(data)\": np.std(data),  # 标准差\n",
    "    \"numpy.var(data)\": np.var(data),  # 方差\n",
    "    \"numpy.sqrt(data)\": np.sqrt(data),  # 平方根\n",
    "    \"numpy.log(data)\": np.log(data),  # 自然对数\n",
    "    \"numpy.log10(data)\": np.log10(data),  # 以10为底的对数\n",
    "    \"numpy.log2(data)\": np.log2(data),  # 以2为底的对数\n",
    "    \"numpy.exp(data)\": np.exp(data),  # e的x次幂\n",
    "    \"numpy.power(data, 2)\": np.power(data, 2),  # x的y次幂\n",
    "    \"numpy.ceil(data)\": np.ceil(data),  # 向上取整\n",
    "    \"numpy.floor(data)\": np.floor(data),  # 向下取整\n",
    "    \"numpy.trunc(data)\": np.trunc(data),  # 截断为整数（向0取整）\n",
    "    \"numpy.abs(data)\": np.abs(data),  # 绝对值\n",
    "    \"numpy.sum(data)\": np.sum(data),  # 求和\n",
    "    \"numpy.prod(data)\": np.prod(data),  # 乘积\n",
    "    \"numpy.min(data)\": np.min(data),  # 最小值\n",
    "    \"numpy.max(data)\": np.max(data),  # 最大值\n",
    "}\n",
    "for key, value in results.items():\n",
    "    print(f\"{key}: {value}\")\n",
    "import pandas as pd"
   ]
  },
  {
   "cell_type": "markdown",
   "id": "995e9129",
   "metadata": {},
   "source": [
    "## pandas 数据处理库\n"
   ]
  },
  {
   "cell_type": "markdown",
   "id": "1958e799",
   "metadata": {},
   "source": [
    "### Series 一维带标签的数组（类似于 Excel 的一列）\n"
   ]
  },
  {
   "cell_type": "code",
   "execution_count": 11,
   "id": "624e0825",
   "metadata": {},
   "outputs": [
    {
     "name": "stdout",
     "output_type": "stream",
     "text": [
      "0    1\n",
      "1    2\n",
      "2    3\n",
      "dtype: int64\n",
      "1\n"
     ]
    }
   ],
   "source": [
    "import pandas as pd\n",
    "\n",
    "a = pd.Series([1, 2, 3])  # 创建一个Series对象\n",
    "print(a)  # 打印Series对象\n",
    "print(a[0])  # 访问第一个元素"
   ]
  },
  {
   "cell_type": "code",
   "execution_count": 12,
   "id": "f2cde9e0",
   "metadata": {},
   "outputs": [
    {
     "name": "stdout",
     "output_type": "stream",
     "text": [
      "a    10\n",
      "b    20\n",
      "c    30\n",
      "dtype: int64\n"
     ]
    }
   ],
   "source": [
    "# 创建一个带有索引的Series对象\n",
    "s = pd.Series([10, 20, 30], index=[\"a\", \"b\", \"c\"])\n",
    "print(s)"
   ]
  },
  {
   "cell_type": "code",
   "execution_count": 13,
   "id": "e82d9961",
   "metadata": {},
   "outputs": [
    {
     "name": "stdout",
     "output_type": "stream",
     "text": [
      "Index(['a', 'b', 'c'], dtype='object')\n"
     ]
    }
   ],
   "source": [
    "print(s.index)  # 输出索引"
   ]
  },
  {
   "cell_type": "code",
   "execution_count": 14,
   "id": "f8d78512",
   "metadata": {},
   "outputs": [
    {
     "name": "stdout",
     "output_type": "stream",
     "text": [
      "[10 20 30]\n"
     ]
    }
   ],
   "source": [
    "print(s.values)  # 输出值"
   ]
  },
  {
   "cell_type": "code",
   "execution_count": 15,
   "id": "03335ed8",
   "metadata": {},
   "outputs": [
    {
     "name": "stdout",
     "output_type": "stream",
     "text": [
      "10\n"
     ]
    }
   ],
   "source": [
    "print(s[\"a\"])  # 访问索引为\"a\"的值"
   ]
  },
  {
   "cell_type": "code",
   "execution_count": 16,
   "id": "f17a0bd4",
   "metadata": {},
   "outputs": [
    {
     "name": "stdout",
     "output_type": "stream",
     "text": [
      "20\n"
     ]
    },
    {
     "name": "stderr",
     "output_type": "stream",
     "text": [
      "/var/folders/l9/96w4r89d2kz_ghml_zxzqc5c0000gn/T/ipykernel_53413/4043737563.py:1: FutureWarning: Series.__getitem__ treating keys as positions is deprecated. In a future version, integer keys will always be treated as labels (consistent with DataFrame behavior). To access a value by position, use `ser.iloc[pos]`\n",
      "  print(s[1])  # 访问第二个值\n"
     ]
    }
   ],
   "source": [
    "print(s[1])  # 访问第二个值"
   ]
  },
  {
   "cell_type": "code",
   "execution_count": 17,
   "id": "734ddc13",
   "metadata": {},
   "outputs": [
    {
     "name": "stdout",
     "output_type": "stream",
     "text": [
      "b    20\n",
      "c    30\n",
      "dtype: int64\n"
     ]
    }
   ],
   "source": [
    "print(s[1:])  # 切片访问"
   ]
  },
  {
   "cell_type": "code",
   "execution_count": 18,
   "id": "9c35e83f",
   "metadata": {},
   "outputs": [
    {
     "name": "stdout",
     "output_type": "stream",
     "text": [
      "a    10\n",
      "b    20\n",
      "dtype: int64\n"
     ]
    }
   ],
   "source": [
    "print(s[[\"a\", \"b\"]])  # 访问多个索引"
   ]
  },
  {
   "cell_type": "markdown",
   "id": "92972f7a",
   "metadata": {},
   "source": [
    "### DataFrame 二维表格数据结构\n"
   ]
  },
  {
   "cell_type": "markdown",
   "id": "0621d252",
   "metadata": {},
   "source": [
    "#### DataFrame 创建\n"
   ]
  },
  {
   "cell_type": "code",
   "execution_count": 19,
   "id": "7fd4a342",
   "metadata": {},
   "outputs": [
    {
     "name": "stdout",
     "output_type": "stream",
     "text": [
      "    Name  Age\n",
      "0  Alice   25\n",
      "1    Bob   30\n"
     ]
    }
   ],
   "source": [
    "# 方式一\n",
    "data = {\"Name\": [\"Alice\", \"Bob\"], \"Age\": [25, 30]}\n",
    "df = pd.DataFrame(data)\n",
    "print(df)"
   ]
  },
  {
   "cell_type": "code",
   "execution_count": 20,
   "id": "a172c78a",
   "metadata": {},
   "outputs": [
    {
     "name": "stdout",
     "output_type": "stream",
     "text": [
      "    Name  Age\n",
      "0  Alice   25\n",
      "1    Bob   30\n"
     ]
    }
   ],
   "source": [
    "# 方式二\n",
    "data = [\n",
    "    {\"Name\": \"Alice\", \"Age\": 25},\n",
    "    {\"Name\": \"Bob\", \"Age\": 30},\n",
    "]\n",
    "df = pd.DataFrame(data)\n",
    "print(df)"
   ]
  },
  {
   "cell_type": "code",
   "execution_count": 21,
   "id": "5a7c8af0",
   "metadata": {},
   "outputs": [
    {
     "name": "stdout",
     "output_type": "stream",
     "text": [
      "    Name  Age\n",
      "0  Alice   25\n",
      "1    Bob   30\n"
     ]
    }
   ],
   "source": [
    "# 方式三\n",
    "data = [\n",
    "    [\"Alice\", 25],\n",
    "    [\"Bob\", 30],\n",
    "]\n",
    "columns = [\"Name\", \"Age\"]\n",
    "df = pd.DataFrame(data, columns=columns)\n",
    "print(df)"
   ]
  },
  {
   "cell_type": "markdown",
   "id": "ab6bc077",
   "metadata": {},
   "source": [
    "#### DataFrame 查看数据\n"
   ]
  },
  {
   "cell_type": "markdown",
   "id": "26f72aa3",
   "metadata": {},
   "source": [
    "##### 数据整体描述\n"
   ]
  },
  {
   "cell_type": "code",
   "execution_count": 22,
   "id": "1c7df08d",
   "metadata": {},
   "outputs": [
    {
     "data": {
      "application/vnd.microsoft.datawrangler.viewer.v0+json": {
       "columns": [
        {
         "name": "index",
         "rawType": "int64",
         "type": "integer"
        },
        {
         "name": "Name",
         "rawType": "object",
         "type": "string"
        },
        {
         "name": "Age",
         "rawType": "int64",
         "type": "integer"
        },
        {
         "name": "Salary",
         "rawType": "int64",
         "type": "integer"
        },
        {
         "name": "City",
         "rawType": "object",
         "type": "string"
        }
       ],
       "conversionMethod": "pd.DataFrame",
       "ref": "674cdfd2-29f2-42e1-b1f8-09f94ee9ec26",
       "rows": [
        [
         "0",
         "Alice",
         "25",
         "50000",
         "New York"
        ],
        [
         "1",
         "Bob",
         "30",
         "60000",
         "Los Angeles"
        ],
        [
         "2",
         "Charlie",
         "35",
         "70000",
         "Chicago"
        ],
        [
         "3",
         "Marone",
         "40",
         "80000",
         "Houston"
        ],
        [
         "4",
         "Jack",
         "45",
         "90000",
         "Phoenix"
        ]
       ],
       "shape": {
        "columns": 4,
        "rows": 5
       }
      },
      "text/html": [
       "<div>\n",
       "<style scoped>\n",
       "    .dataframe tbody tr th:only-of-type {\n",
       "        vertical-align: middle;\n",
       "    }\n",
       "\n",
       "    .dataframe tbody tr th {\n",
       "        vertical-align: top;\n",
       "    }\n",
       "\n",
       "    .dataframe thead th {\n",
       "        text-align: right;\n",
       "    }\n",
       "</style>\n",
       "<table border=\"1\" class=\"dataframe\">\n",
       "  <thead>\n",
       "    <tr style=\"text-align: right;\">\n",
       "      <th></th>\n",
       "      <th>Name</th>\n",
       "      <th>Age</th>\n",
       "      <th>Salary</th>\n",
       "      <th>City</th>\n",
       "    </tr>\n",
       "  </thead>\n",
       "  <tbody>\n",
       "    <tr>\n",
       "      <th>0</th>\n",
       "      <td>Alice</td>\n",
       "      <td>25</td>\n",
       "      <td>50000</td>\n",
       "      <td>New York</td>\n",
       "    </tr>\n",
       "    <tr>\n",
       "      <th>1</th>\n",
       "      <td>Bob</td>\n",
       "      <td>30</td>\n",
       "      <td>60000</td>\n",
       "      <td>Los Angeles</td>\n",
       "    </tr>\n",
       "    <tr>\n",
       "      <th>2</th>\n",
       "      <td>Charlie</td>\n",
       "      <td>35</td>\n",
       "      <td>70000</td>\n",
       "      <td>Chicago</td>\n",
       "    </tr>\n",
       "    <tr>\n",
       "      <th>3</th>\n",
       "      <td>Marone</td>\n",
       "      <td>40</td>\n",
       "      <td>80000</td>\n",
       "      <td>Houston</td>\n",
       "    </tr>\n",
       "    <tr>\n",
       "      <th>4</th>\n",
       "      <td>Jack</td>\n",
       "      <td>45</td>\n",
       "      <td>90000</td>\n",
       "      <td>Phoenix</td>\n",
       "    </tr>\n",
       "  </tbody>\n",
       "</table>\n",
       "</div>"
      ],
      "text/plain": [
       "      Name  Age  Salary         City\n",
       "0    Alice   25   50000     New York\n",
       "1      Bob   30   60000  Los Angeles\n",
       "2  Charlie   35   70000      Chicago\n",
       "3   Marone   40   80000      Houston\n",
       "4     Jack   45   90000      Phoenix"
      ]
     },
     "execution_count": 22,
     "metadata": {},
     "output_type": "execute_result"
    }
   ],
   "source": [
    "df = pd.DataFrame(\n",
    "    {\n",
    "        \"Name\": [\"Alice\", \"Bob\", \"Charlie\", \"Marone\", \"Jack\", \"Tom\"],\n",
    "        \"Age\": [25, 30, 35, 40, 45, 50],\n",
    "        \"Salary\": [50000, 60000, 70000, 80000, 90000, 100000],\n",
    "        \"City\": [\n",
    "            \"New York\",\n",
    "            \"Los Angeles\",\n",
    "            \"Chicago\",\n",
    "            \"Houston\",\n",
    "            \"Phoenix\",\n",
    "            \"Philadelphia\",\n",
    "        ],\n",
    "    }\n",
    ")\n",
    "df.head()  # 查看前5行"
   ]
  },
  {
   "cell_type": "code",
   "execution_count": 23,
   "id": "1a9a6cb9",
   "metadata": {},
   "outputs": [
    {
     "data": {
      "application/vnd.microsoft.datawrangler.viewer.v0+json": {
       "columns": [
        {
         "name": "index",
         "rawType": "int64",
         "type": "integer"
        },
        {
         "name": "Name",
         "rawType": "object",
         "type": "string"
        },
        {
         "name": "Age",
         "rawType": "int64",
         "type": "integer"
        },
        {
         "name": "Salary",
         "rawType": "int64",
         "type": "integer"
        },
        {
         "name": "City",
         "rawType": "object",
         "type": "string"
        }
       ],
       "conversionMethod": "pd.DataFrame",
       "ref": "13e59200-fca0-4ffc-8508-56395352b93e",
       "rows": [
        [
         "3",
         "Marone",
         "40",
         "80000",
         "Houston"
        ],
        [
         "4",
         "Jack",
         "45",
         "90000",
         "Phoenix"
        ],
        [
         "5",
         "Tom",
         "50",
         "100000",
         "Philadelphia"
        ]
       ],
       "shape": {
        "columns": 4,
        "rows": 3
       }
      },
      "text/html": [
       "<div>\n",
       "<style scoped>\n",
       "    .dataframe tbody tr th:only-of-type {\n",
       "        vertical-align: middle;\n",
       "    }\n",
       "\n",
       "    .dataframe tbody tr th {\n",
       "        vertical-align: top;\n",
       "    }\n",
       "\n",
       "    .dataframe thead th {\n",
       "        text-align: right;\n",
       "    }\n",
       "</style>\n",
       "<table border=\"1\" class=\"dataframe\">\n",
       "  <thead>\n",
       "    <tr style=\"text-align: right;\">\n",
       "      <th></th>\n",
       "      <th>Name</th>\n",
       "      <th>Age</th>\n",
       "      <th>Salary</th>\n",
       "      <th>City</th>\n",
       "    </tr>\n",
       "  </thead>\n",
       "  <tbody>\n",
       "    <tr>\n",
       "      <th>3</th>\n",
       "      <td>Marone</td>\n",
       "      <td>40</td>\n",
       "      <td>80000</td>\n",
       "      <td>Houston</td>\n",
       "    </tr>\n",
       "    <tr>\n",
       "      <th>4</th>\n",
       "      <td>Jack</td>\n",
       "      <td>45</td>\n",
       "      <td>90000</td>\n",
       "      <td>Phoenix</td>\n",
       "    </tr>\n",
       "    <tr>\n",
       "      <th>5</th>\n",
       "      <td>Tom</td>\n",
       "      <td>50</td>\n",
       "      <td>100000</td>\n",
       "      <td>Philadelphia</td>\n",
       "    </tr>\n",
       "  </tbody>\n",
       "</table>\n",
       "</div>"
      ],
      "text/plain": [
       "     Name  Age  Salary          City\n",
       "3  Marone   40   80000       Houston\n",
       "4    Jack   45   90000       Phoenix\n",
       "5     Tom   50  100000  Philadelphia"
      ]
     },
     "execution_count": 23,
     "metadata": {},
     "output_type": "execute_result"
    }
   ],
   "source": [
    "df.tail(3)  # 查看后3行"
   ]
  },
  {
   "cell_type": "code",
   "execution_count": 24,
   "id": "1d968a97",
   "metadata": {},
   "outputs": [
    {
     "data": {
      "text/plain": [
       "(6, 4)"
      ]
     },
     "execution_count": 24,
     "metadata": {},
     "output_type": "execute_result"
    }
   ],
   "source": [
    "df.shape  # 查看维度"
   ]
  },
  {
   "cell_type": "code",
   "execution_count": 25,
   "id": "b2814b25",
   "metadata": {},
   "outputs": [
    {
     "name": "stdout",
     "output_type": "stream",
     "text": [
      "<class 'pandas.core.frame.DataFrame'>\n",
      "RangeIndex: 6 entries, 0 to 5\n",
      "Data columns (total 4 columns):\n",
      " #   Column  Non-Null Count  Dtype \n",
      "---  ------  --------------  ----- \n",
      " 0   Name    6 non-null      object\n",
      " 1   Age     6 non-null      int64 \n",
      " 2   Salary  6 non-null      int64 \n",
      " 3   City    6 non-null      object\n",
      "dtypes: int64(2), object(2)\n",
      "memory usage: 324.0+ bytes\n"
     ]
    }
   ],
   "source": [
    "df.info()  # 数据结构概览"
   ]
  },
  {
   "cell_type": "code",
   "execution_count": 26,
   "id": "5b7fc393",
   "metadata": {},
   "outputs": [
    {
     "data": {
      "application/vnd.microsoft.datawrangler.viewer.v0+json": {
       "columns": [
        {
         "name": "index",
         "rawType": "object",
         "type": "string"
        },
        {
         "name": "Age",
         "rawType": "float64",
         "type": "float"
        },
        {
         "name": "Salary",
         "rawType": "float64",
         "type": "float"
        }
       ],
       "conversionMethod": "pd.DataFrame",
       "ref": "a2507371-403c-4150-818d-22abebeca8df",
       "rows": [
        [
         "count",
         "6.0",
         "6.0"
        ],
        [
         "mean",
         "37.5",
         "75000.0"
        ],
        [
         "std",
         "9.354143466934854",
         "18708.286933869706"
        ],
        [
         "min",
         "25.0",
         "50000.0"
        ],
        [
         "25%",
         "31.25",
         "62500.0"
        ],
        [
         "50%",
         "37.5",
         "75000.0"
        ],
        [
         "75%",
         "43.75",
         "87500.0"
        ],
        [
         "max",
         "50.0",
         "100000.0"
        ]
       ],
       "shape": {
        "columns": 2,
        "rows": 8
       }
      },
      "text/html": [
       "<div>\n",
       "<style scoped>\n",
       "    .dataframe tbody tr th:only-of-type {\n",
       "        vertical-align: middle;\n",
       "    }\n",
       "\n",
       "    .dataframe tbody tr th {\n",
       "        vertical-align: top;\n",
       "    }\n",
       "\n",
       "    .dataframe thead th {\n",
       "        text-align: right;\n",
       "    }\n",
       "</style>\n",
       "<table border=\"1\" class=\"dataframe\">\n",
       "  <thead>\n",
       "    <tr style=\"text-align: right;\">\n",
       "      <th></th>\n",
       "      <th>Age</th>\n",
       "      <th>Salary</th>\n",
       "    </tr>\n",
       "  </thead>\n",
       "  <tbody>\n",
       "    <tr>\n",
       "      <th>count</th>\n",
       "      <td>6.000000</td>\n",
       "      <td>6.000000</td>\n",
       "    </tr>\n",
       "    <tr>\n",
       "      <th>mean</th>\n",
       "      <td>37.500000</td>\n",
       "      <td>75000.000000</td>\n",
       "    </tr>\n",
       "    <tr>\n",
       "      <th>std</th>\n",
       "      <td>9.354143</td>\n",
       "      <td>18708.286934</td>\n",
       "    </tr>\n",
       "    <tr>\n",
       "      <th>min</th>\n",
       "      <td>25.000000</td>\n",
       "      <td>50000.000000</td>\n",
       "    </tr>\n",
       "    <tr>\n",
       "      <th>25%</th>\n",
       "      <td>31.250000</td>\n",
       "      <td>62500.000000</td>\n",
       "    </tr>\n",
       "    <tr>\n",
       "      <th>50%</th>\n",
       "      <td>37.500000</td>\n",
       "      <td>75000.000000</td>\n",
       "    </tr>\n",
       "    <tr>\n",
       "      <th>75%</th>\n",
       "      <td>43.750000</td>\n",
       "      <td>87500.000000</td>\n",
       "    </tr>\n",
       "    <tr>\n",
       "      <th>max</th>\n",
       "      <td>50.000000</td>\n",
       "      <td>100000.000000</td>\n",
       "    </tr>\n",
       "  </tbody>\n",
       "</table>\n",
       "</div>"
      ],
      "text/plain": [
       "             Age         Salary\n",
       "count   6.000000       6.000000\n",
       "mean   37.500000   75000.000000\n",
       "std     9.354143   18708.286934\n",
       "min    25.000000   50000.000000\n",
       "25%    31.250000   62500.000000\n",
       "50%    37.500000   75000.000000\n",
       "75%    43.750000   87500.000000\n",
       "max    50.000000  100000.000000"
      ]
     },
     "execution_count": 26,
     "metadata": {},
     "output_type": "execute_result"
    }
   ],
   "source": [
    "df.describe()  # 数值列的统计描述"
   ]
  },
  {
   "cell_type": "markdown",
   "id": "50641789",
   "metadata": {},
   "source": [
    "##### 查看列数据\n"
   ]
  },
  {
   "cell_type": "code",
   "execution_count": 27,
   "id": "b426ceac",
   "metadata": {},
   "outputs": [
    {
     "name": "stdout",
     "output_type": "stream",
     "text": [
      "0      Alice\n",
      "1        Bob\n",
      "2    Charlie\n",
      "3     Marone\n",
      "4       Jack\n",
      "5        Tom\n",
      "Name: Name, dtype: object\n",
      "0    25\n",
      "1    30\n",
      "2    35\n",
      "3    40\n",
      "4    45\n",
      "5    50\n",
      "Name: Age, dtype: int64\n"
     ]
    }
   ],
   "source": [
    "# 查看某一列数据\n",
    "print(df[\"Name\"])  # 打印姓名列\n",
    "print(df.Age)  # 打印年龄列"
   ]
  },
  {
   "cell_type": "code",
   "execution_count": 28,
   "id": "5242bede",
   "metadata": {},
   "outputs": [
    {
     "name": "stdout",
     "output_type": "stream",
     "text": [
      "      Name  Age\n",
      "0    Alice   25\n",
      "1      Bob   30\n",
      "2  Charlie   35\n",
      "3   Marone   40\n",
      "4     Jack   45\n",
      "5      Tom   50\n"
     ]
    }
   ],
   "source": [
    "# 查看多列数据\n",
    "print(df[[\"Name\", \"Age\"]])  # 打印姓名和年龄列"
   ]
  },
  {
   "cell_type": "code",
   "execution_count": 29,
   "id": "cea85d45",
   "metadata": {},
   "outputs": [
    {
     "data": {
      "text/plain": [
       "count     6.000000\n",
       "mean     37.500000\n",
       "std       9.354143\n",
       "min      25.000000\n",
       "25%      31.250000\n",
       "50%      37.500000\n",
       "75%      43.750000\n",
       "max      50.000000\n",
       "Name: Age, dtype: float64"
      ]
     },
     "execution_count": 29,
     "metadata": {},
     "output_type": "execute_result"
    }
   ],
   "source": [
    "# 查看特定列的统计描述\n",
    "df[\"Age\"].describe()  # 年龄列的统计描述"
   ]
  },
  {
   "cell_type": "markdown",
   "id": "715c4b32",
   "metadata": {},
   "source": [
    "##### 查看行数据\n"
   ]
  },
  {
   "cell_type": "markdown",
   "id": "9d5abe77",
   "metadata": {},
   "source": [
    ".iloc[] 是基于位置索引查找，不包含结束位置\n"
   ]
  },
  {
   "cell_type": "code",
   "execution_count": 30,
   "id": "8d45b971",
   "metadata": {},
   "outputs": [
    {
     "name": "stdout",
     "output_type": "stream",
     "text": [
      "Name         Alice\n",
      "Age             25\n",
      "Salary       50000\n",
      "City      New York\n",
      "Name: 0, dtype: object\n"
     ]
    }
   ],
   "source": [
    "# 查看行数据\n",
    "print(df.iloc[0])  # 打印第一行数据"
   ]
  },
  {
   "cell_type": "code",
   "execution_count": 31,
   "id": "44db65e0",
   "metadata": {},
   "outputs": [
    {
     "name": "stdout",
     "output_type": "stream",
     "text": [
      "      Name  Age  Salary         City\n",
      "1      Bob   30   60000  Los Angeles\n",
      "2  Charlie   35   70000      Chicago\n"
     ]
    }
   ],
   "source": [
    "print(df.iloc[1:3])  # 打印第二到第三行数据"
   ]
  },
  {
   "cell_type": "code",
   "execution_count": 32,
   "id": "f992c4b5",
   "metadata": {},
   "outputs": [
    {
     "name": "stdout",
     "output_type": "stream",
     "text": [
      "      Name  Age  Salary      City\n",
      "0    Alice   25   50000  New York\n",
      "2  Charlie   35   70000   Chicago\n",
      "4     Jack   45   90000   Phoenix\n"
     ]
    }
   ],
   "source": [
    "print(df.iloc[[0, 2, 4]])  # 打印第一、第三和第五行数据"
   ]
  },
  {
   "cell_type": "code",
   "execution_count": 33,
   "id": "2340e4ea",
   "metadata": {},
   "outputs": [
    {
     "name": "stdout",
     "output_type": "stream",
     "text": [
      "0      Alice\n",
      "1        Bob\n",
      "2    Charlie\n",
      "3     Marone\n",
      "4       Jack\n",
      "5        Tom\n",
      "Name: Name, dtype: object\n"
     ]
    }
   ],
   "source": [
    "print(df.iloc[:, 0])  # 打印第一列数据"
   ]
  },
  {
   "cell_type": "code",
   "execution_count": 34,
   "id": "b9a4c6b0",
   "metadata": {},
   "outputs": [
    {
     "name": "stdout",
     "output_type": "stream",
     "text": [
      "   Age  Salary\n",
      "0   25   50000\n",
      "1   30   60000\n",
      "2   35   70000\n",
      "3   40   80000\n",
      "4   45   90000\n",
      "5   50  100000\n"
     ]
    }
   ],
   "source": [
    "print(df.iloc[:, 1:3])  # 打印第二到第三列数据"
   ]
  },
  {
   "cell_type": "code",
   "execution_count": 35,
   "id": "e745a466",
   "metadata": {},
   "outputs": [
    {
     "name": "stdout",
     "output_type": "stream",
     "text": [
      "      Name  Salary\n",
      "0    Alice   50000\n",
      "1      Bob   60000\n",
      "2  Charlie   70000\n",
      "3   Marone   80000\n",
      "4     Jack   90000\n",
      "5      Tom  100000\n"
     ]
    }
   ],
   "source": [
    "print(df.iloc[:, [0, 2]])  # 打印第一和第三列数据"
   ]
  },
  {
   "cell_type": "code",
   "execution_count": 36,
   "id": "2aa927f7",
   "metadata": {},
   "outputs": [
    {
     "name": "stdout",
     "output_type": "stream",
     "text": [
      "   Age  Salary\n",
      "0   25   50000\n",
      "1   30   60000\n",
      "2   35   70000\n"
     ]
    }
   ],
   "source": [
    "print(df.iloc[0:3, 1:3])  # 打印第一到第三行和第二到第三列的数据"
   ]
  },
  {
   "cell_type": "code",
   "execution_count": 37,
   "id": "1d87e93a",
   "metadata": {},
   "outputs": [
    {
     "name": "stdout",
     "output_type": "stream",
     "text": [
      "   Age      City\n",
      "0   25  New York\n",
      "2   35   Chicago\n"
     ]
    }
   ],
   "source": [
    "print(df.iloc[[0, 2], [1, 3]])  # 打印第一和第三行的第二和第四列数据"
   ]
  },
  {
   "cell_type": "code",
   "execution_count": 38,
   "id": "146a523b",
   "metadata": {},
   "outputs": [
    {
     "name": "stdout",
     "output_type": "stream",
     "text": [
      "   Age         City\n",
      "0   25     New York\n",
      "1   30  Los Angeles\n",
      "2   35      Chicago\n"
     ]
    }
   ],
   "source": [
    "print(df.iloc[0:3, [1, 3]])  # 打印第一到第三行的第二和第四列数据"
   ]
  },
  {
   "cell_type": "markdown",
   "id": "2fccc55d",
   "metadata": {},
   "source": [
    ".loc[] 是基于标签查找，包含结束位置，使用行列名\n"
   ]
  },
  {
   "cell_type": "code",
   "execution_count": 39,
   "id": "c366409e",
   "metadata": {},
   "outputs": [
    {
     "name": "stdout",
     "output_type": "stream",
     "text": [
      "[0 1 2 3 4 5]\n"
     ]
    },
    {
     "data": {
      "application/vnd.microsoft.datawrangler.viewer.v0+json": {
       "columns": [
        {
         "name": "index",
         "rawType": "object",
         "type": "unknown"
        },
        {
         "name": "Name",
         "rawType": "object",
         "type": "string"
        },
        {
         "name": "Age",
         "rawType": "int64",
         "type": "integer"
        },
        {
         "name": "Salary",
         "rawType": "int64",
         "type": "integer"
        },
        {
         "name": "City",
         "rawType": "object",
         "type": "string"
        }
       ],
       "conversionMethod": "pd.DataFrame",
       "ref": "4a2c48b3-d672-4e64-84c4-628849898dc8",
       "rows": [
        [
         "0",
         "Alice",
         "25",
         "50000",
         "New York"
        ],
        [
         "1",
         "Bob",
         "30",
         "60000",
         "Los Angeles"
        ],
        [
         "2",
         "Charlie",
         "35",
         "70000",
         "Chicago"
        ],
        [
         "我",
         "Marone",
         "40",
         "80000",
         "Houston"
        ],
        [
         "4",
         "Jack",
         "45",
         "90000",
         "Phoenix"
        ],
        [
         "5",
         "Tom",
         "50",
         "100000",
         "Philadelphia"
        ]
       ],
       "shape": {
        "columns": 4,
        "rows": 6
       }
      },
      "text/html": [
       "<div>\n",
       "<style scoped>\n",
       "    .dataframe tbody tr th:only-of-type {\n",
       "        vertical-align: middle;\n",
       "    }\n",
       "\n",
       "    .dataframe tbody tr th {\n",
       "        vertical-align: top;\n",
       "    }\n",
       "\n",
       "    .dataframe thead th {\n",
       "        text-align: right;\n",
       "    }\n",
       "</style>\n",
       "<table border=\"1\" class=\"dataframe\">\n",
       "  <thead>\n",
       "    <tr style=\"text-align: right;\">\n",
       "      <th></th>\n",
       "      <th>Name</th>\n",
       "      <th>Age</th>\n",
       "      <th>Salary</th>\n",
       "      <th>City</th>\n",
       "    </tr>\n",
       "  </thead>\n",
       "  <tbody>\n",
       "    <tr>\n",
       "      <th>0</th>\n",
       "      <td>Alice</td>\n",
       "      <td>25</td>\n",
       "      <td>50000</td>\n",
       "      <td>New York</td>\n",
       "    </tr>\n",
       "    <tr>\n",
       "      <th>1</th>\n",
       "      <td>Bob</td>\n",
       "      <td>30</td>\n",
       "      <td>60000</td>\n",
       "      <td>Los Angeles</td>\n",
       "    </tr>\n",
       "    <tr>\n",
       "      <th>2</th>\n",
       "      <td>Charlie</td>\n",
       "      <td>35</td>\n",
       "      <td>70000</td>\n",
       "      <td>Chicago</td>\n",
       "    </tr>\n",
       "    <tr>\n",
       "      <th>我</th>\n",
       "      <td>Marone</td>\n",
       "      <td>40</td>\n",
       "      <td>80000</td>\n",
       "      <td>Houston</td>\n",
       "    </tr>\n",
       "    <tr>\n",
       "      <th>4</th>\n",
       "      <td>Jack</td>\n",
       "      <td>45</td>\n",
       "      <td>90000</td>\n",
       "      <td>Phoenix</td>\n",
       "    </tr>\n",
       "    <tr>\n",
       "      <th>5</th>\n",
       "      <td>Tom</td>\n",
       "      <td>50</td>\n",
       "      <td>100000</td>\n",
       "      <td>Philadelphia</td>\n",
       "    </tr>\n",
       "  </tbody>\n",
       "</table>\n",
       "</div>"
      ],
      "text/plain": [
       "      Name  Age  Salary          City\n",
       "0    Alice   25   50000      New York\n",
       "1      Bob   30   60000   Los Angeles\n",
       "2  Charlie   35   70000       Chicago\n",
       "我   Marone   40   80000       Houston\n",
       "4     Jack   45   90000       Phoenix\n",
       "5      Tom   50  100000  Philadelphia"
      ]
     },
     "execution_count": 39,
     "metadata": {},
     "output_type": "execute_result"
    }
   ],
   "source": [
    "print(df.index.values)  # 查看索引值： [0 1 2 3 4 5]\n",
    "df = df.rename(index={3: \"我\"})  # 修改索引\n",
    "df"
   ]
  },
  {
   "cell_type": "code",
   "execution_count": 40,
   "id": "b79d15f3",
   "metadata": {},
   "outputs": [
    {
     "data": {
      "text/plain": [
       "Name       Marone\n",
       "Age            40\n",
       "Salary      80000\n",
       "City      Houston\n",
       "Name: 我, dtype: object"
      ]
     },
     "execution_count": 40,
     "metadata": {},
     "output_type": "execute_result"
    }
   ],
   "source": [
    "df.loc[\"我\"]  # 查看索引为\"我\"的行数据"
   ]
  },
  {
   "cell_type": "code",
   "execution_count": 41,
   "id": "53305767",
   "metadata": {},
   "outputs": [
    {
     "data": {
      "text/plain": [
       "'Marone'"
      ]
     },
     "execution_count": 41,
     "metadata": {},
     "output_type": "execute_result"
    }
   ],
   "source": [
    "df.loc[\"我\", \"Name\"]  # 查看索引为\"我\"的行数据的姓名列数据"
   ]
  },
  {
   "cell_type": "code",
   "execution_count": 42,
   "id": "e23ada5a",
   "metadata": {},
   "outputs": [
    {
     "data": {
      "text/plain": [
       "Name      Marone\n",
       "Age           40\n",
       "Salary     80000\n",
       "Name: 我, dtype: object"
      ]
     },
     "execution_count": 42,
     "metadata": {},
     "output_type": "execute_result"
    }
   ],
   "source": [
    "df.loc[\"我\", \"Name\":\"Salary\"]  # 查看索引为\"我\"的行数据的姓名到薪水列数据"
   ]
  },
  {
   "cell_type": "markdown",
   "id": "151c511a",
   "metadata": {},
   "source": [
    "#### DataFrame 编辑\n"
   ]
  },
  {
   "cell_type": "code",
   "execution_count": 43,
   "id": "ede514d1",
   "metadata": {},
   "outputs": [
    {
     "data": {
      "application/vnd.microsoft.datawrangler.viewer.v0+json": {
       "columns": [
        {
         "name": "index",
         "rawType": "object",
         "type": "unknown"
        },
        {
         "name": "Name",
         "rawType": "object",
         "type": "string"
        },
        {
         "name": "Age",
         "rawType": "int64",
         "type": "integer"
        },
        {
         "name": "Salary",
         "rawType": "int64",
         "type": "integer"
        },
        {
         "name": "City",
         "rawType": "object",
         "type": "string"
        }
       ],
       "conversionMethod": "pd.DataFrame",
       "ref": "65b171d1-8f96-4902-838a-fdedb02535dd",
       "rows": [
        [
         "0",
         "Alice",
         "25",
         "50000",
         "New York"
        ],
        [
         "1",
         "Bob",
         "30",
         "60000",
         "Los Angeles"
        ],
        [
         "2",
         "Charlie",
         "35",
         "70000",
         "Chicago"
        ],
        [
         "我",
         "Marone",
         "40",
         "80000",
         "Houston"
        ],
        [
         "4",
         "Jack",
         "45",
         "90000",
         "Phoenix"
        ],
        [
         "5",
         "Tom",
         "50",
         "100000",
         "Philadelphia"
        ]
       ],
       "shape": {
        "columns": 4,
        "rows": 6
       }
      },
      "text/html": [
       "<div>\n",
       "<style scoped>\n",
       "    .dataframe tbody tr th:only-of-type {\n",
       "        vertical-align: middle;\n",
       "    }\n",
       "\n",
       "    .dataframe tbody tr th {\n",
       "        vertical-align: top;\n",
       "    }\n",
       "\n",
       "    .dataframe thead th {\n",
       "        text-align: right;\n",
       "    }\n",
       "</style>\n",
       "<table border=\"1\" class=\"dataframe\">\n",
       "  <thead>\n",
       "    <tr style=\"text-align: right;\">\n",
       "      <th></th>\n",
       "      <th>Name</th>\n",
       "      <th>Age</th>\n",
       "      <th>Salary</th>\n",
       "      <th>City</th>\n",
       "    </tr>\n",
       "  </thead>\n",
       "  <tbody>\n",
       "    <tr>\n",
       "      <th>0</th>\n",
       "      <td>Alice</td>\n",
       "      <td>25</td>\n",
       "      <td>50000</td>\n",
       "      <td>New York</td>\n",
       "    </tr>\n",
       "    <tr>\n",
       "      <th>1</th>\n",
       "      <td>Bob</td>\n",
       "      <td>30</td>\n",
       "      <td>60000</td>\n",
       "      <td>Los Angeles</td>\n",
       "    </tr>\n",
       "    <tr>\n",
       "      <th>2</th>\n",
       "      <td>Charlie</td>\n",
       "      <td>35</td>\n",
       "      <td>70000</td>\n",
       "      <td>Chicago</td>\n",
       "    </tr>\n",
       "    <tr>\n",
       "      <th>我</th>\n",
       "      <td>Marone</td>\n",
       "      <td>40</td>\n",
       "      <td>80000</td>\n",
       "      <td>Houston</td>\n",
       "    </tr>\n",
       "    <tr>\n",
       "      <th>4</th>\n",
       "      <td>Jack</td>\n",
       "      <td>45</td>\n",
       "      <td>90000</td>\n",
       "      <td>Phoenix</td>\n",
       "    </tr>\n",
       "    <tr>\n",
       "      <th>5</th>\n",
       "      <td>Tom</td>\n",
       "      <td>50</td>\n",
       "      <td>100000</td>\n",
       "      <td>Philadelphia</td>\n",
       "    </tr>\n",
       "  </tbody>\n",
       "</table>\n",
       "</div>"
      ],
      "text/plain": [
       "      Name  Age  Salary          City\n",
       "0    Alice   25   50000      New York\n",
       "1      Bob   30   60000   Los Angeles\n",
       "2  Charlie   35   70000       Chicago\n",
       "我   Marone   40   80000       Houston\n",
       "4     Jack   45   90000       Phoenix\n",
       "5      Tom   50  100000  Philadelphia"
      ]
     },
     "execution_count": 43,
     "metadata": {},
     "output_type": "execute_result"
    }
   ],
   "source": [
    "df"
   ]
  },
  {
   "cell_type": "markdown",
   "id": "2a9a59ab",
   "metadata": {},
   "source": [
    "替换某一列为索引"
   ]
  },
  {
   "cell_type": "code",
   "execution_count": 44,
   "id": "ecf5d879",
   "metadata": {},
   "outputs": [
    {
     "name": "stdout",
     "output_type": "stream",
     "text": [
      "         Age  Salary          City\n",
      "Name                              \n",
      "Alice     25   50000      New York\n",
      "Bob       30   60000   Los Angeles\n",
      "Charlie   35   70000       Chicago\n",
      "Marone    40   80000       Houston\n",
      "Jack      45   90000       Phoenix\n",
      "Tom       50  100000  Philadelphia\n"
     ]
    },
    {
     "data": {
      "text/plain": [
       "Index(['Alice', 'Bob', 'Charlie', 'Marone', 'Jack', 'Tom'], dtype='object', name='Name')"
      ]
     },
     "execution_count": 44,
     "metadata": {},
     "output_type": "execute_result"
    }
   ],
   "source": [
    "df.set_index(\"Name\", inplace=True)  # 将姓名列设置为索引\n",
    "print(df)  # 查看数据\n",
    "df.index  # 查看索引"
   ]
  },
  {
   "cell_type": "markdown",
   "id": "eed5d6a8",
   "metadata": {},
   "source": [
    "还原索引"
   ]
  },
  {
   "cell_type": "code",
   "execution_count": 45,
   "id": "c4979667",
   "metadata": {},
   "outputs": [
    {
     "name": "stdout",
     "output_type": "stream",
     "text": [
      "         Age  Salary          City\n",
      "Name                              \n",
      "Alice     25   50000      New York\n",
      "Bob       30   60000   Los Angeles\n",
      "Charlie   35   70000       Chicago\n",
      "Marone    40   80000       Houston\n",
      "Jack      45   90000       Phoenix\n",
      "Tom       50  100000  Philadelphia\n",
      "      Name  Age  Salary          City\n",
      "0    Alice   25   50000      New York\n",
      "1      Bob   30   60000   Los Angeles\n",
      "2  Charlie   35   70000       Chicago\n",
      "3   Marone   40   80000       Houston\n",
      "4     Jack   45   90000       Phoenix\n",
      "5      Tom   50  100000  Philadelphia\n"
     ]
    }
   ],
   "source": [
    "df_reset = df.reset_index()  # 重置索引\n",
    "print(df)  # 查看旧数据\n",
    "print(df_reset)  # 查看新数据"
   ]
  },
  {
   "cell_type": "code",
   "execution_count": 46,
   "id": "01bfec87",
   "metadata": {},
   "outputs": [],
   "source": [
    "# df.reindex()  # 重新索引"
   ]
  },
  {
   "cell_type": "markdown",
   "id": "3b801f3a",
   "metadata": {},
   "source": [
    "#### DataFrame 读取文件\n",
    "\n",
    "可以读 csv，xlsx 文件\n"
   ]
  },
  {
   "cell_type": "markdown",
   "id": "c7d6655d",
   "metadata": {},
   "source": [
    "## re, textwrap 字符串处理\n"
   ]
  },
  {
   "cell_type": "code",
   "execution_count": 47,
   "id": "160acd5f",
   "metadata": {},
   "outputs": [
    {
     "name": "stdout",
     "output_type": "stream",
     "text": [
      "['123', '456']\n",
      "hello X world X\n",
      "This is a\n",
      "very long\n",
      "sentence\n",
      "that needs\n",
      "wrapping.\n"
     ]
    }
   ],
   "source": [
    "import re\n",
    "import textwrap\n",
    "\n",
    "text = \"hello 123 world 456\"\n",
    "print(re.findall(r\"\\d+\", text))  # ['123', '456']\n",
    "print(re.sub(r\"\\d+\", \"X\", text))  # 'hello X world X'\n",
    "\n",
    "wrapped_text = textwrap.wrap(\n",
    "    \"This is a very long sentence that needs wrapping.\", width=10\n",
    ")\n",
    "print(\"\\n\".join(wrapped_text))  # 自动换行"
   ]
  }
 ],
 "metadata": {
  "kernelspec": {
   "display_name": ".venv",
   "language": "python",
   "name": "python3"
  },
  "language_info": {
   "codemirror_mode": {
    "name": "ipython",
    "version": 3
   },
   "file_extension": ".py",
   "mimetype": "text/x-python",
   "name": "python",
   "nbconvert_exporter": "python",
   "pygments_lexer": "ipython3",
   "version": "3.12.7"
  }
 },
 "nbformat": 4,
 "nbformat_minor": 5
}
