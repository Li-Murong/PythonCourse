{
 "cells": [
  {
   "cell_type": "markdown",
   "id": "3be29440",
   "metadata": {},
   "source": [
    "# 数据处理"
   ]
  },
  {
   "cell_type": "markdown",
   "id": "5eb2156b",
   "metadata": {},
   "source": [
    "## math, statistics 数学工具\n"
   ]
  },
  {
   "cell_type": "code",
   "execution_count": null,
   "id": "ef2a6ced",
   "metadata": {},
   "outputs": [
    {
     "name": "stdout",
     "output_type": "stream",
     "text": [
      "6\n",
      "120\n",
      "3\n",
      "10\n",
      "6\n"
     ]
    }
   ],
   "source": [
    "import math\n",
    "import statistics\n",
    "\n",
    "print(math.gcd(48, 18))  # 6\n",
    "print(math.factorial(5))  # 120\n",
    "print(math.isqrt(10))  # 3\n",
    "print(math.comb(5, 2))  # 10  (5 选 2 组合)\n",
    "print(statistics.median([1, 3, 3, 6, 7, 8, 9]))  # 6"
   ]
  },
  {
   "cell_type": "markdown",
   "id": "995e9129",
   "metadata": {},
   "source": [
    "## pandas 数据表格\n"
   ]
  },
  {
   "cell_type": "code",
   "execution_count": null,
   "id": "7fd4a342",
   "metadata": {},
   "outputs": [],
   "source": []
  },
  {
   "cell_type": "markdown",
   "id": "c7d6655d",
   "metadata": {},
   "source": [
    "## re, textwrap 字符串处理\n"
   ]
  },
  {
   "cell_type": "code",
   "execution_count": null,
   "id": "160acd5f",
   "metadata": {},
   "outputs": [
    {
     "name": "stdout",
     "output_type": "stream",
     "text": [
      "['123', '456']\n",
      "hello X world X\n",
      "This is a\n",
      "very long\n",
      "sentence\n",
      "that needs\n",
      "wrapping.\n"
     ]
    }
   ],
   "source": [
    "import re\n",
    "import textwrap\n",
    "\n",
    "text = \"hello 123 world 456\"\n",
    "print(re.findall(r\"\\d+\", text))  # ['123', '456']\n",
    "print(re.sub(r\"\\d+\", \"X\", text))  # 'hello X world X'\n",
    "\n",
    "wrapped_text = textwrap.wrap(\n",
    "    \"This is a very long sentence that needs wrapping.\", width=10\n",
    ")\n",
    "print(\"\\n\".join(wrapped_text))  # 自动换行"
   ]
  }
 ],
 "metadata": {
  "language_info": {
   "name": "python"
  }
 },
 "nbformat": 4,
 "nbformat_minor": 5
}
