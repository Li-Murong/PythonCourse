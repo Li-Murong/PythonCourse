{
  "cells": [
    {
      "cell_type": "markdown",
      "metadata": {
        "colab_type": "text",
        "id": "view-in-github"
      },
      "source": [
        "<a href=\"https://colab.research.google.com/github/Li-Murong/PythonCourse/blob/main/Class_4.ipynb\" target=\"_parent\"><img src=\"https://colab.research.google.com/assets/colab-badge.svg\" alt=\"Open In Colab\"/></a>"
      ]
    },
    {
      "cell_type": "markdown",
      "id": "f665f836",
      "metadata": {
        "id": "f665f836"
      },
      "source": [
        "# 函数\n"
      ]
    },
    {
      "cell_type": "markdown",
      "id": "24a6491c",
      "metadata": {
        "id": "24a6491c"
      },
      "source": [
        "## 格式\n"
      ]
    },
    {
      "cell_type": "code",
      "execution_count": 1,
      "id": "341c6697",
      "metadata": {
        "id": "341c6697"
      },
      "outputs": [],
      "source": [
        "# 声明函数\n",
        "def function_name(arg1, arg2):\n",
        "    \"\"\"\n",
        "    这里写函数的功能描述\n",
        "    \"\"\"\n",
        "    pass  # 这个可以让函数不报错，即使里面是空的"
      ]
    },
    {
      "cell_type": "markdown",
      "id": "52d16711",
      "metadata": {
        "id": "52d16711"
      },
      "source": [
        "## 函数的参数\n"
      ]
    },
    {
      "cell_type": "code",
      "execution_count": 2,
      "id": "59b0ffad",
      "metadata": {
        "id": "59b0ffad",
        "outputId": "280f50d0-d016-4e6a-b367-828ae6e06c4d"
      },
      "outputs": [
        {
          "name": "stdout",
          "output_type": "stream",
          "text": [
            "Hello World\n",
            "Hello YiYi\n"
          ]
        }
      ],
      "source": [
        "# 默认参数\n",
        "def greet(name=\"World\"):\n",
        "    return \"Hello \" + name\n",
        "\n",
        "\n",
        "print(greet())  # Hello World\n",
        "print(greet(\"YiYi\"))  # Hello Alice"
      ]
    },
    {
      "cell_type": "markdown",
      "id": "65ebc4bc",
      "metadata": {
        "id": "65ebc4bc"
      },
      "source": [
        "### 关键字参数\n",
        "\n",
        "- 当我们调用函数时，直接写明参数名=值，这就叫关键字参数。\n",
        "- 不怕顺序乱\n"
      ]
    },
    {
      "cell_type": "code",
      "execution_count": 3,
      "id": "bd047c30",
      "metadata": {
        "id": "bd047c30",
        "outputId": "a44b8fb0-0ae1-4022-846b-8b426d86f089"
      },
      "outputs": [
        {
          "name": "stdout",
          "output_type": "stream",
          "text": [
            "我叫豆哥，今年25岁，来自广州。\n",
            "我叫豆哥，今年25岁，来自广州。\n"
          ]
        }
      ],
      "source": [
        "def introduce(name, age, city):\n",
        "    print(f\"我叫{name}，今年{age}岁，来自{city}。\")\n",
        "\n",
        "\n",
        "# 位置参数调用（按顺序）\n",
        "introduce(\"豆哥\", 25, \"广州\")\n",
        "\n",
        "# ✅ 关键字参数调用（顺序可以打乱）\n",
        "introduce(age=25, name=\"豆哥\", city=\"广州\")"
      ]
    },
    {
      "cell_type": "markdown",
      "id": "1e2addaf",
      "metadata": {
        "id": "1e2addaf"
      },
      "source": [
        "### 可变参数：\n",
        "\n",
        "- _\\*args_：表示多个参数，数量未知。你可以把多个值当作“一个元组”传进去。\n",
        "- _args_ 可以取任意名字，但惯例用 args\n",
        "- _args_ 是个元组\n"
      ]
    },
    {
      "cell_type": "code",
      "execution_count": 4,
      "id": "6877e99f",
      "metadata": {
        "id": "6877e99f",
        "outputId": "f38213b0-0a1a-4f25-91c7-39d08ed76ce2"
      },
      "outputs": [
        {
          "name": "stdout",
          "output_type": "stream",
          "text": [
            "3\n",
            "15\n"
          ]
        }
      ],
      "source": [
        "def count_arguments(*args):\n",
        "\n",
        "    return len(args)  # 计算传入参数的数量\n",
        "\n",
        "\n",
        "print(count_arguments(1, 2, 3))  # 3\n",
        "\n",
        "\n",
        "def add(*ls):\n",
        "    return sum(ls)  # 计算传入参数的和\n",
        "\n",
        "\n",
        "print(add(1, 2, 3, 4, 5))  # 15"
      ]
    },
    {
      "cell_type": "markdown",
      "id": "6dcc0b63",
      "metadata": {
        "id": "6dcc0b63"
      },
      "source": [
        "### 可变关键字参数\n",
        "\n",
        "- _\\*\\*kwargs_：表示多个关键字参数\n"
      ]
    },
    {
      "cell_type": "code",
      "execution_count": 5,
      "id": "12a427fa",
      "metadata": {
        "id": "12a427fa",
        "outputId": "5ad52aa3-ce1c-4c2d-8564-f7a0a2fe5fa4"
      },
      "outputs": [
        {
          "name": "stdout",
          "output_type": "stream",
          "text": [
            "收到的关键字参数： {'name': '豆哥', 'age': 25, 'love': '依依'}\n",
            "name = 豆哥\n",
            "age = 25\n",
            "love = 依依\n"
          ]
        }
      ],
      "source": [
        "def show_info(**kwargs):\n",
        "    print(\"收到的关键字参数：\", kwargs)\n",
        "    # 相当于把关键字参数打包成一个字典\n",
        "    for key, value in kwargs.items():\n",
        "        print(f\"{key} = {value}\")\n",
        "\n",
        "\n",
        "show_info(name=\"豆哥\", age=25, love=\"依依\")"
      ]
    },
    {
      "cell_type": "markdown",
      "id": "ba20580b",
      "metadata": {
        "id": "ba20580b"
      },
      "source": [
        "## 函数可以返回值\n",
        "\n",
        "**但只能返回 1 个**\n"
      ]
    },
    {
      "cell_type": "code",
      "execution_count": 6,
      "id": "8d29e9c2",
      "metadata": {
        "id": "8d29e9c2",
        "outputId": "c2113204-128c-4927-bf7f-65d3385128b5"
      },
      "outputs": [
        {
          "name": "stdout",
          "output_type": "stream",
          "text": [
            "The sum is: 8\n",
            "Hello World\n"
          ]
        }
      ],
      "source": [
        "# 函数可以返回值，也可以不返回值\n",
        "# 1. 返回值\n",
        "def add(x, y):\n",
        "    \"\"\"\n",
        "    计算两个数的和\n",
        "    :param x: 第一个数\n",
        "    :param y: 第二个数\n",
        "    :return: 两个数的和\n",
        "    \"\"\"\n",
        "    return x + y\n",
        "\n",
        "\n",
        "# 调用函数\n",
        "result = add(3, 5)\n",
        "print(\"The sum is:\", result)  # 输出: The sum is: 8\n",
        "\n",
        "\n",
        "# 2. 不返回值\n",
        "def print_hello():\n",
        "    \"\"\"\n",
        "    打印 Hello World\n",
        "    \"\"\"\n",
        "    print(\"Hello World\")\n",
        "\n",
        "\n",
        "print_hello()  # 输出: Hello World"
      ]
    },
    {
      "cell_type": "markdown",
      "id": "e5827ad3",
      "metadata": {
        "id": "e5827ad3"
      },
      "source": [
        "## 递归\n",
        "\n",
        "- 自身调用自身\n",
        "- 取到极限情况，再返回结果\n"
      ]
    },
    {
      "cell_type": "markdown",
      "id": "efc184c3",
      "metadata": {
        "id": "efc184c3"
      },
      "source": [
        "### 斐波那契数列 Fibonacci\n",
        "\n",
        "- $1,1,2,3,5,8,...$\n",
        "- 从数列第三个数开始，每个数都等于前两个数之和\n"
      ]
    },
    {
      "cell_type": "code",
      "execution_count": 7,
      "id": "8881bde7",
      "metadata": {
        "id": "8881bde7"
      },
      "outputs": [],
      "source": [
        "# 得到Fibonacci 数列第n项\n",
        "def fibonacci(n):\n",
        "    pass"
      ]
    },
    {
      "cell_type": "markdown",
      "id": "d66c0b5d",
      "metadata": {
        "id": "d66c0b5d"
      },
      "source": [
        "### **_汉诺塔（Tower of Hanoi）_**：\n",
        "\n",
        "- **场景**\n",
        "\n",
        "  有三根柱子，编号为 A、B、C。初始时，柱子 A 上有 N 个大小不一的盘子，从小到大依次叠放（最小的在最上面）。\n",
        "\n",
        "- **目标**\n",
        "\n",
        "  将所有盘子从柱子 A 移动到柱子 C\n",
        "\n",
        "- **规则**\n",
        "  1. 每次只能移动一个盘子\n",
        "  2. 无论是移动过程中，还是最后放置，都必须保证圈子摞起来时上面的圈子比下面的小\n",
        "  3. 可以借助柱子 B 作为中转\n"
      ]
    },
    {
      "cell_type": "code",
      "execution_count": null,
      "id": "9b8629c3",
      "metadata": {
        "id": "9b8629c3"
      },
      "outputs": [],
      "source": []
    },
    {
      "cell_type": "markdown",
      "id": "e6a49ad5",
      "metadata": {
        "id": "e6a49ad5"
      },
      "source": [
        "# 排序方法\n"
      ]
    },
    {
      "cell_type": "markdown",
      "id": "38c45c7b",
      "metadata": {
        "id": "38c45c7b"
      },
      "source": [
        "## 冒泡排序（Bubble Sort）\n",
        "\n",
        "- 思想：\n",
        "\n",
        "  1. 通过相邻元素比较和交换，把最大（或最小）的元素“冒泡”到数组的一端。\n",
        "  2. 每轮遍历都会把一个最大（或最小）的元素放在正确的位置。\n",
        "\n",
        "- 时间复杂度：\n",
        "\n",
        "  - 最坏/平均情况：$O(n^2)$\n",
        "  - 最好情况（已排序）：$O(n)$\n",
        "\n",
        "- 空间复杂度：\n",
        "\n",
        "  - $O(1)$（原地排序）\n",
        "\n",
        "- 稳定性：\n",
        "  - 稳定（相同元素的相对顺序不会改变）\n"
      ]
    },
    {
      "cell_type": "code",
      "execution_count": 8,
      "id": "d9b51d77",
      "metadata": {
        "id": "d9b51d77"
      },
      "outputs": [],
      "source": [
        "def bubble_sort(arr):\n",
        "    n = len(arr)\n",
        "    for i in range(n):\n",
        "        swapped = False\n",
        "        for j in range(n - 1 - i):  # 已排序部分不用再比较\n",
        "            if arr[j] > arr[j + 1]:\n",
        "                arr[j], arr[j + 1] = arr[j + 1], arr[j]  # 交换\n",
        "                swapped = True\n",
        "        if not swapped:  # 如果没有发生交换，说明已排序好\n",
        "            break\n",
        "    return arr"
      ]
    },
    {
      "cell_type": "markdown",
      "id": "0645462d",
      "metadata": {
        "id": "0645462d"
      },
      "source": [
        "## 选择排序（Selection Sort）\n",
        "\n",
        "- 思想：\n",
        "\n",
        "  -每次从未排序部分找到最小（或最大）元素，放到已排序部分的末尾。\n",
        "\n",
        "- 时间复杂度：\n",
        "\n",
        "  - $O(n^2)$（无论是否有序）\n",
        "\n",
        "- 空间复杂度：\n",
        "\n",
        "  - $O(1)$（原地排序）\n",
        "\n",
        "- 稳定性：\n",
        "  - 不稳定（相同元素的相对顺序可能会变）\n"
      ]
    },
    {
      "cell_type": "code",
      "execution_count": 9,
      "id": "fc47bd19",
      "metadata": {
        "id": "fc47bd19"
      },
      "outputs": [],
      "source": [
        "def selection_sort(arr):\n",
        "    n = len(arr)\n",
        "    for i in range(n):\n",
        "        min_index = i\n",
        "        for j in range(i + 1, n):\n",
        "            if arr[j] < arr[min_index]:\n",
        "                min_index = j\n",
        "        arr[i], arr[min_index] = arr[min_index], arr[i]  # 交换\n",
        "    return arr"
      ]
    },
    {
      "cell_type": "markdown",
      "id": "3e85deaf",
      "metadata": {
        "id": "3e85deaf"
      },
      "source": [
        "## 插入排序（Insertion Sort）\n",
        "\n",
        "- 思想：\n",
        "\n",
        "  - 通过构建有序序列，将每个新元素插入到正确的位置。\n",
        "\n",
        "- 时间复杂度：\n",
        "\n",
        "  - 最坏/平均情况：$O(n^2)$\n",
        "  - 最好情况（已排序）：$O(n)$\n",
        "\n",
        "- 空间复杂度：\n",
        "\n",
        "  - $O(1)$（原地排序）\n",
        "\n",
        "- 稳定性：\n",
        "\n",
        "  - 稳定（相同元素的相对顺序不会改变）\n"
      ]
    },
    {
      "cell_type": "code",
      "execution_count": 10,
      "id": "2f6e764f",
      "metadata": {
        "id": "2f6e764f"
      },
      "outputs": [],
      "source": [
        "def insertion_sort(arr):\n",
        "    n = len(arr)\n",
        "    for i in range(1, n):\n",
        "        key = arr[i]\n",
        "        j = i - 1\n",
        "        while j >= 0 and arr[j] > key:  # 找到合适位置\n",
        "            arr[j + 1] = arr[j]\n",
        "            j -= 1\n",
        "        arr[j + 1] = key  # 插入\n",
        "    return arr"
      ]
    },
    {
      "cell_type": "markdown",
      "id": "383dc921",
      "metadata": {
        "id": "383dc921"
      },
      "source": [
        "## 快速排序（Quick Sort）\n",
        "\n",
        "- 思想：\n",
        "\n",
        "  - 选择一个基准（pivot），把小于基准的元素放左边，大于基准的放右边，然后递归排序左右部分。\n",
        "\n",
        "- 时间复杂度：\n",
        "\n",
        "  - 最坏情况（已经有序时）：$O(n^2)$\n",
        "  - 平均情况：$O(n \\log n)$\n",
        "\n",
        "- 空间复杂度：\n",
        "\n",
        "  - $O(\\log n)$（递归栈）\n",
        "\n",
        "- 稳定性：\n",
        "\n",
        "  - 不稳定（元素可能跨区间交换）\n"
      ]
    },
    {
      "cell_type": "code",
      "execution_count": 11,
      "id": "adb0f88b",
      "metadata": {
        "id": "adb0f88b"
      },
      "outputs": [],
      "source": [
        "def quick_sort(arr):\n",
        "    if len(arr) <= 1:\n",
        "        return arr  # 递归终止\n",
        "    pivot = arr[len(arr) // 2]  # 选择中间元素作为基准\n",
        "    left = [x for x in arr if x < pivot]\n",
        "    middle = [x for x in arr if x == pivot]\n",
        "    right = [x for x in arr if x > pivot]\n",
        "    return quick_sort(left) + middle + quick_sort(right)"
      ]
    },
    {
      "cell_type": "markdown",
      "id": "2adb30a6",
      "metadata": {
        "id": "2adb30a6"
      },
      "source": [
        "## 归并排序（Merge Sort）\n",
        "\n",
        "- 思想：\n",
        "\n",
        "  - 递归地将数组拆分成两部分，分别排序后合并。\n",
        "\n",
        "- 时间复杂度：\n",
        "\n",
        "  - 最坏/平均/最好情况：$O(n \\log n)$\n",
        "\n",
        "- 空间复杂度：\n",
        "\n",
        "  - $O(n)$（需要额外存储合并后的数组）\n",
        "\n",
        "- 稳定性：\n",
        "\n",
        "  - 稳定（合并时不会打乱相同元素的顺序）\n"
      ]
    },
    {
      "cell_type": "code",
      "execution_count": 12,
      "id": "23eca3c6",
      "metadata": {
        "id": "23eca3c6"
      },
      "outputs": [],
      "source": [
        "def merge_sort(arr):\n",
        "    if len(arr) <= 1:\n",
        "        return arr\n",
        "    mid = len(arr) // 2\n",
        "    left = merge_sort(arr[:mid])\n",
        "    right = merge_sort(arr[mid:])\n",
        "\n",
        "    return merge(left, right)\n",
        "\n",
        "\n",
        "def merge(left, right):\n",
        "    result = []\n",
        "    i = j = 0\n",
        "    while i < len(left) and j < len(right):\n",
        "        if left[i] <= right[j]:  # 保持稳定性\n",
        "            result.append(left[i])\n",
        "            i += 1\n",
        "        else:\n",
        "            result.append(right[j])\n",
        "            j += 1\n",
        "    result.extend(left[i:])\n",
        "    result.extend(right[j:])\n",
        "    return result"
      ]
    },
    {
      "cell_type": "markdown",
      "id": "65e2c2c6",
      "metadata": {
        "id": "65e2c2c6"
      },
      "source": [
        "# 作业\n"
      ]
    },
    {
      "cell_type": "code",
      "execution_count": 13,
      "id": "41196b6c",
      "metadata": {},
      "outputs": [],
      "source": [
        "# Q1: 写一个函数，判断一个数是否为质数\n",
        "def is_prime(n):\n",
        "    pass"
      ]
    },
    {
      "cell_type": "markdown",
      "id": "fbb5e55d",
      "metadata": {
        "id": "fbb5e55d"
      },
      "source": [
        "我们需要将$m$个相同的苹果放入$n$个相同的盘子中，允许有的盘子空着不放。求解有多少种不同的分法。\n"
      ]
    },
    {
      "cell_type": "code",
      "execution_count": 14,
      "id": "91e9eeae",
      "metadata": {},
      "outputs": [],
      "source": [
        "def set_apples(m, n):\n",
        "    pass"
      ]
    },
    {
      "cell_type": "markdown",
      "id": "0caee0df",
      "metadata": {
        "id": "0caee0df"
      },
      "source": []
    }
  ],
  "metadata": {
    "colab": {
      "include_colab_link": true,
      "provenance": []
    },
    "kernelspec": {
      "display_name": ".venv",
      "language": "python",
      "name": "python3"
    },
    "language_info": {
      "codemirror_mode": {
        "name": "ipython",
        "version": 3
      },
      "file_extension": ".py",
      "mimetype": "text/x-python",
      "name": "python",
      "nbconvert_exporter": "python",
      "pygments_lexer": "ipython3",
      "version": "3.12.7"
    }
  },
  "nbformat": 4,
  "nbformat_minor": 5
}
