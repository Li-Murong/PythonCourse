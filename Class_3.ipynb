{
 "cells": [
  {
   "cell_type": "markdown",
   "metadata": {},
   "source": [
    "# 高效工具\n",
    "- Collections\n",
    "  - defaultdict\n",
    "  - counter\n",
    "  - deque\n",
    "\n",
    "- itertools\n",
    "  - product\n",
    "  - permutations\n",
    "  - combinations\n",
    "  - groupby\n",
    "\n",
    "- functools\n",
    "  - lru_cache\n",
    "  - partial\n",
    "  \n",
    "- heapq\n",
    "- bisect"
   ]
  },
  {
   "cell_type": "markdown",
   "metadata": {},
   "source": []
  }
 ],
 "metadata": {
  "language_info": {
   "name": "python"
  }
 },
 "nbformat": 4,
 "nbformat_minor": 2
}
