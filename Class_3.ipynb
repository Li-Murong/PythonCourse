{
 "cells": [
  {
   "cell_type": "markdown",
   "metadata": {},
   "source": [
    "# 高效工具\n"
   ]
  },
  {
   "cell_type": "markdown",
   "metadata": {},
   "source": [
    "## collections\n"
   ]
  },
  {
   "cell_type": "markdown",
   "metadata": {},
   "source": [
    "### defaultdict 快速定义字典类型\n"
   ]
  },
  {
   "cell_type": "markdown",
   "metadata": {},
   "source": [
    "#### 字典与整数的结合：defaultdict(int)\n"
   ]
  },
  {
   "cell_type": "code",
   "execution_count": 1,
   "metadata": {},
   "outputs": [
    {
     "name": "stdout",
     "output_type": "stream",
     "text": [
      "{'c': 2, 'a': 3, 'b': 3}\n",
      "{'a': 3, 'b': 3, 'c': 2}\n"
     ]
    }
   ],
   "source": [
    "# 依依课堂实践\n",
    "# Question: 统计字符串中每个字母出现的次数\n",
    "ls = [\"a\", \"b\", \"a\", \"b\", \"c\", \"a\", \"b\", \"c\"]\n",
    "ls1 = []  # 创建一个空列表，占空间了\n",
    "set1 = set(ls)  # 创建一个集合，去重，但是也是重复了，去重也消耗资源\n",
    "for i in set1:\n",
    "    n = ls.count(i)  # 统计每个字母出现的次数也是把列表遍历了一遍\n",
    "    ls1.append(n)\n",
    "a = dict(zip(set1, ls1))\n",
    "print(a)\n",
    "# 上面的思路是：先遍历一遍去重，然后再遍历字母数量那么多次来统计其出现次数，最后把结果放到字典中\n",
    "# 以上代码的时间复杂度是O(n^2)，空间复杂度是O(n)\n",
    "# 优化代码：只把列表遍历一遍就统计出来每个字母出现的次数\n",
    "dict1 = dict()\n",
    "for i in ls:\n",
    "    if i not in dict1:  # 每次都需要判断是否在字典中，需要手动添加\n",
    "        dict1[i] = 1\n",
    "    else:\n",
    "        dict1[i] += 1\n",
    "print(dict1)"
   ]
  },
  {
   "cell_type": "markdown",
   "metadata": {},
   "source": [
    "defaultdict 可以快速定义字典的值的类型：**int**, **list**, **set**\n",
    "\n",
    "它还提供一个功能，如果新的键不在字典里，会为你自动生成一个**新的键值对**{}：\n",
    "\n",
    "- 如果值的类型是 int，则默认 dict['new_key'] = 0\n",
    "- 如果值的类型是 list，则默认 dict['new_key'] = []\n",
    "- 如果值的类型是 set，则默认 dict['new_key'] = {}\n"
   ]
  },
  {
   "cell_type": "code",
   "execution_count": 2,
   "metadata": {},
   "outputs": [
    {
     "data": {
      "text/plain": [
       "defaultdict(int, {'a': 3, 'b': 3, 'c': 2})"
      ]
     },
     "execution_count": 2,
     "metadata": {},
     "output_type": "execute_result"
    }
   ],
   "source": [
    "import collections  # 导入collections模块\n",
    "\n",
    "di = collections.defaultdict(\n",
    "    int\n",
    ")  # 从collections模块中导入defaultdict类，并指定默认值的类型为int\n",
    "ls = [\"a\", \"b\", \"a\", \"b\", \"c\", \"a\", \"b\", \"c\"]  # 定义一个列表\n",
    "for i in ls:  # 遍历列表中的每个元素\n",
    "    di[i] += 1  # 将每个元素的值加1\n",
    "di  # 打印结果"
   ]
  },
  {
   "cell_type": "code",
   "execution_count": 3,
   "metadata": {},
   "outputs": [
    {
     "data": {
      "text/plain": [
       "defaultdict(int, {'a': 3, 'b': 3, 'c': 2})"
      ]
     },
     "execution_count": 3,
     "metadata": {},
     "output_type": "execute_result"
    }
   ],
   "source": [
    "# 从collections模块中导入defaultdict类，这样子可以直接使用defaultdict，省略collections前缀\n",
    "from collections import defaultdict\n",
    "\n",
    "di1 = defaultdict(int)  # 创建一个defaultdict对象，默认值为int类型\n",
    "for i in ls:  # 遍历列表中的每个元素\n",
    "    di1[i] += 1  # 将每个元素的值加1\n",
    "di1  # 打印结果"
   ]
  },
  {
   "cell_type": "code",
   "execution_count": 4,
   "metadata": {},
   "outputs": [
    {
     "name": "stdout",
     "output_type": "stream",
     "text": [
      "defaultdict(<class 'list'>, {'一班': ['张三', '王五'], '二班': ['李四', '钱七'], '三班': ['赵六', '孙八']})\n",
      "defaultdict(<class 'list'>, {'一班': ['张三', '王五'], '二班': ['李四', '钱七'], '三班': ['赵六', '孙八']})\n"
     ]
    }
   ],
   "source": [
    "# 课堂实践\n",
    "# 用defauldict来实现，往不同的班级中添加不同的学生\n",
    "students = [\n",
    "    (\"张三\", \"一班\"),\n",
    "    (\"李四\", \"二班\"),\n",
    "    (\"王五\", \"一班\"),\n",
    "    (\"赵六\", \"三班\"),\n",
    "    (\"钱七\", \"二班\"),\n",
    "    (\"孙八\", \"三班\"),\n",
    "]\n",
    "from collections import defaultdict\n",
    "\n",
    "dt1 = defaultdict(list)\n",
    "for i in students:  # 遍历列表中的元组\n",
    "    # 依依写的：\n",
    "    # name = list(i)  # 将元祖变为列表\n",
    "    # dt1[name[1]].append(name[0])  # 把班级作为key，人名作为value\n",
    "\n",
    "    # 豆哥改进的：\n",
    "    dt1[i[1]].append(i[0])  # 把班级作为key，人名加入value\n",
    "print(dt1)  # 打印结果\n",
    "\n",
    "# 参考答案\n",
    "dt2 = defaultdict(list)\n",
    "for name, class_name in students:\n",
    "    dt2[class_name].append(name)\n",
    "print(dt2)"
   ]
  },
  {
   "cell_type": "markdown",
   "metadata": {},
   "source": [
    "#### 字典与列表的结合：defaultdict(list)\n"
   ]
  },
  {
   "cell_type": "code",
   "execution_count": 5,
   "metadata": {},
   "outputs": [
    {
     "data": {
      "text/plain": [
       "defaultdict(list, {'a': [1, 3], 'b': [2, 4], 'c': [5]})"
      ]
     },
     "execution_count": 5,
     "metadata": {},
     "output_type": "execute_result"
    }
   ],
   "source": [
    "dl = defaultdict(list)  # 创建一个defaultdict对象，默认值为list类型\n",
    "key_value = [(\"a\", 1), (\"b\", 2), (\"a\", 3), (\"b\", 4), (\"c\", 5)]  # 定义一个包含元组的列表\n",
    "\n",
    "for key, value in key_value:  # 遍历列表中的每个元组\n",
    "    dl[key].append(value)  # 将元组的第二个元素添加到字典中对应键的列表中\n",
    "dl  # 打印结果"
   ]
  },
  {
   "cell_type": "code",
   "execution_count": 6,
   "metadata": {},
   "outputs": [
    {
     "name": "stdout",
     "output_type": "stream",
     "text": [
      "defaultdict(<class 'list'>, {'一班': ['一等奖', '二等奖'], '二班': ['二等奖', '一等奖'], '三班': ['一等奖', '二等奖']})\n",
      "defaultdict(<class 'set'>, {'一班': {'一等奖', '二等奖'}, '二班': {'二等奖', '一等奖'}, '三班': {'一等奖', '二等奖'}})\n"
     ]
    }
   ],
   "source": [
    "# 课堂实践\n",
    "# 用defaultdict来实现，统计每个班级获得过的奖励，不同年份的奖励算同样的\n",
    "awards = [\n",
    "    (\"一班\", \"一等奖\", 2022),\n",
    "    (\"二班\", \"二等奖\", 2022),\n",
    "    (\"三班\", \"一等奖\", 2023),\n",
    "    (\"一班\", \"二等奖\", 2023),\n",
    "    (\"二班\", \"一等奖\", 2023),\n",
    "    (\"三班\", \"二等奖\", 2024),\n",
    "    (\"一班\", \"一等奖\", 2024),\n",
    "    (\"二班\", \"二等奖\", 2024),\n",
    "    (\"三班\", \"一等奖\", 2025),\n",
    "    (\"一班\", \"二等奖\", 2025),\n",
    "    (\"二班\", \"一等奖\", 2025),\n",
    "    (\"三班\", \"二等奖\", 2025),\n",
    "]\n",
    "from collections import defaultdict\n",
    "\n",
    "dt1 = defaultdict(list)\n",
    "for class_name, award, year in awards:\n",
    "    if award not in dt1[class_name]:\n",
    "        dt1[class_name].append(award)\n",
    "print(dt1)\n",
    "\n",
    "# 参考答案\n",
    "dt2 = defaultdict(set)\n",
    "for class_name, award, year in awards:\n",
    "    dt2[class_name].add(award)\n",
    "print(dt2)"
   ]
  },
  {
   "cell_type": "markdown",
   "metadata": {},
   "source": [
    "#### 字典与集合的结合：defaultdict(set)\n"
   ]
  },
  {
   "cell_type": "code",
   "execution_count": 7,
   "metadata": {},
   "outputs": [
    {
     "data": {
      "text/plain": [
       "defaultdict(set, {'a': {1, 3}, 'b': {2, 4}, 'c': {5}})"
      ]
     },
     "execution_count": 7,
     "metadata": {},
     "output_type": "execute_result"
    }
   ],
   "source": [
    "ds = defaultdict(set)  # 创建一个defaultdict对象，默认值为set类型\n",
    "key_value = [(\"a\", 1), (\"b\", 2), (\"a\", 3), (\"b\", 4), (\"c\", 5)]  # 定义一个包含元组的列表\n",
    "\n",
    "for key, value in key_value:  # 遍历列表中的每个元组\n",
    "    ds[key].add(value)  # 将元组的第二个元素添加到字典中对应键的集合中\n",
    "ds  # 打印结果"
   ]
  },
  {
   "cell_type": "markdown",
   "metadata": {},
   "source": [
    "### counter 计数器\n"
   ]
  },
  {
   "cell_type": "code",
   "execution_count": 8,
   "metadata": {},
   "outputs": [
    {
     "data": {
      "text/plain": [
       "Counter({'a': 3, 'b': 3, 'c': 3, 'e': 2, 'd': 1})"
      ]
     },
     "execution_count": 8,
     "metadata": {},
     "output_type": "execute_result"
    }
   ],
   "source": [
    "from collections import Counter  # 从collections模块中导入Counter类\n",
    "\n",
    "# Counter是一个字典子类，用于计数可哈希对象。可哈希对象是指具有固定哈希值的对象，通常是不可变对象，例如字符串、数字和元组。\n",
    "string = \"abcaabbccdee\"  # 定义一个字符串\n",
    "counter = Counter(string)  # 创建一个Counter对象，统计字符串中每个字符的出现次数\n",
    "# 大写C\n",
    "counter  # 打印结果"
   ]
  },
  {
   "cell_type": "code",
   "execution_count": 9,
   "metadata": {},
   "outputs": [
    {
     "name": "stdout",
     "output_type": "stream",
     "text": [
      "[('a', 3), ('b', 3)]\n",
      "[('a', 3), ('b', 3), ('c', 3), ('e', 2), ('d', 1)]\n",
      "dict_keys(['a', 'b', 'c', 'd', 'e'])\n",
      "dict_values([3, 3, 3, 1, 2])\n",
      "dict_items([('a', 3), ('b', 3), ('c', 3), ('d', 1), ('e', 2)])\n",
      "3\n",
      "0\n"
     ]
    }
   ],
   "source": [
    "print(counter.most_common(2))  # 打印出现次数最多的两个字符及其次数\n",
    "print(counter.most_common())  # 打印所有字符及其出现次数\n",
    "print(counter.keys())  # 打印所有字符\n",
    "print(counter.values())  # 打印所有字符的出现次数\n",
    "print(counter.items())  # 打印所有字符及其出现次数的元组\n",
    "print(counter[\"a\"])  # 打印字符'a'的出现次数\n",
    "print(counter[\"z\"])  # 打印字符'z'的出现次数，如果不存在则返回0"
   ]
  },
  {
   "cell_type": "code",
   "execution_count": 10,
   "metadata": {},
   "outputs": [
    {
     "name": "stdout",
     "output_type": "stream",
     "text": [
      "Counter({'a': 3, 'b': 3})\n"
     ]
    }
   ],
   "source": [
    "# Counter对象的加法操作\n",
    "counter1 = Counter(a=1, b=2)  # 创建一个Counter对象\n",
    "counter2 = Counter(a=2, b=1)  # 创建另一个Counter对象\n",
    "counter3 = counter1 + counter2  # 将两个Counter对象相加\n",
    "print(counter3)  # 打印结果"
   ]
  },
  {
   "cell_type": "markdown",
   "metadata": {},
   "source": [
    "### deque\n"
   ]
  },
  {
   "cell_type": "markdown",
   "metadata": {},
   "source": [
    "- queue 队列\n",
    "  1. 先进先出 First In First Out (FIFO)\n",
    "  2. 入队 Enque\n",
    "  3. 出队 Deque\n",
    "- stack 栈\n",
    "  1. 后进先出 Last In First Out (LIFO)\n",
    "  2. 入栈 Push\n",
    "  3. 出栈 Pop\n"
   ]
  },
  {
   "cell_type": "code",
   "execution_count": 11,
   "metadata": {},
   "outputs": [
    {
     "data": {
      "text/plain": [
       "deque([1, 2])"
      ]
     },
     "execution_count": 11,
     "metadata": {},
     "output_type": "execute_result"
    }
   ],
   "source": [
    "from collections import deque  # 从collections模块中导入deque类\n",
    "\n",
    "# deque是一个双端队列，可以在两端高效地添加和删除元素\n",
    "dq = deque()  # 创建一个空的deque对象\n",
    "dq.append(1)  # 在队列的右端添加元素1\n",
    "dq.append(2)  # 在队列的右端添加元素2\n",
    "dq  # 打印结果"
   ]
  },
  {
   "cell_type": "code",
   "execution_count": 12,
   "metadata": {},
   "outputs": [
    {
     "data": {
      "text/plain": [
       "deque([0, 1, 2])"
      ]
     },
     "execution_count": 12,
     "metadata": {},
     "output_type": "execute_result"
    }
   ],
   "source": [
    "dq.appendleft(0)  # 在队列的左端添加元素0\n",
    "dq  # 打印结果"
   ]
  },
  {
   "cell_type": "code",
   "execution_count": 13,
   "metadata": {},
   "outputs": [
    {
     "data": {
      "text/plain": [
       "deque([0, 1])"
      ]
     },
     "execution_count": 13,
     "metadata": {},
     "output_type": "execute_result"
    }
   ],
   "source": [
    "dq.pop()  # 从队列的右端删除元素\n",
    "dq  # 打印结果"
   ]
  },
  {
   "cell_type": "code",
   "execution_count": 14,
   "metadata": {},
   "outputs": [
    {
     "data": {
      "text/plain": [
       "deque([1])"
      ]
     },
     "execution_count": 14,
     "metadata": {},
     "output_type": "execute_result"
    }
   ],
   "source": [
    "dq.popleft()  # 从队列的左端删除元素\n",
    "dq  # 打印结果"
   ]
  },
  {
   "cell_type": "code",
   "execution_count": 15,
   "metadata": {},
   "outputs": [
    {
     "data": {
      "text/plain": [
       "deque([-2, -1, 0, 1, 2, 3, 4, 5])"
      ]
     },
     "execution_count": 15,
     "metadata": {},
     "output_type": "execute_result"
    }
   ],
   "source": [
    "dq.extend([2, 3, 4, 5])  # 在队列的右端添加多个元素\n",
    "dq.extendleft([0, -1, -2])  # 在队列的左端添加多个元素，注意添加顺序是反向的\n",
    "dq  # 打印结果"
   ]
  },
  {
   "cell_type": "code",
   "execution_count": 16,
   "metadata": {},
   "outputs": [
    {
     "data": {
      "text/plain": [
       "deque([4, 5, -2, -1, 0, 1, 2, 3])"
      ]
     },
     "execution_count": 16,
     "metadata": {},
     "output_type": "execute_result"
    }
   ],
   "source": [
    "dq.rotate(2)  # 将队列中的元素向右旋转2个位置\n",
    "dq  # 打印结果"
   ]
  },
  {
   "cell_type": "code",
   "execution_count": 17,
   "metadata": {},
   "outputs": [
    {
     "data": {
      "text/plain": [
       "deque([-2, -1, 0, 1, 2, 3, 4, 5])"
      ]
     },
     "execution_count": 17,
     "metadata": {},
     "output_type": "execute_result"
    }
   ],
   "source": [
    "dq.rotate(-2)  # 将队列中的元素向左旋转2个位置\n",
    "dq  # 打印结果"
   ]
  },
  {
   "cell_type": "code",
   "execution_count": 18,
   "metadata": {},
   "outputs": [
    {
     "name": "stdout",
     "output_type": "stream",
     "text": [
      "7\n",
      "1\n"
     ]
    }
   ],
   "source": [
    "# deque对象的索引操作\n",
    "print(dq.index(5))  # 打印元素5的索引\n",
    "print(dq.count(3))  # 打印元素3的出现次数"
   ]
  },
  {
   "cell_type": "code",
   "execution_count": 19,
   "metadata": {},
   "outputs": [
    {
     "data": {
      "text/plain": [
       "deque([5, 4, 3, 2, 1, 0, -1, -2])"
      ]
     },
     "execution_count": 19,
     "metadata": {},
     "output_type": "execute_result"
    }
   ],
   "source": [
    "# deque对象的反转操作\n",
    "dq.reverse()  # 反转deque对象\n",
    "dq  # 打印结果"
   ]
  },
  {
   "cell_type": "markdown",
   "metadata": {},
   "source": [
    "## itertools 迭代工具\n"
   ]
  },
  {
   "cell_type": "code",
   "execution_count": 20,
   "metadata": {},
   "outputs": [],
   "source": [
    "from itertools import product, permutations, combinations, cycle, accumulate, groupby"
   ]
  },
  {
   "cell_type": "markdown",
   "metadata": {},
   "source": [
    "### product 笛卡尔积\n"
   ]
  },
  {
   "cell_type": "code",
   "execution_count": 21,
   "metadata": {},
   "outputs": [
    {
     "name": "stdout",
     "output_type": "stream",
     "text": [
      "[(1, 'a'), (1, 'b'), (2, 'a'), (2, 'b'), (3, 'a'), (3, 'b')]\n"
     ]
    }
   ],
   "source": [
    "print(\n",
    "    list(product([1, 2, 3], [\"a\", \"b\"]))\n",
    ")  # [(1, 'a'), (1, 'b'), (2, 'a'), (2, 'b'), (3, 'a'), (3, 'b')]"
   ]
  },
  {
   "cell_type": "markdown",
   "metadata": {},
   "source": [
    "### permutations 全排列\n"
   ]
  },
  {
   "cell_type": "code",
   "execution_count": 22,
   "metadata": {},
   "outputs": [
    {
     "name": "stdout",
     "output_type": "stream",
     "text": [
      "[(1, 2), (1, 3), (2, 1), (2, 3), (3, 1), (3, 2)]\n",
      "[('a', 'b', 'c'), ('a', 'b', 'd'), ('a', 'c', 'b'), ('a', 'c', 'd'), ('a', 'd', 'b'), ('a', 'd', 'c'), ('b', 'a', 'c'), ('b', 'a', 'd'), ('b', 'c', 'a'), ('b', 'c', 'd'), ('b', 'd', 'a'), ('b', 'd', 'c'), ('c', 'a', 'b'), ('c', 'a', 'd'), ('c', 'b', 'a'), ('c', 'b', 'd'), ('c', 'd', 'a'), ('c', 'd', 'b'), ('d', 'a', 'b'), ('d', 'a', 'c'), ('d', 'b', 'a'), ('d', 'b', 'c'), ('d', 'c', 'a'), ('d', 'c', 'b')]\n",
      "<itertools.permutations object at 0x107dd62f0>\n"
     ]
    }
   ],
   "source": [
    "# 返回所有可能的排列\n",
    "print(list(permutations([1, 2, 3], 2)))  # [(1, 2), (1, 3), (2, 1), ...]\n",
    "string = \"abcd\"\n",
    "print(\n",
    "    list(permutations(string, 3))\n",
    ")  # [('a', 'b', 'c'), ('a', 'b', 'd'), ('a', 'c', 'b'), ...]\n",
    "print(\n",
    "    permutations(string, 2)\n",
    ")  # 返回所有可能的排列，返回的是一个迭代器，里面的元素是元组\n",
    "# 返回的是一个迭代器，里面的元素是元组\n",
    "# 要想要返回列表，可以用list()函数转换"
   ]
  },
  {
   "cell_type": "markdown",
   "metadata": {},
   "source": [
    "### combinations 组合\n"
   ]
  },
  {
   "cell_type": "code",
   "execution_count": 23,
   "metadata": {},
   "outputs": [
    {
     "name": "stdout",
     "output_type": "stream",
     "text": [
      "[(1, 2), (1, 3), (2, 3)]\n",
      "[('a', 'b', 'c'), ('a', 'b', 'd'), ('a', 'c', 'd'), ('b', 'c', 'd')]\n",
      "<itertools.combinations object at 0x107d949a0>\n"
     ]
    }
   ],
   "source": [
    "print(list(combinations([1, 2, 3], 2)))  # [(1, 2), (1, 3), (2, 3)]\n",
    "string = \"abcd\"\n",
    "print(list(combinations(string, 3)))\n",
    "print(combinations(string, 2))"
   ]
  },
  {
   "cell_type": "markdown",
   "metadata": {},
   "source": [
    "### cycle 无限循环\n"
   ]
  },
  {
   "cell_type": "code",
   "execution_count": 24,
   "metadata": {},
   "outputs": [
    {
     "name": "stdout",
     "output_type": "stream",
     "text": [
      "1 2 1 2\n"
     ]
    }
   ],
   "source": [
    "cycle_list = cycle([1, 2])\n",
    "print(next(cycle_list), next(cycle_list), next(cycle_list), next(cycle_list))\n",
    "# 无限循环\n",
    "# 每当调用next()函数时，都会返回下一个元素\n",
    "# 直到循环结束"
   ]
  },
  {
   "cell_type": "markdown",
   "metadata": {},
   "source": [
    "### accumulate 累积求和\n"
   ]
  },
  {
   "cell_type": "code",
   "execution_count": 25,
   "metadata": {},
   "outputs": [
    {
     "name": "stdout",
     "output_type": "stream",
     "text": [
      "[1, 3, 6, 10]\n"
     ]
    }
   ],
   "source": [
    "print(list(accumulate([1, 2, 3, 4])))  # [1, 3, 6, 10]"
   ]
  },
  {
   "cell_type": "markdown",
   "metadata": {},
   "source": [
    "### 匿名函数 lambda 函数\n",
    "\n",
    "lambda 参数: 表达式 / lambda arguments: expression\n",
    "\n",
    "lambda 函数可以有多个参数，参数之间用逗号隔开。但只能有一个表达式，表达式描述了想要的操作\n"
   ]
  },
  {
   "cell_type": "code",
   "execution_count": 26,
   "metadata": {},
   "outputs": [
    {
     "name": "stdout",
     "output_type": "stream",
     "text": [
      "[[5, 6], [3, 4], [1, 2]]\n",
      "[(2, 1), (4, 3), (6, 5)]\n",
      "[((1, 2), [1, 2]), ((3, 4), [3, 4]), ((5, 6), [5, 6])]\n",
      "[(1, 2), (3, 4, 5), (6, 7, 8)]\n"
     ]
    }
   ],
   "source": [
    "pairs = [[1, 2], [3, 4], [5, 6]]\n",
    "\n",
    "# lambda函数可以用于对列表进行排序，按照第二个元素大小降序排序\n",
    "sorted_pairs = sorted(pairs, key=lambda x: x[1], reverse=True)  # 按照第二个元素排序\n",
    "print(sorted_pairs)  # 打印结果\n",
    "\n",
    "pairs_1 = [(1, 2), (3, 4), (5, 6)]\n",
    "# 我要把列表中的每个元素的顺序反过来\n",
    "reversed_pairs = list(map(lambda x: (x[1], x[0]), pairs_1))\n",
    "\n",
    "# 这里的x和y是两个不同的变量，分别代表列表中的两个元素\n",
    "print(reversed_pairs)  # 打印结果\n",
    "\n",
    "# 把两个列表中的元素反过来配对\n",
    "reversed_pairs_2 = list(\n",
    "    map(lambda x, y: (y, x), pairs, pairs_1)\n",
    ")  # 这里的x和y是两个不同的变量，分别代表列表中的两个元素。x是pairs中的元素，y是pairs_1中的元素\n",
    "print(reversed_pairs_2)  # 打印结果\n",
    "\n",
    "\n",
    "pairs_2 = [(1, 2), (3, 4, 5), (6, 7, 8)]\n",
    "# 给列表中的元素长度排序\n",
    "sorted_pairs_2 = sorted(pairs_2, key=lambda x: len(x))\n",
    "print(sorted_pairs_2)  # 打印结果"
   ]
  },
  {
   "cell_type": "markdown",
   "metadata": {},
   "source": [
    "### groupby 分组\n",
    "\n",
    "1. 检查相邻元素\n",
    "2. 当键值变化时，创建一个新组\n",
    "3. 如果相同键值的元素不连续，会被分成不同组\n"
   ]
  },
  {
   "cell_type": "code",
   "execution_count": 27,
   "metadata": {},
   "outputs": [
    {
     "name": "stdout",
     "output_type": "stream",
     "text": [
      "[{'name': 'Bob', 'age': 25}, {'name': 'Eve', 'age': 25}, {'name': 'Charlie', 'age': 26}, {'name': 'Alice', 'age': 30}, {'name': 'David', 'age': 30}]\n",
      "<itertools.groupby object at 0x107d513c0>\n",
      "25 [{'name': 'Bob', 'age': 25}, {'name': 'Eve', 'age': 25}]\n",
      "26 [{'name': 'Charlie', 'age': 26}]\n",
      "30 [{'name': 'Alice', 'age': 30}, {'name': 'David', 'age': 30}]\n"
     ]
    }
   ],
   "source": [
    "data = [\n",
    "    {\"name\": \"Alice\", \"age\": 30},\n",
    "    {\"name\": \"Bob\", \"age\": 25},\n",
    "    {\"name\": \"Charlie\", \"age\": 26},\n",
    "    {\"name\": \"David\", \"age\": 30},\n",
    "    {\"name\": \"Eve\", \"age\": 25},\n",
    "]\n",
    "# grouped = groupby(sorted(data, key=lambda x: x[\"age\"]), key=lambda x: x[\"age\"])\n",
    "data_sorted = sorted(data, key=lambda x: x[\"age\"])  # 按照年龄排序\n",
    "print(data_sorted)\n",
    "\n",
    "grouped = groupby(data_sorted, key=lambda x: x[\"age\"])  # 按照年龄分组\n",
    "print(grouped)  # 打印结果\n",
    "# groupby返回的是一个迭代器，里面的元素是元组，元组的第一个元素是key，第二个元素是一个迭代器\n",
    "for k, v in grouped:\n",
    "    print(k, list(v))"
   ]
  },
  {
   "cell_type": "code",
   "execution_count": 28,
   "metadata": {},
   "outputs": [
    {
     "name": "stdout",
     "output_type": "stream",
     "text": [
      "Doctor [{'name': 'Bob', 'job': 'Doctor'}, {'name': 'Eve', 'job': 'Doctor'}]\n",
      "Engineer [{'name': 'Alice', 'job': 'Engineer'}, {'name': 'Charlie', 'job': 'Engineer'}]\n",
      "Teacher [{'name': 'David', 'job': 'Teacher'}]\n"
     ]
    }
   ],
   "source": [
    "# 课堂实践\n",
    "# 用groupby实现，对职业进行分组\n",
    "people = [\n",
    "    {\"name\": \"Alice\", \"job\": \"Engineer\"},\n",
    "    {\"name\": \"Bob\", \"job\": \"Doctor\"},\n",
    "    {\"name\": \"Charlie\", \"job\": \"Engineer\"},\n",
    "    {\"name\": \"David\", \"job\": \"Teacher\"},\n",
    "    {\"name\": \"Eve\", \"job\": \"Doctor\"},\n",
    "]\n",
    "grouped1 = groupby(sorted(people, key=lambda x: x[\"job\"]), key=lambda x: x[\"job\"])\n",
    "for k, v in grouped1:\n",
    "    print(k, list(v))"
   ]
  },
  {
   "cell_type": "code",
   "execution_count": 29,
   "metadata": {},
   "outputs": [
    {
     "name": "stdout",
     "output_type": "stream",
     "text": [
      "2:[1, 2],[13, 14]\n",
      "3:[3, 4, 5],[6, 7, 8]\n",
      "4:[9, 10, 11, 12]\n"
     ]
    }
   ],
   "source": [
    "# 对列表长度进行分组\n",
    "# 按照格式输出，“长度：元素1，元素2，...”，元素依次输出\n",
    "lists = [[1, 2], [3, 4, 5], [6, 7, 8], [9, 10, 11, 12], [13, 14]]\n",
    "grouped2 = groupby(sorted(lists, key=lambda x: len(x)), key=lambda x: len(x))\n",
    "for k, v in grouped2:\n",
    "    # s = \"\"\n",
    "    # for ls in v:\n",
    "    #     s += str(ls) + \",\"\n",
    "    # s = s[:-1]  # 去掉最后一个逗号\n",
    "    # print(f\"{k}:{s}\")\n",
    "    print(f'{k}:{\",\".join(map(str, v))}')"
   ]
  },
  {
   "cell_type": "markdown",
   "metadata": {},
   "source": [
    "## heapq 堆\n"
   ]
  },
  {
   "cell_type": "code",
   "execution_count": 30,
   "metadata": {},
   "outputs": [
    {
     "name": "stdout",
     "output_type": "stream",
     "text": [
      "[10]\n",
      "[10, 20]\n",
      "[5, 20, 10]\n",
      "[1, 5, 10, 20]\n"
     ]
    }
   ],
   "source": [
    "from heapq import heappush, heappop, heapify  # 从heapq模块中导入相关函数\n",
    "\n",
    "# 堆是一个特殊的树形数据结构，通常用于实现优先队列\n",
    "# 堆的实现\n",
    "heap = []\n",
    "heappush(heap, 10)\n",
    "print(heap)  # 打印堆的内容\n",
    "heappush(heap, 20)\n",
    "print(heap)  # 打印堆的内容\n",
    "heappush(heap, 5)\n",
    "print(heap)  # 打印堆的内容\n",
    "heappush(heap, 1)\n",
    "print(heap)  # 打印堆的内容"
   ]
  },
  {
   "cell_type": "markdown",
   "metadata": {},
   "source": [
    "## bisect 二分查找\n"
   ]
  },
  {
   "cell_type": "markdown",
   "metadata": {},
   "source": [
    "## math, statistics 数学工具\n"
   ]
  },
  {
   "cell_type": "code",
   "execution_count": 31,
   "metadata": {},
   "outputs": [
    {
     "name": "stdout",
     "output_type": "stream",
     "text": [
      "6\n",
      "120\n",
      "3\n",
      "10\n",
      "6\n"
     ]
    }
   ],
   "source": [
    "import math\n",
    "import statistics\n",
    "\n",
    "print(math.gcd(48, 18))  # 6\n",
    "print(math.factorial(5))  # 120\n",
    "print(math.isqrt(10))  # 3\n",
    "print(math.comb(5, 2))  # 10  (5 选 2 组合)\n",
    "print(statistics.median([1, 3, 3, 6, 7, 8, 9]))  # 6"
   ]
  },
  {
   "cell_type": "markdown",
   "metadata": {},
   "source": [
    "## pandas 数据表格\n"
   ]
  },
  {
   "cell_type": "code",
   "execution_count": null,
   "metadata": {},
   "outputs": [],
   "source": []
  },
  {
   "cell_type": "markdown",
   "metadata": {},
   "source": [
    "## re, textwrap 字符串处理\n"
   ]
  },
  {
   "cell_type": "code",
   "execution_count": 32,
   "metadata": {},
   "outputs": [
    {
     "name": "stdout",
     "output_type": "stream",
     "text": [
      "['123', '456']\n",
      "hello X world X\n",
      "This is a\n",
      "very long\n",
      "sentence\n",
      "that needs\n",
      "wrapping.\n"
     ]
    }
   ],
   "source": [
    "import re\n",
    "import textwrap\n",
    "\n",
    "text = \"hello 123 world 456\"\n",
    "print(re.findall(r\"\\d+\", text))  # ['123', '456']\n",
    "print(re.sub(r\"\\d+\", \"X\", text))  # 'hello X world X'\n",
    "\n",
    "wrapped_text = textwrap.wrap(\n",
    "    \"This is a very long sentence that needs wrapping.\", width=10\n",
    ")\n",
    "print(\"\\n\".join(wrapped_text))  # 自动换行"
   ]
  },
  {
   "cell_type": "markdown",
   "metadata": {},
   "source": []
  }
 ],
 "metadata": {
  "kernelspec": {
   "display_name": ".venv",
   "language": "python",
   "name": "python3"
  },
  "language_info": {
   "codemirror_mode": {
    "name": "ipython",
    "version": 3
   },
   "file_extension": ".py",
   "mimetype": "text/x-python",
   "name": "python",
   "nbconvert_exporter": "python",
   "pygments_lexer": "ipython3",
   "version": "3.12.7"
  }
 },
 "nbformat": 4,
 "nbformat_minor": 2
}
