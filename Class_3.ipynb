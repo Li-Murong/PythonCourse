{
 "cells": [
  {
   "cell_type": "markdown",
   "metadata": {
    "colab_type": "text",
    "id": "view-in-github"
   },
   "source": [
    "<a href=\"https://colab.research.google.com/github/Li-Murong/PythonCourse/blob/main/Class_3.ipynb\" target=\"_parent\"><img src=\"https://colab.research.google.com/assets/colab-badge.svg\" alt=\"Open In Colab\"/></a>\n"
   ]
  },
  {
   "cell_type": "markdown",
   "metadata": {
    "id": "XO_HQN43RfTS"
   },
   "source": [
    "# 高效工具\n"
   ]
  },
  {
   "cell_type": "markdown",
   "metadata": {
    "id": "s1YQAPMpRfTS"
   },
   "source": [
    "## collections\n"
   ]
  },
  {
   "cell_type": "markdown",
   "metadata": {
    "id": "Dw3Wnw4iRfTS"
   },
   "source": [
    "### defaultdict 快速定义字典类型\n"
   ]
  },
  {
   "cell_type": "markdown",
   "metadata": {
    "id": "-O3AwQipRfTS"
   },
   "source": [
    "#### 字典与整数的结合：defaultdict(int)\n"
   ]
  },
  {
   "cell_type": "code",
   "execution_count": 1,
   "metadata": {
    "id": "LXkp6KuHRfTT",
    "outputId": "bc9e8532-a0e6-466a-a70d-1409d698327f"
   },
   "outputs": [
    {
     "name": "stdout",
     "output_type": "stream",
     "text": [
      "{'b': 3, 'a': 3, 'c': 2}\n",
      "{'a': 3, 'b': 3, 'c': 2}\n"
     ]
    }
   ],
   "source": [
    "# 依依课堂实践\n",
    "# Question: 统计字符串中每个字母出现的次数\n",
    "ls = [\"a\", \"b\", \"a\", \"b\", \"c\", \"a\", \"b\", \"c\"]\n",
    "ls1 = []  # 创建一个空列表，占空间了\n",
    "set1 = set(ls)  # 创建一个集合，去重，但是也是重复了，去重也消耗资源\n",
    "for i in set1:\n",
    "    n = ls.count(i)  # 统计每个字母出现的次数也是把列表遍历了一遍\n",
    "    ls1.append(n)\n",
    "a = dict(zip(set1, ls1))\n",
    "print(a)\n",
    "# 上面的思路是：先遍历一遍去重，然后再遍历字母数量那么多次来统计其出现次数，最后把结果放到字典中\n",
    "# 以上代码的时间复杂度是O(n^2)，空间复杂度是O(n)\n",
    "# 优化代码：只把列表遍历一遍就统计出来每个字母出现的次数\n",
    "dict1 = dict()\n",
    "for i in ls:\n",
    "    if i not in dict1:  # 每次都需要判断是否在字典中，需要手动添加\n",
    "        dict1[i] = 1\n",
    "    else:\n",
    "        dict1[i] += 1\n",
    "print(dict1)"
   ]
  },
  {
   "cell_type": "markdown",
   "metadata": {
    "id": "6W0_pUFqRfTT"
   },
   "source": [
    "defaultdict 可以快速定义字典的值的类型：**int**, **list**, **set**\n",
    "\n",
    "它还提供一个功能，如果新的键不在字典里，会为你自动生成一个**新的键值对**：\n",
    "\n",
    "- 如果值的类型是 int，则默认 dict['new_key'] = 0\n",
    "- 如果值的类型是 list，则默认 dict['new_key'] = []\n",
    "- 如果值的类型是 set，则默认 dict['new_key'] = {}\n"
   ]
  },
  {
   "cell_type": "code",
   "execution_count": 2,
   "metadata": {
    "id": "opD9yv_uRfTT",
    "outputId": "0b97ee31-f6d7-490d-c215-a1a59deef5e3"
   },
   "outputs": [
    {
     "data": {
      "text/plain": [
       "defaultdict(int, {'a': 3, 'b': 3, 'c': 2})"
      ]
     },
     "execution_count": 2,
     "metadata": {},
     "output_type": "execute_result"
    }
   ],
   "source": [
    "import collections  # 导入collections模块\n",
    "\n",
    "di = collections.defaultdict(\n",
    "    int\n",
    ")  # 从collections模块中导入defaultdict类，并指定默认值的类型为int\n",
    "ls = [\"a\", \"b\", \"a\", \"b\", \"c\", \"a\", \"b\", \"c\"]  # 定义一个列表\n",
    "for i in ls:  # 遍历列表中的每个元素\n",
    "    di[i] += 1  # 将每个元素的值加1\n",
    "di  # 打印结果"
   ]
  },
  {
   "cell_type": "code",
   "execution_count": 3,
   "metadata": {
    "id": "30PykyVBRfTT",
    "outputId": "00666aaf-dd02-4fe7-9241-3dbd50beaf0d"
   },
   "outputs": [
    {
     "data": {
      "text/plain": [
       "defaultdict(int, {'a': 3, 'b': 3, 'c': 2})"
      ]
     },
     "execution_count": 3,
     "metadata": {},
     "output_type": "execute_result"
    }
   ],
   "source": [
    "# 从collections模块中导入defaultdict类，这样子可以直接使用defaultdict，省略collections前缀\n",
    "from collections import defaultdict\n",
    "\n",
    "di1 = defaultdict(int)  # 创建一个defaultdict对象，默认值为int类型\n",
    "for i in ls:  # 遍历列表中的每个元素\n",
    "    di1[i] += 1  # 将每个元素的值加1\n",
    "di1  # 打印结果"
   ]
  },
  {
   "cell_type": "code",
   "execution_count": 4,
   "metadata": {
    "id": "BwjNM0OIRfTT",
    "outputId": "739c8609-9929-4510-80c8-050d7a888a64"
   },
   "outputs": [
    {
     "name": "stdout",
     "output_type": "stream",
     "text": [
      "defaultdict(<class 'list'>, {'一班': ['张三', '王五'], '二班': ['李四', '钱七'], '三班': ['赵六', '孙八']})\n",
      "defaultdict(<class 'list'>, {'一班': ['张三', '王五'], '二班': ['李四', '钱七'], '三班': ['赵六', '孙八']})\n"
     ]
    }
   ],
   "source": [
    "# 课堂实践\n",
    "# 用defauldict来实现，往不同的班级中添加不同的学生\n",
    "students = [\n",
    "    (\"张三\", \"一班\"),\n",
    "    (\"李四\", \"二班\"),\n",
    "    (\"王五\", \"一班\"),\n",
    "    (\"赵六\", \"三班\"),\n",
    "    (\"钱七\", \"二班\"),\n",
    "    (\"孙八\", \"三班\"),\n",
    "]\n",
    "from collections import defaultdict\n",
    "\n",
    "dt1 = defaultdict(list)\n",
    "for i in students:  # 遍历列表中的元组\n",
    "    # 依依写的：\n",
    "    # name = list(i)  # 将元祖变为列表\n",
    "    # dt1[name[1]].append(name[0])  # 把班级作为key，人名作为value\n",
    "\n",
    "    # 豆哥改进的：\n",
    "    dt1[i[1]].append(i[0])  # 把班级作为key，人名加入value\n",
    "print(dt1)  # 打印结果\n",
    "\n",
    "# 参考答案\n",
    "dt2 = defaultdict(list)\n",
    "for name, class_name in students:\n",
    "    dt2[class_name].append(name)\n",
    "print(dt2)"
   ]
  },
  {
   "cell_type": "markdown",
   "metadata": {
    "id": "Yeok9qbxRfTT"
   },
   "source": [
    "#### 字典与列表的结合：defaultdict(list)\n"
   ]
  },
  {
   "cell_type": "code",
   "execution_count": 5,
   "metadata": {
    "id": "H5B77ewRRfTT",
    "outputId": "f633db1d-ab3e-4ee2-9532-a85c1262dec1"
   },
   "outputs": [
    {
     "data": {
      "text/plain": [
       "defaultdict(list, {'a': [1, 3], 'b': [2, 4], 'c': [5]})"
      ]
     },
     "execution_count": 5,
     "metadata": {},
     "output_type": "execute_result"
    }
   ],
   "source": [
    "dl = defaultdict(list)  # 创建一个defaultdict对象，默认值为list类型\n",
    "key_value = [(\"a\", 1), (\"b\", 2), (\"a\", 3), (\"b\", 4), (\"c\", 5)]  # 定义一个包含元组的列表\n",
    "\n",
    "for key, value in key_value:  # 遍历列表中的每个元组\n",
    "    dl[key].append(value)  # 将元组的第二个元素添加到字典中对应键的列表中\n",
    "dl  # 打印结果"
   ]
  },
  {
   "cell_type": "code",
   "execution_count": 6,
   "metadata": {
    "id": "xWzkkL8kRfTT",
    "outputId": "3f8ff0c1-2242-481d-c7a7-ea9b1395a3f2"
   },
   "outputs": [
    {
     "name": "stdout",
     "output_type": "stream",
     "text": [
      "defaultdict(<class 'list'>, {'一班': ['一等奖', '二等奖'], '二班': ['二等奖', '一等奖'], '三班': ['一等奖', '二等奖']})\n",
      "defaultdict(<class 'set'>, {'一班': {'一等奖', '二等奖'}, '二班': {'一等奖', '二等奖'}, '三班': {'一等奖', '二等奖'}})\n"
     ]
    }
   ],
   "source": [
    "# 课堂实践\n",
    "# 用defaultdict来实现，统计每个班级获得过的奖励，不同年份的奖励算同样的\n",
    "awards = [\n",
    "    (\"一班\", \"一等奖\", 2022),\n",
    "    (\"二班\", \"二等奖\", 2022),\n",
    "    (\"三班\", \"一等奖\", 2023),\n",
    "    (\"一班\", \"二等奖\", 2023),\n",
    "    (\"二班\", \"一等奖\", 2023),\n",
    "    (\"三班\", \"二等奖\", 2024),\n",
    "    (\"一班\", \"一等奖\", 2024),\n",
    "    (\"二班\", \"二等奖\", 2024),\n",
    "    (\"三班\", \"一等奖\", 2025),\n",
    "    (\"一班\", \"二等奖\", 2025),\n",
    "    (\"二班\", \"一等奖\", 2025),\n",
    "    (\"三班\", \"二等奖\", 2025),\n",
    "]\n",
    "from collections import defaultdict\n",
    "\n",
    "dt1 = defaultdict(list)\n",
    "for class_name, award, year in awards:\n",
    "    if award not in dt1[class_name]:\n",
    "        dt1[class_name].append(award)\n",
    "print(dt1)\n",
    "\n",
    "# 参考答案\n",
    "dt2 = defaultdict(set)\n",
    "for class_name, award, year in awards:\n",
    "    dt2[class_name].add(award)\n",
    "print(dt2)"
   ]
  },
  {
   "cell_type": "markdown",
   "metadata": {
    "id": "UdJDmYVjRfTT"
   },
   "source": [
    "#### 字典与集合的结合：defaultdict(set)\n"
   ]
  },
  {
   "cell_type": "code",
   "execution_count": 7,
   "metadata": {
    "id": "wQII7F09RfTT",
    "outputId": "9ab7f95c-b63a-4ed1-bd22-913623fcb16d"
   },
   "outputs": [
    {
     "data": {
      "text/plain": [
       "defaultdict(set, {'a': {1, 3}, 'b': {2, 4}, 'c': {5}})"
      ]
     },
     "execution_count": 7,
     "metadata": {},
     "output_type": "execute_result"
    }
   ],
   "source": [
    "ds = defaultdict(set)  # 创建一个defaultdict对象，默认值为set类型\n",
    "key_value = [(\"a\", 1), (\"b\", 2), (\"a\", 3), (\"b\", 4), (\"c\", 5)]  # 定义一个包含元组的列表\n",
    "\n",
    "for key, value in key_value:  # 遍历列表中的每个元组\n",
    "    ds[key].add(value)  # 将元组的第二个元素添加到字典中对应键的集合中\n",
    "ds  # 打印结果"
   ]
  },
  {
   "cell_type": "markdown",
   "metadata": {
    "id": "XmrbIUdZRfTT"
   },
   "source": [
    "### counter 计数器\n"
   ]
  },
  {
   "cell_type": "code",
   "execution_count": 8,
   "metadata": {
    "id": "1kSPeBG2RfTT",
    "outputId": "66c20de6-9629-45be-8bf9-a1945d7e3ef1"
   },
   "outputs": [
    {
     "data": {
      "text/plain": [
       "Counter({'a': 3, 'b': 3, 'c': 3, 'e': 2, 'd': 1})"
      ]
     },
     "execution_count": 8,
     "metadata": {},
     "output_type": "execute_result"
    }
   ],
   "source": [
    "from collections import Counter  # 从collections模块中导入Counter类\n",
    "\n",
    "# Counter是一个字典子类，用于计数可哈希对象。可哈希对象是指具有固定哈希值的对象，通常是不可变对象，例如字符串、数字和元组。\n",
    "string = \"abcaabbccdee\"  # 定义一个字符串\n",
    "counter = Counter(string)  # 创建一个Counter对象，统计字符串中每个字符的出现次数\n",
    "# 大写C\n",
    "counter  # 打印结果"
   ]
  },
  {
   "cell_type": "code",
   "execution_count": 9,
   "metadata": {
    "id": "hKyVMlotRfTU",
    "outputId": "6104ed18-07d8-4b7c-b6ac-d18783687be2"
   },
   "outputs": [
    {
     "name": "stdout",
     "output_type": "stream",
     "text": [
      "[('a', 3), ('b', 3)]\n",
      "[('a', 3), ('b', 3), ('c', 3), ('e', 2), ('d', 1)]\n",
      "dict_keys(['a', 'b', 'c', 'd', 'e'])\n",
      "dict_values([3, 3, 3, 1, 2])\n",
      "dict_items([('a', 3), ('b', 3), ('c', 3), ('d', 1), ('e', 2)])\n",
      "3\n",
      "0\n"
     ]
    }
   ],
   "source": [
    "print(counter.most_common(2))  # 打印出现次数最多的两个字符及其次数\n",
    "print(counter.most_common())  # 打印所有字符及其出现次数\n",
    "print(counter.keys())  # 打印所有字符\n",
    "print(counter.values())  # 打印所有字符的出现次数\n",
    "print(counter.items())  # 打印所有字符及其出现次数的元组\n",
    "print(counter[\"a\"])  # 打印字符'a'的出现次数\n",
    "print(counter[\"z\"])  # 打印字符'z'的出现次数，如果不存在则返回0"
   ]
  },
  {
   "cell_type": "code",
   "execution_count": 10,
   "metadata": {
    "id": "nXFGFghzRfTU",
    "outputId": "556e95eb-e6d7-48a1-fdcc-15b575451fb1"
   },
   "outputs": [
    {
     "name": "stdout",
     "output_type": "stream",
     "text": [
      "Counter({'a': 3, 'b': 3})\n"
     ]
    }
   ],
   "source": [
    "# Counter对象的加法操作\n",
    "counter1 = Counter(a=1, b=2)  # 创建一个Counter对象\n",
    "counter2 = Counter(a=2, b=1)  # 创建另一个Counter对象\n",
    "counter3 = counter1 + counter2  # 将两个Counter对象相加\n",
    "print(counter3)  # 打印结果"
   ]
  },
  {
   "cell_type": "markdown",
   "metadata": {
    "id": "L3_zUbKLRfTU"
   },
   "source": [
    "### deque\n"
   ]
  },
  {
   "cell_type": "markdown",
   "metadata": {
    "id": "zlH7PxcDRfTU"
   },
   "source": [
    "- queue 队列\n",
    "  1. 先进先出 First In First Out (FIFO)\n",
    "  2. 入队 Enque\n",
    "  3. 出队 Deque\n",
    "- stack 栈\n",
    "  1. 后进先出 Last In First Out (LIFO)\n",
    "  2. 入栈 Push\n",
    "  3. 出栈 Pop\n"
   ]
  },
  {
   "cell_type": "code",
   "execution_count": 11,
   "metadata": {
    "id": "dhdBx-X0RfTU",
    "outputId": "b6c9f8f7-ca47-49b8-d568-31c882187649"
   },
   "outputs": [
    {
     "data": {
      "text/plain": [
       "deque([1, 2])"
      ]
     },
     "execution_count": 11,
     "metadata": {},
     "output_type": "execute_result"
    }
   ],
   "source": [
    "from collections import deque  # 从collections模块中导入deque类\n",
    "\n",
    "# deque是一个双端队列，可以在两端高效地添加和删除元素\n",
    "dq = deque()  # 创建一个空的deque对象\n",
    "dq.append(1)  # 在队列的右端添加元素1\n",
    "dq.append(2)  # 在队列的右端添加元素2\n",
    "dq  # 打印结果"
   ]
  },
  {
   "cell_type": "code",
   "execution_count": 12,
   "metadata": {
    "id": "pwE4mzg8RfTU",
    "outputId": "f95deaea-4866-4e0b-db16-65aecb994f6f"
   },
   "outputs": [
    {
     "data": {
      "text/plain": [
       "deque([0, 1, 2])"
      ]
     },
     "execution_count": 12,
     "metadata": {},
     "output_type": "execute_result"
    }
   ],
   "source": [
    "dq.appendleft(0)  # 在队列的左端添加元素0\n",
    "dq  # 打印结果"
   ]
  },
  {
   "cell_type": "code",
   "execution_count": 13,
   "metadata": {
    "id": "CyWxrkUrRfTU",
    "outputId": "0404e18a-5e00-4eb6-f18b-65883a5b18f6"
   },
   "outputs": [
    {
     "data": {
      "text/plain": [
       "deque([0, 1])"
      ]
     },
     "execution_count": 13,
     "metadata": {},
     "output_type": "execute_result"
    }
   ],
   "source": [
    "dq.pop()  # 从队列的右端删除元素\n",
    "dq  # 打印结果"
   ]
  },
  {
   "cell_type": "code",
   "execution_count": 14,
   "metadata": {
    "id": "9e-KjmpBRfTU",
    "outputId": "a502d5be-9b6d-462c-c3a7-eb11675a8772"
   },
   "outputs": [
    {
     "data": {
      "text/plain": [
       "deque([1])"
      ]
     },
     "execution_count": 14,
     "metadata": {},
     "output_type": "execute_result"
    }
   ],
   "source": [
    "dq.popleft()  # 从队列的左端删除元素\n",
    "dq  # 打印结果"
   ]
  },
  {
   "cell_type": "code",
   "execution_count": 15,
   "metadata": {
    "id": "qWHfm8ziRfTU",
    "outputId": "495bf4c3-74aa-4417-cb49-dabbd103e61e"
   },
   "outputs": [
    {
     "data": {
      "text/plain": [
       "deque([-2, -1, 0, 1, 2, 3, 4, 5])"
      ]
     },
     "execution_count": 15,
     "metadata": {},
     "output_type": "execute_result"
    }
   ],
   "source": [
    "dq.extend([2, 3, 4, 5])  # 在队列的右端添加多个元素\n",
    "dq.extendleft([0, -1, -2])  # 在队列的左端添加多个元素，注意添加顺序是反向的\n",
    "dq  # 打印结果"
   ]
  },
  {
   "cell_type": "code",
   "execution_count": 16,
   "metadata": {
    "id": "AJd4zzCMRfTU",
    "outputId": "c87f9ce4-7a47-4b72-ccfa-01e5df653ecc"
   },
   "outputs": [
    {
     "data": {
      "text/plain": [
       "deque([4, 5, -2, -1, 0, 1, 2, 3])"
      ]
     },
     "execution_count": 16,
     "metadata": {},
     "output_type": "execute_result"
    }
   ],
   "source": [
    "dq.rotate(2)  # 将队列中的元素向右旋转2个位置\n",
    "dq  # 打印结果"
   ]
  },
  {
   "cell_type": "code",
   "execution_count": 17,
   "metadata": {
    "id": "aQCysOGzRfTU",
    "outputId": "5695065c-04d7-472e-a13a-f12381bcbc2b"
   },
   "outputs": [
    {
     "data": {
      "text/plain": [
       "deque([-2, -1, 0, 1, 2, 3, 4, 5])"
      ]
     },
     "execution_count": 17,
     "metadata": {},
     "output_type": "execute_result"
    }
   ],
   "source": [
    "dq.rotate(-2)  # 将队列中的元素向左旋转2个位置\n",
    "dq  # 打印结果"
   ]
  },
  {
   "cell_type": "code",
   "execution_count": 18,
   "metadata": {
    "id": "XfEz_m98RfTU",
    "outputId": "a98d886a-93dc-4cf2-95ce-5fc87218119f"
   },
   "outputs": [
    {
     "name": "stdout",
     "output_type": "stream",
     "text": [
      "7\n",
      "1\n"
     ]
    }
   ],
   "source": [
    "# deque对象的索引操作\n",
    "print(dq.index(5))  # 打印元素5的索引\n",
    "print(dq.count(3))  # 打印元素3的出现次数"
   ]
  },
  {
   "cell_type": "code",
   "execution_count": 19,
   "metadata": {
    "id": "PE2a7uClRfTU",
    "outputId": "a58bf554-6592-46a8-8436-3e63515ae934"
   },
   "outputs": [
    {
     "data": {
      "text/plain": [
       "deque([5, 4, 3, 2, 1, 0, -1, -2])"
      ]
     },
     "execution_count": 19,
     "metadata": {},
     "output_type": "execute_result"
    }
   ],
   "source": [
    "# deque对象的反转操作\n",
    "dq.reverse()  # 反转deque对象\n",
    "dq  # 打印结果"
   ]
  },
  {
   "cell_type": "markdown",
   "metadata": {
    "id": "zgbDzjjiRfTU"
   },
   "source": [
    "## itertools 迭代工具\n"
   ]
  },
  {
   "cell_type": "code",
   "execution_count": 20,
   "metadata": {
    "id": "nU92mYSuRfTU"
   },
   "outputs": [],
   "source": [
    "from itertools import product, permutations, combinations, cycle, accumulate, groupby"
   ]
  },
  {
   "cell_type": "markdown",
   "metadata": {
    "id": "EDipVbbIRfTU"
   },
   "source": [
    "### product 笛卡尔积\n"
   ]
  },
  {
   "cell_type": "code",
   "execution_count": 21,
   "metadata": {
    "id": "B7iqFQz8RfTU",
    "outputId": "4ac0e5b1-800e-492b-d096-e43c821aa6be"
   },
   "outputs": [
    {
     "name": "stdout",
     "output_type": "stream",
     "text": [
      "[(1, 'a'), (1, 'b'), (2, 'a'), (2, 'b'), (3, 'a'), (3, 'b')]\n"
     ]
    }
   ],
   "source": [
    "print(\n",
    "    list(product([1, 2, 3], [\"a\", \"b\"]))\n",
    ")  # [(1, 'a'), (1, 'b'), (2, 'a'), (2, 'b'), (3, 'a'), (3, 'b')]"
   ]
  },
  {
   "cell_type": "markdown",
   "metadata": {
    "id": "VMvJDfrmRfTU"
   },
   "source": [
    "### permutations 全排列\n"
   ]
  },
  {
   "cell_type": "code",
   "execution_count": 22,
   "metadata": {
    "id": "jQG6ILBdRfTU",
    "outputId": "2167cfa8-66a2-4007-e49c-d19ee1a498ce"
   },
   "outputs": [
    {
     "name": "stdout",
     "output_type": "stream",
     "text": [
      "[(1, 2), (1, 3), (2, 1), (2, 3), (3, 1), (3, 2)]\n",
      "[('a', 'b', 'c'), ('a', 'b', 'd'), ('a', 'c', 'b'), ('a', 'c', 'd'), ('a', 'd', 'b'), ('a', 'd', 'c'), ('b', 'a', 'c'), ('b', 'a', 'd'), ('b', 'c', 'a'), ('b', 'c', 'd'), ('b', 'd', 'a'), ('b', 'd', 'c'), ('c', 'a', 'b'), ('c', 'a', 'd'), ('c', 'b', 'a'), ('c', 'b', 'd'), ('c', 'd', 'a'), ('c', 'd', 'b'), ('d', 'a', 'b'), ('d', 'a', 'c'), ('d', 'b', 'a'), ('d', 'b', 'c'), ('d', 'c', 'a'), ('d', 'c', 'b')]\n",
      "<itertools.permutations object at 0x1067d6d90>\n"
     ]
    }
   ],
   "source": [
    "# 返回所有可能的排列\n",
    "print(list(permutations([1, 2, 3], 2)))  # [(1, 2), (1, 3), (2, 1), ...]\n",
    "string = \"abcd\"\n",
    "print(\n",
    "    list(permutations(string, 3))\n",
    ")  # [('a', 'b', 'c'), ('a', 'b', 'd'), ('a', 'c', 'b'), ...]\n",
    "print(\n",
    "    permutations(string, 2)\n",
    ")  # 返回所有可能的排列，返回的是一个迭代器，里面的元素是元组\n",
    "# 返回的是一个迭代器，里面的元素是元组\n",
    "# 要想要返回列表，可以用list()函数转换"
   ]
  },
  {
   "cell_type": "markdown",
   "metadata": {
    "id": "XKwUO2PqRfTU"
   },
   "source": [
    "### combinations 组合\n"
   ]
  },
  {
   "cell_type": "code",
   "execution_count": 23,
   "metadata": {
    "id": "Q2QwV4XeRfTU",
    "outputId": "ddc70dea-d950-43c7-d9e2-d4bfa23a7d43"
   },
   "outputs": [
    {
     "name": "stdout",
     "output_type": "stream",
     "text": [
      "[(1, 2), (1, 3), (2, 3)]\n",
      "[('a', 'b', 'c'), ('a', 'b', 'd'), ('a', 'c', 'd'), ('b', 'c', 'd')]\n",
      "<itertools.combinations object at 0x1085447c0>\n"
     ]
    }
   ],
   "source": [
    "print(list(combinations([1, 2, 3], 2)))  # [(1, 2), (1, 3), (2, 3)]\n",
    "string = \"abcd\"\n",
    "print(list(combinations(string, 3)))\n",
    "print(combinations(string, 2))"
   ]
  },
  {
   "cell_type": "markdown",
   "metadata": {
    "id": "LWs4ANKjRfTU"
   },
   "source": [
    "### cycle 无限循环\n"
   ]
  },
  {
   "cell_type": "code",
   "execution_count": 24,
   "metadata": {
    "id": "qL2Nvrk0RfTU",
    "outputId": "439e5ee2-23d3-4580-b831-dc46fc959817"
   },
   "outputs": [
    {
     "name": "stdout",
     "output_type": "stream",
     "text": [
      "1 2 1 2\n"
     ]
    }
   ],
   "source": [
    "cycle_list = cycle([1, 2])\n",
    "print(next(cycle_list), next(cycle_list), next(cycle_list), next(cycle_list))\n",
    "# 无限循环\n",
    "# 每当调用next()函数时，都会返回下一个元素\n",
    "# 直到循环结束"
   ]
  },
  {
   "cell_type": "markdown",
   "metadata": {
    "id": "_3C-ZD5DRfTV"
   },
   "source": [
    "### accumulate 累积求和\n"
   ]
  },
  {
   "cell_type": "code",
   "execution_count": 25,
   "metadata": {
    "id": "VLWugCTaRfTV",
    "outputId": "d2e6f56c-65f0-4edc-838c-93c3194b3f7b"
   },
   "outputs": [
    {
     "name": "stdout",
     "output_type": "stream",
     "text": [
      "[1, 3, 6, 10]\n"
     ]
    }
   ],
   "source": [
    "print(list(accumulate([1, 2, 3, 4])))  # [1, 3, 6, 10]"
   ]
  },
  {
   "cell_type": "markdown",
   "metadata": {
    "id": "PWqXVKEERfTV"
   },
   "source": [
    "### 匿名函数 lambda 函数\n",
    "\n",
    "lambda 参数: 表达式 / lambda arguments: expression\n",
    "\n",
    "lambda 函数可以有多个参数，参数之间用逗号隔开。但只能有一个表达式，表达式描述了想要的操作\n"
   ]
  },
  {
   "cell_type": "code",
   "execution_count": 26,
   "metadata": {
    "id": "VuMSFMQdRfTV",
    "outputId": "b28d81c5-b250-4c10-8a75-86659b59d5f8"
   },
   "outputs": [
    {
     "name": "stdout",
     "output_type": "stream",
     "text": [
      "[[5, 6], [3, 4], [1, 2]]\n",
      "[(2, 1), (4, 3), (6, 5)]\n",
      "[((1, 2), [1, 2]), ((3, 4), [3, 4]), ((5, 6), [5, 6])]\n",
      "[(1, 2), (3, 4, 5), (6, 7, 8)]\n"
     ]
    }
   ],
   "source": [
    "pairs = [[1, 2], [3, 4], [5, 6]]\n",
    "\n",
    "# lambda函数可以用于对列表进行排序，按照第二个元素大小降序排序\n",
    "sorted_pairs = sorted(pairs, key=lambda x: x[1], reverse=True)  # 按照第二个元素排序\n",
    "print(sorted_pairs)  # 打印结果\n",
    "\n",
    "pairs_1 = [(1, 2), (3, 4), (5, 6)]\n",
    "# 我要把列表中的每个元素的顺序反过来\n",
    "reversed_pairs = list(map(lambda x: (x[1], x[0]), pairs_1))\n",
    "\n",
    "# 这里的x和y是两个不同的变量，分别代表列表中的两个元素\n",
    "print(reversed_pairs)  # 打印结果\n",
    "\n",
    "# 把两个列表中的元素反过来配对\n",
    "reversed_pairs_2 = list(\n",
    "    map(lambda x, y: (y, x), pairs, pairs_1)\n",
    ")  # 这里的x和y是两个不同的变量，分别代表列表中的两个元素。x是pairs中的元素，y是pairs_1中的元素\n",
    "print(reversed_pairs_2)  # 打印结果\n",
    "\n",
    "\n",
    "pairs_2 = [(1, 2), (3, 4, 5), (6, 7, 8)]\n",
    "# 给列表中的元素长度排序\n",
    "sorted_pairs_2 = sorted(pairs_2, key=lambda x: len(x))\n",
    "print(sorted_pairs_2)  # 打印结果"
   ]
  },
  {
   "cell_type": "markdown",
   "metadata": {
    "id": "EuiPn-etRfTV"
   },
   "source": [
    "### groupby 分组\n",
    "\n",
    "1. 检查相邻元素\n",
    "2. 当键值变化时，创建一个新组\n",
    "3. 如果相同键值的元素不连续，会被分成不同组\n"
   ]
  },
  {
   "cell_type": "code",
   "execution_count": 27,
   "metadata": {
    "id": "MhrRjuHDRfTV",
    "outputId": "751178ca-4ddb-4ef5-92e2-73381a65eed1"
   },
   "outputs": [
    {
     "name": "stdout",
     "output_type": "stream",
     "text": [
      "[{'name': 'Bob', 'age': 25}, {'name': 'Eve', 'age': 25}, {'name': 'Charlie', 'age': 26}, {'name': 'Alice', 'age': 30}, {'name': 'David', 'age': 30}]\n",
      "<itertools.groupby object at 0x105bcb340>\n",
      "25 [{'name': 'Bob', 'age': 25}, {'name': 'Eve', 'age': 25}]\n",
      "26 [{'name': 'Charlie', 'age': 26}]\n",
      "30 [{'name': 'Alice', 'age': 30}, {'name': 'David', 'age': 30}]\n"
     ]
    }
   ],
   "source": [
    "data = [\n",
    "    {\"name\": \"Alice\", \"age\": 30},\n",
    "    {\"name\": \"Bob\", \"age\": 25},\n",
    "    {\"name\": \"Charlie\", \"age\": 26},\n",
    "    {\"name\": \"David\", \"age\": 30},\n",
    "    {\"name\": \"Eve\", \"age\": 25},\n",
    "]\n",
    "# grouped = groupby(sorted(data, key=lambda x: x[\"age\"]), key=lambda x: x[\"age\"])\n",
    "data_sorted = sorted(data, key=lambda x: x[\"age\"])  # 按照年龄排序\n",
    "print(data_sorted)\n",
    "\n",
    "grouped = groupby(data_sorted, key=lambda x: x[\"age\"])  # 按照年龄分组\n",
    "print(grouped)  # 打印结果\n",
    "# groupby返回的是一个迭代器，里面的元素是元组，元组的第一个元素是key，第二个元素是一个迭代器\n",
    "for k, v in grouped:\n",
    "    print(k, list(v))"
   ]
  },
  {
   "cell_type": "code",
   "execution_count": 28,
   "metadata": {
    "id": "pk4l4BFbRfTV",
    "outputId": "86ce053a-a505-4e9d-fe62-72f40a3aa4e2"
   },
   "outputs": [
    {
     "name": "stdout",
     "output_type": "stream",
     "text": [
      "Doctor [{'name': 'Bob', 'job': 'Doctor'}, {'name': 'Eve', 'job': 'Doctor'}]\n",
      "Engineer [{'name': 'Alice', 'job': 'Engineer'}, {'name': 'Charlie', 'job': 'Engineer'}]\n",
      "Teacher [{'name': 'David', 'job': 'Teacher'}]\n"
     ]
    }
   ],
   "source": [
    "# 课堂实践\n",
    "# 用groupby实现，对职业进行分组\n",
    "people = [\n",
    "    {\"name\": \"Alice\", \"job\": \"Engineer\"},\n",
    "    {\"name\": \"Bob\", \"job\": \"Doctor\"},\n",
    "    {\"name\": \"Charlie\", \"job\": \"Engineer\"},\n",
    "    {\"name\": \"David\", \"job\": \"Teacher\"},\n",
    "    {\"name\": \"Eve\", \"job\": \"Doctor\"},\n",
    "]\n",
    "grouped1 = groupby(sorted(people, key=lambda x: x[\"job\"]), key=lambda x: x[\"job\"])\n",
    "for k, v in grouped1:\n",
    "    print(k, list(v))"
   ]
  },
  {
   "cell_type": "code",
   "execution_count": 29,
   "metadata": {
    "id": "ILCFUYBnRfTV",
    "outputId": "71fc6881-1844-4be4-8e50-b626a426ab55"
   },
   "outputs": [
    {
     "name": "stdout",
     "output_type": "stream",
     "text": [
      "2:[1, 2],[13, 14]\n",
      "3:[3, 4, 5],[6, 7, 8]\n",
      "4:[9, 10, 11, 12]\n"
     ]
    }
   ],
   "source": [
    "# 对列表长度进行分组\n",
    "# 按照格式输出，“长度：元素1，元素2，...”，元素依次输出\n",
    "lists = [[1, 2], [3, 4, 5], [6, 7, 8], [9, 10, 11, 12], [13, 14]]\n",
    "grouped2 = groupby(sorted(lists, key=lambda x: len(x)), key=lambda x: len(x))\n",
    "for k, v in grouped2:\n",
    "    # s = \"\"\n",
    "    # for ls in v:\n",
    "    #     s += str(ls) + \",\"\n",
    "    # s = s[:-1]  # 去掉最后一个逗号\n",
    "    # print(f\"{k}:{s}\")\n",
    "    print(f'{k}:{\",\".join(map(str, v))}')"
   ]
  },
  {
   "cell_type": "markdown",
   "metadata": {
    "id": "7R6loqpCRfTV"
   },
   "source": [
    "## heapq 堆\n"
   ]
  },
  {
   "cell_type": "code",
   "execution_count": 30,
   "metadata": {
    "id": "t_vG1houRfTV",
    "outputId": "1e426327-d430-483d-9f51-d3f3fd767790"
   },
   "outputs": [
    {
     "name": "stdout",
     "output_type": "stream",
     "text": [
      "[5, 12, 1, 4, 2, 3]\n",
      "[1, 2, 3, 4, 12, 5]\n"
     ]
    }
   ],
   "source": [
    "from heapq import (\n",
    "    heappush,  # 向堆中添加元素\n",
    "    heappop,  # 从堆中弹出最小元素\n",
    "    heappushpop,  # 向堆中添加元素并弹出最小元素\n",
    "    heapreplace,  # 弹出最小元素并向堆中添加元素\n",
    "    heapify,  # 将列表转换为堆\n",
    ")  # 从heapq模块中导入相关函数\n",
    "\n",
    "# 堆是一个特殊的树形数据结构，通常用于实现优先队列，这是最小堆：根部最小，父结点<=子结点\n",
    "# 堆的实现\n",
    "heap = [5, 12, 1, 4, 2]\n",
    "heappush(heap, 3)  # 向堆中添加元素3，加在最后，只跟增加的元素的父子结点比较\n",
    "print(heap)  # 打印堆的内容\n",
    "heapify(heap)  # 将列表转换为堆\n",
    "print(heap)  # 打印堆的内容"
   ]
  },
  {
   "cell_type": "code",
   "execution_count": 31,
   "metadata": {
    "id": "c_sm6t-jRfTV",
    "outputId": "60d690c3-ad56-40e7-910f-717d220a1073"
   },
   "outputs": [
    {
     "name": "stdout",
     "output_type": "stream",
     "text": [
      "[2, 4, 3, 5, 12]\n",
      "2\n"
     ]
    },
    {
     "data": {
      "text/plain": [
       "[3, 4, 12, 5]"
      ]
     },
     "execution_count": 31,
     "metadata": {},
     "output_type": "execute_result"
    }
   ],
   "source": [
    "# 推出堆中最小元素 原理：弹出堆顶元素，最后一个元素放到堆顶，然后从上往下遍历，和子结点比较，直到满足堆的性质\n",
    "heappop(heap)  # 有返回值，就是最小的元素，也可以只当做推出操作\n",
    "print(heap)  # 打印堆的内容\n",
    "a = heappop(heap)\n",
    "print(a)  # 打印推出的最小元素\n",
    "heap  # 打印堆的内容"
   ]
  },
  {
   "cell_type": "code",
   "execution_count": 32,
   "metadata": {
    "id": "-RGpEzoMRfTV",
    "outputId": "d5a454fd-460e-4fa2-df6c-4a8a6fe48650"
   },
   "outputs": [
    {
     "data": {
      "text/plain": [
       "[3, 4, 12, 5, 10]"
      ]
     },
     "execution_count": 32,
     "metadata": {},
     "output_type": "execute_result"
    }
   ],
   "source": [
    "# 向堆中添加元素 原理：把元素添加到堆的末尾，跟父节点比较，然后将其上浮到正确的位置，直到满足堆的性质\n",
    "heappush(heap, 10)\n",
    "heap  # 打印堆的内容"
   ]
  },
  {
   "cell_type": "code",
   "execution_count": 33,
   "metadata": {
    "id": "KdB-TdL6RfTV",
    "outputId": "7346fb82-c67a-48d6-8934-5e7acb66d819"
   },
   "outputs": [
    {
     "data": {
      "text/plain": [
       "[3, 4, 12, 5, 10]"
      ]
     },
     "execution_count": 33,
     "metadata": {},
     "output_type": "execute_result"
    }
   ],
   "source": [
    "# 先推后出，效率高于heappush+heappop\n",
    "# 如果新加入的item比堆顶元素小，则直接弹出新加入的元素，避免了上浮操作\n",
    "# 如果新加入的item比堆顶元素大，则替换堆顶元素为新加入的元素，再做下沉操作\n",
    "heappushpop(heap, 1)\n",
    "heap  # 打印堆的内容"
   ]
  },
  {
   "cell_type": "code",
   "execution_count": 34,
   "metadata": {
    "id": "yjqKfsavRfTV",
    "outputId": "16a4ac2b-860a-48e4-a5a7-f54ed5202ef7"
   },
   "outputs": [
    {
     "data": {
      "text/plain": [
       "[1, 4, 12, 5, 10]"
      ]
     },
     "execution_count": 34,
     "metadata": {},
     "output_type": "execute_result"
    }
   ],
   "source": [
    "# 先出后推，效率高于heappop+heappush\n",
    "# 新加入的item替换掉堆顶元素，再做下沉操作\n",
    "heapreplace(heap, 1)\n",
    "heap  # 打印堆的内容"
   ]
  },
  {
   "cell_type": "code",
   "execution_count": 35,
   "metadata": {
    "id": "Y7LwaYvmRfTV",
    "outputId": "d4b8a54e-9b15-41e7-9f86-39723b97dcf8"
   },
   "outputs": [
    {
     "name": "stdout",
     "output_type": "stream",
     "text": [
      "[1, 4, 5]\n",
      "[12, 10, 5]\n"
     ]
    },
    {
     "data": {
      "text/plain": [
       "[1, 4, 12, 5, 10]"
      ]
     },
     "execution_count": 35,
     "metadata": {},
     "output_type": "execute_result"
    }
   ],
   "source": [
    "# 获取前k个最小元素\n",
    "from heapq import nsmallest, nlargest\n",
    "\n",
    "k = 3\n",
    "print(nsmallest(k, heap))  # 获取前k个最小元素\n",
    "print(nlargest(k, heap))  # 获取前k个最大元素\n",
    "heap"
   ]
  },
  {
   "cell_type": "code",
   "execution_count": 36,
   "metadata": {
    "id": "7CuwymfPRfTV",
    "outputId": "e9de0efd-6c82-4f75-da72-0b5798749f92"
   },
   "outputs": [
    {
     "name": "stdout",
     "output_type": "stream",
     "text": [
      "[12, 5, 1, 4, 2]\n",
      "[-12, -5, -1, -4, -2]\n",
      "[12, 5, 1, 4, 2]\n"
     ]
    }
   ],
   "source": [
    "# 课堂实践\n",
    "# 用heapq实现，得到最大堆\n",
    "max_heap = [5, 12, 1, 4, 2]\n",
    "for i in range(len(max_heap)):\n",
    "    max_heap[i] *= -1\n",
    "heapify(max_heap)\n",
    "for i in range(len(max_heap)):\n",
    "    max_heap[i] *= -1\n",
    "print(max_heap)\n",
    "\n",
    "# 参考答案\n",
    "max_heap = list(map(lambda x: -x, max_heap))\n",
    "print(max_heap)\n",
    "heapify(max_heap)\n",
    "max_heap = list(map(lambda x: -x, max_heap))\n",
    "print(max_heap)"
   ]
  },
  {
   "cell_type": "markdown",
   "metadata": {
    "id": "6mm3OVjXRfTV"
   },
   "source": [
    "## bisect 二分查找\n",
    "\n",
    "适用于在有序列表中：\n",
    "\n",
    "1. 查找目标值位置\n",
    "2. 插入值而**不破坏顺序**\n"
   ]
  },
  {
   "cell_type": "code",
   "execution_count": 37,
   "metadata": {
    "id": "UUg61x6ORfTV",
    "outputId": "2d7ef496-bbc8-463e-c823-e69a41b00f2d"
   },
   "outputs": [
    {
     "name": "stdout",
     "output_type": "stream",
     "text": [
      "1\n",
      "1\n"
     ]
    }
   ],
   "source": [
    "from bisect import (\n",
    "    bisect_left,\n",
    "    bisect_right,\n",
    "    insort_left,\n",
    "    insort_right,\n",
    ")  # 从bisect模块中导入相关函数\\\n",
    "\n",
    "ls = [2, 6, 6, 9, 18, 56]\n",
    "# bisect_left：返回元素在列表中插入的位置，左侧插入\n",
    "print(bisect_left(ls, 5))  # 返回5在列表中的插入位置\n",
    "print(bisect_right(ls, 5))"
   ]
  },
  {
   "cell_type": "code",
   "execution_count": 38,
   "metadata": {
    "id": "p0upq4QzRfTV",
    "outputId": "02fc79bb-d9b2-4b0e-be59-4a704e0d2ad4"
   },
   "outputs": [
    {
     "name": "stdout",
     "output_type": "stream",
     "text": [
      "1\n",
      "3\n"
     ]
    }
   ],
   "source": [
    "print(bisect_left(ls, 6))  # 返回6在列表中的插入位置\n",
    "print(bisect_right(ls, 6))"
   ]
  },
  {
   "cell_type": "code",
   "execution_count": 39,
   "metadata": {
    "id": "g3eUGFLMRfTV",
    "outputId": "cdb66639-53f1-4383-c049-e2b2e931667c"
   },
   "outputs": [
    {
     "name": "stdout",
     "output_type": "stream",
     "text": [
      "[2, 5, 6, 6, 7, 9, 18, 56]\n"
     ]
    }
   ],
   "source": [
    "insort_left(ls, 5)  # 在列表中插入元素5\n",
    "insort_right(ls, 7)\n",
    "print(ls)  # 打印列表的内容"
   ]
  },
  {
   "cell_type": "markdown",
   "metadata": {
    "id": "3Y7EjxJbRfTW"
   },
   "source": [
    "# 作业\n"
   ]
  },
  {
   "cell_type": "code",
   "execution_count": 40,
   "metadata": {
    "id": "QI11e8zpRfTW"
   },
   "outputs": [
    {
     "name": "stdout",
     "output_type": "stream",
     "text": [
      "[1, 2, 3, 4, 12, 5]\n",
      "[1, 2, 3, 4, 12, 5]\n",
      "[-1, 2, 1, 4, 12, 5, 3]\n",
      "[-1, 2, 1, 4, 12, 5, 3]\n",
      "[1, 2, 3, 4, 12, 5]\n",
      "[1, 2, 3, 4, 12, 5]\n",
      "[2, 4, 3, 6, 12, 5]\n",
      "[2, 4, 3, 6, 12, 5]\n",
      "[2, 4, 3, 6, 12, 5]\n",
      "[2, 4, 3, 6, 12, 5]\n"
     ]
    }
   ],
   "source": [
    "# Q1: 自行实现heapify(), heappush(), heappop(), heappushpop(), heapreplace()功能\n",
    "heap = [5, 12, 1, 4, 2, 3]\n",
    "heap1 = heap.copy()\n",
    "# heap1.append(0)\n",
    "heapify(heap1)\n",
    "print(heap1)\n",
    "\n",
    "\n",
    "def down(ls, i, n):\n",
    "    left = 2 * i + 1\n",
    "    right = 2 * i + 2\n",
    "    if left < n or right < n:  # 判断当前i结点是否是叶子，不是则执行下面的\n",
    "        if right > n - 1:  # 右子结点不存在\n",
    "            if ls[i] > ls[left]:\n",
    "                ls[i], ls[left] = ls[left], ls[i]\n",
    "                down(ls, left, n)\n",
    "        else:\n",
    "            if ls[left] > ls[right]:\n",
    "                if ls[right] < ls[i]:\n",
    "                    ls[i], ls[right] = ls[right], ls[i]\n",
    "                    down(ls, right, n)\n",
    "            else:\n",
    "                if ls[left] < ls[i]:\n",
    "                    ls[i], ls[left] = ls[left], ls[i]\n",
    "                    down(ls, left, n)\n",
    "\n",
    "\n",
    "def up(ls, curr_val, par_val, curr_index):\n",
    "    if curr_val < par_val and (curr_index - 1) // 2 >= 0:\n",
    "        ls[(curr_index - 1) // 2], ls[curr_index] = (\n",
    "            ls[curr_index],\n",
    "            ls[(curr_index - 1) // 2],\n",
    "        )\n",
    "\n",
    "        curr_index = (curr_index - 1) // 2\n",
    "        curr_val = ls[curr_index]\n",
    "        par_val = ls[(curr_index - 1) // 2]\n",
    "        up(ls, curr_val, par_val, curr_index)\n",
    "\n",
    "\n",
    "# heapify()：将列表转换为堆 结果：[1, 2, 5, 4, 12]\n",
    "def self_heapify(ls):\n",
    "    n = len(ls)\n",
    "    k = (n - 2) // 2\n",
    "    for i in range(k, -1, -1):\n",
    "        down(ls, i, n)\n",
    "\n",
    "\n",
    "self_heapify(heap)\n",
    "print(heap)\n",
    "\n",
    "\n",
    "# heappush()：向堆中添加3 结果：[1, 2, 3, 4, 12, 5]\n",
    "heappush(heap1, -1)\n",
    "print(heap1)\n",
    "\n",
    "\n",
    "def self_heappush(ls, val):\n",
    "    ls.append(val)\n",
    "    n = len(ls)  # n=推入数字后的堆的长度\n",
    "    i = ls[n - 1]  # i=推入的数字的大小\n",
    "    x = n - 1  # x=推入数字的索引\n",
    "    f = ls[(x - 1) // 2]  # 推入数字的父子结点的大小\n",
    "    up(ls, i, f, x)\n",
    "\n",
    "\n",
    "self_heappush(heap, -1)\n",
    "print(heap)\n",
    "\n",
    "\n",
    "# heappop()：从堆中弹出最小元素 结果：[2, 4, 3, 5, 12]\n",
    "heappop(heap)\n",
    "print(heap)\n",
    "heap = [-1, 2, 1, 4, 12, 5, 3]\n",
    "\n",
    "\n",
    "def self_heappop(ls):\n",
    "    heap[0], heap[-1] = heap[-1], heap[0]\n",
    "    out = heap.pop()\n",
    "    n = len(ls)\n",
    "    i = 0\n",
    "    down(ls, i, n)\n",
    "    return out\n",
    "\n",
    "\n",
    "self_heappop(heap)\n",
    "print(heap)\n",
    "\n",
    "\n",
    "# heappushpop()：向堆中添加6并弹出最小元素 结果：[3, 4, 6, 5, 12]\n",
    "heappushpop(heap, 6)\n",
    "print(heap)\n",
    "heap = [1, 2, 3, 4, 12, 5]\n",
    "\n",
    "\n",
    "def self_heappushpop(ls, val):\n",
    "\n",
    "    if val <= ls[0]:\n",
    "        out=val\n",
    "    else:\n",
    "        out=ls[0]\n",
    "        ls[0] = val\n",
    "        n = len(ls)\n",
    "        i = 0\n",
    "        down(ls, i, n)\n",
    "    return out\n",
    "\n",
    "self_heappushpop(heap, 6)\n",
    "print(heap)\n",
    "\n",
    "\n",
    "# heapreplace()：弹出最小元素并向堆中添加2 结果：[2, 4, 6, 5, 12]\n",
    "heapreplace(heap, 2)\n",
    "print(heap)\n",
    "heap = [2, 4, 3, 6, 12, 5]\n",
    "\n",
    "\n",
    "def self_heapreplace(ls, val):\n",
    "    out = ls[0]\n",
    "    ls[0] = val\n",
    "    n = len(ls)\n",
    "    i = 0\n",
    "    down(ls, i, n)\n",
    "    return out\n",
    "\n",
    "\n",
    "self_heapreplace(heap, 2)\n",
    "print(heap)"
   ]
  },
  {
   "cell_type": "markdown",
   "metadata": {},
   "source": [
    "## 参考答案\n"
   ]
  },
  {
   "cell_type": "code",
   "execution_count": 41,
   "metadata": {
    "id": "QI11e8zpRfTW"
   },
   "outputs": [
    {
     "name": "stdout",
     "output_type": "stream",
     "text": [
      "[1, 2, 3, 4, 12, 5]\n",
      "[1, 2, 3, 4, 12, 5, 3]\n",
      "1\n",
      "[2, 3, 3, 4, 12, 5]\n",
      "2\n",
      "[3, 3, 5, 4, 12, 6]\n",
      "3\n",
      "[2, 3, 5, 4, 12, 6]\n"
     ]
    }
   ],
   "source": [
    "# Q1: 自行实现heapify(), heappush(), heappop(), heappushpop(), heapreplace()功能\n",
    "heap = [5, 12, 1, 4, 2, 3]  # 更新列表\n",
    "\n",
    "\n",
    "def down(ls, i, n):  # 下沉操作，i为当前节点，n为堆的大小\n",
    "    while 2 * i + 1 < n or 2 * i + 2 < n:  # 检查是否有子节点，有则继续下沉\n",
    "        mini_index = i\n",
    "        left = 2 * i + 1\n",
    "        right = 2 * i + 2\n",
    "        if 2 * i + 2 < n:  # 检查有没有右子节点\n",
    "            # 如果有右子节点，比较当前节点和左右子节点的大小\n",
    "            if ls[i] > ls[left] and ls[left] < ls[right]:\n",
    "                mini_index = left\n",
    "            elif ls[i] > ls[right] and ls[right] <= ls[left]:\n",
    "                mini_index = right\n",
    "        else:\n",
    "            # 如果没有右子节点，比较当前节点和左子节点的大小\n",
    "            if ls[i] > ls[left]:\n",
    "                mini_index = left\n",
    "        if mini_index != i:\n",
    "            # 如果当前节点大于子节点，交换位置\n",
    "            ls[i], ls[mini_index] = ls[mini_index], ls[i]\n",
    "            # 更新当前节点为子节点\n",
    "            i = mini_index\n",
    "        else:\n",
    "            # 如果当前节点小于子节点，停止下沉\n",
    "            break\n",
    "\n",
    "\n",
    "def up(ls, i):  # 上浮操作，i为当前节点的索引\n",
    "    while i > 0:  # 检查是否有父节点，有则继续上浮\n",
    "        parent = (i - 1) // 2  # 父节点的索引\n",
    "        if ls[i] < ls[parent]:  # 如果当前节点小于父节点，交换位置\n",
    "            ls[i], ls[parent] = ls[parent], ls[i]\n",
    "            # 更新当前节点为父节点\n",
    "            i = parent\n",
    "        else:\n",
    "            # 如果当前节点大于父节点，停止上浮\n",
    "            break\n",
    "\n",
    "\n",
    "# heapify()：将列表转换为堆 结果：[1, 2, 3, 5, 4, 12]\n",
    "def self_heapify(ls):\n",
    "    n = len(ls)\n",
    "\n",
    "    for i in range(\n",
    "        (n - 2) // 2, -1, -1\n",
    "    ):  # 从最后一个非叶子节点开始，依次往上遍历，执行下沉\n",
    "        down(ls, i, n)\n",
    "\n",
    "\n",
    "self_heapify(heap)  # 执行堆化操作\n",
    "print(heap)  # 打印堆的内容\n",
    "\n",
    "\n",
    "# heappush()：向堆中添加3 结果：[1, 2, 3, 4, 12, 5, 3]\n",
    "def self_heappush(ls, val):\n",
    "    ls.append(val)  # 将元素添加到列表末尾\n",
    "    up(ls, len(ls) - 1)  # 执行上浮操作，参数为最后一个元素的索引\n",
    "\n",
    "\n",
    "self_heappush(heap, 3)  # 执行添加操作\n",
    "print(heap)  # 打印堆的内容\n",
    "\n",
    "\n",
    "# heappop()：从堆中弹出最小元素 结果：[2, 3, 3, 4, 12, 5]，返回值：1\n",
    "def self_heappop(ls):\n",
    "    out = ls[0]  # 获取堆顶元素\n",
    "    ls[0] = ls[-1]  # 将最后一个元素放到堆顶\n",
    "    ls.pop()  # 删除最后一个元素\n",
    "    down(ls, 0, len(ls))  # 执行下沉操作\n",
    "    return out  # 返回堆顶元素\n",
    "\n",
    "\n",
    "print(self_heappop(heap))  # 执行弹出操作，返回堆顶元素\n",
    "print(heap)  # 打印堆的内容\n",
    "\n",
    "\n",
    "# heappushpop()：向堆中添加6并弹出最小元素 结果：[3, 3, 5, 4, 12, 6]，返回值：2\n",
    "def self_heappushpop(ls, val):\n",
    "    if val > ls[0]:  # 如果新加入的元素大于堆顶元素，弹出堆顶元素，替换为新加入的元素\n",
    "        out = ls[0]\n",
    "        ls[0] = val\n",
    "        down(ls, 0, len(ls))  # 执行下沉操作\n",
    "        return out  # 返回堆顶元素\n",
    "    else:\n",
    "        return val  # 否则，弹出新加入元素\n",
    "\n",
    "\n",
    "print(self_heappushpop(heap, 6))  # 执行添加和弹出操作，返回堆顶元素\n",
    "print(heap)  # 打印堆的内容\n",
    "\n",
    "\n",
    "# heapreplace()：弹出最小元素并向堆中添加2 结果：[2, 3, 5, 4, 12, 6]，返回值：3\n",
    "def self_heapreplace(ls, val):\n",
    "    out = ls[0]  # 获取堆顶元素\n",
    "    ls[0] = val  # 将新加入的元素放到堆顶\n",
    "    down(ls, 0, len(ls))  # 执行下沉操作\n",
    "    return out  # 返回堆顶元素\n",
    "\n",
    "\n",
    "print(self_heapreplace(heap, 2))  # 执行弹出和添加操作，返回堆顶元素\n",
    "print(heap)  # 打印堆的内容"
   ]
  },
  {
   "cell_type": "code",
   "execution_count": 42,
   "metadata": {
    "id": "DJHirf4yRfTW"
   },
   "outputs": [
    {
     "name": "stdout",
     "output_type": "stream",
     "text": [
      "4\n",
      "-1\n",
      "0\n",
      "8\n",
      "2\n"
     ]
    }
   ],
   "source": [
    "# Q2: 自行实现二分查找功能，查找元素在列表中的位置，如若没有则返回-1\n",
    "def binary_search(ls, val):\n",
    "    start = 0\n",
    "    end = len(ls) - 1\n",
    "    mid = (start + end) // 2\n",
    "    while start <= end:\n",
    "        if ls[mid] == val:\n",
    "            return mid\n",
    "        elif ls[mid] < val:\n",
    "            start = mid + 1\n",
    "        else:\n",
    "            end = mid - 1\n",
    "        mid = (start + end) // 2\n",
    "    return -1  # 如果没有找到，返回-1\n",
    "\n",
    "\n",
    "ls1 = [1, 2, 3, 4, 5, 6, 7, 8, 9]\n",
    "print(binary_search(ls1, 5))  # 查找元素5在列表中的位置\n",
    "print(binary_search(ls1, 10))  # 查找元素10在列表中的位置\n",
    "print(binary_search(ls1, 1))  # 查找元素1在列表中的位置\n",
    "print(binary_search(ls1, 9))  # 查找元素9在列表中的位置\n",
    "print(binary_search(ls1, 3))  # 查找元素0在列表中的位置"
   ]
  }
 ],
 "metadata": {
  "colab": {
   "include_colab_link": true,
   "provenance": []
  },
  "kernelspec": {
   "display_name": ".venv",
   "language": "python",
   "name": "python3"
  },
  "language_info": {
   "codemirror_mode": {
    "name": "ipython",
    "version": 3
   },
   "file_extension": ".py",
   "mimetype": "text/x-python",
   "name": "python",
   "nbconvert_exporter": "python",
   "pygments_lexer": "ipython3",
   "version": "3.12.7"
  }
 },
 "nbformat": 4,
 "nbformat_minor": 0
}
