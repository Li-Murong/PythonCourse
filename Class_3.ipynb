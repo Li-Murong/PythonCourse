{
 "cells": [
  {
   "cell_type": "markdown",
   "metadata": {},
   "source": [
    "# 高效工具\n"
   ]
  },
  {
   "cell_type": "markdown",
   "metadata": {},
   "source": [
    "## collections\n"
   ]
  },
  {
   "cell_type": "markdown",
   "metadata": {},
   "source": [
    "### defaultdict 快速定义字典类型\n"
   ]
  },
  {
   "cell_type": "markdown",
   "metadata": {},
   "source": [
    "#### 字典与整数的结合：defaultdict(int)\n"
   ]
  },
  {
   "cell_type": "code",
   "execution_count": 26,
   "metadata": {},
   "outputs": [
    {
     "data": {
      "text/plain": [
       "defaultdict(int, {'a': 3, 'b': 3, 'c': 2})"
      ]
     },
     "execution_count": 26,
     "metadata": {},
     "output_type": "execute_result"
    }
   ],
   "source": [
    "import collections  # 导入collections模块\n",
    "\n",
    "di = collections.defaultdict(int)  # 从collections模块中导入defaultdict类\n",
    "ls = [\"a\", \"b\", \"a\", \"b\", \"c\", \"a\", \"b\", \"c\"]  # 定义一个列表\n",
    "for i in ls:  # 遍历列表中的每个元素\n",
    "    di[i] += 1  # 将每个元素的值加1\n",
    "di  # 打印结果"
   ]
  },
  {
   "cell_type": "code",
   "execution_count": 27,
   "metadata": {},
   "outputs": [
    {
     "data": {
      "text/plain": [
       "defaultdict(int, {'a': 3, 'b': 3, 'c': 2})"
      ]
     },
     "execution_count": 27,
     "metadata": {},
     "output_type": "execute_result"
    }
   ],
   "source": [
    "# 从collections模块中导入defaultdict类，这样子可以直接使用defaultdict，省略collections前缀\n",
    "from collections import defaultdict\n",
    "\n",
    "di1 = defaultdict(int)  # 创建一个defaultdict对象，默认值为int类型\n",
    "for i in ls:  # 遍历列表中的每个元素\n",
    "    di1[i] += 1  # 将每个元素的值加1\n",
    "di1  # 打印结果"
   ]
  },
  {
   "cell_type": "markdown",
   "metadata": {},
   "source": [
    "#### 字典与列表的结合：defaultdict(list)\n"
   ]
  },
  {
   "cell_type": "code",
   "execution_count": 28,
   "metadata": {},
   "outputs": [
    {
     "data": {
      "text/plain": [
       "defaultdict(list, {'a': [1, 3], 'b': [2, 4], 'c': [5]})"
      ]
     },
     "execution_count": 28,
     "metadata": {},
     "output_type": "execute_result"
    }
   ],
   "source": [
    "dl = defaultdict(list)  # 创建一个defaultdict对象，默认值为list类型\n",
    "key_value = [(\"a\", 1), (\"b\", 2), (\"a\", 3), (\"b\", 4), (\"c\", 5)]  # 定义一个包含元组的列表\n",
    "\n",
    "for key, value in key_value:  # 遍历列表中的每个元组\n",
    "    dl[key].append(value)  # 将元组的第二个元素添加到字典中对应键的列表中\n",
    "dl  # 打印结果"
   ]
  },
  {
   "cell_type": "markdown",
   "metadata": {},
   "source": [
    "#### 字典与集合的结合：defaultdict(set)\n"
   ]
  },
  {
   "cell_type": "code",
   "execution_count": 29,
   "metadata": {},
   "outputs": [
    {
     "data": {
      "text/plain": [
       "defaultdict(set, {'a': {1, 3}, 'b': {2, 4}, 'c': {5}})"
      ]
     },
     "execution_count": 29,
     "metadata": {},
     "output_type": "execute_result"
    }
   ],
   "source": [
    "ds = defaultdict(set)  # 创建一个defaultdict对象，默认值为set类型\n",
    "key_value = [(\"a\", 1), (\"b\", 2), (\"a\", 3), (\"b\", 4), (\"c\", 5)]  # 定义一个包含元组的列表\n",
    "\n",
    "for key, value in key_value:  # 遍历列表中的每个元组\n",
    "    ds[key].add(value)  # 将元组的第二个元素添加到字典中对应键的集合中\n",
    "ds  # 打印结果"
   ]
  },
  {
   "cell_type": "markdown",
   "metadata": {},
   "source": [
    "### counter 计数器\n"
   ]
  },
  {
   "cell_type": "code",
   "execution_count": 30,
   "metadata": {},
   "outputs": [
    {
     "data": {
      "text/plain": [
       "Counter({'a': 3, 'b': 3, 'c': 3, 'e': 2, 'd': 1})"
      ]
     },
     "execution_count": 30,
     "metadata": {},
     "output_type": "execute_result"
    }
   ],
   "source": [
    "from collections import Counter  # 从collections模块中导入Counter类\n",
    "\n",
    "# Counter是一个字典子类，用于计数可哈希对象\n",
    "string = \"abcaabbccdee\"  # 定义一个字符串\n",
    "counter = Counter(string)  # 创建一个Counter对象，统计字符串中每个字符的出现次数\n",
    "counter  # 打印结果"
   ]
  },
  {
   "cell_type": "code",
   "execution_count": 31,
   "metadata": {},
   "outputs": [
    {
     "name": "stdout",
     "output_type": "stream",
     "text": [
      "[('a', 3), ('b', 3)]\n",
      "[('a', 3), ('b', 3), ('c', 3), ('e', 2), ('d', 1)]\n",
      "dict_keys(['a', 'b', 'c', 'd', 'e'])\n",
      "dict_values([3, 3, 3, 1, 2])\n",
      "dict_items([('a', 3), ('b', 3), ('c', 3), ('d', 1), ('e', 2)])\n",
      "3\n",
      "0\n"
     ]
    }
   ],
   "source": [
    "print(counter.most_common(2))  # 打印出现次数最多的两个字符及其次数\n",
    "print(counter.most_common())  # 打印所有字符及其出现次数\n",
    "print(counter.keys())  # 打印所有字符\n",
    "print(counter.values())  # 打印所有字符的出现次数\n",
    "print(counter.items())  # 打印所有字符及其出现次数的元组\n",
    "print(counter[\"a\"])  # 打印字符'a'的出现次数\n",
    "print(counter[\"z\"])  # 打印字符'z'的出现次数，如果不存在则返回0"
   ]
  },
  {
   "cell_type": "code",
   "execution_count": 32,
   "metadata": {},
   "outputs": [
    {
     "name": "stdout",
     "output_type": "stream",
     "text": [
      "Counter({'a': 3, 'b': 3})\n"
     ]
    }
   ],
   "source": [
    "# Counter对象的加法操作\n",
    "counter1 = Counter(a=1, b=2)  # 创建一个Counter对象\n",
    "counter2 = Counter(a=2, b=1)  # 创建另一个Counter对象\n",
    "counter3 = counter1 + counter2  # 将两个Counter对象相加\n",
    "print(counter3)  # 打印结果"
   ]
  },
  {
   "cell_type": "markdown",
   "metadata": {},
   "source": [
    "### deque\n"
   ]
  },
  {
   "cell_type": "code",
   "execution_count": 33,
   "metadata": {},
   "outputs": [
    {
     "data": {
      "text/plain": [
       "deque([1, 2])"
      ]
     },
     "execution_count": 33,
     "metadata": {},
     "output_type": "execute_result"
    }
   ],
   "source": [
    "from collections import deque  # 从collections模块中导入deque类\n",
    "\n",
    "# deque是一个双端队列，可以在两端高效地添加和删除元素\n",
    "dq = deque()  # 创建一个空的deque对象\n",
    "dq.append(1)  # 在队列的右端添加元素1\n",
    "dq.append(2)  # 在队列的右端添加元素2\n",
    "dq  # 打印结果"
   ]
  },
  {
   "cell_type": "code",
   "execution_count": 34,
   "metadata": {},
   "outputs": [
    {
     "data": {
      "text/plain": [
       "deque([0, 1, 2])"
      ]
     },
     "execution_count": 34,
     "metadata": {},
     "output_type": "execute_result"
    }
   ],
   "source": [
    "dq.appendleft(0)  # 在队列的左端添加元素0\n",
    "dq  # 打印结果"
   ]
  },
  {
   "cell_type": "code",
   "execution_count": 35,
   "metadata": {},
   "outputs": [
    {
     "data": {
      "text/plain": [
       "deque([0, 1])"
      ]
     },
     "execution_count": 35,
     "metadata": {},
     "output_type": "execute_result"
    }
   ],
   "source": [
    "dq.pop()  # 从队列的右端删除元素\n",
    "dq  # 打印结果"
   ]
  },
  {
   "cell_type": "code",
   "execution_count": 36,
   "metadata": {},
   "outputs": [
    {
     "data": {
      "text/plain": [
       "deque([1])"
      ]
     },
     "execution_count": 36,
     "metadata": {},
     "output_type": "execute_result"
    }
   ],
   "source": [
    "dq.popleft()  # 从队列的左端删除元素\n",
    "dq  # 打印结果"
   ]
  },
  {
   "cell_type": "code",
   "execution_count": 37,
   "metadata": {},
   "outputs": [
    {
     "data": {
      "text/plain": [
       "deque([-2, -1, 0, 1, 2, 3, 4, 5])"
      ]
     },
     "execution_count": 37,
     "metadata": {},
     "output_type": "execute_result"
    }
   ],
   "source": [
    "dq.extend([2, 3, 4, 5])  # 在队列的右端添加多个元素\n",
    "dq.extendleft([0, -1, -2])  # 在队列的左端添加多个元素，注意添加顺序是反向的\n",
    "dq  # 打印结果"
   ]
  },
  {
   "cell_type": "code",
   "execution_count": 38,
   "metadata": {},
   "outputs": [
    {
     "data": {
      "text/plain": [
       "deque([4, 5, -2, -1, 0, 1, 2, 3])"
      ]
     },
     "execution_count": 38,
     "metadata": {},
     "output_type": "execute_result"
    }
   ],
   "source": [
    "dq.rotate(2)  # 将队列中的元素向右旋转2个位置\n",
    "dq  # 打印结果"
   ]
  },
  {
   "cell_type": "code",
   "execution_count": 39,
   "metadata": {},
   "outputs": [
    {
     "data": {
      "text/plain": [
       "deque([-2, -1, 0, 1, 2, 3, 4, 5])"
      ]
     },
     "execution_count": 39,
     "metadata": {},
     "output_type": "execute_result"
    }
   ],
   "source": [
    "dq.rotate(-2)  # 将队列中的元素向左旋转2个位置\n",
    "dq  # 打印结果"
   ]
  },
  {
   "cell_type": "code",
   "execution_count": 40,
   "metadata": {},
   "outputs": [
    {
     "name": "stdout",
     "output_type": "stream",
     "text": [
      "7\n",
      "1\n"
     ]
    }
   ],
   "source": [
    "# deque对象的索引操作\n",
    "print(dq.index(5))  # 打印元素5的索引\n",
    "print(dq.count(3))  # 打印元素3的出现次数"
   ]
  },
  {
   "cell_type": "code",
   "execution_count": 41,
   "metadata": {},
   "outputs": [
    {
     "data": {
      "text/plain": [
       "deque([5, 4, 3, 2, 1, 0, -1, -2])"
      ]
     },
     "execution_count": 41,
     "metadata": {},
     "output_type": "execute_result"
    }
   ],
   "source": [
    "# deque对象的反转操作\n",
    "dq.reverse()  # 反转deque对象\n",
    "dq  # 打印结果"
   ]
  },
  {
   "cell_type": "markdown",
   "metadata": {},
   "source": [
    "## itertools\n"
   ]
  },
  {
   "cell_type": "code",
   "execution_count": 42,
   "metadata": {},
   "outputs": [],
   "source": [
    "from itertools import product, permutations, combinations, cycle, accumulate, groupby"
   ]
  },
  {
   "cell_type": "markdown",
   "metadata": {},
   "source": [
    "### product\n"
   ]
  },
  {
   "cell_type": "code",
   "execution_count": 43,
   "metadata": {},
   "outputs": [
    {
     "name": "stdout",
     "output_type": "stream",
     "text": [
      "[(1, 'a'), (1, 'b'), (2, 'a'), (2, 'b')]\n"
     ]
    }
   ],
   "source": [
    "# 笛卡尔积\n",
    "print(list(product([1, 2], [\"a\", \"b\"])))  # [(1, 'a'), (1, 'b'), (2, 'a'), (2, 'b')]"
   ]
  },
  {
   "cell_type": "markdown",
   "metadata": {},
   "source": [
    "### permutations\n"
   ]
  },
  {
   "cell_type": "code",
   "execution_count": 44,
   "metadata": {},
   "outputs": [
    {
     "name": "stdout",
     "output_type": "stream",
     "text": [
      "[(1, 2), (1, 3), (2, 1), (2, 3), (3, 1), (3, 2)]\n"
     ]
    }
   ],
   "source": [
    "# 全排列\n",
    "print(list(permutations([1, 2, 3], 2)))  # [(1, 2), (1, 3), (2, 1), ...]"
   ]
  },
  {
   "cell_type": "markdown",
   "metadata": {},
   "source": [
    "### combinations\n"
   ]
  },
  {
   "cell_type": "code",
   "execution_count": 45,
   "metadata": {},
   "outputs": [
    {
     "name": "stdout",
     "output_type": "stream",
     "text": [
      "[(1, 2), (1, 3), (2, 3)]\n"
     ]
    }
   ],
   "source": [
    "# 组合\n",
    "print(list(combinations([1, 2, 3], 2)))  # [(1, 2), (1, 3), (2, 3)]"
   ]
  },
  {
   "cell_type": "markdown",
   "metadata": {},
   "source": [
    "### cycle\n"
   ]
  },
  {
   "cell_type": "code",
   "execution_count": 46,
   "metadata": {},
   "outputs": [
    {
     "name": "stdout",
     "output_type": "stream",
     "text": [
      "1 2\n"
     ]
    }
   ],
   "source": [
    "# 无限循环\n",
    "cycle_list = cycle([1, 2, 3])\n",
    "print(next(cycle_list), next(cycle_list))  # 1, 2"
   ]
  },
  {
   "cell_type": "markdown",
   "metadata": {},
   "source": [
    "### accumulate\n"
   ]
  },
  {
   "cell_type": "code",
   "execution_count": 47,
   "metadata": {},
   "outputs": [
    {
     "name": "stdout",
     "output_type": "stream",
     "text": [
      "[1, 3, 6, 10]\n"
     ]
    }
   ],
   "source": [
    "# 累积求和\n",
    "print(list(accumulate([1, 2, 3, 4])))  # [1, 3, 6, 10]"
   ]
  },
  {
   "cell_type": "markdown",
   "metadata": {},
   "source": [
    "### groupby\n"
   ]
  },
  {
   "cell_type": "code",
   "execution_count": 48,
   "metadata": {},
   "outputs": [
    {
     "name": "stdout",
     "output_type": "stream",
     "text": [
      "25 [{'name': 'Bob', 'age': 25}, {'name': 'Charlie', 'age': 25}]\n",
      "30 [{'name': 'Alice', 'age': 30}]\n"
     ]
    }
   ],
   "source": [
    "# 分组\n",
    "data = [\n",
    "    {\"name\": \"Alice\", \"age\": 30},\n",
    "    {\"name\": \"Bob\", \"age\": 25},\n",
    "    {\"name\": \"Charlie\", \"age\": 25},\n",
    "]\n",
    "grouped = groupby(sorted(data, key=lambda x: x[\"age\"]), key=lambda x: x[\"age\"])\n",
    "for k, v in grouped:\n",
    "    print(k, list(v))"
   ]
  },
  {
   "cell_type": "markdown",
   "metadata": {},
   "source": [
    "## heapq\n"
   ]
  },
  {
   "cell_type": "code",
   "execution_count": 51,
   "metadata": {},
   "outputs": [
    {
     "name": "stdout",
     "output_type": "stream",
     "text": [
      "[10]\n",
      "[10, 20]\n",
      "[5, 20, 10]\n",
      "[1, 5, 10, 20]\n"
     ]
    }
   ],
   "source": [
    "from heapq import heappush, heappop, heapify  # 从heapq模块中导入相关函数\n",
    "# 堆是一个特殊的树形数据结构，通常用于实现优先队列\n",
    "# 堆的实现\n",
    "# 堆是一个特殊的树形数据结构，通常用于实现优先队列\n",
    "heap = []\n",
    "heappush(heap, 10)\n",
    "print(heap)  # 打印堆的内容\n",
    "heappush(heap, 20)\n",
    "print(heap)  # 打印堆的内容\n",
    "heappush(heap, 5)\n",
    "print(heap)  # 打印堆的内容\n",
    "heappush(heap, 1)\n",
    "print(heap)  # 打印堆的内容"
   ]
  },
  {
   "cell_type": "markdown",
   "metadata": {},
   "source": [
    "## bisect\n"
   ]
  },
  {
   "cell_type": "markdown",
   "metadata": {},
   "source": [
    "## math, statistics 数学工具\n"
   ]
  },
  {
   "cell_type": "code",
   "execution_count": 49,
   "metadata": {},
   "outputs": [
    {
     "name": "stdout",
     "output_type": "stream",
     "text": [
      "6\n",
      "120\n",
      "3\n",
      "10\n",
      "6\n"
     ]
    }
   ],
   "source": [
    "import math\n",
    "import statistics\n",
    "\n",
    "print(math.gcd(48, 18))  # 6\n",
    "print(math.factorial(5))  # 120\n",
    "print(math.isqrt(10))  # 3\n",
    "print(math.comb(5, 2))  # 10  (5 选 2 组合)\n",
    "print(statistics.median([1, 3, 3, 6, 7, 8, 9]))  # 6"
   ]
  },
  {
   "cell_type": "markdown",
   "metadata": {},
   "source": [
    "## pandas 数据表格\n"
   ]
  },
  {
   "cell_type": "code",
   "execution_count": null,
   "metadata": {},
   "outputs": [],
   "source": []
  },
  {
   "cell_type": "markdown",
   "metadata": {},
   "source": [
    "## re, textwrap 字符串处理\n"
   ]
  },
  {
   "cell_type": "code",
   "execution_count": 50,
   "metadata": {},
   "outputs": [
    {
     "name": "stdout",
     "output_type": "stream",
     "text": [
      "['123', '456']\n",
      "hello X world X\n",
      "This is a\n",
      "very long\n",
      "sentence\n",
      "that needs\n",
      "wrapping.\n"
     ]
    }
   ],
   "source": [
    "import re\n",
    "import textwrap\n",
    "\n",
    "text = \"hello 123 world 456\"\n",
    "print(re.findall(r\"\\d+\", text))  # ['123', '456']\n",
    "print(re.sub(r\"\\d+\", \"X\", text))  # 'hello X world X'\n",
    "\n",
    "wrapped_text = textwrap.wrap(\n",
    "    \"This is a very long sentence that needs wrapping.\", width=10\n",
    ")\n",
    "print(\"\\n\".join(wrapped_text))  # 自动换行"
   ]
  },
  {
   "cell_type": "markdown",
   "metadata": {},
   "source": []
  }
 ],
 "metadata": {
  "kernelspec": {
   "display_name": ".venv",
   "language": "python",
   "name": "python3"
  },
  "language_info": {
   "codemirror_mode": {
    "name": "ipython",
    "version": 3
   },
   "file_extension": ".py",
   "mimetype": "text/x-python",
   "name": "python",
   "nbconvert_exporter": "python",
   "pygments_lexer": "ipython3",
   "version": "3.12.7"
  }
 },
 "nbformat": 4,
 "nbformat_minor": 2
}
