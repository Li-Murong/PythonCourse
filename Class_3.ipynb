{
 "cells": [
  {
   "cell_type": "markdown",
   "metadata": {},
   "source": [
    "# 高效工具"
   ]
  },
  {
   "cell_type": "markdown",
   "metadata": {},
   "source": [
    "## collections"
   ]
  },
  {
   "cell_type": "markdown",
   "metadata": {},
   "source": [
    "### defaultdict 快速定义字典类型"
   ]
  },
  {
   "cell_type": "markdown",
   "metadata": {},
   "source": [
    "#### 字典与整数的结合：defaultdict(int)"
   ]
  },
  {
   "cell_type": "code",
   "execution_count": 1,
   "metadata": {},
   "outputs": [
    {
     "data": {
      "text/plain": [
       "defaultdict(int, {'a': 3, 'b': 3, 'c': 2})"
      ]
     },
     "execution_count": 1,
     "metadata": {},
     "output_type": "execute_result"
    }
   ],
   "source": [
    "import collections  # 导入collections模块\n",
    "\n",
    "di = collections.defaultdict(int)  # 从collections模块中导入defaultdict类\n",
    "ls = [\"a\", \"b\", \"a\", \"b\", \"c\", \"a\", \"b\", \"c\"]  # 定义一个列表\n",
    "for i in ls:  # 遍历列表中的每个元素\n",
    "    di[i] += 1  # 将每个元素的值加1\n",
    "di  # 打印结果"
   ]
  },
  {
   "cell_type": "code",
   "execution_count": 2,
   "metadata": {},
   "outputs": [
    {
     "data": {
      "text/plain": [
       "defaultdict(int, {'a': 3, 'b': 3, 'c': 2})"
      ]
     },
     "execution_count": 2,
     "metadata": {},
     "output_type": "execute_result"
    }
   ],
   "source": [
    "# 从collections模块中导入defaultdict类，这样子可以直接使用defaultdict，省略collections前缀\n",
    "from collections import defaultdict\n",
    "\n",
    "di1 = defaultdict(int)  # 创建一个defaultdict对象，默认值为int类型\n",
    "for i in ls:  # 遍历列表中的每个元素\n",
    "    di1[i] += 1  # 将每个元素的值加1\n",
    "di1  # 打印结果"
   ]
  },
  {
   "cell_type": "markdown",
   "metadata": {},
   "source": [
    "#### 字典与列表的结合：defaultdict(list)"
   ]
  },
  {
   "cell_type": "code",
   "execution_count": 3,
   "metadata": {},
   "outputs": [
    {
     "data": {
      "text/plain": [
       "defaultdict(list, {'a': [1, 3], 'b': [2, 4], 'c': [5]})"
      ]
     },
     "execution_count": 3,
     "metadata": {},
     "output_type": "execute_result"
    }
   ],
   "source": [
    "dl=defaultdict(list)  # 创建一个defaultdict对象，默认值为list类型\n",
    "key_value = [(\"a\", 1), (\"b\", 2), (\"a\", 3), (\"b\", 4), (\"c\", 5)]  # 定义一个包含元组的列表\n",
    "\n",
    "for key, value in key_value:  # 遍历列表中的每个元组\n",
    "    dl[key].append(value)  # 将元组的第二个元素添加到字典中对应键的列表中\n",
    "dl  # 打印结果"
   ]
  },
  {
   "cell_type": "markdown",
   "metadata": {},
   "source": [
    "#### 字典与集合的结合：defaultdict(set)"
   ]
  },
  {
   "cell_type": "code",
   "execution_count": 4,
   "metadata": {},
   "outputs": [
    {
     "data": {
      "text/plain": [
       "defaultdict(set, {'a': {1, 3}, 'b': {2, 4}, 'c': {5}})"
      ]
     },
     "execution_count": 4,
     "metadata": {},
     "output_type": "execute_result"
    }
   ],
   "source": [
    "ds=defaultdict(set)  # 创建一个defaultdict对象，默认值为set类型\n",
    "key_value = [(\"a\", 1), (\"b\", 2), (\"a\", 3), (\"b\", 4), (\"c\", 5)]  # 定义一个包含元组的列表\n",
    "\n",
    "for key, value in key_value:  # 遍历列表中的每个元组\n",
    "    ds[key].add(value)  # 将元组的第二个元素添加到字典中对应键的集合中\n",
    "ds  # 打印结果"
   ]
  },
  {
   "cell_type": "markdown",
   "metadata": {},
   "source": [
    "### counter 计数器"
   ]
  },
  {
   "cell_type": "code",
   "execution_count": 6,
   "metadata": {},
   "outputs": [
    {
     "data": {
      "text/plain": [
       "Counter({'a': 3, 'b': 3, 'c': 3, 'e': 2, 'd': 1})"
      ]
     },
     "execution_count": 6,
     "metadata": {},
     "output_type": "execute_result"
    }
   ],
   "source": [
    "from collections import Counter  # 从collections模块中导入Counter类\n",
    "# Counter是一个字典子类，用于计数可哈希对象\n",
    "string = \"abcaabbccdee\"  # 定义一个字符串\n",
    "counter = Counter(string)  # 创建一个Counter对象，统计字符串中每个字符的出现次数\n",
    "counter  # 打印结果"
   ]
  },
  {
   "cell_type": "code",
   "execution_count": 10,
   "metadata": {},
   "outputs": [
    {
     "name": "stdout",
     "output_type": "stream",
     "text": [
      "[('a', 3), ('b', 3)]\n",
      "[('a', 3), ('b', 3), ('c', 3), ('e', 2), ('d', 1)]\n",
      "dict_keys(['a', 'b', 'c', 'd', 'e'])\n",
      "dict_values([3, 3, 3, 1, 2])\n",
      "dict_items([('a', 3), ('b', 3), ('c', 3), ('d', 1), ('e', 2)])\n",
      "3\n",
      "0\n"
     ]
    }
   ],
   "source": [
    "print(counter.most_common(2))  # 打印出现次数最多的两个字符及其次数\n",
    "print(counter.most_common())  # 打印所有字符及其出现次数\n",
    "print(counter.keys())  # 打印所有字符\n",
    "print(counter.values())  # 打印所有字符的出现次数\n",
    "print(counter.items())  # 打印所有字符及其出现次数的元组\n",
    "print(counter['a'])  # 打印字符'a'的出现次数\n",
    "print(counter['z'])  # 打印字符'z'的出现次数，如果不存在则返回0"
   ]
  },
  {
   "cell_type": "code",
   "execution_count": null,
   "metadata": {},
   "outputs": [
    {
     "name": "stdout",
     "output_type": "stream",
     "text": [
      "Counter({'a': 3, 'b': 3})\n"
     ]
    },
    {
     "data": {
      "text/plain": [
       "Counter({'b': 2, 'a': 1})"
      ]
     },
     "execution_count": 13,
     "metadata": {},
     "output_type": "execute_result"
    }
   ],
   "source": [
    "# Counter对象的加法操作\n",
    "counter1 = Counter(a=1, b=2)  # 创建一个Counter对象\n",
    "counter2 = Counter(a=2, b=1)  # 创建另一个Counter对象\n",
    "counter3 = counter1 + counter2  # 将两个Counter对象相加\n",
    "print(counter3)  # 打印结果"
   ]
  },
  {
   "cell_type": "markdown",
   "metadata": {},
   "source": [
    "### deque"
   ]
  },
  {
   "cell_type": "code",
   "execution_count": null,
   "metadata": {},
   "outputs": [],
   "source": []
  },
  {
   "cell_type": "markdown",
   "metadata": {},
   "source": [
    "- itertools\n",
    "  - product\n",
    "  - permutations\n",
    "  - combinations\n",
    "  - groupby"
   ]
  },
  {
   "cell_type": "code",
   "execution_count": null,
   "metadata": {},
   "outputs": [],
   "source": [
    "from itertools import product, permutations, combinations, cycle, accumulate, groupby\n",
    "\n",
    "# 笛卡尔积\n",
    "print(list(product([1, 2], [\"a\", \"b\"])))  # [(1, 'a'), (1, 'b'), (2, 'a'), (2, 'b')]\n",
    "\n",
    "# 全排列\n",
    "print(list(permutations([1, 2, 3], 2)))  # [(1, 2), (1, 3), (2, 1), ...]\n",
    "\n",
    "# 组合\n",
    "print(list(combinations([1, 2, 3], 2)))  # [(1, 2), (1, 3), (2, 3)]\n",
    "\n",
    "# 无限循环\n",
    "cycle_list = cycle([1, 2, 3])\n",
    "print(next(cycle_list), next(cycle_list))  # 1, 2\n",
    "\n",
    "# 累积求和\n",
    "print(list(accumulate([1, 2, 3, 4])))  # [1, 3, 6, 10]\n",
    "\n",
    "# 分组\n",
    "data = [\n",
    "    {\"name\": \"Alice\", \"age\": 30},\n",
    "    {\"name\": \"Bob\", \"age\": 25},\n",
    "    {\"name\": \"Charlie\", \"age\": 25},\n",
    "]\n",
    "grouped = groupby(sorted(data, key=lambda x: x[\"age\"]), key=lambda x: x[\"age\"])\n",
    "for k, v in grouped:\n",
    "    print(\n",
    "        k, list(v)\n",
    "    )  # 25 -> [{'name': 'Bob', 'age': 25}, {'name': 'Charlie', 'age': 25}]"
   ]
  },
  {
   "cell_type": "markdown",
   "metadata": {},
   "source": [
    "## functools"
   ]
  },
  {
   "cell_type": "markdown",
   "metadata": {},
   "source": [
    "### lru_cache"
   ]
  },
  {
   "cell_type": "markdown",
   "metadata": {},
   "source": [
    "### partial"
   ]
  },
  {
   "cell_type": "code",
   "execution_count": null,
   "metadata": {},
   "outputs": [],
   "source": []
  },
  {
   "cell_type": "markdown",
   "metadata": {},
   "source": [
    "## heapq"
   ]
  },
  {
   "cell_type": "markdown",
   "metadata": {},
   "source": [
    "## bisect"
   ]
  },
  {
   "cell_type": "markdown",
   "metadata": {},
   "source": [
    "## math, statistics 数学工具"
   ]
  },
  {
   "cell_type": "code",
   "execution_count": null,
   "metadata": {},
   "outputs": [],
   "source": [
    "import math\n",
    "import statistics\n",
    "\n",
    "print(math.gcd(48, 18))  # 6\n",
    "print(math.factorial(5))  # 120\n",
    "print(math.isqrt(10))  # 3\n",
    "print(math.comb(5, 2))  # 10  (5 选 2 组合)\n",
    "print(statistics.median([1, 3, 3, 6, 7, 8, 9]))  # 6"
   ]
  },
  {
   "cell_type": "markdown",
   "metadata": {},
   "source": [
    "## pandas 数据表格"
   ]
  },
  {
   "cell_type": "code",
   "execution_count": null,
   "metadata": {},
   "outputs": [],
   "source": []
  },
  {
   "cell_type": "markdown",
   "metadata": {},
   "source": [
    "## re, textwrap 字符串处理"
   ]
  },
  {
   "cell_type": "code",
   "execution_count": 14,
   "metadata": {},
   "outputs": [
    {
     "name": "stdout",
     "output_type": "stream",
     "text": [
      "['123', '456']\n",
      "hello X world X\n",
      "This is a\n",
      "very long\n",
      "sentence\n",
      "that needs\n",
      "wrapping.\n"
     ]
    }
   ],
   "source": [
    "import re\n",
    "import textwrap\n",
    "\n",
    "text = \"hello 123 world 456\"\n",
    "print(re.findall(r\"\\d+\", text))  # ['123', '456']\n",
    "print(re.sub(r\"\\d+\", \"X\", text))  # 'hello X world X'\n",
    "\n",
    "wrapped_text = textwrap.wrap(\n",
    "    \"This is a very long sentence that needs wrapping.\", width=10\n",
    ")\n",
    "print(\"\\n\".join(wrapped_text))  # 自动换行"
   ]
  },
  {
   "cell_type": "markdown",
   "metadata": {},
   "source": []
  }
 ],
 "metadata": {
  "kernelspec": {
   "display_name": ".venv",
   "language": "python",
   "name": "python3"
  },
  "language_info": {
   "codemirror_mode": {
    "name": "ipython",
    "version": 3
   },
   "file_extension": ".py",
   "mimetype": "text/x-python",
   "name": "python",
   "nbconvert_exporter": "python",
   "pygments_lexer": "ipython3",
   "version": "3.12.7"
  }
 },
 "nbformat": 4,
 "nbformat_minor": 2
}
