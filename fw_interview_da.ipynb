{
 "cells": [
  {
   "cell_type": "code",
   "execution_count": 10,
   "metadata": {
    "execution": {
     "iopub.execute_input": "2025-03-26T06:10:08.920547Z",
     "iopub.status.busy": "2025-03-26T06:10:08.920309Z",
     "iopub.status.idle": "2025-03-26T06:10:10.110260Z",
     "shell.execute_reply": "2025-03-26T06:10:10.109193Z",
     "shell.execute_reply.started": "2025-03-26T06:10:08.920525Z"
    },
    "trusted": true
   },
   "outputs": [],
   "source": [
    "import pandas as pd\n",
    "import numpy as np"
   ]
  },
  {
   "cell_type": "code",
   "execution_count": 11,
   "metadata": {
    "execution": {
     "iopub.execute_input": "2025-03-26T06:15:18.364905Z",
     "iopub.status.busy": "2025-03-26T06:15:18.364598Z",
     "iopub.status.idle": "2025-03-26T06:15:18.372508Z",
     "shell.execute_reply": "2025-03-26T06:15:18.371501Z",
     "shell.execute_reply.started": "2025-03-26T06:15:18.364882Z"
    },
    "trusted": true
   },
   "outputs": [
    {
     "name": "stdout",
     "output_type": "stream",
     "text": [
      "0\n",
      "6\n"
     ]
    }
   ],
   "source": [
    "# Find the smallest missing data from the given list.\n",
    "# 查找给定列表里的最小缺失值\n",
    "\n",
    "l1 = [3, 4, -2, -1, 1, 5]  # Expected result: 0\n",
    "l2 = [1, 3, 2, 0, 5, 4]  # Expected result: 6\n",
    "\n",
    "\n",
    "# Answer\n",
    "def findlost(nums):\n",
    "    res = sorted(nums)\n",
    "    for i in range(1, len(res)):\n",
    "        if res[i] != res[i - 1] + 1:\n",
    "            return res[i - 1] + 1\n",
    "    return res[-1] + 1\n",
    "\n",
    "\n",
    "print(findlost(l1))\n",
    "print(findlost(l2))"
   ]
  },
  {
   "cell_type": "code",
   "execution_count": 12,
   "metadata": {
    "execution": {
     "iopub.execute_input": "2025-03-26T06:15:30.939754Z",
     "iopub.status.busy": "2025-03-26T06:15:30.939442Z",
     "iopub.status.idle": "2025-03-26T06:15:30.977357Z",
     "shell.execute_reply": "2025-03-26T06:15:30.976315Z",
     "shell.execute_reply.started": "2025-03-26T06:15:30.939732Z"
    },
    "trusted": true
   },
   "outputs": [
    {
     "data": {
      "application/vnd.microsoft.datawrangler.viewer.v0+json": {
       "columns": [
        {
         "name": "index",
         "rawType": "int64",
         "type": "integer"
        },
        {
         "name": "Product",
         "rawType": "object",
         "type": "string"
        },
        {
         "name": "Category",
         "rawType": "object",
         "type": "string"
        },
        {
         "name": "Quantity",
         "rawType": "float64",
         "type": "float"
        },
        {
         "name": "Price_Per_Unit",
         "rawType": "float64",
         "type": "float"
        },
        {
         "name": "Date",
         "rawType": "object",
         "type": "string"
        },
        {
         "name": "Target",
         "rawType": "int64",
         "type": "integer"
        }
       ],
       "conversionMethod": "pd.DataFrame",
       "ref": "a9970727-f568-41b7-b411-8e7afa6d6b3c",
       "rows": [
        [
         "0",
         "Laptop",
         "Electronics",
         "1.0",
         "1500.0",
         "2023-01-01",
         "0"
        ],
        [
         "1",
         "Smartphone",
         "Electronics",
         null,
         "350.0",
         "2023-01-02",
         "1"
        ],
        [
         "2",
         "Tablet",
         "Electronics",
         "1.0",
         null,
         "2023-01-08",
         "0"
        ],
        [
         "3",
         "Smartwatch",
         "Wearables",
         "3.0",
         "83.33",
         "2023-01-15",
         "1"
        ],
        [
         "4",
         "Laptop",
         "Electronics",
         "1.0",
         "1600.0",
         "2023-01-16",
         "0"
        ],
        [
         "5",
         "Smartphone",
         "Electronics",
         "2.0",
         "400.0",
         "2023-02-01",
         "1"
        ],
        [
         "6",
         "Tablet",
         "Electronics",
         "1.0",
         "350.0",
         "2023-02-02",
         "0"
        ],
        [
         "7",
         "Smartwatch",
         "Wearables",
         "3.0",
         "-33.33",
         "2023-02-03",
         "1"
        ],
        [
         "8",
         "Laptop",
         "Electronics",
         "1.0",
         "1800.0",
         "2023-02-04",
         "0"
        ],
        [
         "9",
         "Smartphone",
         "Electronics",
         "2.0",
         "400.0",
         "2023-02-05",
         "1"
        ]
       ],
       "shape": {
        "columns": 6,
        "rows": 10
       }
      },
      "text/html": [
       "<div>\n",
       "<style scoped>\n",
       "    .dataframe tbody tr th:only-of-type {\n",
       "        vertical-align: middle;\n",
       "    }\n",
       "\n",
       "    .dataframe tbody tr th {\n",
       "        vertical-align: top;\n",
       "    }\n",
       "\n",
       "    .dataframe thead th {\n",
       "        text-align: right;\n",
       "    }\n",
       "</style>\n",
       "<table border=\"1\" class=\"dataframe\">\n",
       "  <thead>\n",
       "    <tr style=\"text-align: right;\">\n",
       "      <th></th>\n",
       "      <th>Product</th>\n",
       "      <th>Category</th>\n",
       "      <th>Quantity</th>\n",
       "      <th>Price_Per_Unit</th>\n",
       "      <th>Date</th>\n",
       "      <th>Target</th>\n",
       "    </tr>\n",
       "  </thead>\n",
       "  <tbody>\n",
       "    <tr>\n",
       "      <th>0</th>\n",
       "      <td>Laptop</td>\n",
       "      <td>Electronics</td>\n",
       "      <td>1.0</td>\n",
       "      <td>1500.00</td>\n",
       "      <td>2023-01-01</td>\n",
       "      <td>0</td>\n",
       "    </tr>\n",
       "    <tr>\n",
       "      <th>1</th>\n",
       "      <td>Smartphone</td>\n",
       "      <td>Electronics</td>\n",
       "      <td>NaN</td>\n",
       "      <td>350.00</td>\n",
       "      <td>2023-01-02</td>\n",
       "      <td>1</td>\n",
       "    </tr>\n",
       "    <tr>\n",
       "      <th>2</th>\n",
       "      <td>Tablet</td>\n",
       "      <td>Electronics</td>\n",
       "      <td>1.0</td>\n",
       "      <td>NaN</td>\n",
       "      <td>2023-01-08</td>\n",
       "      <td>0</td>\n",
       "    </tr>\n",
       "    <tr>\n",
       "      <th>3</th>\n",
       "      <td>Smartwatch</td>\n",
       "      <td>Wearables</td>\n",
       "      <td>3.0</td>\n",
       "      <td>83.33</td>\n",
       "      <td>2023-01-15</td>\n",
       "      <td>1</td>\n",
       "    </tr>\n",
       "    <tr>\n",
       "      <th>4</th>\n",
       "      <td>Laptop</td>\n",
       "      <td>Electronics</td>\n",
       "      <td>1.0</td>\n",
       "      <td>1600.00</td>\n",
       "      <td>2023-01-16</td>\n",
       "      <td>0</td>\n",
       "    </tr>\n",
       "    <tr>\n",
       "      <th>5</th>\n",
       "      <td>Smartphone</td>\n",
       "      <td>Electronics</td>\n",
       "      <td>2.0</td>\n",
       "      <td>400.00</td>\n",
       "      <td>2023-02-01</td>\n",
       "      <td>1</td>\n",
       "    </tr>\n",
       "    <tr>\n",
       "      <th>6</th>\n",
       "      <td>Tablet</td>\n",
       "      <td>Electronics</td>\n",
       "      <td>1.0</td>\n",
       "      <td>350.00</td>\n",
       "      <td>2023-02-02</td>\n",
       "      <td>0</td>\n",
       "    </tr>\n",
       "    <tr>\n",
       "      <th>7</th>\n",
       "      <td>Smartwatch</td>\n",
       "      <td>Wearables</td>\n",
       "      <td>3.0</td>\n",
       "      <td>-33.33</td>\n",
       "      <td>2023-02-03</td>\n",
       "      <td>1</td>\n",
       "    </tr>\n",
       "    <tr>\n",
       "      <th>8</th>\n",
       "      <td>Laptop</td>\n",
       "      <td>Electronics</td>\n",
       "      <td>1.0</td>\n",
       "      <td>1800.00</td>\n",
       "      <td>2023-02-04</td>\n",
       "      <td>0</td>\n",
       "    </tr>\n",
       "    <tr>\n",
       "      <th>9</th>\n",
       "      <td>Smartphone</td>\n",
       "      <td>Electronics</td>\n",
       "      <td>2.0</td>\n",
       "      <td>400.00</td>\n",
       "      <td>2023-02-05</td>\n",
       "      <td>1</td>\n",
       "    </tr>\n",
       "  </tbody>\n",
       "</table>\n",
       "</div>"
      ],
      "text/plain": [
       "      Product     Category  Quantity  Price_Per_Unit        Date  Target\n",
       "0      Laptop  Electronics       1.0         1500.00  2023-01-01       0\n",
       "1  Smartphone  Electronics       NaN          350.00  2023-01-02       1\n",
       "2      Tablet  Electronics       1.0             NaN  2023-01-08       0\n",
       "3  Smartwatch    Wearables       3.0           83.33  2023-01-15       1\n",
       "4      Laptop  Electronics       1.0         1600.00  2023-01-16       0\n",
       "5  Smartphone  Electronics       2.0          400.00  2023-02-01       1\n",
       "6      Tablet  Electronics       1.0          350.00  2023-02-02       0\n",
       "7  Smartwatch    Wearables       3.0          -33.33  2023-02-03       1\n",
       "8      Laptop  Electronics       1.0         1800.00  2023-02-04       0\n",
       "9  Smartphone  Electronics       2.0          400.00  2023-02-05       1"
      ]
     },
     "execution_count": 12,
     "metadata": {},
     "output_type": "execute_result"
    }
   ],
   "source": [
    "# Given the sales data, answer the questions.\n",
    "data = pd.DataFrame(\n",
    "    {\n",
    "        \"Product\": [\n",
    "            \"Laptop\",\n",
    "            \"Smartphone\",\n",
    "            \"Tablet\",\n",
    "            \"Smartwatch\",\n",
    "            \"Laptop\",\n",
    "            \"Smartphone\",\n",
    "            \"Tablet\",\n",
    "            \"Smartwatch\",\n",
    "            \"Laptop\",\n",
    "            \"Smartphone\",\n",
    "        ],\n",
    "        \"Category\": [\n",
    "            \"Electronics\",\n",
    "            \"Electronics\",\n",
    "            \"Electronics\",\n",
    "            \"Wearables\",\n",
    "            \"Electronics\",\n",
    "            \"Electronics\",\n",
    "            \"Electronics\",\n",
    "            \"Wearables\",\n",
    "            \"Electronics\",\n",
    "            \"Electronics\",\n",
    "        ],\n",
    "        \"Quantity\": [1, np.nan, 1, 3, 1, 2, 1, 3, 1, 2],\n",
    "        \"Price_Per_Unit\": [1500, 350, np.nan, 83.33, 1600, 400, 350, -33.33, 1800, 400],\n",
    "        \"Date\": [\n",
    "            \"2023-01-01\",\n",
    "            \"2023-01-02\",\n",
    "            \"2023-01-08\",\n",
    "            \"2023-01-15\",\n",
    "            \"2023-01-16\",\n",
    "            \"2023-02-01\",\n",
    "            \"2023-02-02\",\n",
    "            \"2023-02-03\",\n",
    "            \"2023-02-04\",\n",
    "            \"2023-02-05\",\n",
    "        ],\n",
    "        \"Target\": [0, 1, 0, 1, 0, 1, 0, 1, 0, 1],\n",
    "    }\n",
    ")\n",
    "\n",
    "data"
   ]
  },
  {
   "cell_type": "code",
   "execution_count": 13,
   "metadata": {
    "execution": {
     "iopub.execute_input": "2025-03-26T06:20:42.541685Z",
     "iopub.status.busy": "2025-03-26T06:20:42.541353Z",
     "iopub.status.idle": "2025-03-26T06:20:42.553457Z",
     "shell.execute_reply": "2025-03-26T06:20:42.551648Z",
     "shell.execute_reply.started": "2025-03-26T06:20:42.541658Z"
    },
    "trusted": true
   },
   "outputs": [
    {
     "name": "stderr",
     "output_type": "stream",
     "text": [
      "/var/folders/l9/96w4r89d2kz_ghml_zxzqc5c0000gn/T/ipykernel_49196/4055953374.py:7: FutureWarning: A value is trying to be set on a copy of a DataFrame or Series through chained assignment using an inplace method.\n",
      "The behavior will change in pandas 3.0. This inplace method will never work because the intermediate object on which we are setting values always behaves as a copy.\n",
      "\n",
      "For example, when doing 'df[col].method(value, inplace=True)', try using 'df.method({col: value}, inplace=True)' or df[col] = df[col].method(value) instead, to perform the operation inplace on the original object.\n",
      "\n",
      "\n",
      "  data[\"Quantity\"].fillna(data[\"Quantity\"].mean(), inplace=True)\n",
      "/var/folders/l9/96w4r89d2kz_ghml_zxzqc5c0000gn/T/ipykernel_49196/4055953374.py:8: FutureWarning: A value is trying to be set on a copy of a DataFrame or Series through chained assignment using an inplace method.\n",
      "The behavior will change in pandas 3.0. This inplace method will never work because the intermediate object on which we are setting values always behaves as a copy.\n",
      "\n",
      "For example, when doing 'df[col].method(value, inplace=True)', try using 'df.method({col: value}, inplace=True)' or df[col] = df[col].method(value) instead, to perform the operation inplace on the original object.\n",
      "\n",
      "\n",
      "  data[\"Price_Per_Unit\"].replace(-33.33, np.nan, inplace=True)\n",
      "/var/folders/l9/96w4r89d2kz_ghml_zxzqc5c0000gn/T/ipykernel_49196/4055953374.py:9: FutureWarning: A value is trying to be set on a copy of a DataFrame or Series through chained assignment using an inplace method.\n",
      "The behavior will change in pandas 3.0. This inplace method will never work because the intermediate object on which we are setting values always behaves as a copy.\n",
      "\n",
      "For example, when doing 'df[col].method(value, inplace=True)', try using 'df.method({col: value}, inplace=True)' or df[col] = df[col].method(value) instead, to perform the operation inplace on the original object.\n",
      "\n",
      "\n",
      "  data[\"Price_Per_Unit\"].fillna(data[\"Price_Per_Unit\"].mean(), inplace=True)\n"
     ]
    },
    {
     "data": {
      "application/vnd.microsoft.datawrangler.viewer.v0+json": {
       "columns": [
        {
         "name": "index",
         "rawType": "int64",
         "type": "integer"
        },
        {
         "name": "Product",
         "rawType": "object",
         "type": "string"
        },
        {
         "name": "Category",
         "rawType": "object",
         "type": "string"
        },
        {
         "name": "Quantity",
         "rawType": "float64",
         "type": "float"
        },
        {
         "name": "Price_Per_Unit",
         "rawType": "float64",
         "type": "float"
        },
        {
         "name": "Date",
         "rawType": "object",
         "type": "string"
        },
        {
         "name": "Target",
         "rawType": "int64",
         "type": "integer"
        },
        {
         "name": "Total",
         "rawType": "float64",
         "type": "float"
        }
       ],
       "conversionMethod": "pd.DataFrame",
       "ref": "c49b65b2-8c1d-42a9-9570-abf9879a4a66",
       "rows": [
        [
         "6",
         "Tablet",
         "Electronics",
         "1.0",
         "350.0",
         "2023-02-02",
         "0",
         "350.0"
        ],
        [
         "3",
         "Smartwatch",
         "Wearables",
         "3.0",
         "83.33",
         "2023-01-15",
         "1",
         "249.99"
        ]
       ],
       "shape": {
        "columns": 7,
        "rows": 2
       }
      },
      "text/html": [
       "<div>\n",
       "<style scoped>\n",
       "    .dataframe tbody tr th:only-of-type {\n",
       "        vertical-align: middle;\n",
       "    }\n",
       "\n",
       "    .dataframe tbody tr th {\n",
       "        vertical-align: top;\n",
       "    }\n",
       "\n",
       "    .dataframe thead th {\n",
       "        text-align: right;\n",
       "    }\n",
       "</style>\n",
       "<table border=\"1\" class=\"dataframe\">\n",
       "  <thead>\n",
       "    <tr style=\"text-align: right;\">\n",
       "      <th></th>\n",
       "      <th>Product</th>\n",
       "      <th>Category</th>\n",
       "      <th>Quantity</th>\n",
       "      <th>Price_Per_Unit</th>\n",
       "      <th>Date</th>\n",
       "      <th>Target</th>\n",
       "      <th>Total</th>\n",
       "    </tr>\n",
       "  </thead>\n",
       "  <tbody>\n",
       "    <tr>\n",
       "      <th>6</th>\n",
       "      <td>Tablet</td>\n",
       "      <td>Electronics</td>\n",
       "      <td>1.0</td>\n",
       "      <td>350.00</td>\n",
       "      <td>2023-02-02</td>\n",
       "      <td>0</td>\n",
       "      <td>350.00</td>\n",
       "    </tr>\n",
       "    <tr>\n",
       "      <th>3</th>\n",
       "      <td>Smartwatch</td>\n",
       "      <td>Wearables</td>\n",
       "      <td>3.0</td>\n",
       "      <td>83.33</td>\n",
       "      <td>2023-01-15</td>\n",
       "      <td>1</td>\n",
       "      <td>249.99</td>\n",
       "    </tr>\n",
       "  </tbody>\n",
       "</table>\n",
       "</div>"
      ],
      "text/plain": [
       "      Product     Category  Quantity  Price_Per_Unit        Date  Target  \\\n",
       "6      Tablet  Electronics       1.0          350.00  2023-02-02       0   \n",
       "3  Smartwatch    Wearables       3.0           83.33  2023-01-15       1   \n",
       "\n",
       "    Total  \n",
       "6  350.00  \n",
       "3  249.99  "
      ]
     },
     "execution_count": 13,
     "metadata": {},
     "output_type": "execute_result"
    }
   ],
   "source": [
    "# Handle missing values and outliers\n",
    "# Calculate the total sales of each product category\n",
    "# Calculate the mean, median, and standard deviation of Price_Per_Unit\n",
    "# Split a dataset into training and testing sets (80% train, 20% test)\n",
    "\n",
    "# 处理缺失值和异常值\n",
    "data[\"Quantity\"].fillna(data[\"Quantity\"].mean(), inplace=True)\n",
    "data[\"Price_Per_Unit\"].replace(-33.33, np.nan, inplace=True)\n",
    "data[\"Price_Per_Unit\"].fillna(data[\"Price_Per_Unit\"].mean(), inplace=True)\n",
    "data\n",
    "# 计算每个产品类别的总销售额\n",
    "data[\"Total\"] = data[\"Quantity\"] * data[\"Price_Per_Unit\"]\n",
    "data.groupby(\"Category\")[\"Total\"].sum()\n",
    "# 计算每单位价格的平均值、中位数和标准差\n",
    "data[\"Price_Per_Unit\"].mean()\n",
    "data[\"Price_Per_Unit\"].median()\n",
    "data[\"Price_Per_Unit\"].std()\n",
    "# 将数据集拆分为训练集和测试集（80% 训练，20% 测试）\n",
    "from sklearn.model_selection import train_test_split\n",
    "\n",
    "train, test = train_test_split(data, test_size=0.2)\n",
    "train\n",
    "test"
   ]
  },
  {
   "cell_type": "code",
   "execution_count": 14,
   "metadata": {
    "execution": {
     "iopub.execute_input": "2025-03-26T07:14:42.839956Z",
     "iopub.status.busy": "2025-03-26T07:14:42.839629Z",
     "iopub.status.idle": "2025-03-26T07:14:42.848381Z",
     "shell.execute_reply": "2025-03-26T07:14:42.847023Z",
     "shell.execute_reply.started": "2025-03-26T07:14:42.839931Z"
    },
    "trusted": true
   },
   "outputs": [
    {
     "name": "stdout",
     "output_type": "stream",
     "text": [
      "[7, 18, 87]\n"
     ]
    }
   ],
   "source": [
    "# Find the longest increasing subsequence in a list.\n",
    "# 在列表中找到最长的递增子序列\n",
    "\n",
    "l1 = [10, 9, 15, 27, 7, 18, 108, 87]  # Expected result: [7, 18, 108]\n",
    "l2 = [15, 21, 421, 14, 16, 91, 92, 93]  # Expected result: [14, 16, 91, 92, 93]\n",
    "\n",
    "\n",
    "# Answer\n",
    "def findsub(ls):\n",
    "    n = len(ls)\n",
    "    prev = [None] * n\n",
    "    for i in range(n - 1):\n",
    "        for j in range(i + 1, n):\n",
    "            if ls[j] > ls[i]:\n",
    "                prev[j] = i\n",
    "    # print(prev)\n",
    "    count = 0\n",
    "\n",
    "    for i in range(n - 1, -1, -1):\n",
    "        res = []\n",
    "        if ls[i]:\n",
    "            res.append(ls[i])\n",
    "            k = prev[i]\n",
    "            while k:\n",
    "                res.append(ls[k])\n",
    "                k = prev[k]\n",
    "            if len(res) > count:\n",
    "                count = len(res)\n",
    "                out = sorted(res)\n",
    "                res.clear()\n",
    "    return out\n",
    "\n",
    "\n",
    "print(findsub(l1))"
   ]
  },
  {
   "cell_type": "code",
   "execution_count": 15,
   "metadata": {
    "execution": {
     "iopub.execute_input": "2025-03-26T06:44:40.692463Z",
     "iopub.status.busy": "2025-03-26T06:44:40.692060Z",
     "iopub.status.idle": "2025-03-26T06:44:40.699629Z",
     "shell.execute_reply": "2025-03-26T06:44:40.698452Z",
     "shell.execute_reply.started": "2025-03-26T06:44:40.692433Z"
    },
    "trusted": true
   },
   "outputs": [
    {
     "data": {
      "text/plain": [
       "['Fruit', 'Vegetable', 'Fruit', 'Vegetable', 'Fruit']"
      ]
     },
     "execution_count": 15,
     "metadata": {},
     "output_type": "execute_result"
    }
   ],
   "source": [
    "# Replace categories in a list based on specific conditions.\n",
    "# 根据特定条件替换列表中的类别\n",
    "\n",
    "categories = [\"apple\", \"lettuce\", \"banana\", \"broccoli\", \"kiwi\"]\n",
    "mapping = {\n",
    "    \"apple\": \"Fruit\",\n",
    "    \"banana\": \"Fruit\",\n",
    "    \"kiwi\": \"Fruit\",\n",
    "    \"lettuce\": \"Vegetable\",\n",
    "    \"broccoli\": \"Vegetable\",\n",
    "}\n",
    "\n",
    "# Answer\n",
    "for i in range(len(categories)):\n",
    "    categories[i] = mapping[categories[i]]\n",
    "categories"
   ]
  },
  {
   "cell_type": "code",
   "execution_count": 16,
   "metadata": {
    "execution": {
     "iopub.execute_input": "2025-03-26T06:56:45.080563Z",
     "iopub.status.busy": "2025-03-26T06:56:45.080231Z",
     "iopub.status.idle": "2025-03-26T06:56:45.087203Z",
     "shell.execute_reply": "2025-03-26T06:56:45.086229Z",
     "shell.execute_reply.started": "2025-03-26T06:56:45.080538Z"
    },
    "trusted": true
   },
   "outputs": [
    {
     "data": {
      "text/plain": [
       "['salary', 'Other', 'address', 'Other', 'salary', 'address']"
      ]
     },
     "execution_count": 16,
     "metadata": {},
     "output_type": "execute_result"
    }
   ],
   "source": [
    "# Replace categories that appear fewer times than a specified threshold with the label 'Other'.\n",
    "# 将出现次数少于指定阈值的类别替换为“Other”\n",
    "\n",
    "categories = [\"salary\", \"policy\", \"address\", \"job\", \"salary\", \"address\"]\n",
    "threshold = 2\n",
    "\n",
    "from collections import defaultdict\n",
    "\n",
    "counts = defaultdict(int)\n",
    "for i in categories:\n",
    "    counts[i] += 1\n",
    "for i in range(len(categories)):\n",
    "    if counts[categories[i]] < 2:\n",
    "        categories[i] = \"Other\"\n",
    "categories"
   ]
  },
  {
   "cell_type": "code",
   "execution_count": 17,
   "metadata": {
    "execution": {
     "iopub.execute_input": "2025-03-26T06:52:50.739250Z",
     "iopub.status.busy": "2025-03-26T06:52:50.738833Z",
     "iopub.status.idle": "2025-03-26T06:52:50.746288Z",
     "shell.execute_reply": "2025-03-26T06:52:50.745317Z",
     "shell.execute_reply.started": "2025-03-26T06:52:50.739216Z"
    },
    "trusted": true
   },
   "outputs": [
    {
     "data": {
      "text/plain": [
       "['abc', 'acb', 'bac', 'bca', 'cab', 'cba']"
      ]
     },
     "execution_count": 17,
     "metadata": {},
     "output_type": "execute_result"
    }
   ],
   "source": [
    "# Generate all possible permutations of the characters in a string.\n",
    "# 生成字符串中字符的所有可能排列\n",
    "\n",
    "text = \"abc\"\n",
    "# Expected result:['abc', 'acb', 'bac', 'bca', 'cab', 'cba']\n",
    "\n",
    "# Answer\n",
    "from itertools import permutations\n",
    "\n",
    "text_ls = [\"a\", \"b\", \"c\"]\n",
    "out = permutations(text_ls, 3)\n",
    "# list(out)\n",
    "res = []\n",
    "for i in out:\n",
    "    ans = \"\"\n",
    "    for j in i:\n",
    "        ans += j\n",
    "    res.append(ans)\n",
    "res"
   ]
  },
  {
   "cell_type": "code",
   "execution_count": 18,
   "metadata": {
    "execution": {
     "iopub.execute_input": "2025-03-26T07:03:47.180180Z",
     "iopub.status.busy": "2025-03-26T07:03:47.179781Z",
     "iopub.status.idle": "2025-03-26T07:03:47.186125Z",
     "shell.execute_reply": "2025-03-26T07:03:47.185066Z",
     "shell.execute_reply.started": "2025-03-26T07:03:47.180148Z"
    },
    "trusted": true
   },
   "outputs": [
    {
     "name": "stdout",
     "output_type": "stream",
     "text": [
      "Pythn s  vrstl prgrmmng lngg. It s wdly sd fr wb dvlpmnt, dt nlyss, nd rtfcl ntllgnc.\n"
     ]
    }
   ],
   "source": [
    "# Remove all vowels(a, e, i, o, u) from a giving string.\n",
    "# 在给定的字符串中移除(a, e, i, o, u)\n",
    "\n",
    "text = \"Python is a versatile programming language. It is widely used for web development, data analysis, and artificial intelligence.\"\n",
    "\n",
    "# Answer\n",
    "target = [\"a\", \"e\", \"i\", \"o\", \"u\"]\n",
    "n = len(text)\n",
    "i = 0\n",
    "while i < n:\n",
    "    if text[i] in target:\n",
    "        text = text[:i] + text[i + 1 :]\n",
    "        n -= 1\n",
    "        i -= 1\n",
    "    i += 1\n",
    "print(text)"
   ]
  }
 ],
 "metadata": {
  "kaggle": {
   "accelerator": "none",
   "dataSources": [],
   "isGpuEnabled": false,
   "isInternetEnabled": true,
   "language": "python",
   "sourceType": "notebook"
  },
  "kernelspec": {
   "display_name": ".venv",
   "language": "python",
   "name": "python3"
  },
  "language_info": {
   "codemirror_mode": {
    "name": "ipython",
    "version": 3
   },
   "file_extension": ".py",
   "mimetype": "text/x-python",
   "name": "python",
   "nbconvert_exporter": "python",
   "pygments_lexer": "ipython3",
   "version": "3.12.7"
  }
 },
 "nbformat": 4,
 "nbformat_minor": 4
}
