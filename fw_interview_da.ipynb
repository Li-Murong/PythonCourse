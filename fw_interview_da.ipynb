{
 "cells": [
  {
   "cell_type": "code",
   "execution_count": 1,
   "metadata": {
    "execution": {
     "iopub.execute_input": "2025-03-26T06:10:08.920547Z",
     "iopub.status.busy": "2025-03-26T06:10:08.920309Z",
     "iopub.status.idle": "2025-03-26T06:10:10.110260Z",
     "shell.execute_reply": "2025-03-26T06:10:10.109193Z",
     "shell.execute_reply.started": "2025-03-26T06:10:08.920525Z"
    },
    "trusted": true
   },
   "outputs": [],
   "source": [
    "import pandas as pd\n",
    "import numpy as np"
   ]
  },
  {
   "cell_type": "code",
   "execution_count": 2,
   "metadata": {
    "execution": {
     "iopub.execute_input": "2025-03-26T06:15:18.364905Z",
     "iopub.status.busy": "2025-03-26T06:15:18.364598Z",
     "iopub.status.idle": "2025-03-26T06:15:18.372508Z",
     "shell.execute_reply": "2025-03-26T06:15:18.371501Z",
     "shell.execute_reply.started": "2025-03-26T06:15:18.364882Z"
    },
    "trusted": true
   },
   "outputs": [],
   "source": [
    "# Find the smallest missing data from the given list.\n",
    "# 查找给定列表里的最小缺失值\n",
    "\n",
    "l1 = [3, 4, -2, -1, 1, 5]  # Expected result: 0\n",
    "l2 = [1, 3, 2, 0, 5, 4]  # Expected result: 6\n",
    "\n",
    "\n",
    "# Answer"
   ]
  },
  {
   "cell_type": "code",
   "execution_count": 3,
   "metadata": {
    "execution": {
     "iopub.execute_input": "2025-03-26T06:15:30.939754Z",
     "iopub.status.busy": "2025-03-26T06:15:30.939442Z",
     "iopub.status.idle": "2025-03-26T06:15:30.977357Z",
     "shell.execute_reply": "2025-03-26T06:15:30.976315Z",
     "shell.execute_reply.started": "2025-03-26T06:15:30.939732Z"
    },
    "trusted": true
   },
   "outputs": [
    {
     "data": {
      "application/vnd.microsoft.datawrangler.viewer.v0+json": {
       "columns": [
        {
         "name": "index",
         "rawType": "int64",
         "type": "integer"
        },
        {
         "name": "Product",
         "rawType": "object",
         "type": "string"
        },
        {
         "name": "Category",
         "rawType": "object",
         "type": "string"
        },
        {
         "name": "Quantity",
         "rawType": "float64",
         "type": "float"
        },
        {
         "name": "Price_Per_Unit",
         "rawType": "float64",
         "type": "float"
        },
        {
         "name": "Date",
         "rawType": "object",
         "type": "string"
        },
        {
         "name": "Target",
         "rawType": "int64",
         "type": "integer"
        }
       ],
       "conversionMethod": "pd.DataFrame",
       "ref": "9aec09d6-bb3f-4531-ac49-3eea40a39774",
       "rows": [
        [
         "0",
         "Laptop",
         "Electronics",
         "1.0",
         "1500.0",
         "2023-01-01",
         "0"
        ],
        [
         "1",
         "Smartphone",
         "Electronics",
         null,
         "350.0",
         "2023-01-02",
         "1"
        ],
        [
         "2",
         "Tablet",
         "Electronics",
         "1.0",
         null,
         "2023-01-08",
         "0"
        ],
        [
         "3",
         "Smartwatch",
         "Wearables",
         "3.0",
         "83.33",
         "2023-01-15",
         "1"
        ],
        [
         "4",
         "Laptop",
         "Electronics",
         "1.0",
         "1600.0",
         "2023-01-16",
         "0"
        ],
        [
         "5",
         "Smartphone",
         "Electronics",
         "2.0",
         "400.0",
         "2023-02-01",
         "1"
        ],
        [
         "6",
         "Tablet",
         "Electronics",
         "1.0",
         "350.0",
         "2023-02-02",
         "0"
        ],
        [
         "7",
         "Smartwatch",
         "Wearables",
         "3.0",
         "-33.33",
         "2023-02-03",
         "1"
        ],
        [
         "8",
         "Laptop",
         "Electronics",
         "1.0",
         "1800.0",
         "2023-02-04",
         "0"
        ],
        [
         "9",
         "Smartphone",
         "Electronics",
         "2.0",
         "400.0",
         "2023-02-05",
         "1"
        ]
       ],
       "shape": {
        "columns": 6,
        "rows": 10
       }
      },
      "text/html": [
       "<div>\n",
       "<style scoped>\n",
       "    .dataframe tbody tr th:only-of-type {\n",
       "        vertical-align: middle;\n",
       "    }\n",
       "\n",
       "    .dataframe tbody tr th {\n",
       "        vertical-align: top;\n",
       "    }\n",
       "\n",
       "    .dataframe thead th {\n",
       "        text-align: right;\n",
       "    }\n",
       "</style>\n",
       "<table border=\"1\" class=\"dataframe\">\n",
       "  <thead>\n",
       "    <tr style=\"text-align: right;\">\n",
       "      <th></th>\n",
       "      <th>Product</th>\n",
       "      <th>Category</th>\n",
       "      <th>Quantity</th>\n",
       "      <th>Price_Per_Unit</th>\n",
       "      <th>Date</th>\n",
       "      <th>Target</th>\n",
       "    </tr>\n",
       "  </thead>\n",
       "  <tbody>\n",
       "    <tr>\n",
       "      <th>0</th>\n",
       "      <td>Laptop</td>\n",
       "      <td>Electronics</td>\n",
       "      <td>1.0</td>\n",
       "      <td>1500.00</td>\n",
       "      <td>2023-01-01</td>\n",
       "      <td>0</td>\n",
       "    </tr>\n",
       "    <tr>\n",
       "      <th>1</th>\n",
       "      <td>Smartphone</td>\n",
       "      <td>Electronics</td>\n",
       "      <td>NaN</td>\n",
       "      <td>350.00</td>\n",
       "      <td>2023-01-02</td>\n",
       "      <td>1</td>\n",
       "    </tr>\n",
       "    <tr>\n",
       "      <th>2</th>\n",
       "      <td>Tablet</td>\n",
       "      <td>Electronics</td>\n",
       "      <td>1.0</td>\n",
       "      <td>NaN</td>\n",
       "      <td>2023-01-08</td>\n",
       "      <td>0</td>\n",
       "    </tr>\n",
       "    <tr>\n",
       "      <th>3</th>\n",
       "      <td>Smartwatch</td>\n",
       "      <td>Wearables</td>\n",
       "      <td>3.0</td>\n",
       "      <td>83.33</td>\n",
       "      <td>2023-01-15</td>\n",
       "      <td>1</td>\n",
       "    </tr>\n",
       "    <tr>\n",
       "      <th>4</th>\n",
       "      <td>Laptop</td>\n",
       "      <td>Electronics</td>\n",
       "      <td>1.0</td>\n",
       "      <td>1600.00</td>\n",
       "      <td>2023-01-16</td>\n",
       "      <td>0</td>\n",
       "    </tr>\n",
       "    <tr>\n",
       "      <th>5</th>\n",
       "      <td>Smartphone</td>\n",
       "      <td>Electronics</td>\n",
       "      <td>2.0</td>\n",
       "      <td>400.00</td>\n",
       "      <td>2023-02-01</td>\n",
       "      <td>1</td>\n",
       "    </tr>\n",
       "    <tr>\n",
       "      <th>6</th>\n",
       "      <td>Tablet</td>\n",
       "      <td>Electronics</td>\n",
       "      <td>1.0</td>\n",
       "      <td>350.00</td>\n",
       "      <td>2023-02-02</td>\n",
       "      <td>0</td>\n",
       "    </tr>\n",
       "    <tr>\n",
       "      <th>7</th>\n",
       "      <td>Smartwatch</td>\n",
       "      <td>Wearables</td>\n",
       "      <td>3.0</td>\n",
       "      <td>-33.33</td>\n",
       "      <td>2023-02-03</td>\n",
       "      <td>1</td>\n",
       "    </tr>\n",
       "    <tr>\n",
       "      <th>8</th>\n",
       "      <td>Laptop</td>\n",
       "      <td>Electronics</td>\n",
       "      <td>1.0</td>\n",
       "      <td>1800.00</td>\n",
       "      <td>2023-02-04</td>\n",
       "      <td>0</td>\n",
       "    </tr>\n",
       "    <tr>\n",
       "      <th>9</th>\n",
       "      <td>Smartphone</td>\n",
       "      <td>Electronics</td>\n",
       "      <td>2.0</td>\n",
       "      <td>400.00</td>\n",
       "      <td>2023-02-05</td>\n",
       "      <td>1</td>\n",
       "    </tr>\n",
       "  </tbody>\n",
       "</table>\n",
       "</div>"
      ],
      "text/plain": [
       "      Product     Category  Quantity  Price_Per_Unit        Date  Target\n",
       "0      Laptop  Electronics       1.0         1500.00  2023-01-01       0\n",
       "1  Smartphone  Electronics       NaN          350.00  2023-01-02       1\n",
       "2      Tablet  Electronics       1.0             NaN  2023-01-08       0\n",
       "3  Smartwatch    Wearables       3.0           83.33  2023-01-15       1\n",
       "4      Laptop  Electronics       1.0         1600.00  2023-01-16       0\n",
       "5  Smartphone  Electronics       2.0          400.00  2023-02-01       1\n",
       "6      Tablet  Electronics       1.0          350.00  2023-02-02       0\n",
       "7  Smartwatch    Wearables       3.0          -33.33  2023-02-03       1\n",
       "8      Laptop  Electronics       1.0         1800.00  2023-02-04       0\n",
       "9  Smartphone  Electronics       2.0          400.00  2023-02-05       1"
      ]
     },
     "execution_count": 3,
     "metadata": {},
     "output_type": "execute_result"
    }
   ],
   "source": [
    "# Given the sales data, answer the questions.\n",
    "data = pd.DataFrame(\n",
    "    {\n",
    "        \"Product\": [\n",
    "            \"Laptop\",\n",
    "            \"Smartphone\",\n",
    "            \"Tablet\",\n",
    "            \"Smartwatch\",\n",
    "            \"Laptop\",\n",
    "            \"Smartphone\",\n",
    "            \"Tablet\",\n",
    "            \"Smartwatch\",\n",
    "            \"Laptop\",\n",
    "            \"Smartphone\",\n",
    "        ],\n",
    "        \"Category\": [\n",
    "            \"Electronics\",\n",
    "            \"Electronics\",\n",
    "            \"Electronics\",\n",
    "            \"Wearables\",\n",
    "            \"Electronics\",\n",
    "            \"Electronics\",\n",
    "            \"Electronics\",\n",
    "            \"Wearables\",\n",
    "            \"Electronics\",\n",
    "            \"Electronics\",\n",
    "        ],\n",
    "        \"Quantity\": [1, np.nan, 1, 3, 1, 2, 1, 3, 1, 2],\n",
    "        \"Price_Per_Unit\": [1500, 350, np.nan, 83.33, 1600, 400, 350, -33.33, 1800, 400],\n",
    "        \"Date\": [\n",
    "            \"2023-01-01\",\n",
    "            \"2023-01-02\",\n",
    "            \"2023-01-08\",\n",
    "            \"2023-01-15\",\n",
    "            \"2023-01-16\",\n",
    "            \"2023-02-01\",\n",
    "            \"2023-02-02\",\n",
    "            \"2023-02-03\",\n",
    "            \"2023-02-04\",\n",
    "            \"2023-02-05\",\n",
    "        ],\n",
    "        \"Target\": [0, 1, 0, 1, 0, 1, 0, 1, 0, 1],\n",
    "    }\n",
    ")\n",
    "\n",
    "data"
   ]
  },
  {
   "cell_type": "code",
   "execution_count": 4,
   "metadata": {
    "execution": {
     "iopub.execute_input": "2025-03-26T06:20:42.541685Z",
     "iopub.status.busy": "2025-03-26T06:20:42.541353Z",
     "iopub.status.idle": "2025-03-26T06:20:42.553457Z",
     "shell.execute_reply": "2025-03-26T06:20:42.551648Z",
     "shell.execute_reply.started": "2025-03-26T06:20:42.541658Z"
    },
    "trusted": true
   },
   "outputs": [],
   "source": [
    "# Handle missing values and outliers\n",
    "# Calculate the total sales of each product category\n",
    "# Calculate the mean, median, and standard deviation of Price_Per_Unit\n",
    "# Split a dataset into training and testing sets (80% train, 20% test)\n",
    "\n",
    "# 处理缺失值和异常值\n"
   ]
  },
  {
   "cell_type": "code",
   "execution_count": 5,
   "metadata": {},
   "outputs": [],
   "source": [
    "# 计算每个产品类别的总销售额\n"
   ]
  },
  {
   "cell_type": "code",
   "execution_count": 6,
   "metadata": {},
   "outputs": [],
   "source": [
    "# 计算每单位价格的平均值、中位数和标准差\n"
   ]
  },
  {
   "cell_type": "code",
   "execution_count": 7,
   "metadata": {},
   "outputs": [],
   "source": [
    "# 将数据集拆分为训练集和测试集（80% 训练，20% 测试）\n"
   ]
  },
  {
   "cell_type": "code",
   "execution_count": 8,
   "metadata": {
    "execution": {
     "iopub.execute_input": "2025-03-26T07:14:42.839956Z",
     "iopub.status.busy": "2025-03-26T07:14:42.839629Z",
     "iopub.status.idle": "2025-03-26T07:14:42.848381Z",
     "shell.execute_reply": "2025-03-26T07:14:42.847023Z",
     "shell.execute_reply.started": "2025-03-26T07:14:42.839931Z"
    },
    "trusted": true
   },
   "outputs": [],
   "source": [
    "# Find the longest increasing subsequence in a list.\n",
    "# 在列表中找到最长的递增子序列\n",
    "\n",
    "l1 = [10, 9, 15, 27, 7, 18, 108, 87]  # Expected result: [7, 18, 108]\n",
    "l2 = [15, 21, 421, 14, 16, 91, 92, 93]  # Expected result: [14, 16, 91, 92, 93]\n",
    "\n",
    "\n",
    "# Answer\n"
   ]
  },
  {
   "cell_type": "code",
   "execution_count": 9,
   "metadata": {
    "execution": {
     "iopub.execute_input": "2025-03-26T06:44:40.692463Z",
     "iopub.status.busy": "2025-03-26T06:44:40.692060Z",
     "iopub.status.idle": "2025-03-26T06:44:40.699629Z",
     "shell.execute_reply": "2025-03-26T06:44:40.698452Z",
     "shell.execute_reply.started": "2025-03-26T06:44:40.692433Z"
    },
    "trusted": true
   },
   "outputs": [],
   "source": [
    "# Replace categories in a list based on specific conditions.\n",
    "# 根据特定条件替换列表中的类别\n",
    "\n",
    "categories = [\"apple\", \"lettuce\", \"banana\", \"broccoli\", \"kiwi\"]\n",
    "mapping = {\n",
    "    \"apple\": \"Fruit\",\n",
    "    \"banana\": \"Fruit\",\n",
    "    \"kiwi\": \"Fruit\",\n",
    "    \"lettuce\": \"Vegetable\",\n",
    "    \"broccoli\": \"Vegetable\",\n",
    "}\n",
    "\n",
    "# Answer\n"
   ]
  },
  {
   "cell_type": "code",
   "execution_count": 10,
   "metadata": {
    "execution": {
     "iopub.execute_input": "2025-03-26T06:56:45.080563Z",
     "iopub.status.busy": "2025-03-26T06:56:45.080231Z",
     "iopub.status.idle": "2025-03-26T06:56:45.087203Z",
     "shell.execute_reply": "2025-03-26T06:56:45.086229Z",
     "shell.execute_reply.started": "2025-03-26T06:56:45.080538Z"
    },
    "trusted": true
   },
   "outputs": [],
   "source": [
    "# Replace categories that appear fewer times than a specified threshold with the label 'Other'.\n",
    "# 将出现次数少于指定阈值的类别替换为“Other”\n",
    "\n",
    "categories = [\"salary\", \"policy\", \"address\", \"job\", \"salary\", \"address\"]\n",
    "threshold = 2\n",
    "\n",
    "# Answer\n"
   ]
  },
  {
   "cell_type": "code",
   "execution_count": 11,
   "metadata": {
    "execution": {
     "iopub.execute_input": "2025-03-26T06:52:50.739250Z",
     "iopub.status.busy": "2025-03-26T06:52:50.738833Z",
     "iopub.status.idle": "2025-03-26T06:52:50.746288Z",
     "shell.execute_reply": "2025-03-26T06:52:50.745317Z",
     "shell.execute_reply.started": "2025-03-26T06:52:50.739216Z"
    },
    "trusted": true
   },
   "outputs": [],
   "source": [
    "# Generate all possible permutations of the characters in a string.\n",
    "# 生成字符串中字符的所有可能排列\n",
    "\n",
    "text = \"abc\"\n",
    "# Expected result:['abc', 'acb', 'bac', 'bca', 'cab', 'cba']\n",
    "\n",
    "# Answer\n"
   ]
  },
  {
   "cell_type": "code",
   "execution_count": 12,
   "metadata": {
    "execution": {
     "iopub.execute_input": "2025-03-26T07:03:47.180180Z",
     "iopub.status.busy": "2025-03-26T07:03:47.179781Z",
     "iopub.status.idle": "2025-03-26T07:03:47.186125Z",
     "shell.execute_reply": "2025-03-26T07:03:47.185066Z",
     "shell.execute_reply.started": "2025-03-26T07:03:47.180148Z"
    },
    "trusted": true
   },
   "outputs": [],
   "source": [
    "# Remove all vowels(a, e, i, o, u) from a giving string.\n",
    "# 在给定的字符串中移除(a, e, i, o, u)\n",
    "\n",
    "text = \"Python is a versatile programming language. It is widely used for web development, data analysis, and artificial intelligence.\"\n",
    "\n",
    "# Answer\n"
   ]
  }
 ],
 "metadata": {
  "kaggle": {
   "accelerator": "none",
   "dataSources": [],
   "isGpuEnabled": false,
   "isInternetEnabled": true,
   "language": "python",
   "sourceType": "notebook"
  },
  "kernelspec": {
   "display_name": ".venv",
   "language": "python",
   "name": "python3"
  },
  "language_info": {
   "codemirror_mode": {
    "name": "ipython",
    "version": 3
   },
   "file_extension": ".py",
   "mimetype": "text/x-python",
   "name": "python",
   "nbconvert_exporter": "python",
   "pygments_lexer": "ipython3",
   "version": "3.12.7"
  }
 },
 "nbformat": 4,
 "nbformat_minor": 4
}
